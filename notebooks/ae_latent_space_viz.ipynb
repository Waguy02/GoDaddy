{
 "cells": [
  {
   "cell_type": "markdown",
   "source": [
    "# Loading the autoencoder model"
   ],
   "metadata": {
    "collapsed": false,
    "pycharm": {
     "name": "#%% md\n"
    }
   },
   "execution_count": 1
  },
  {
   "cell_type": "code",
   "execution_count": 2,
   "outputs": [],
   "source": [
    "from constants import DEVICE\n",
    "from networks.features_autoencoder import FeaturesAENetwork\n",
    "\n",
    "model_name = \"base_features_ae\"\n",
    "network =  FeaturesAENetwork(experiment_dir=model_name).to(DEVICE)"
   ],
   "metadata": {
    "collapsed": false,
    "pycharm": {
     "name": "#%%\n"
    }
   }
  },
  {
   "cell_type": "markdown",
   "source": [
    "# Loading train data"
   ],
   "metadata": {
    "collapsed": false,
    "pycharm": {
     "name": "#%% md\n"
    }
   }
  },
  {
   "cell_type": "code",
   "execution_count": 5,
   "outputs": [
    {
     "name": "stderr",
     "output_type": "stream",
     "text": [
      "Computing encodings:   0%|          | 0/72712 [00:00<?, ?it/s]\n"
     ]
    },
    {
     "ename": "RuntimeError",
     "evalue": "Numpy is not available",
     "output_type": "error",
     "traceback": [
      "\u001B[1;31m---------------------------------------------------------------------------\u001B[0m",
      "\u001B[1;31mRuntimeError\u001B[0m                              Traceback (most recent call last)",
      "Cell \u001B[1;32mIn[5], line 10\u001B[0m\n\u001B[0;32m      8\u001B[0m encodings\u001B[38;5;241m=\u001B[39m []\n\u001B[0;32m      9\u001B[0m \u001B[38;5;28;01mfor\u001B[39;00m i \u001B[38;5;129;01min\u001B[39;00m tqdm(train_dataset, desc\u001B[38;5;241m=\u001B[39m\u001B[38;5;124m\"\u001B[39m\u001B[38;5;124mComputing encodings\u001B[39m\u001B[38;5;124m\"\u001B[39m):\n\u001B[1;32m---> 10\u001B[0m     encodings\u001B[38;5;241m.\u001B[39mappend(network\u001B[38;5;241m.\u001B[39mencode(\u001B[43mtrain_dataset\u001B[49m\u001B[43m[\u001B[49m\u001B[43mi\u001B[49m\u001B[43m]\u001B[49m[\u001B[38;5;241m0\u001B[39m]\u001B[38;5;241m.\u001B[39munsqueeze(\u001B[38;5;241m0\u001B[39m)\u001B[38;5;241m.\u001B[39mto(DEVICE))\u001B[38;5;241m.\u001B[39mdetach()\u001B[38;5;241m.\u001B[39mcpu()\u001B[38;5;241m.\u001B[39mnumpy())\n",
      "File \u001B[1;32mF:\\Projets\\Competitions\\Kaggle\\GoDaddy - MicroBusiness Forecasting\\GoDaddy\\dataset\\census_features_dataset.py:49\u001B[0m, in \u001B[0;36mCensusDataset.__getitem__\u001B[1;34m(self, idx)\u001B[0m\n\u001B[0;32m     42\u001B[0m \u001B[38;5;28;01mdef\u001B[39;00m \u001B[38;5;21m__getitem__\u001B[39m(\u001B[38;5;28mself\u001B[39m, idx):\n\u001B[0;32m     43\u001B[0m \u001B[38;5;250m    \u001B[39m\u001B[38;5;124;03m\"\"\"\u001B[39;00m\n\u001B[0;32m     44\u001B[0m \u001B[38;5;124;03m    pct_bb,pct_college,pct_foreign_born,pct_it_workers,median_hh_inc,year .\u001B[39;00m\n\u001B[0;32m     45\u001B[0m \u001B[38;5;124;03m    Retrieve the following features from the dataset and return the corresponding tensor\u001B[39;00m\n\u001B[0;32m     46\u001B[0m \n\u001B[0;32m     47\u001B[0m \u001B[38;5;124;03m    Returns:\u001B[39;00m\n\u001B[0;32m     48\u001B[0m \u001B[38;5;124;03m    \"\"\"\u001B[39;00m\n\u001B[1;32m---> 49\u001B[0m     row\u001B[38;5;241m=\u001B[39m\u001B[38;5;28;43mself\u001B[39;49m\u001B[38;5;241;43m.\u001B[39;49m\u001B[43mdata\u001B[49m\u001B[38;5;241;43m.\u001B[39;49m\u001B[43miloc\u001B[49m\u001B[43m[\u001B[49m\u001B[43midx\u001B[49m\u001B[43m]\u001B[49m\n\u001B[0;32m     50\u001B[0m     features_tensor\u001B[38;5;241m=\u001B[39mtorch\u001B[38;5;241m.\u001B[39mtensor([row[\u001B[38;5;124m'\u001B[39m\u001B[38;5;124mpct_bb\u001B[39m\u001B[38;5;124m'\u001B[39m],row[\u001B[38;5;124m'\u001B[39m\u001B[38;5;124mpct_college\u001B[39m\u001B[38;5;124m'\u001B[39m],row[\u001B[38;5;124m'\u001B[39m\u001B[38;5;124mpct_foreign_born\u001B[39m\u001B[38;5;124m'\u001B[39m],\\\n\u001B[0;32m     51\u001B[0m                                   row[\u001B[38;5;124m'\u001B[39m\u001B[38;5;124mpct_it_workers\u001B[39m\u001B[38;5;124m'\u001B[39m],row[\u001B[38;5;124m'\u001B[39m\u001B[38;5;124mmedian_hh_inc\u001B[39m\u001B[38;5;124m'\u001B[39m],row[\u001B[38;5;124m'\u001B[39m\u001B[38;5;124myear\u001B[39m\u001B[38;5;124m'\u001B[39m]],dtype\u001B[38;5;241m=\u001B[39mtorch\u001B[38;5;241m.\u001B[39mfloat32)\n\u001B[0;32m     52\u001B[0m     \u001B[38;5;28;01mreturn\u001B[39;00m features_tensor\n",
      "File \u001B[1;32mF:\\Projets\\Competitions\\Kaggle\\GoDaddy - MicroBusiness Forecasting\\GoDaddy\\venv\\lib\\site-packages\\pandas\\core\\indexing.py:931\u001B[0m, in \u001B[0;36m_LocationIndexer.__getitem__\u001B[1;34m(self, key)\u001B[0m\n\u001B[0;32m    928\u001B[0m axis \u001B[38;5;241m=\u001B[39m \u001B[38;5;28mself\u001B[39m\u001B[38;5;241m.\u001B[39maxis \u001B[38;5;129;01mor\u001B[39;00m \u001B[38;5;241m0\u001B[39m\n\u001B[0;32m    930\u001B[0m maybe_callable \u001B[38;5;241m=\u001B[39m com\u001B[38;5;241m.\u001B[39mapply_if_callable(key, \u001B[38;5;28mself\u001B[39m\u001B[38;5;241m.\u001B[39mobj)\n\u001B[1;32m--> 931\u001B[0m \u001B[38;5;28;01mreturn\u001B[39;00m \u001B[38;5;28;43mself\u001B[39;49m\u001B[38;5;241;43m.\u001B[39;49m\u001B[43m_getitem_axis\u001B[49m\u001B[43m(\u001B[49m\u001B[43mmaybe_callable\u001B[49m\u001B[43m,\u001B[49m\u001B[43m \u001B[49m\u001B[43maxis\u001B[49m\u001B[38;5;241;43m=\u001B[39;49m\u001B[43maxis\u001B[49m\u001B[43m)\u001B[49m\n",
      "File \u001B[1;32mF:\\Projets\\Competitions\\Kaggle\\GoDaddy - MicroBusiness Forecasting\\GoDaddy\\venv\\lib\\site-packages\\pandas\\core\\indexing.py:1557\u001B[0m, in \u001B[0;36m_iLocIndexer._getitem_axis\u001B[1;34m(self, key, axis)\u001B[0m\n\u001B[0;32m   1555\u001B[0m \u001B[38;5;66;03m# a list of integers\u001B[39;00m\n\u001B[0;32m   1556\u001B[0m \u001B[38;5;28;01melif\u001B[39;00m is_list_like_indexer(key):\n\u001B[1;32m-> 1557\u001B[0m     \u001B[38;5;28;01mreturn\u001B[39;00m \u001B[38;5;28;43mself\u001B[39;49m\u001B[38;5;241;43m.\u001B[39;49m\u001B[43m_get_list_axis\u001B[49m\u001B[43m(\u001B[49m\u001B[43mkey\u001B[49m\u001B[43m,\u001B[49m\u001B[43m \u001B[49m\u001B[43maxis\u001B[49m\u001B[38;5;241;43m=\u001B[39;49m\u001B[43maxis\u001B[49m\u001B[43m)\u001B[49m\n\u001B[0;32m   1559\u001B[0m \u001B[38;5;66;03m# a single integer\u001B[39;00m\n\u001B[0;32m   1560\u001B[0m \u001B[38;5;28;01melse\u001B[39;00m:\n\u001B[0;32m   1561\u001B[0m     key \u001B[38;5;241m=\u001B[39m item_from_zerodim(key)\n",
      "File \u001B[1;32mF:\\Projets\\Competitions\\Kaggle\\GoDaddy - MicroBusiness Forecasting\\GoDaddy\\venv\\lib\\site-packages\\pandas\\core\\indexing.py:1530\u001B[0m, in \u001B[0;36m_iLocIndexer._get_list_axis\u001B[1;34m(self, key, axis)\u001B[0m\n\u001B[0;32m   1513\u001B[0m \u001B[38;5;250m\u001B[39m\u001B[38;5;124;03m\"\"\"\u001B[39;00m\n\u001B[0;32m   1514\u001B[0m \u001B[38;5;124;03mReturn Series values by list or array of integers.\u001B[39;00m\n\u001B[0;32m   1515\u001B[0m \n\u001B[1;32m   (...)\u001B[0m\n\u001B[0;32m   1527\u001B[0m \u001B[38;5;124;03m`axis` can only be zero.\u001B[39;00m\n\u001B[0;32m   1528\u001B[0m \u001B[38;5;124;03m\"\"\"\u001B[39;00m\n\u001B[0;32m   1529\u001B[0m \u001B[38;5;28;01mtry\u001B[39;00m:\n\u001B[1;32m-> 1530\u001B[0m     \u001B[38;5;28;01mreturn\u001B[39;00m \u001B[38;5;28;43mself\u001B[39;49m\u001B[38;5;241;43m.\u001B[39;49m\u001B[43mobj\u001B[49m\u001B[38;5;241;43m.\u001B[39;49m\u001B[43m_take_with_is_copy\u001B[49m\u001B[43m(\u001B[49m\u001B[43mkey\u001B[49m\u001B[43m,\u001B[49m\u001B[43m \u001B[49m\u001B[43maxis\u001B[49m\u001B[38;5;241;43m=\u001B[39;49m\u001B[43maxis\u001B[49m\u001B[43m)\u001B[49m\n\u001B[0;32m   1531\u001B[0m \u001B[38;5;28;01mexcept\u001B[39;00m \u001B[38;5;167;01mIndexError\u001B[39;00m \u001B[38;5;28;01mas\u001B[39;00m err:\n\u001B[0;32m   1532\u001B[0m     \u001B[38;5;66;03m# re-raise with different error message\u001B[39;00m\n\u001B[0;32m   1533\u001B[0m     \u001B[38;5;28;01mraise\u001B[39;00m \u001B[38;5;167;01mIndexError\u001B[39;00m(\u001B[38;5;124m\"\u001B[39m\u001B[38;5;124mpositional indexers are out-of-bounds\u001B[39m\u001B[38;5;124m\"\u001B[39m) \u001B[38;5;28;01mfrom\u001B[39;00m \u001B[38;5;21;01merr\u001B[39;00m\n",
      "File \u001B[1;32mF:\\Projets\\Competitions\\Kaggle\\GoDaddy - MicroBusiness Forecasting\\GoDaddy\\venv\\lib\\site-packages\\pandas\\core\\generic.py:3628\u001B[0m, in \u001B[0;36mNDFrame._take_with_is_copy\u001B[1;34m(self, indices, axis)\u001B[0m\n\u001B[0;32m   3620\u001B[0m \u001B[38;5;28;01mdef\u001B[39;00m \u001B[38;5;21m_take_with_is_copy\u001B[39m(\u001B[38;5;28mself\u001B[39m: FrameOrSeries, indices, axis\u001B[38;5;241m=\u001B[39m\u001B[38;5;241m0\u001B[39m) \u001B[38;5;241m-\u001B[39m\u001B[38;5;241m>\u001B[39m FrameOrSeries:\n\u001B[0;32m   3621\u001B[0m \u001B[38;5;250m    \u001B[39m\u001B[38;5;124;03m\"\"\"\u001B[39;00m\n\u001B[0;32m   3622\u001B[0m \u001B[38;5;124;03m    Internal version of the `take` method that sets the `_is_copy`\u001B[39;00m\n\u001B[0;32m   3623\u001B[0m \u001B[38;5;124;03m    attribute to keep track of the parent dataframe (using in indexing\u001B[39;00m\n\u001B[1;32m   (...)\u001B[0m\n\u001B[0;32m   3626\u001B[0m \u001B[38;5;124;03m    See the docstring of `take` for full explanation of the parameters.\u001B[39;00m\n\u001B[0;32m   3627\u001B[0m \u001B[38;5;124;03m    \"\"\"\u001B[39;00m\n\u001B[1;32m-> 3628\u001B[0m     result \u001B[38;5;241m=\u001B[39m \u001B[38;5;28;43mself\u001B[39;49m\u001B[38;5;241;43m.\u001B[39;49m\u001B[43mtake\u001B[49m\u001B[43m(\u001B[49m\u001B[43mindices\u001B[49m\u001B[38;5;241;43m=\u001B[39;49m\u001B[43mindices\u001B[49m\u001B[43m,\u001B[49m\u001B[43m \u001B[49m\u001B[43maxis\u001B[49m\u001B[38;5;241;43m=\u001B[39;49m\u001B[43maxis\u001B[49m\u001B[43m)\u001B[49m\n\u001B[0;32m   3629\u001B[0m     \u001B[38;5;66;03m# Maybe set copy if we didn't actually change the index.\u001B[39;00m\n\u001B[0;32m   3630\u001B[0m     \u001B[38;5;28;01mif\u001B[39;00m \u001B[38;5;129;01mnot\u001B[39;00m result\u001B[38;5;241m.\u001B[39m_get_axis(axis)\u001B[38;5;241m.\u001B[39mequals(\u001B[38;5;28mself\u001B[39m\u001B[38;5;241m.\u001B[39m_get_axis(axis)):\n",
      "File \u001B[1;32mF:\\Projets\\Competitions\\Kaggle\\GoDaddy - MicroBusiness Forecasting\\GoDaddy\\venv\\lib\\site-packages\\pandas\\core\\generic.py:3615\u001B[0m, in \u001B[0;36mNDFrame.take\u001B[1;34m(self, indices, axis, is_copy, **kwargs)\u001B[0m\n\u001B[0;32m   3611\u001B[0m nv\u001B[38;5;241m.\u001B[39mvalidate_take((), kwargs)\n\u001B[0;32m   3613\u001B[0m \u001B[38;5;28mself\u001B[39m\u001B[38;5;241m.\u001B[39m_consolidate_inplace()\n\u001B[1;32m-> 3615\u001B[0m new_data \u001B[38;5;241m=\u001B[39m \u001B[38;5;28;43mself\u001B[39;49m\u001B[38;5;241;43m.\u001B[39;49m\u001B[43m_mgr\u001B[49m\u001B[38;5;241;43m.\u001B[39;49m\u001B[43mtake\u001B[49m\u001B[43m(\u001B[49m\n\u001B[0;32m   3616\u001B[0m \u001B[43m    \u001B[49m\u001B[43mindices\u001B[49m\u001B[43m,\u001B[49m\u001B[43m \u001B[49m\u001B[43maxis\u001B[49m\u001B[38;5;241;43m=\u001B[39;49m\u001B[38;5;28;43mself\u001B[39;49m\u001B[38;5;241;43m.\u001B[39;49m\u001B[43m_get_block_manager_axis\u001B[49m\u001B[43m(\u001B[49m\u001B[43maxis\u001B[49m\u001B[43m)\u001B[49m\u001B[43m,\u001B[49m\u001B[43m \u001B[49m\u001B[43mverify\u001B[49m\u001B[38;5;241;43m=\u001B[39;49m\u001B[38;5;28;43;01mTrue\u001B[39;49;00m\n\u001B[0;32m   3617\u001B[0m \u001B[43m\u001B[49m\u001B[43m)\u001B[49m\n\u001B[0;32m   3618\u001B[0m \u001B[38;5;28;01mreturn\u001B[39;00m \u001B[38;5;28mself\u001B[39m\u001B[38;5;241m.\u001B[39m_constructor(new_data)\u001B[38;5;241m.\u001B[39m__finalize__(\u001B[38;5;28mself\u001B[39m, method\u001B[38;5;241m=\u001B[39m\u001B[38;5;124m\"\u001B[39m\u001B[38;5;124mtake\u001B[39m\u001B[38;5;124m\"\u001B[39m)\n",
      "File \u001B[1;32mF:\\Projets\\Competitions\\Kaggle\\GoDaddy - MicroBusiness Forecasting\\GoDaddy\\venv\\lib\\site-packages\\pandas\\core\\internals\\managers.py:858\u001B[0m, in \u001B[0;36mBaseBlockManager.take\u001B[1;34m(self, indexer, axis, verify)\u001B[0m\n\u001B[0;32m    841\u001B[0m \u001B[38;5;250m\u001B[39m\u001B[38;5;124;03m\"\"\"\u001B[39;00m\n\u001B[0;32m    842\u001B[0m \u001B[38;5;124;03mTake items along any axis.\u001B[39;00m\n\u001B[0;32m    843\u001B[0m \n\u001B[1;32m   (...)\u001B[0m\n\u001B[0;32m    852\u001B[0m \u001B[38;5;124;03mBlockManager\u001B[39;00m\n\u001B[0;32m    853\u001B[0m \u001B[38;5;124;03m\"\"\"\u001B[39;00m\n\u001B[0;32m    854\u001B[0m \u001B[38;5;66;03m# We have 6 tests that get here with a slice\u001B[39;00m\n\u001B[0;32m    855\u001B[0m indexer \u001B[38;5;241m=\u001B[39m (\n\u001B[0;32m    856\u001B[0m     np\u001B[38;5;241m.\u001B[39marange(indexer\u001B[38;5;241m.\u001B[39mstart, indexer\u001B[38;5;241m.\u001B[39mstop, indexer\u001B[38;5;241m.\u001B[39mstep, dtype\u001B[38;5;241m=\u001B[39m\u001B[38;5;124m\"\u001B[39m\u001B[38;5;124mint64\u001B[39m\u001B[38;5;124m\"\u001B[39m)\n\u001B[0;32m    857\u001B[0m     \u001B[38;5;28;01mif\u001B[39;00m \u001B[38;5;28misinstance\u001B[39m(indexer, \u001B[38;5;28mslice\u001B[39m)\n\u001B[1;32m--> 858\u001B[0m     \u001B[38;5;28;01melse\u001B[39;00m \u001B[43mnp\u001B[49m\u001B[38;5;241;43m.\u001B[39;49m\u001B[43masanyarray\u001B[49m\u001B[43m(\u001B[49m\u001B[43mindexer\u001B[49m\u001B[43m,\u001B[49m\u001B[43m \u001B[49m\u001B[43mdtype\u001B[49m\u001B[38;5;241;43m=\u001B[39;49m\u001B[38;5;124;43m\"\u001B[39;49m\u001B[38;5;124;43mint64\u001B[39;49m\u001B[38;5;124;43m\"\u001B[39;49m\u001B[43m)\u001B[49m\n\u001B[0;32m    859\u001B[0m )\n\u001B[0;32m    861\u001B[0m n \u001B[38;5;241m=\u001B[39m \u001B[38;5;28mself\u001B[39m\u001B[38;5;241m.\u001B[39mshape[axis]\n\u001B[0;32m    862\u001B[0m indexer \u001B[38;5;241m=\u001B[39m maybe_convert_indices(indexer, n, verify\u001B[38;5;241m=\u001B[39mverify)\n",
      "File \u001B[1;32mF:\\Projets\\Competitions\\Kaggle\\GoDaddy - MicroBusiness Forecasting\\GoDaddy\\venv\\lib\\site-packages\\torch\\_tensor.py:958\u001B[0m, in \u001B[0;36mTensor.__array__\u001B[1;34m(self, dtype)\u001B[0m\n\u001B[0;32m    956\u001B[0m     \u001B[38;5;28;01mreturn\u001B[39;00m \u001B[38;5;28mself\u001B[39m\u001B[38;5;241m.\u001B[39mnumpy()\n\u001B[0;32m    957\u001B[0m \u001B[38;5;28;01melse\u001B[39;00m:\n\u001B[1;32m--> 958\u001B[0m     \u001B[38;5;28;01mreturn\u001B[39;00m \u001B[38;5;28;43mself\u001B[39;49m\u001B[38;5;241;43m.\u001B[39;49m\u001B[43mnumpy\u001B[49m\u001B[43m(\u001B[49m\u001B[43m)\u001B[49m\u001B[38;5;241m.\u001B[39mastype(dtype, copy\u001B[38;5;241m=\u001B[39m\u001B[38;5;28;01mFalse\u001B[39;00m)\n",
      "\u001B[1;31mRuntimeError\u001B[0m: Numpy is not available"
     ]
    }
   ],
   "source": [
    "from tqdm import tqdm\n",
    "from dataset.census_features_dataset import CensusDataset\n",
    "from dataset.dataset import DatasetType\n",
    "import numpy as np\n",
    "train_dataset=CensusDataset(type=DatasetType.TRAIN)\n",
    "\n",
    "## Compute the encoding of the datasets\n",
    "encodings= []\n",
    "for i in tqdm(train_dataset, desc=\"Computing encodings\"):\n",
    "    encodings.append(network.encode(train_dataset[i][0].unsqueeze(0).to(DEVICE)).detach().cpu().numpy())"
   ],
   "metadata": {
    "collapsed": false,
    "pycharm": {
     "name": "#%%\n"
    }
   }
  },
  {
   "cell_type": "code",
   "execution_count": 1,
   "outputs": [
    {
     "data": {
      "text/plain": "'C:\\\\Users\\\\cmaig\\\\anaconda3\\\\python.exe'"
     },
     "execution_count": 1,
     "metadata": {},
     "output_type": "execute_result"
    }
   ],
   "source": [
    "import sys\n",
    "sys.executable"
   ],
   "metadata": {
    "collapsed": false,
    "pycharm": {
     "name": "#%%\n"
    }
   }
  },
  {
   "cell_type": "code",
   "execution_count": 1,
   "outputs": [],
   "source": [
    "import numpy as np"
   ],
   "metadata": {
    "collapsed": false,
    "pycharm": {
     "name": "#%%\n"
    }
   }
  },
  {
   "cell_type": "code",
   "execution_count": null,
   "outputs": [],
   "source": [],
   "metadata": {
    "collapsed": false,
    "pycharm": {
     "name": "#%%\n"
    }
   }
  }
 ],
 "metadata": {
  "kernelspec": {
   "display_name": "Python 3",
   "language": "python",
   "name": "python3"
  },
  "language_info": {
   "codemirror_mode": {
    "name": "ipython",
    "version": 2
   },
   "file_extension": ".py",
   "mimetype": "text/x-python",
   "name": "python",
   "nbconvert_exporter": "python",
   "pygments_lexer": "ipython2",
   "version": "2.7.6"
  }
 },
 "nbformat": 4,
 "nbformat_minor": 0
}