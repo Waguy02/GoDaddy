{
 "cells": [
  {
   "cell_type": "markdown",
   "source": [
    "## Data analysis --GoDaddy"
   ],
   "metadata": {
    "collapsed": false,
    "pycharm": {
     "name": "#%% md\n"
    }
   }
  },
  {
   "cell_type": "code",
   "execution_count": 1,
   "outputs": [
    {
     "name": "stderr",
     "output_type": "stream",
     "text": [
      "F:\\Projets\\Competitions\\Kaggle\\GoDaddy - MicroBusiness Forecasting\\GoDaddy\\constants.py:9: UserWarning: Failed to initialize NumPy: module compiled against API version 0x10 but this version of numpy is 0xf (Triggered internally at ..\\torch\\csrc\\utils\\tensor_numpy.cpp:77.)\n",
      "  DEVICE = torch.device(\"cuda\" if use_cuda else \"cpu\")\n"
     ]
    }
   ],
   "source": [
    "from constants import *\n",
    "import pandas as pd"
   ],
   "metadata": {
    "collapsed": false,
    "pycharm": {
     "name": "#%%\n"
    }
   }
  },
  {
   "cell_type": "code",
   "execution_count": 3,
   "outputs": [],
   "source": [
    "import pandas as pd"
   ],
   "metadata": {
    "collapsed": false,
    "pycharm": {
     "name": "#%%\n"
    }
   }
  },
  {
   "cell_type": "code",
   "execution_count": 70,
   "outputs": [
    {
     "data": {
      "text/plain": "   pct_bb_2017  pct_bb_2018  pct_bb_2019  pct_bb_2020  pct_bb_2021  cfips  \\\n0         76.6         78.9         80.6         82.7         85.5   1001   \n1         74.5         78.1         81.8         85.1         87.9   1003   \n2         57.2         60.4         60.5         64.6         64.6   1005   \n3         62.0         66.1         69.2         76.1         74.6   1007   \n4         65.8         68.5         73.0         79.6         81.0   1009   \n\n   pct_college_2017  pct_college_2018  pct_college_2019  pct_college_2020  \\\n0              14.5              15.9              16.1              16.7   \n1              20.4              20.7              21.0              20.2   \n2               7.6               7.8               7.6               7.3   \n3               8.1               7.6               6.5               7.4   \n4               8.7               8.1               8.6               8.9   \n\n   ...  pct_it_workers_2017  pct_it_workers_2018  pct_it_workers_2019  \\\n0  ...                  1.3                  1.1                  0.7   \n1  ...                  1.4                  1.3                  1.4   \n2  ...                  0.5                  0.3                  0.8   \n3  ...                  1.2                  1.4                  1.6   \n4  ...                  1.3                  1.4                  0.9   \n\n   pct_it_workers_2020  pct_it_workers_2021  median_hh_inc_2017  \\\n0                  0.6                  1.1               55317   \n1                  1.0                  1.3               52562   \n2                  1.1                  0.8               33368   \n3                  1.7                  2.1               43404   \n4                  1.1                  0.9               47412   \n\n   median_hh_inc_2018  median_hh_inc_2019  median_hh_inc_2020  \\\n0             58786.0               58731             57982.0   \n1             55962.0               58320             61756.0   \n2             34186.0               32525             34990.0   \n3             45340.0               47542             51721.0   \n4             48695.0               49358             48922.0   \n\n   median_hh_inc_2021  \n0             62660.0  \n1             64346.0  \n2             36422.0  \n3             54277.0  \n4             52830.0  \n\n[5 rows x 26 columns]",
      "text/html": "<div>\n<style scoped>\n    .dataframe tbody tr th:only-of-type {\n        vertical-align: middle;\n    }\n\n    .dataframe tbody tr th {\n        vertical-align: top;\n    }\n\n    .dataframe thead th {\n        text-align: right;\n    }\n</style>\n<table border=\"1\" class=\"dataframe\">\n  <thead>\n    <tr style=\"text-align: right;\">\n      <th></th>\n      <th>pct_bb_2017</th>\n      <th>pct_bb_2018</th>\n      <th>pct_bb_2019</th>\n      <th>pct_bb_2020</th>\n      <th>pct_bb_2021</th>\n      <th>cfips</th>\n      <th>pct_college_2017</th>\n      <th>pct_college_2018</th>\n      <th>pct_college_2019</th>\n      <th>pct_college_2020</th>\n      <th>...</th>\n      <th>pct_it_workers_2017</th>\n      <th>pct_it_workers_2018</th>\n      <th>pct_it_workers_2019</th>\n      <th>pct_it_workers_2020</th>\n      <th>pct_it_workers_2021</th>\n      <th>median_hh_inc_2017</th>\n      <th>median_hh_inc_2018</th>\n      <th>median_hh_inc_2019</th>\n      <th>median_hh_inc_2020</th>\n      <th>median_hh_inc_2021</th>\n    </tr>\n  </thead>\n  <tbody>\n    <tr>\n      <th>0</th>\n      <td>76.6</td>\n      <td>78.9</td>\n      <td>80.6</td>\n      <td>82.7</td>\n      <td>85.5</td>\n      <td>1001</td>\n      <td>14.5</td>\n      <td>15.9</td>\n      <td>16.1</td>\n      <td>16.7</td>\n      <td>...</td>\n      <td>1.3</td>\n      <td>1.1</td>\n      <td>0.7</td>\n      <td>0.6</td>\n      <td>1.1</td>\n      <td>55317</td>\n      <td>58786.0</td>\n      <td>58731</td>\n      <td>57982.0</td>\n      <td>62660.0</td>\n    </tr>\n    <tr>\n      <th>1</th>\n      <td>74.5</td>\n      <td>78.1</td>\n      <td>81.8</td>\n      <td>85.1</td>\n      <td>87.9</td>\n      <td>1003</td>\n      <td>20.4</td>\n      <td>20.7</td>\n      <td>21.0</td>\n      <td>20.2</td>\n      <td>...</td>\n      <td>1.4</td>\n      <td>1.3</td>\n      <td>1.4</td>\n      <td>1.0</td>\n      <td>1.3</td>\n      <td>52562</td>\n      <td>55962.0</td>\n      <td>58320</td>\n      <td>61756.0</td>\n      <td>64346.0</td>\n    </tr>\n    <tr>\n      <th>2</th>\n      <td>57.2</td>\n      <td>60.4</td>\n      <td>60.5</td>\n      <td>64.6</td>\n      <td>64.6</td>\n      <td>1005</td>\n      <td>7.6</td>\n      <td>7.8</td>\n      <td>7.6</td>\n      <td>7.3</td>\n      <td>...</td>\n      <td>0.5</td>\n      <td>0.3</td>\n      <td>0.8</td>\n      <td>1.1</td>\n      <td>0.8</td>\n      <td>33368</td>\n      <td>34186.0</td>\n      <td>32525</td>\n      <td>34990.0</td>\n      <td>36422.0</td>\n    </tr>\n    <tr>\n      <th>3</th>\n      <td>62.0</td>\n      <td>66.1</td>\n      <td>69.2</td>\n      <td>76.1</td>\n      <td>74.6</td>\n      <td>1007</td>\n      <td>8.1</td>\n      <td>7.6</td>\n      <td>6.5</td>\n      <td>7.4</td>\n      <td>...</td>\n      <td>1.2</td>\n      <td>1.4</td>\n      <td>1.6</td>\n      <td>1.7</td>\n      <td>2.1</td>\n      <td>43404</td>\n      <td>45340.0</td>\n      <td>47542</td>\n      <td>51721.0</td>\n      <td>54277.0</td>\n    </tr>\n    <tr>\n      <th>4</th>\n      <td>65.8</td>\n      <td>68.5</td>\n      <td>73.0</td>\n      <td>79.6</td>\n      <td>81.0</td>\n      <td>1009</td>\n      <td>8.7</td>\n      <td>8.1</td>\n      <td>8.6</td>\n      <td>8.9</td>\n      <td>...</td>\n      <td>1.3</td>\n      <td>1.4</td>\n      <td>0.9</td>\n      <td>1.1</td>\n      <td>0.9</td>\n      <td>47412</td>\n      <td>48695.0</td>\n      <td>49358</td>\n      <td>48922.0</td>\n      <td>52830.0</td>\n    </tr>\n  </tbody>\n</table>\n<p>5 rows × 26 columns</p>\n</div>"
     },
     "execution_count": 70,
     "metadata": {},
     "output_type": "execute_result"
    }
   ],
   "source": [
    "df_census= pd.read_csv(os.path.join(DATA_DIR, 'census_starter.csv'))\n",
    "df_census.head()"
   ],
   "metadata": {
    "collapsed": false,
    "pycharm": {
     "name": "#%%\n"
    }
   }
  },
  {
   "cell_type": "code",
   "execution_count": 71,
   "outputs": [
    {
     "data": {
      "text/plain": "            row_id  cfips          county    state first_day_of_month  \\\n0  1001_2019-08-01   1001  Autauga County  Alabama         2019-08-01   \n1  1001_2019-09-01   1001  Autauga County  Alabama         2019-09-01   \n2  1001_2019-10-01   1001  Autauga County  Alabama         2019-10-01   \n3  1001_2019-11-01   1001  Autauga County  Alabama         2019-11-01   \n4  1001_2019-12-01   1001  Autauga County  Alabama         2019-12-01   \n\n   microbusiness_density  active       year  \n0               3.007682    1249 2019-01-01  \n1               2.884870    1198 2019-01-01  \n2               3.055843    1269 2019-01-01  \n3               2.993233    1243 2019-01-01  \n4               2.993233    1243 2019-01-01  ",
      "text/html": "<div>\n<style scoped>\n    .dataframe tbody tr th:only-of-type {\n        vertical-align: middle;\n    }\n\n    .dataframe tbody tr th {\n        vertical-align: top;\n    }\n\n    .dataframe thead th {\n        text-align: right;\n    }\n</style>\n<table border=\"1\" class=\"dataframe\">\n  <thead>\n    <tr style=\"text-align: right;\">\n      <th></th>\n      <th>row_id</th>\n      <th>cfips</th>\n      <th>county</th>\n      <th>state</th>\n      <th>first_day_of_month</th>\n      <th>microbusiness_density</th>\n      <th>active</th>\n      <th>year</th>\n    </tr>\n  </thead>\n  <tbody>\n    <tr>\n      <th>0</th>\n      <td>1001_2019-08-01</td>\n      <td>1001</td>\n      <td>Autauga County</td>\n      <td>Alabama</td>\n      <td>2019-08-01</td>\n      <td>3.007682</td>\n      <td>1249</td>\n      <td>2019-01-01</td>\n    </tr>\n    <tr>\n      <th>1</th>\n      <td>1001_2019-09-01</td>\n      <td>1001</td>\n      <td>Autauga County</td>\n      <td>Alabama</td>\n      <td>2019-09-01</td>\n      <td>2.884870</td>\n      <td>1198</td>\n      <td>2019-01-01</td>\n    </tr>\n    <tr>\n      <th>2</th>\n      <td>1001_2019-10-01</td>\n      <td>1001</td>\n      <td>Autauga County</td>\n      <td>Alabama</td>\n      <td>2019-10-01</td>\n      <td>3.055843</td>\n      <td>1269</td>\n      <td>2019-01-01</td>\n    </tr>\n    <tr>\n      <th>3</th>\n      <td>1001_2019-11-01</td>\n      <td>1001</td>\n      <td>Autauga County</td>\n      <td>Alabama</td>\n      <td>2019-11-01</td>\n      <td>2.993233</td>\n      <td>1243</td>\n      <td>2019-01-01</td>\n    </tr>\n    <tr>\n      <th>4</th>\n      <td>1001_2019-12-01</td>\n      <td>1001</td>\n      <td>Autauga County</td>\n      <td>Alabama</td>\n      <td>2019-12-01</td>\n      <td>2.993233</td>\n      <td>1243</td>\n      <td>2019-01-01</td>\n    </tr>\n  </tbody>\n</table>\n</div>"
     },
     "execution_count": 71,
     "metadata": {},
     "output_type": "execute_result"
    }
   ],
   "source": [
    "df_train= pd.read_csv(os.path.join(DATA_DIR, 'train.csv'))\n",
    "df_train['year']=pd.to_datetime(df_train['first_day_of_month'].str.split(\"-\", expand=True)[0])\n",
    "df_train.head()"
   ],
   "metadata": {
    "collapsed": false,
    "pycharm": {
     "name": "#%%\n"
    }
   }
  },
  {
   "cell_type": "markdown",
   "source": [
    "## Computing correlation between the features"
   ],
   "metadata": {
    "collapsed": false,
    "pycharm": {
     "name": "#%% md\n"
    }
   }
  },
  {
   "cell_type": "code",
   "execution_count": 72,
   "outputs": [
    {
     "ename": "KeyError",
     "evalue": "\"[''] not in index\"",
     "output_type": "error",
     "traceback": [
      "\u001B[1;31m---------------------------------------------------------------------------\u001B[0m",
      "\u001B[1;31mKeyError\u001B[0m                                  Traceback (most recent call last)",
      "Cell \u001B[1;32mIn[72], line 3\u001B[0m\n\u001B[0;32m      1\u001B[0m \u001B[38;5;66;03m#Considering features of 2018\u001B[39;00m\n\u001B[0;32m      2\u001B[0m columns \u001B[38;5;241m=\u001B[39m [d \u001B[38;5;28;01mfor\u001B[39;00m d \u001B[38;5;129;01min\u001B[39;00m df_census\u001B[38;5;241m.\u001B[39mcolumns \u001B[38;5;28;01mif\u001B[39;00m \u001B[38;5;124m'\u001B[39m\u001B[38;5;124m2018\u001B[39m\u001B[38;5;124m'\u001B[39m \u001B[38;5;129;01min\u001B[39;00m d] \u001B[38;5;241m+\u001B[39m [\u001B[38;5;124m'\u001B[39m\u001B[38;5;124m'\u001B[39m]\n\u001B[1;32m----> 3\u001B[0m df_censur_2018 \u001B[38;5;241m=\u001B[39m \u001B[43mdf_census\u001B[49m\u001B[43m[\u001B[49m\u001B[43mcolumns\u001B[49m\u001B[43m]\u001B[49m\n",
      "File \u001B[1;32mF:\\Projets\\Competitions\\Kaggle\\GoDaddy - MicroBusiness Forecasting\\GoDaddy\\venv\\lib\\site-packages\\pandas\\core\\frame.py:3464\u001B[0m, in \u001B[0;36mDataFrame.__getitem__\u001B[1;34m(self, key)\u001B[0m\n\u001B[0;32m   3462\u001B[0m     \u001B[38;5;28;01mif\u001B[39;00m is_iterator(key):\n\u001B[0;32m   3463\u001B[0m         key \u001B[38;5;241m=\u001B[39m \u001B[38;5;28mlist\u001B[39m(key)\n\u001B[1;32m-> 3464\u001B[0m     indexer \u001B[38;5;241m=\u001B[39m \u001B[38;5;28;43mself\u001B[39;49m\u001B[38;5;241;43m.\u001B[39;49m\u001B[43mloc\u001B[49m\u001B[38;5;241;43m.\u001B[39;49m\u001B[43m_get_listlike_indexer\u001B[49m\u001B[43m(\u001B[49m\u001B[43mkey\u001B[49m\u001B[43m,\u001B[49m\u001B[43m \u001B[49m\u001B[43maxis\u001B[49m\u001B[38;5;241;43m=\u001B[39;49m\u001B[38;5;241;43m1\u001B[39;49m\u001B[43m)\u001B[49m[\u001B[38;5;241m1\u001B[39m]\n\u001B[0;32m   3466\u001B[0m \u001B[38;5;66;03m# take() does not accept boolean indexers\u001B[39;00m\n\u001B[0;32m   3467\u001B[0m \u001B[38;5;28;01mif\u001B[39;00m \u001B[38;5;28mgetattr\u001B[39m(indexer, \u001B[38;5;124m\"\u001B[39m\u001B[38;5;124mdtype\u001B[39m\u001B[38;5;124m\"\u001B[39m, \u001B[38;5;28;01mNone\u001B[39;00m) \u001B[38;5;241m==\u001B[39m \u001B[38;5;28mbool\u001B[39m:\n",
      "File \u001B[1;32mF:\\Projets\\Competitions\\Kaggle\\GoDaddy - MicroBusiness Forecasting\\GoDaddy\\venv\\lib\\site-packages\\pandas\\core\\indexing.py:1314\u001B[0m, in \u001B[0;36m_LocIndexer._get_listlike_indexer\u001B[1;34m(self, key, axis)\u001B[0m\n\u001B[0;32m   1311\u001B[0m \u001B[38;5;28;01melse\u001B[39;00m:\n\u001B[0;32m   1312\u001B[0m     keyarr, indexer, new_indexer \u001B[38;5;241m=\u001B[39m ax\u001B[38;5;241m.\u001B[39m_reindex_non_unique(keyarr)\n\u001B[1;32m-> 1314\u001B[0m \u001B[38;5;28;43mself\u001B[39;49m\u001B[38;5;241;43m.\u001B[39;49m\u001B[43m_validate_read_indexer\u001B[49m\u001B[43m(\u001B[49m\u001B[43mkeyarr\u001B[49m\u001B[43m,\u001B[49m\u001B[43m \u001B[49m\u001B[43mindexer\u001B[49m\u001B[43m,\u001B[49m\u001B[43m \u001B[49m\u001B[43maxis\u001B[49m\u001B[43m)\u001B[49m\n\u001B[0;32m   1316\u001B[0m \u001B[38;5;28;01mif\u001B[39;00m needs_i8_conversion(ax\u001B[38;5;241m.\u001B[39mdtype) \u001B[38;5;129;01mor\u001B[39;00m \u001B[38;5;28misinstance\u001B[39m(\n\u001B[0;32m   1317\u001B[0m     ax, (IntervalIndex, CategoricalIndex)\n\u001B[0;32m   1318\u001B[0m ):\n\u001B[0;32m   1319\u001B[0m     \u001B[38;5;66;03m# For CategoricalIndex take instead of reindex to preserve dtype.\u001B[39;00m\n\u001B[0;32m   1320\u001B[0m     \u001B[38;5;66;03m#  For IntervalIndex this is to map integers to the Intervals they match to.\u001B[39;00m\n\u001B[0;32m   1321\u001B[0m     keyarr \u001B[38;5;241m=\u001B[39m ax\u001B[38;5;241m.\u001B[39mtake(indexer)\n",
      "File \u001B[1;32mF:\\Projets\\Competitions\\Kaggle\\GoDaddy - MicroBusiness Forecasting\\GoDaddy\\venv\\lib\\site-packages\\pandas\\core\\indexing.py:1377\u001B[0m, in \u001B[0;36m_LocIndexer._validate_read_indexer\u001B[1;34m(self, key, indexer, axis)\u001B[0m\n\u001B[0;32m   1374\u001B[0m     \u001B[38;5;28;01mraise\u001B[39;00m \u001B[38;5;167;01mKeyError\u001B[39;00m(\u001B[38;5;124mf\u001B[39m\u001B[38;5;124m\"\u001B[39m\u001B[38;5;124mNone of [\u001B[39m\u001B[38;5;132;01m{\u001B[39;00mkey\u001B[38;5;132;01m}\u001B[39;00m\u001B[38;5;124m] are in the [\u001B[39m\u001B[38;5;132;01m{\u001B[39;00maxis_name\u001B[38;5;132;01m}\u001B[39;00m\u001B[38;5;124m]\u001B[39m\u001B[38;5;124m\"\u001B[39m)\n\u001B[0;32m   1376\u001B[0m not_found \u001B[38;5;241m=\u001B[39m \u001B[38;5;28mlist\u001B[39m(ensure_index(key)[missing_mask\u001B[38;5;241m.\u001B[39mnonzero()[\u001B[38;5;241m0\u001B[39m]]\u001B[38;5;241m.\u001B[39munique())\n\u001B[1;32m-> 1377\u001B[0m \u001B[38;5;28;01mraise\u001B[39;00m \u001B[38;5;167;01mKeyError\u001B[39;00m(\u001B[38;5;124mf\u001B[39m\u001B[38;5;124m\"\u001B[39m\u001B[38;5;132;01m{\u001B[39;00mnot_found\u001B[38;5;132;01m}\u001B[39;00m\u001B[38;5;124m not in index\u001B[39m\u001B[38;5;124m\"\u001B[39m)\n",
      "\u001B[1;31mKeyError\u001B[0m: \"[''] not in index\""
     ]
    }
   ],
   "source": [
    "#Considering features of 2018\n",
    "columns = [d for d in df_census.columns if '2018' in d] + ['']\n",
    "df_censur_2018 = df_census[columns]"
   ],
   "metadata": {
    "collapsed": false,
    "pycharm": {
     "name": "#%%\n"
    }
   }
  },
  {
   "cell_type": "code",
   "execution_count": null,
   "outputs": [],
   "source": [
    "#Visualizing the correlation between the features\n",
    "import seaborn as sns\n",
    "import matplotlib.pyplot as plt\n",
    "corr = df_censur_2018.corr()\n",
    "plt.figure(figsize=(20,20))\n",
    "sns.heatmap(corr, annot=True, fmt='.1g')"
   ],
   "metadata": {
    "collapsed": false,
    "pycharm": {
     "name": "#%%\n"
    }
   }
  },
  {
   "cell_type": "code",
   "execution_count": null,
   "outputs": [],
   "source": [
    "years= [2017,2018,2019,2020,2021]\n",
    "attributes= ['pct_bb','pct_college', 'pct_foreign_born','pct_it_workers','median_hh_inc']\n",
    "##Adding the attributes to the dataframe df_train, for month take the value of the corresponding year and cfips\n",
    "col_map = {}\n",
    "col_map[\"year\"] = []\n",
    "for year in years:\n",
    "    col_map[\"year\"] += [year] * df_census.shape[0]\n",
    "for attribute in attributes:\n",
    "    col_map[attribute] = []\n",
    "    for year in years:\n",
    "        col_map[attribute] += list(df_census[attribute+ '_' + str(year)])\n",
    "col_map[\"cfips\"] = list(df_census[\"cfips\"]) * len(years)\n",
    "df_census_reshaped =   pd.DataFrame(col_map)\n",
    "df_census_reshaped['year']= pd.to_datetime(df_census_reshaped['year'], format='%Y')\n",
    "df_census_reshaped"
   ],
   "metadata": {
    "collapsed": false,
    "pycharm": {
     "name": "#%%\n"
    }
   }
  },
  {
   "cell_type": "code",
   "execution_count": 73,
   "outputs": [],
   "source": [
    "df_trained_reshaped = pd.merge(df_train, df_census_reshaped, how='left', left_on=['year','cfips'], right_on=['year','cfips'])"
   ],
   "metadata": {
    "collapsed": false,
    "pycharm": {
     "name": "#%%\n"
    }
   }
  },
  {
   "cell_type": "code",
   "execution_count": 74,
   "outputs": [
    {
     "data": {
      "text/plain": "                  row_id  cfips          county    state first_day_of_month  \\\n0        1001_2019-08-01   1001  Autauga County  Alabama         2019-08-01   \n1        1001_2019-09-01   1001  Autauga County  Alabama         2019-09-01   \n2        1001_2019-10-01   1001  Autauga County  Alabama         2019-10-01   \n3        1001_2019-11-01   1001  Autauga County  Alabama         2019-11-01   \n4        1001_2019-12-01   1001  Autauga County  Alabama         2019-12-01   \n...                  ...    ...             ...      ...                ...   \n122260  56045_2022-06-01  56045   Weston County  Wyoming         2022-06-01   \n122261  56045_2022-07-01  56045   Weston County  Wyoming         2022-07-01   \n122262  56045_2022-08-01  56045   Weston County  Wyoming         2022-08-01   \n122263  56045_2022-09-01  56045   Weston County  Wyoming         2022-09-01   \n122264  56045_2022-10-01  56045   Weston County  Wyoming         2022-10-01   \n\n        microbusiness_density  active       year  pct_bb  pct_college  \\\n0                    3.007682    1249 2019-01-01    80.6         16.1   \n1                    2.884870    1198 2019-01-01    80.6         16.1   \n2                    3.055843    1269 2019-01-01    80.6         16.1   \n3                    2.993233    1243 2019-01-01    80.6         16.1   \n4                    2.993233    1243 2019-01-01    80.6         16.1   \n...                       ...     ...        ...     ...          ...   \n122260               1.803249     101 2022-01-01     NaN          NaN   \n122261               1.803249     101 2022-01-01     NaN          NaN   \n122262               1.785395     100 2022-01-01     NaN          NaN   \n122263               1.785395     100 2022-01-01     NaN          NaN   \n122264               1.785395     100 2022-01-01     NaN          NaN   \n\n        pct_foreign_born  pct_it_workers  median_hh_inc  \n0                    2.3             0.7        58731.0  \n1                    2.3             0.7        58731.0  \n2                    2.3             0.7        58731.0  \n3                    2.3             0.7        58731.0  \n4                    2.3             0.7        58731.0  \n...                  ...             ...            ...  \n122260               NaN             NaN            NaN  \n122261               NaN             NaN            NaN  \n122262               NaN             NaN            NaN  \n122263               NaN             NaN            NaN  \n122264               NaN             NaN            NaN  \n\n[122265 rows x 13 columns]",
      "text/html": "<div>\n<style scoped>\n    .dataframe tbody tr th:only-of-type {\n        vertical-align: middle;\n    }\n\n    .dataframe tbody tr th {\n        vertical-align: top;\n    }\n\n    .dataframe thead th {\n        text-align: right;\n    }\n</style>\n<table border=\"1\" class=\"dataframe\">\n  <thead>\n    <tr style=\"text-align: right;\">\n      <th></th>\n      <th>row_id</th>\n      <th>cfips</th>\n      <th>county</th>\n      <th>state</th>\n      <th>first_day_of_month</th>\n      <th>microbusiness_density</th>\n      <th>active</th>\n      <th>year</th>\n      <th>pct_bb</th>\n      <th>pct_college</th>\n      <th>pct_foreign_born</th>\n      <th>pct_it_workers</th>\n      <th>median_hh_inc</th>\n    </tr>\n  </thead>\n  <tbody>\n    <tr>\n      <th>0</th>\n      <td>1001_2019-08-01</td>\n      <td>1001</td>\n      <td>Autauga County</td>\n      <td>Alabama</td>\n      <td>2019-08-01</td>\n      <td>3.007682</td>\n      <td>1249</td>\n      <td>2019-01-01</td>\n      <td>80.6</td>\n      <td>16.1</td>\n      <td>2.3</td>\n      <td>0.7</td>\n      <td>58731.0</td>\n    </tr>\n    <tr>\n      <th>1</th>\n      <td>1001_2019-09-01</td>\n      <td>1001</td>\n      <td>Autauga County</td>\n      <td>Alabama</td>\n      <td>2019-09-01</td>\n      <td>2.884870</td>\n      <td>1198</td>\n      <td>2019-01-01</td>\n      <td>80.6</td>\n      <td>16.1</td>\n      <td>2.3</td>\n      <td>0.7</td>\n      <td>58731.0</td>\n    </tr>\n    <tr>\n      <th>2</th>\n      <td>1001_2019-10-01</td>\n      <td>1001</td>\n      <td>Autauga County</td>\n      <td>Alabama</td>\n      <td>2019-10-01</td>\n      <td>3.055843</td>\n      <td>1269</td>\n      <td>2019-01-01</td>\n      <td>80.6</td>\n      <td>16.1</td>\n      <td>2.3</td>\n      <td>0.7</td>\n      <td>58731.0</td>\n    </tr>\n    <tr>\n      <th>3</th>\n      <td>1001_2019-11-01</td>\n      <td>1001</td>\n      <td>Autauga County</td>\n      <td>Alabama</td>\n      <td>2019-11-01</td>\n      <td>2.993233</td>\n      <td>1243</td>\n      <td>2019-01-01</td>\n      <td>80.6</td>\n      <td>16.1</td>\n      <td>2.3</td>\n      <td>0.7</td>\n      <td>58731.0</td>\n    </tr>\n    <tr>\n      <th>4</th>\n      <td>1001_2019-12-01</td>\n      <td>1001</td>\n      <td>Autauga County</td>\n      <td>Alabama</td>\n      <td>2019-12-01</td>\n      <td>2.993233</td>\n      <td>1243</td>\n      <td>2019-01-01</td>\n      <td>80.6</td>\n      <td>16.1</td>\n      <td>2.3</td>\n      <td>0.7</td>\n      <td>58731.0</td>\n    </tr>\n    <tr>\n      <th>...</th>\n      <td>...</td>\n      <td>...</td>\n      <td>...</td>\n      <td>...</td>\n      <td>...</td>\n      <td>...</td>\n      <td>...</td>\n      <td>...</td>\n      <td>...</td>\n      <td>...</td>\n      <td>...</td>\n      <td>...</td>\n      <td>...</td>\n    </tr>\n    <tr>\n      <th>122260</th>\n      <td>56045_2022-06-01</td>\n      <td>56045</td>\n      <td>Weston County</td>\n      <td>Wyoming</td>\n      <td>2022-06-01</td>\n      <td>1.803249</td>\n      <td>101</td>\n      <td>2022-01-01</td>\n      <td>NaN</td>\n      <td>NaN</td>\n      <td>NaN</td>\n      <td>NaN</td>\n      <td>NaN</td>\n    </tr>\n    <tr>\n      <th>122261</th>\n      <td>56045_2022-07-01</td>\n      <td>56045</td>\n      <td>Weston County</td>\n      <td>Wyoming</td>\n      <td>2022-07-01</td>\n      <td>1.803249</td>\n      <td>101</td>\n      <td>2022-01-01</td>\n      <td>NaN</td>\n      <td>NaN</td>\n      <td>NaN</td>\n      <td>NaN</td>\n      <td>NaN</td>\n    </tr>\n    <tr>\n      <th>122262</th>\n      <td>56045_2022-08-01</td>\n      <td>56045</td>\n      <td>Weston County</td>\n      <td>Wyoming</td>\n      <td>2022-08-01</td>\n      <td>1.785395</td>\n      <td>100</td>\n      <td>2022-01-01</td>\n      <td>NaN</td>\n      <td>NaN</td>\n      <td>NaN</td>\n      <td>NaN</td>\n      <td>NaN</td>\n    </tr>\n    <tr>\n      <th>122263</th>\n      <td>56045_2022-09-01</td>\n      <td>56045</td>\n      <td>Weston County</td>\n      <td>Wyoming</td>\n      <td>2022-09-01</td>\n      <td>1.785395</td>\n      <td>100</td>\n      <td>2022-01-01</td>\n      <td>NaN</td>\n      <td>NaN</td>\n      <td>NaN</td>\n      <td>NaN</td>\n      <td>NaN</td>\n    </tr>\n    <tr>\n      <th>122264</th>\n      <td>56045_2022-10-01</td>\n      <td>56045</td>\n      <td>Weston County</td>\n      <td>Wyoming</td>\n      <td>2022-10-01</td>\n      <td>1.785395</td>\n      <td>100</td>\n      <td>2022-01-01</td>\n      <td>NaN</td>\n      <td>NaN</td>\n      <td>NaN</td>\n      <td>NaN</td>\n      <td>NaN</td>\n    </tr>\n  </tbody>\n</table>\n<p>122265 rows × 13 columns</p>\n</div>"
     },
     "execution_count": 74,
     "metadata": {},
     "output_type": "execute_result"
    }
   ],
   "source": [
    "df_trained_reshaped"
   ],
   "metadata": {
    "collapsed": false,
    "pycharm": {
     "name": "#%%\n"
    }
   }
  },
  {
   "cell_type": "code",
   "execution_count": 7,
   "outputs": [],
   "source": [],
   "metadata": {
    "collapsed": false,
    "pycharm": {
     "name": "#%%\n"
    }
   }
  },
  {
   "cell_type": "code",
   "execution_count": 5,
   "outputs": [],
   "source": [
    "##Train test splitting of the data df_trained_reshape\n",
    "import pandas as pd ,os\n",
    "from constants import *\n",
    "df_trained_reshaped = pd.read_csv(os.path.join(DATA_DIR, 'train_with_census.csv'))\n",
    "##And save to csv files _train.csv and _test.csv\n",
    "from sklearn.model_selection import train_test_split\n",
    "df_trained_reshaped['first_day_of_month']=pd.to_datetime(df_trained_reshaped['first_day_of_month'])\n",
    "date_max_train=\"2021-06-01\"\n",
    "\n",
    "\n",
    "#Train is the data before 01-04-2022\n",
    "df_train=df_trained_reshaped[df_trained_reshaped[\"first_day_of_month\"]<date_max_train]\n",
    "df_test=df_trained_reshaped[df_trained_reshaped[\"first_day_of_month\"]>=date_max_train]\n",
    "#Test is the data after 01-04-2022\n",
    "\n",
    "df_train.to_csv(os.path.join(DATA_DIR, 'train_with_census_train.csv'), index=False)\n",
    "df_test.to_csv(os.path.join(DATA_DIR, 'train_with_census_val.csv'), index=False)"
   ],
   "metadata": {
    "collapsed": false,
    "pycharm": {
     "name": "#%%\n"
    }
   }
  },
  {
   "cell_type": "code",
   "execution_count": null,
   "outputs": [],
   "source": [],
   "metadata": {
    "collapsed": false,
    "pycharm": {
     "name": "#%%\n"
    }
   }
  }
 ],
 "metadata": {
  "kernelspec": {
   "display_name": "Python 3",
   "language": "python",
   "name": "python3"
  },
  "language_info": {
   "codemirror_mode": {
    "name": "ipython",
    "version": 2
   },
   "file_extension": ".py",
   "mimetype": "text/x-python",
   "name": "python",
   "nbconvert_exporter": "python",
   "pygments_lexer": "ipython2",
   "version": "2.7.6"
  }
 },
 "nbformat": 4,
 "nbformat_minor": 0
}