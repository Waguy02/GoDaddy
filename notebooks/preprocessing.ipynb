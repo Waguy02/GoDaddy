{
 "cells": [
  {
   "cell_type": "markdown",
   "source": [
    "## Preprocessing --GoDaddy"
   ],
   "metadata": {
    "collapsed": false,
    "pycharm": {
     "name": "#%% md\n"
    }
   }
  },
  {
   "cell_type": "code",
   "execution_count": 2,
   "outputs": [],
   "source": [
    "from constants import *\n",
    "import pandas as pd"
   ],
   "metadata": {
    "collapsed": false,
    "pycharm": {
     "name": "#%%\n"
    }
   }
  },
  {
   "cell_type": "code",
   "execution_count": 3,
   "outputs": [],
   "source": [
    "import pandas as pd"
   ],
   "metadata": {
    "collapsed": false,
    "pycharm": {
     "name": "#%%\n"
    }
   }
  },
  {
   "cell_type": "code",
   "execution_count": 4,
   "outputs": [
    {
     "name": "stdout",
     "output_type": "stream",
     "text": [
      "Renaming  pct_bb_2017  to pct_bb_2019\n",
      "Renaming  pct_college_2017  to pct_college_2019\n",
      "Renaming  pct_foreign_born_2017  to pct_foreign_born_2019\n",
      "Renaming  pct_it_workers_2017  to pct_it_workers_2019\n",
      "Renaming  median_hh_inc_2017  to median_hh_inc_2019\n",
      "Renaming  pct_bb_2018  to pct_bb_2020\n",
      "Renaming  pct_college_2018  to pct_college_2020\n",
      "Renaming  pct_foreign_born_2018  to pct_foreign_born_2020\n",
      "Renaming  pct_it_workers_2018  to pct_it_workers_2020\n",
      "Renaming  median_hh_inc_2018  to median_hh_inc_2020\n",
      "Renaming  pct_bb_2019  to pct_bb_2021\n",
      "Renaming  pct_college_2019  to pct_college_2021\n",
      "Renaming  pct_foreign_born_2019  to pct_foreign_born_2021\n",
      "Renaming  pct_it_workers_2019  to pct_it_workers_2021\n",
      "Renaming  median_hh_inc_2019  to median_hh_inc_2021\n",
      "Renaming  pct_bb_2020  to pct_bb_2022\n",
      "Renaming  pct_college_2020  to pct_college_2022\n",
      "Renaming  pct_foreign_born_2020  to pct_foreign_born_2022\n",
      "Renaming  pct_it_workers_2020  to pct_it_workers_2022\n",
      "Renaming  median_hh_inc_2020  to median_hh_inc_2022\n",
      "Renaming  pct_bb_2021  to pct_bb_2023\n",
      "Renaming  pct_college_2021  to pct_college_2023\n",
      "Renaming  pct_foreign_born_2021  to pct_foreign_born_2023\n",
      "Renaming  pct_it_workers_2021  to pct_it_workers_2023\n",
      "Renaming  median_hh_inc_2021  to median_hh_inc_2023\n"
     ]
    }
   ],
   "source": [
    "df_census= pd.read_csv(os.path.join(DATA_DIR, 'census_starter.csv'))\n",
    "\n",
    "new_names_map= {}\n",
    "for year in [2017,2018, 2019, 2020, 2021]:\n",
    "    for attribute in ['pct_bb','pct_college', 'pct_foreign_born','pct_it_workers','median_hh_inc']:\n",
    "        new_names_map[f\"{attribute}_{str(year)}\"]= f\"{attribute}_{str(year+2)}\"\n",
    "        print(\"Renaming \",f\"{attribute}_{str(year)}\",\" to\",f\"{attribute}_{str(year+2)}\")\n",
    "df_census= df_census.rename(columns=new_names_map)\n",
    "df_census.head()\n",
    "df_census.to_csv(os.path.join(DATA_DIR, 'census_starter_shifted.csv'))"
   ],
   "metadata": {
    "collapsed": false,
    "pycharm": {
     "name": "#%%\n"
    }
   }
  },
  {
   "cell_type": "code",
   "execution_count": 4,
   "outputs": [],
   "source": [],
   "metadata": {
    "collapsed": false,
    "pycharm": {
     "name": "#%%\n"
    }
   }
  },
  {
   "cell_type": "markdown",
   "source": [
    "## Reformatting census data"
   ],
   "metadata": {
    "collapsed": false,
    "pycharm": {
     "name": "#%% md\n"
    }
   }
  },
  {
   "cell_type": "code",
   "execution_count": 5,
   "outputs": [],
   "source": [
    "years= [2019,2020,2021,2022,2023]\n",
    "attributes= ['pct_bb','pct_college', 'pct_foreign_born','pct_it_workers','median_hh_inc']\n",
    "##Adding the attributes to the dataframe df_train, for month take the value of the corresponding year and cfips\n",
    "col_map = {}\n",
    "col_map[\"year\"] = []\n",
    "for year in years:\n",
    "    col_map[\"year\"] += [year] * df_census.shape[0]\n",
    "for attribute in attributes:\n",
    "    col_map[attribute] = []\n",
    "    for year in years:\n",
    "        col_map[attribute] += list(df_census[attribute+ '_' + str(year)])\n",
    "col_map[\"cfips\"] = list(df_census[\"cfips\"]) * len(years)\n",
    "df_census_reshaped = pd.DataFrame(col_map)\n",
    "\n",
    "\n",
    "# Fill in missing values with mean of the column for each cfips\n",
    "for column in df_census_reshaped.columns:\n",
    "    if column not in ['year', 'cfips']:\n",
    "        df_census_reshaped[column] = df_census_reshaped.groupby('cfips')[column].apply(lambda x: x.fillna(x.mean()))"
   ],
   "metadata": {
    "collapsed": false,
    "pycharm": {
     "name": "#%%\n"
    }
   }
  },
  {
   "cell_type": "code",
   "execution_count": 6,
   "outputs": [],
   "source": [
    "df_census_interpolated= df_census_reshaped.copy()\n",
    "#Create a column date and add rows for each month then interpolate the values for each month\n",
    "df_census_interpolated[\"first_day_of_month\"]=pd.to_datetime(df_census_interpolated[\"year\"], format='%Y')\n",
    "\n",
    "df_census_interpolated[\"first_day_of_month\"]=pd.to_datetime(df_census_interpolated[\"first_day_of_month\"].dt.strftime(\"%Y-%m-%d\"))\n",
    "\n",
    "#Add rows for each month put nan for the attributes of new rows\n",
    "df_months_list=[]\n",
    "for month_num in range(2,13):\n",
    "    df_census_new_date=df_census_interpolated.copy()\n",
    "\n",
    "    #Set the month num of the date\n",
    "    df_census_new_date[\"first_day_of_month\"]=df_census_new_date[\"first_day_of_month\"]+pd.DateOffset(months=month_num-1)\n",
    "\n",
    "    #Set all the attributes to nan\n",
    "    for attribute in attributes:\n",
    "        df_census_new_date[attribute]=None\n",
    "\n",
    "    df_months_list.append(df_census_new_date)\n",
    "\n",
    "##Concatenate the new rows to the original dataframe\n",
    "df_census_interpolated=pd.concat(df_months_list+ [df_census_interpolated], ignore_index=True)\n",
    "\n",
    "#INterpolate the values for each month\n",
    "df_census_interpolated=df_census_interpolated.sort_values(by=['cfips', 'first_day_of_month'])\n",
    "interpolated_attributes=df_census_interpolated.groupby('cfips').apply(lambda x: x[attributes].interpolate(method='linear',limit_direction='both'))\n",
    "df_census_interpolated[attributes]=interpolated_attributes\n",
    "df_census_interpolated.to_csv(os.path.join(DATA_DIR, 'census_interpolated.csv'), index=False)"
   ],
   "metadata": {
    "collapsed": false,
    "pycharm": {
     "name": "#%%\n"
    }
   }
  },
  {
   "cell_type": "code",
   "execution_count": 7,
   "outputs": [
    {
     "data": {
      "text/plain": "        year     pct_bb  pct_college  pct_foreign_born  pct_it_workers  \\\n172810  2019  76.600000    14.500000          2.100000        1.300000   \n0       2019  76.791667    14.616667          2.091667        1.283333   \n15710   2019  76.983333    14.733333          2.083333        1.266667   \n31420   2019  77.175000    14.850000          2.075000        1.250000   \n47130   2019  77.366667    14.966667          2.066667        1.233333   \n...      ...        ...          ...               ...             ...   \n109969  2023  81.300000    13.900000          1.600000        0.000000   \n125679  2023  81.300000    13.900000          1.600000        0.000000   \n141389  2023  81.300000    13.900000          1.600000        0.000000   \n157099  2023  81.300000    13.900000          1.600000        0.000000   \n172809  2023  81.300000    13.900000          1.600000        0.000000   \n\n        median_hh_inc  cfips first_day_of_month  \n172810   55317.000000   1001         2019-01-01  \n0        55606.083333   1001         2019-02-01  \n15710    55895.166667   1001         2019-03-01  \n31420    56184.250000   1001         2019-04-01  \n47130    56473.333333   1001         2019-05-01  \n...               ...    ...                ...  \n109969   65566.000000  56045         2023-08-01  \n125679   65566.000000  56045         2023-09-01  \n141389   65566.000000  56045         2023-10-01  \n157099   65566.000000  56045         2023-11-01  \n172809   65566.000000  56045         2023-12-01  \n\n[188520 rows x 8 columns]",
      "text/html": "<div>\n<style scoped>\n    .dataframe tbody tr th:only-of-type {\n        vertical-align: middle;\n    }\n\n    .dataframe tbody tr th {\n        vertical-align: top;\n    }\n\n    .dataframe thead th {\n        text-align: right;\n    }\n</style>\n<table border=\"1\" class=\"dataframe\">\n  <thead>\n    <tr style=\"text-align: right;\">\n      <th></th>\n      <th>year</th>\n      <th>pct_bb</th>\n      <th>pct_college</th>\n      <th>pct_foreign_born</th>\n      <th>pct_it_workers</th>\n      <th>median_hh_inc</th>\n      <th>cfips</th>\n      <th>first_day_of_month</th>\n    </tr>\n  </thead>\n  <tbody>\n    <tr>\n      <th>172810</th>\n      <td>2019</td>\n      <td>76.600000</td>\n      <td>14.500000</td>\n      <td>2.100000</td>\n      <td>1.300000</td>\n      <td>55317.000000</td>\n      <td>1001</td>\n      <td>2019-01-01</td>\n    </tr>\n    <tr>\n      <th>0</th>\n      <td>2019</td>\n      <td>76.791667</td>\n      <td>14.616667</td>\n      <td>2.091667</td>\n      <td>1.283333</td>\n      <td>55606.083333</td>\n      <td>1001</td>\n      <td>2019-02-01</td>\n    </tr>\n    <tr>\n      <th>15710</th>\n      <td>2019</td>\n      <td>76.983333</td>\n      <td>14.733333</td>\n      <td>2.083333</td>\n      <td>1.266667</td>\n      <td>55895.166667</td>\n      <td>1001</td>\n      <td>2019-03-01</td>\n    </tr>\n    <tr>\n      <th>31420</th>\n      <td>2019</td>\n      <td>77.175000</td>\n      <td>14.850000</td>\n      <td>2.075000</td>\n      <td>1.250000</td>\n      <td>56184.250000</td>\n      <td>1001</td>\n      <td>2019-04-01</td>\n    </tr>\n    <tr>\n      <th>47130</th>\n      <td>2019</td>\n      <td>77.366667</td>\n      <td>14.966667</td>\n      <td>2.066667</td>\n      <td>1.233333</td>\n      <td>56473.333333</td>\n      <td>1001</td>\n      <td>2019-05-01</td>\n    </tr>\n    <tr>\n      <th>...</th>\n      <td>...</td>\n      <td>...</td>\n      <td>...</td>\n      <td>...</td>\n      <td>...</td>\n      <td>...</td>\n      <td>...</td>\n      <td>...</td>\n    </tr>\n    <tr>\n      <th>109969</th>\n      <td>2023</td>\n      <td>81.300000</td>\n      <td>13.900000</td>\n      <td>1.600000</td>\n      <td>0.000000</td>\n      <td>65566.000000</td>\n      <td>56045</td>\n      <td>2023-08-01</td>\n    </tr>\n    <tr>\n      <th>125679</th>\n      <td>2023</td>\n      <td>81.300000</td>\n      <td>13.900000</td>\n      <td>1.600000</td>\n      <td>0.000000</td>\n      <td>65566.000000</td>\n      <td>56045</td>\n      <td>2023-09-01</td>\n    </tr>\n    <tr>\n      <th>141389</th>\n      <td>2023</td>\n      <td>81.300000</td>\n      <td>13.900000</td>\n      <td>1.600000</td>\n      <td>0.000000</td>\n      <td>65566.000000</td>\n      <td>56045</td>\n      <td>2023-10-01</td>\n    </tr>\n    <tr>\n      <th>157099</th>\n      <td>2023</td>\n      <td>81.300000</td>\n      <td>13.900000</td>\n      <td>1.600000</td>\n      <td>0.000000</td>\n      <td>65566.000000</td>\n      <td>56045</td>\n      <td>2023-11-01</td>\n    </tr>\n    <tr>\n      <th>172809</th>\n      <td>2023</td>\n      <td>81.300000</td>\n      <td>13.900000</td>\n      <td>1.600000</td>\n      <td>0.000000</td>\n      <td>65566.000000</td>\n      <td>56045</td>\n      <td>2023-12-01</td>\n    </tr>\n  </tbody>\n</table>\n<p>188520 rows × 8 columns</p>\n</div>"
     },
     "execution_count": 7,
     "metadata": {},
     "output_type": "execute_result"
    }
   ],
   "source": [
    "df_census_interpolated"
   ],
   "metadata": {
    "collapsed": false,
    "pycharm": {
     "name": "#%%\n"
    }
   }
  },
  {
   "cell_type": "code",
   "execution_count": 8,
   "outputs": [
    {
     "data": {
      "text/plain": "       year  pct_bb  pct_college  pct_foreign_born  pct_it_workers  \\\n0      2019    76.6         14.5               2.1             1.3   \n3142   2020    78.9         15.9               2.0             1.1   \n6284   2021    80.6         16.1               2.3             0.7   \n9426   2022    82.7         16.7               2.3             0.6   \n12568  2023    85.5         16.4               2.1             1.1   \n...     ...     ...          ...               ...             ...   \n3141   2019    71.1         14.1               3.8             0.6   \n6283   2020    73.3         13.5               4.1             0.6   \n9425   2021    76.8         13.4               1.7             0.0   \n12567  2022    79.7         12.7               2.3             0.0   \n15709  2023    81.3         13.9               1.6             0.0   \n\n       median_hh_inc  cfips  \n0            55317.0   1001  \n3142         58786.0   1001  \n6284         58731.0   1001  \n9426         57982.0   1001  \n12568        62660.0   1001  \n...              ...    ...  \n3141         59605.0  56045  \n6283         52867.0  56045  \n9425         57031.0  56045  \n12567        53333.0  56045  \n15709        65566.0  56045  \n\n[15710 rows x 7 columns]",
      "text/html": "<div>\n<style scoped>\n    .dataframe tbody tr th:only-of-type {\n        vertical-align: middle;\n    }\n\n    .dataframe tbody tr th {\n        vertical-align: top;\n    }\n\n    .dataframe thead th {\n        text-align: right;\n    }\n</style>\n<table border=\"1\" class=\"dataframe\">\n  <thead>\n    <tr style=\"text-align: right;\">\n      <th></th>\n      <th>year</th>\n      <th>pct_bb</th>\n      <th>pct_college</th>\n      <th>pct_foreign_born</th>\n      <th>pct_it_workers</th>\n      <th>median_hh_inc</th>\n      <th>cfips</th>\n    </tr>\n  </thead>\n  <tbody>\n    <tr>\n      <th>0</th>\n      <td>2019</td>\n      <td>76.6</td>\n      <td>14.5</td>\n      <td>2.1</td>\n      <td>1.3</td>\n      <td>55317.0</td>\n      <td>1001</td>\n    </tr>\n    <tr>\n      <th>3142</th>\n      <td>2020</td>\n      <td>78.9</td>\n      <td>15.9</td>\n      <td>2.0</td>\n      <td>1.1</td>\n      <td>58786.0</td>\n      <td>1001</td>\n    </tr>\n    <tr>\n      <th>6284</th>\n      <td>2021</td>\n      <td>80.6</td>\n      <td>16.1</td>\n      <td>2.3</td>\n      <td>0.7</td>\n      <td>58731.0</td>\n      <td>1001</td>\n    </tr>\n    <tr>\n      <th>9426</th>\n      <td>2022</td>\n      <td>82.7</td>\n      <td>16.7</td>\n      <td>2.3</td>\n      <td>0.6</td>\n      <td>57982.0</td>\n      <td>1001</td>\n    </tr>\n    <tr>\n      <th>12568</th>\n      <td>2023</td>\n      <td>85.5</td>\n      <td>16.4</td>\n      <td>2.1</td>\n      <td>1.1</td>\n      <td>62660.0</td>\n      <td>1001</td>\n    </tr>\n    <tr>\n      <th>...</th>\n      <td>...</td>\n      <td>...</td>\n      <td>...</td>\n      <td>...</td>\n      <td>...</td>\n      <td>...</td>\n      <td>...</td>\n    </tr>\n    <tr>\n      <th>3141</th>\n      <td>2019</td>\n      <td>71.1</td>\n      <td>14.1</td>\n      <td>3.8</td>\n      <td>0.6</td>\n      <td>59605.0</td>\n      <td>56045</td>\n    </tr>\n    <tr>\n      <th>6283</th>\n      <td>2020</td>\n      <td>73.3</td>\n      <td>13.5</td>\n      <td>4.1</td>\n      <td>0.6</td>\n      <td>52867.0</td>\n      <td>56045</td>\n    </tr>\n    <tr>\n      <th>9425</th>\n      <td>2021</td>\n      <td>76.8</td>\n      <td>13.4</td>\n      <td>1.7</td>\n      <td>0.0</td>\n      <td>57031.0</td>\n      <td>56045</td>\n    </tr>\n    <tr>\n      <th>12567</th>\n      <td>2022</td>\n      <td>79.7</td>\n      <td>12.7</td>\n      <td>2.3</td>\n      <td>0.0</td>\n      <td>53333.0</td>\n      <td>56045</td>\n    </tr>\n    <tr>\n      <th>15709</th>\n      <td>2023</td>\n      <td>81.3</td>\n      <td>13.9</td>\n      <td>1.6</td>\n      <td>0.0</td>\n      <td>65566.0</td>\n      <td>56045</td>\n    </tr>\n  </tbody>\n</table>\n<p>15710 rows × 7 columns</p>\n</div>"
     },
     "execution_count": 8,
     "metadata": {},
     "output_type": "execute_result"
    }
   ],
   "source": [
    "df_census_reshaped_copy=df_census_reshaped.copy()\n",
    "df_census_reshaped_copy.sort_values(by=['cfips', 'year'])"
   ],
   "metadata": {
    "collapsed": false,
    "pycharm": {
     "name": "#%%\n"
    }
   }
  },
  {
   "cell_type": "markdown",
   "source": [
    "## Train test splitting of the data df_census_reshaped"
   ],
   "metadata": {
    "collapsed": false,
    "pycharm": {
     "name": "#%% md\n"
    }
   }
  },
  {
   "cell_type": "code",
   "execution_count": 9,
   "outputs": [],
   "source": [
    "from sklearn.model_selection import train_test_split\n",
    "## 80/20 split of df_census_reshaped and save to train_census_ae and train_census_ae_val\n",
    "df_train_census_ae, df_train_census_ae_val = train_test_split(df_census_reshaped, test_size=0.2, random_state=42)\n",
    "df_train_census_ae.to_csv(os.path.join(DATA_DIR, 'census_interpolated_train.csv'), index=False)\n",
    "df_train_census_ae_val.to_csv(os.path.join(DATA_DIR, 'census_interpolated_val.csv'), index=False)\n",
    "\n",
    "\n"
   ],
   "metadata": {
    "collapsed": false,
    "pycharm": {
     "name": "#%%\n"
    }
   }
  },
  {
   "cell_type": "code",
   "execution_count": 10,
   "outputs": [
    {
     "data": {
      "text/plain": "            row_id  cfips          county    state first_day_of_month  \\\n0  1001_2019-08-01   1001  Autauga County  Alabama         2019-08-01   \n1  1001_2019-09-01   1001  Autauga County  Alabama         2019-09-01   \n2  1001_2019-10-01   1001  Autauga County  Alabama         2019-10-01   \n3  1001_2019-11-01   1001  Autauga County  Alabama         2019-11-01   \n4  1001_2019-12-01   1001  Autauga County  Alabama         2019-12-01   \n\n   microbusiness_density  active       year  \n0               3.007682    1249 2019-01-01  \n1               2.884870    1198 2019-01-01  \n2               3.055843    1269 2019-01-01  \n3               2.993233    1243 2019-01-01  \n4               2.993233    1243 2019-01-01  ",
      "text/html": "<div>\n<style scoped>\n    .dataframe tbody tr th:only-of-type {\n        vertical-align: middle;\n    }\n\n    .dataframe tbody tr th {\n        vertical-align: top;\n    }\n\n    .dataframe thead th {\n        text-align: right;\n    }\n</style>\n<table border=\"1\" class=\"dataframe\">\n  <thead>\n    <tr style=\"text-align: right;\">\n      <th></th>\n      <th>row_id</th>\n      <th>cfips</th>\n      <th>county</th>\n      <th>state</th>\n      <th>first_day_of_month</th>\n      <th>microbusiness_density</th>\n      <th>active</th>\n      <th>year</th>\n    </tr>\n  </thead>\n  <tbody>\n    <tr>\n      <th>0</th>\n      <td>1001_2019-08-01</td>\n      <td>1001</td>\n      <td>Autauga County</td>\n      <td>Alabama</td>\n      <td>2019-08-01</td>\n      <td>3.007682</td>\n      <td>1249</td>\n      <td>2019-01-01</td>\n    </tr>\n    <tr>\n      <th>1</th>\n      <td>1001_2019-09-01</td>\n      <td>1001</td>\n      <td>Autauga County</td>\n      <td>Alabama</td>\n      <td>2019-09-01</td>\n      <td>2.884870</td>\n      <td>1198</td>\n      <td>2019-01-01</td>\n    </tr>\n    <tr>\n      <th>2</th>\n      <td>1001_2019-10-01</td>\n      <td>1001</td>\n      <td>Autauga County</td>\n      <td>Alabama</td>\n      <td>2019-10-01</td>\n      <td>3.055843</td>\n      <td>1269</td>\n      <td>2019-01-01</td>\n    </tr>\n    <tr>\n      <th>3</th>\n      <td>1001_2019-11-01</td>\n      <td>1001</td>\n      <td>Autauga County</td>\n      <td>Alabama</td>\n      <td>2019-11-01</td>\n      <td>2.993233</td>\n      <td>1243</td>\n      <td>2019-01-01</td>\n    </tr>\n    <tr>\n      <th>4</th>\n      <td>1001_2019-12-01</td>\n      <td>1001</td>\n      <td>Autauga County</td>\n      <td>Alabama</td>\n      <td>2019-12-01</td>\n      <td>2.993233</td>\n      <td>1243</td>\n      <td>2019-01-01</td>\n    </tr>\n  </tbody>\n</table>\n</div>"
     },
     "execution_count": 10,
     "metadata": {},
     "output_type": "execute_result"
    }
   ],
   "source": [
    "\n",
    "df_train= pd.read_csv(os.path.join(DATA_DIR, 'train.csv'))\n",
    "df_train['year']=pd.to_datetime(df_train['first_day_of_month'].str.split(\"-\", expand=True)[0])\n",
    "df_train.head()\n"
   ],
   "metadata": {
    "collapsed": false,
    "pycharm": {
     "name": "#%%\n"
    }
   }
  },
  {
   "cell_type": "code",
   "execution_count": 11,
   "outputs": [
    {
     "data": {
      "text/plain": "4.991086802428146"
     },
     "execution_count": 11,
     "metadata": {},
     "output_type": "execute_result"
    }
   ],
   "source": [
    "df_train[\"microbusiness_density\"].mean()\n",
    "df_train[\"microbusiness_density\"].std()"
   ],
   "metadata": {
    "collapsed": false,
    "pycharm": {
     "name": "#%%\n"
    }
   }
  },
  {
   "cell_type": "code",
   "execution_count": 12,
   "outputs": [
    {
     "data": {
      "text/plain": "               cfips  microbusiness_density        active\ncount  122265.000000          122265.000000  1.222650e+05\nmean    30376.037640               3.817671  6.442858e+03\nstd     15143.508721               4.991087  3.304001e+04\nmin      1001.000000               0.000000  0.000000e+00\n25%     18177.000000               1.639344  1.450000e+02\n50%     29173.000000               2.586543  4.880000e+02\n75%     45077.000000               4.519231  2.124000e+03\nmax     56045.000000             284.340030  1.167744e+06",
      "text/html": "<div>\n<style scoped>\n    .dataframe tbody tr th:only-of-type {\n        vertical-align: middle;\n    }\n\n    .dataframe tbody tr th {\n        vertical-align: top;\n    }\n\n    .dataframe thead th {\n        text-align: right;\n    }\n</style>\n<table border=\"1\" class=\"dataframe\">\n  <thead>\n    <tr style=\"text-align: right;\">\n      <th></th>\n      <th>cfips</th>\n      <th>microbusiness_density</th>\n      <th>active</th>\n    </tr>\n  </thead>\n  <tbody>\n    <tr>\n      <th>count</th>\n      <td>122265.000000</td>\n      <td>122265.000000</td>\n      <td>1.222650e+05</td>\n    </tr>\n    <tr>\n      <th>mean</th>\n      <td>30376.037640</td>\n      <td>3.817671</td>\n      <td>6.442858e+03</td>\n    </tr>\n    <tr>\n      <th>std</th>\n      <td>15143.508721</td>\n      <td>4.991087</td>\n      <td>3.304001e+04</td>\n    </tr>\n    <tr>\n      <th>min</th>\n      <td>1001.000000</td>\n      <td>0.000000</td>\n      <td>0.000000e+00</td>\n    </tr>\n    <tr>\n      <th>25%</th>\n      <td>18177.000000</td>\n      <td>1.639344</td>\n      <td>1.450000e+02</td>\n    </tr>\n    <tr>\n      <th>50%</th>\n      <td>29173.000000</td>\n      <td>2.586543</td>\n      <td>4.880000e+02</td>\n    </tr>\n    <tr>\n      <th>75%</th>\n      <td>45077.000000</td>\n      <td>4.519231</td>\n      <td>2.124000e+03</td>\n    </tr>\n    <tr>\n      <th>max</th>\n      <td>56045.000000</td>\n      <td>284.340030</td>\n      <td>1.167744e+06</td>\n    </tr>\n  </tbody>\n</table>\n</div>"
     },
     "execution_count": 12,
     "metadata": {},
     "output_type": "execute_result"
    }
   ],
   "source": [
    "df_train.describe()"
   ],
   "metadata": {
    "collapsed": false,
    "pycharm": {
     "name": "#%%\n"
    }
   }
  },
  {
   "cell_type": "code",
   "execution_count": 13,
   "outputs": [],
   "source": [
    "\n",
    "df_census_reshaped[\"year\"]=pd.to_datetime(df_census_reshaped[\"year\"], format='%Y')"
   ],
   "metadata": {
    "collapsed": false,
    "pycharm": {
     "name": "#%%\n"
    }
   }
  },
  {
   "cell_type": "code",
   "execution_count": 14,
   "outputs": [],
   "source": [
    "df_train_update= pd.merge(df_train, df_census_reshaped, how='left', on=['year', 'cfips'])"
   ],
   "metadata": {
    "collapsed": false,
    "pycharm": {
     "name": "#%%\n"
    }
   }
  },
  {
   "cell_type": "code",
   "execution_count": 14,
   "outputs": [],
   "source": [],
   "metadata": {
    "collapsed": false,
    "pycharm": {
     "name": "#%%\n"
    }
   }
  },
  {
   "cell_type": "code",
   "execution_count": 14,
   "outputs": [],
   "source": [],
   "metadata": {
    "collapsed": false,
    "pycharm": {
     "name": "#%%\n"
    }
   }
  },
  {
   "cell_type": "code",
   "execution_count": 14,
   "outputs": [],
   "source": [],
   "metadata": {
    "collapsed": false,
    "pycharm": {
     "name": "#%%\n"
    }
   }
  }
 ],
 "metadata": {
  "kernelspec": {
   "display_name": "Python 3",
   "language": "python",
   "name": "python3"
  },
  "language_info": {
   "codemirror_mode": {
    "name": "ipython",
    "version": 2
   },
   "file_extension": ".py",
   "mimetype": "text/x-python",
   "name": "python",
   "nbconvert_exporter": "python",
   "pygments_lexer": "ipython2",
   "version": "2.7.6"
  }
 },
 "nbformat": 4,
 "nbformat_minor": 0
}