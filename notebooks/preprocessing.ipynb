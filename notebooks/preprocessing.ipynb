{
 "cells": [
  {
   "cell_type": "markdown",
   "source": [
    "## Preprocessing --GoDaddy"
   ],
   "metadata": {
    "collapsed": false,
    "pycharm": {
     "name": "#%% md\n"
    }
   }
  },
  {
   "cell_type": "code",
   "execution_count": 4,
   "outputs": [],
   "source": [
    "from constants import *\n",
    "import pandas as pd"
   ],
   "metadata": {
    "collapsed": false,
    "pycharm": {
     "name": "#%%\n"
    }
   }
  },
  {
   "cell_type": "code",
   "execution_count": 6,
   "outputs": [],
   "source": [
    "import pandas as pd"
   ],
   "metadata": {
    "collapsed": false,
    "pycharm": {
     "name": "#%%\n"
    }
   }
  },
  {
   "cell_type": "code",
   "execution_count": 24,
   "outputs": [
    {
     "name": "stdout",
     "output_type": "stream",
     "text": [
      "Renaming  pct_bb_2017  to pct_bb_2019\n",
      "Renaming  pct_college_2017  to pct_college_2019\n",
      "Renaming  pct_foreign_born_2017  to pct_foreign_born_2019\n",
      "Renaming  pct_it_workers_2017  to pct_it_workers_2019\n",
      "Renaming  median_hh_inc_2017  to median_hh_inc_2019\n",
      "Renaming  pct_bb_2018  to pct_bb_2020\n",
      "Renaming  pct_college_2018  to pct_college_2020\n",
      "Renaming  pct_foreign_born_2018  to pct_foreign_born_2020\n",
      "Renaming  pct_it_workers_2018  to pct_it_workers_2020\n",
      "Renaming  median_hh_inc_2018  to median_hh_inc_2020\n",
      "Renaming  pct_bb_2019  to pct_bb_2021\n",
      "Renaming  pct_college_2019  to pct_college_2021\n",
      "Renaming  pct_foreign_born_2019  to pct_foreign_born_2021\n",
      "Renaming  pct_it_workers_2019  to pct_it_workers_2021\n",
      "Renaming  median_hh_inc_2019  to median_hh_inc_2021\n",
      "Renaming  pct_bb_2020  to pct_bb_2022\n",
      "Renaming  pct_college_2020  to pct_college_2022\n",
      "Renaming  pct_foreign_born_2020  to pct_foreign_born_2022\n",
      "Renaming  pct_it_workers_2020  to pct_it_workers_2022\n",
      "Renaming  median_hh_inc_2020  to median_hh_inc_2022\n",
      "Renaming  pct_bb_2021  to pct_bb_2023\n",
      "Renaming  pct_college_2021  to pct_college_2023\n",
      "Renaming  pct_foreign_born_2021  to pct_foreign_born_2023\n",
      "Renaming  pct_it_workers_2021  to pct_it_workers_2023\n",
      "Renaming  median_hh_inc_2021  to median_hh_inc_2023\n"
     ]
    }
   ],
   "source": [
    "df_census= pd.read_csv(os.path.join(DATA_DIR, 'census_starter.csv'))\n",
    "\n",
    "new_names_map= {}\n",
    "for year in [2017,2018, 2019, 2020, 2021]:\n",
    "    for attribute in ['pct_bb','pct_college', 'pct_foreign_born','pct_it_workers','median_hh_inc']:\n",
    "        new_names_map[f\"{attribute}_{str(year)}\"]= f\"{attribute}_{str(year+2)}\"\n",
    "        print(\"Renaming \",f\"{attribute}_{str(year)}\",\" to\",f\"{attribute}_{str(year+2)}\")\n",
    "df_census= df_census.rename(columns=new_names_map)\n",
    "df_census.head()\n",
    "df_census.to_csv(os.path.join(DATA_DIR, 'census_starter_shifted.csv'))"
   ],
   "metadata": {
    "collapsed": false,
    "pycharm": {
     "name": "#%%\n"
    }
   }
  },
  {
   "cell_type": "code",
   "execution_count": 12,
   "outputs": [
    {
     "data": {
      "text/plain": "            row_id  cfips          county    state first_day_of_month  \\\n0  1001_2019-08-01   1001  Autauga County  Alabama         2019-08-01   \n1  1001_2019-09-01   1001  Autauga County  Alabama         2019-09-01   \n2  1001_2019-10-01   1001  Autauga County  Alabama         2019-10-01   \n3  1001_2019-11-01   1001  Autauga County  Alabama         2019-11-01   \n4  1001_2019-12-01   1001  Autauga County  Alabama         2019-12-01   \n\n   microbusiness_density  active       year  \n0               3.007682    1249 2019-01-01  \n1               2.884870    1198 2019-01-01  \n2               3.055843    1269 2019-01-01  \n3               2.993233    1243 2019-01-01  \n4               2.993233    1243 2019-01-01  ",
      "text/html": "<div>\n<style scoped>\n    .dataframe tbody tr th:only-of-type {\n        vertical-align: middle;\n    }\n\n    .dataframe tbody tr th {\n        vertical-align: top;\n    }\n\n    .dataframe thead th {\n        text-align: right;\n    }\n</style>\n<table border=\"1\" class=\"dataframe\">\n  <thead>\n    <tr style=\"text-align: right;\">\n      <th></th>\n      <th>row_id</th>\n      <th>cfips</th>\n      <th>county</th>\n      <th>state</th>\n      <th>first_day_of_month</th>\n      <th>microbusiness_density</th>\n      <th>active</th>\n      <th>year</th>\n    </tr>\n  </thead>\n  <tbody>\n    <tr>\n      <th>0</th>\n      <td>1001_2019-08-01</td>\n      <td>1001</td>\n      <td>Autauga County</td>\n      <td>Alabama</td>\n      <td>2019-08-01</td>\n      <td>3.007682</td>\n      <td>1249</td>\n      <td>2019-01-01</td>\n    </tr>\n    <tr>\n      <th>1</th>\n      <td>1001_2019-09-01</td>\n      <td>1001</td>\n      <td>Autauga County</td>\n      <td>Alabama</td>\n      <td>2019-09-01</td>\n      <td>2.884870</td>\n      <td>1198</td>\n      <td>2019-01-01</td>\n    </tr>\n    <tr>\n      <th>2</th>\n      <td>1001_2019-10-01</td>\n      <td>1001</td>\n      <td>Autauga County</td>\n      <td>Alabama</td>\n      <td>2019-10-01</td>\n      <td>3.055843</td>\n      <td>1269</td>\n      <td>2019-01-01</td>\n    </tr>\n    <tr>\n      <th>3</th>\n      <td>1001_2019-11-01</td>\n      <td>1001</td>\n      <td>Autauga County</td>\n      <td>Alabama</td>\n      <td>2019-11-01</td>\n      <td>2.993233</td>\n      <td>1243</td>\n      <td>2019-01-01</td>\n    </tr>\n    <tr>\n      <th>4</th>\n      <td>1001_2019-12-01</td>\n      <td>1001</td>\n      <td>Autauga County</td>\n      <td>Alabama</td>\n      <td>2019-12-01</td>\n      <td>2.993233</td>\n      <td>1243</td>\n      <td>2019-01-01</td>\n    </tr>\n  </tbody>\n</table>\n</div>"
     },
     "execution_count": 12,
     "metadata": {},
     "output_type": "execute_result"
    }
   ],
   "source": [],
   "metadata": {
    "collapsed": false,
    "pycharm": {
     "name": "#%%\n"
    }
   }
  },
  {
   "cell_type": "markdown",
   "source": [
    "## Reformatting census data"
   ],
   "metadata": {
    "collapsed": false,
    "pycharm": {
     "name": "#%% md\n"
    }
   }
  },
  {
   "cell_type": "code",
   "execution_count": 57,
   "outputs": [],
   "source": [
    "years= [2019,2020,2021,2022,2023]\n",
    "attributes= ['pct_bb','pct_college', 'pct_foreign_born','pct_it_workers','median_hh_inc']\n",
    "##Adding the attributes to the dataframe df_train, for month take the value of the corresponding year and cfips\n",
    "col_map = {}\n",
    "col_map[\"year\"] = []\n",
    "for year in years:\n",
    "    col_map[\"year\"] += [year] * df_census.shape[0]\n",
    "for attribute in attributes:\n",
    "    col_map[attribute] = []\n",
    "    for year in years:\n",
    "        col_map[attribute] += list(df_census[attribute+ '_' + str(year)])\n",
    "col_map[\"cfips\"] = list(df_census[\"cfips\"]) * len(years)\n",
    "df_census_reshaped = pd.DataFrame(col_map)\n",
    "\n",
    "\n",
    "# Fill in missing values with mean of the column for each cfips\n",
    "for column in df_census_reshaped.columns:\n",
    "    if column not in ['year', 'cfips']:\n",
    "        df_census_reshaped[column] = df_census_reshaped.groupby('cfips')[column].apply(lambda x: x.fillna(x.mean()))\n",
    "df_census_reshaped.to_csv(os.path.join(DATA_DIR,\"census_ae.csv\"), index=False)"
   ],
   "metadata": {
    "collapsed": false,
    "pycharm": {
     "name": "#%%\n"
    }
   }
  },
  {
   "cell_type": "code",
   "execution_count": 32,
   "outputs": [
    {
     "data": {
      "text/plain": "3142"
     },
     "execution_count": 32,
     "metadata": {},
     "output_type": "execute_result"
    }
   ],
   "source": [
    "# len(df_census_reshaped[\"cfips\"].unique())"
   ],
   "metadata": {
    "collapsed": false,
    "pycharm": {
     "name": "#%%\n"
    }
   }
  },
  {
   "cell_type": "markdown",
   "source": [
    "## Train test splitting of the data df_census_reshaped"
   ],
   "metadata": {
    "collapsed": false,
    "pycharm": {
     "name": "#%% md\n"
    }
   }
  },
  {
   "cell_type": "code",
   "execution_count": 58,
   "outputs": [],
   "source": [
    "from sklearn.model_selection import train_test_split\n",
    "## 80/20 split of df_census_reshaped and save to train_census_ae and train_census_ae_val\n",
    "df_train_census_ae, df_train_census_ae_val = train_test_split(df_census_reshaped, test_size=0.2, random_state=42)\n",
    "df_train_census_ae.to_csv(os.path.join(DATA_DIR, 'census_ae_train.csv'), index=False)\n",
    "df_train_census_ae_val.to_csv(os.path.join(DATA_DIR, 'census_ae_val.csv'), index=False)\n",
    "\n",
    "\n"
   ],
   "metadata": {
    "collapsed": false,
    "pycharm": {
     "name": "#%%\n"
    }
   }
  },
  {
   "cell_type": "code",
   "execution_count": 59,
   "outputs": [
    {
     "data": {
      "text/plain": "            row_id  cfips          county    state first_day_of_month  \\\n0  1001_2019-08-01   1001  Autauga County  Alabama         2019-08-01   \n1  1001_2019-09-01   1001  Autauga County  Alabama         2019-09-01   \n2  1001_2019-10-01   1001  Autauga County  Alabama         2019-10-01   \n3  1001_2019-11-01   1001  Autauga County  Alabama         2019-11-01   \n4  1001_2019-12-01   1001  Autauga County  Alabama         2019-12-01   \n\n   microbusiness_density  active       year  \n0               3.007682    1249 2019-01-01  \n1               2.884870    1198 2019-01-01  \n2               3.055843    1269 2019-01-01  \n3               2.993233    1243 2019-01-01  \n4               2.993233    1243 2019-01-01  ",
      "text/html": "<div>\n<style scoped>\n    .dataframe tbody tr th:only-of-type {\n        vertical-align: middle;\n    }\n\n    .dataframe tbody tr th {\n        vertical-align: top;\n    }\n\n    .dataframe thead th {\n        text-align: right;\n    }\n</style>\n<table border=\"1\" class=\"dataframe\">\n  <thead>\n    <tr style=\"text-align: right;\">\n      <th></th>\n      <th>row_id</th>\n      <th>cfips</th>\n      <th>county</th>\n      <th>state</th>\n      <th>first_day_of_month</th>\n      <th>microbusiness_density</th>\n      <th>active</th>\n      <th>year</th>\n    </tr>\n  </thead>\n  <tbody>\n    <tr>\n      <th>0</th>\n      <td>1001_2019-08-01</td>\n      <td>1001</td>\n      <td>Autauga County</td>\n      <td>Alabama</td>\n      <td>2019-08-01</td>\n      <td>3.007682</td>\n      <td>1249</td>\n      <td>2019-01-01</td>\n    </tr>\n    <tr>\n      <th>1</th>\n      <td>1001_2019-09-01</td>\n      <td>1001</td>\n      <td>Autauga County</td>\n      <td>Alabama</td>\n      <td>2019-09-01</td>\n      <td>2.884870</td>\n      <td>1198</td>\n      <td>2019-01-01</td>\n    </tr>\n    <tr>\n      <th>2</th>\n      <td>1001_2019-10-01</td>\n      <td>1001</td>\n      <td>Autauga County</td>\n      <td>Alabama</td>\n      <td>2019-10-01</td>\n      <td>3.055843</td>\n      <td>1269</td>\n      <td>2019-01-01</td>\n    </tr>\n    <tr>\n      <th>3</th>\n      <td>1001_2019-11-01</td>\n      <td>1001</td>\n      <td>Autauga County</td>\n      <td>Alabama</td>\n      <td>2019-11-01</td>\n      <td>2.993233</td>\n      <td>1243</td>\n      <td>2019-01-01</td>\n    </tr>\n    <tr>\n      <th>4</th>\n      <td>1001_2019-12-01</td>\n      <td>1001</td>\n      <td>Autauga County</td>\n      <td>Alabama</td>\n      <td>2019-12-01</td>\n      <td>2.993233</td>\n      <td>1243</td>\n      <td>2019-01-01</td>\n    </tr>\n  </tbody>\n</table>\n</div>"
     },
     "execution_count": 59,
     "metadata": {},
     "output_type": "execute_result"
    }
   ],
   "source": [
    "\n",
    "df_train= pd.read_csv(os.path.join(DATA_DIR, 'train.csv'))\n",
    "df_train['year']=pd.to_datetime(df_train['first_day_of_month'].str.split(\"-\", expand=True)[0])\n",
    "df_train.head()\n"
   ],
   "metadata": {
    "collapsed": false,
    "pycharm": {
     "name": "#%%\n"
    }
   }
  },
  {
   "cell_type": "code",
   "execution_count": 60,
   "outputs": [
    {
     "data": {
      "text/plain": "4.991086802428146"
     },
     "execution_count": 60,
     "metadata": {},
     "output_type": "execute_result"
    }
   ],
   "source": [
    "df_train[\"microbusiness_density\"].mean()\n",
    "df_train[\"microbusiness_density\"].std()"
   ],
   "metadata": {
    "collapsed": false,
    "pycharm": {
     "name": "#%%\n"
    }
   }
  },
  {
   "cell_type": "code",
   "execution_count": 54,
   "outputs": [
    {
     "data": {
      "text/plain": "               cfips  microbusiness_density        active\ncount  122265.000000          122265.000000  1.222650e+05\nmean    30376.037640               3.817671  6.442858e+03\nstd     15143.508721               4.991087  3.304001e+04\nmin      1001.000000               0.000000  0.000000e+00\n25%     18177.000000               1.639344  1.450000e+02\n50%     29173.000000               2.586543  4.880000e+02\n75%     45077.000000               4.519231  2.124000e+03\nmax     56045.000000             284.340030  1.167744e+06",
      "text/html": "<div>\n<style scoped>\n    .dataframe tbody tr th:only-of-type {\n        vertical-align: middle;\n    }\n\n    .dataframe tbody tr th {\n        vertical-align: top;\n    }\n\n    .dataframe thead th {\n        text-align: right;\n    }\n</style>\n<table border=\"1\" class=\"dataframe\">\n  <thead>\n    <tr style=\"text-align: right;\">\n      <th></th>\n      <th>cfips</th>\n      <th>microbusiness_density</th>\n      <th>active</th>\n    </tr>\n  </thead>\n  <tbody>\n    <tr>\n      <th>count</th>\n      <td>122265.000000</td>\n      <td>122265.000000</td>\n      <td>1.222650e+05</td>\n    </tr>\n    <tr>\n      <th>mean</th>\n      <td>30376.037640</td>\n      <td>3.817671</td>\n      <td>6.442858e+03</td>\n    </tr>\n    <tr>\n      <th>std</th>\n      <td>15143.508721</td>\n      <td>4.991087</td>\n      <td>3.304001e+04</td>\n    </tr>\n    <tr>\n      <th>min</th>\n      <td>1001.000000</td>\n      <td>0.000000</td>\n      <td>0.000000e+00</td>\n    </tr>\n    <tr>\n      <th>25%</th>\n      <td>18177.000000</td>\n      <td>1.639344</td>\n      <td>1.450000e+02</td>\n    </tr>\n    <tr>\n      <th>50%</th>\n      <td>29173.000000</td>\n      <td>2.586543</td>\n      <td>4.880000e+02</td>\n    </tr>\n    <tr>\n      <th>75%</th>\n      <td>45077.000000</td>\n      <td>4.519231</td>\n      <td>2.124000e+03</td>\n    </tr>\n    <tr>\n      <th>max</th>\n      <td>56045.000000</td>\n      <td>284.340030</td>\n      <td>1.167744e+06</td>\n    </tr>\n  </tbody>\n</table>\n</div>"
     },
     "execution_count": 54,
     "metadata": {},
     "output_type": "execute_result"
    }
   ],
   "source": [
    "df_train.describe()"
   ],
   "metadata": {
    "collapsed": false,
    "pycharm": {
     "name": "#%%\n"
    }
   }
  },
  {
   "cell_type": "code",
   "execution_count": 66,
   "outputs": [],
   "source": [
    "\n",
    "df_census_reshaped[\"year\"]=pd.to_datetime(df_census_reshaped[\"year\"], format='%Y')"
   ],
   "metadata": {
    "collapsed": false,
    "pycharm": {
     "name": "#%%\n"
    }
   }
  },
  {
   "cell_type": "code",
   "execution_count": 68,
   "outputs": [],
   "source": [
    "df_train_update= pd.merge(df_train, df_census_reshaped, how='left', on=['year', 'cfips'])"
   ],
   "metadata": {
    "collapsed": false,
    "pycharm": {
     "name": "#%%\n"
    }
   }
  },
  {
   "cell_type": "code",
   "execution_count": 69,
   "outputs": [
    {
     "data": {
      "text/plain": "               cfips  microbusiness_density        active         pct_bb  \\\ncount  122265.000000          122265.000000  1.222650e+05  122265.000000   \nmean    30376.037640               3.817671  6.442858e+03      74.686369   \nstd     15143.508721               4.991087  3.304001e+04       9.374487   \nmin      1001.000000               0.000000  0.000000e+00      24.500000   \n25%     18177.000000               1.639344  1.450000e+02      69.300000   \n50%     29173.000000               2.586543  4.880000e+02      75.800000   \n75%     45077.000000               4.519231  2.124000e+03      81.200000   \nmax     56045.000000             284.340030  1.167744e+06      97.100000   \n\n         pct_college  pct_foreign_born  pct_it_workers  median_hh_inc  \ncount  122265.000000     122265.000000   122265.000000  122265.000000  \nmean       14.220153          4.744932        1.355765   52830.752165  \nstd         5.685812          5.711121        0.960021   14128.755489  \nmin         0.000000          0.000000        0.000000   19264.000000  \n25%        10.100000          1.400000        0.700000   43507.000000  \n50%        13.200000          2.700000        1.200000   51094.000000  \n75%        17.300000          5.700000        1.800000   59230.000000  \nmax        48.000000         54.000000       17.400000  147111.000000  ",
      "text/html": "<div>\n<style scoped>\n    .dataframe tbody tr th:only-of-type {\n        vertical-align: middle;\n    }\n\n    .dataframe tbody tr th {\n        vertical-align: top;\n    }\n\n    .dataframe thead th {\n        text-align: right;\n    }\n</style>\n<table border=\"1\" class=\"dataframe\">\n  <thead>\n    <tr style=\"text-align: right;\">\n      <th></th>\n      <th>cfips</th>\n      <th>microbusiness_density</th>\n      <th>active</th>\n      <th>pct_bb</th>\n      <th>pct_college</th>\n      <th>pct_foreign_born</th>\n      <th>pct_it_workers</th>\n      <th>median_hh_inc</th>\n    </tr>\n  </thead>\n  <tbody>\n    <tr>\n      <th>count</th>\n      <td>122265.000000</td>\n      <td>122265.000000</td>\n      <td>1.222650e+05</td>\n      <td>122265.000000</td>\n      <td>122265.000000</td>\n      <td>122265.000000</td>\n      <td>122265.000000</td>\n      <td>122265.000000</td>\n    </tr>\n    <tr>\n      <th>mean</th>\n      <td>30376.037640</td>\n      <td>3.817671</td>\n      <td>6.442858e+03</td>\n      <td>74.686369</td>\n      <td>14.220153</td>\n      <td>4.744932</td>\n      <td>1.355765</td>\n      <td>52830.752165</td>\n    </tr>\n    <tr>\n      <th>std</th>\n      <td>15143.508721</td>\n      <td>4.991087</td>\n      <td>3.304001e+04</td>\n      <td>9.374487</td>\n      <td>5.685812</td>\n      <td>5.711121</td>\n      <td>0.960021</td>\n      <td>14128.755489</td>\n    </tr>\n    <tr>\n      <th>min</th>\n      <td>1001.000000</td>\n      <td>0.000000</td>\n      <td>0.000000e+00</td>\n      <td>24.500000</td>\n      <td>0.000000</td>\n      <td>0.000000</td>\n      <td>0.000000</td>\n      <td>19264.000000</td>\n    </tr>\n    <tr>\n      <th>25%</th>\n      <td>18177.000000</td>\n      <td>1.639344</td>\n      <td>1.450000e+02</td>\n      <td>69.300000</td>\n      <td>10.100000</td>\n      <td>1.400000</td>\n      <td>0.700000</td>\n      <td>43507.000000</td>\n    </tr>\n    <tr>\n      <th>50%</th>\n      <td>29173.000000</td>\n      <td>2.586543</td>\n      <td>4.880000e+02</td>\n      <td>75.800000</td>\n      <td>13.200000</td>\n      <td>2.700000</td>\n      <td>1.200000</td>\n      <td>51094.000000</td>\n    </tr>\n    <tr>\n      <th>75%</th>\n      <td>45077.000000</td>\n      <td>4.519231</td>\n      <td>2.124000e+03</td>\n      <td>81.200000</td>\n      <td>17.300000</td>\n      <td>5.700000</td>\n      <td>1.800000</td>\n      <td>59230.000000</td>\n    </tr>\n    <tr>\n      <th>max</th>\n      <td>56045.000000</td>\n      <td>284.340030</td>\n      <td>1.167744e+06</td>\n      <td>97.100000</td>\n      <td>48.000000</td>\n      <td>54.000000</td>\n      <td>17.400000</td>\n      <td>147111.000000</td>\n    </tr>\n  </tbody>\n</table>\n</div>"
     },
     "execution_count": 69,
     "metadata": {},
     "output_type": "execute_result"
    }
   ],
   "source": [
    "df"
   ],
   "metadata": {
    "collapsed": false,
    "pycharm": {
     "name": "#%%\n"
    }
   }
  },
  {
   "cell_type": "code",
   "execution_count": null,
   "outputs": [],
   "source": [],
   "metadata": {
    "collapsed": false,
    "pycharm": {
     "name": "#%%\n"
    }
   }
  }
 ],
 "metadata": {
  "kernelspec": {
   "display_name": "Python 3",
   "language": "python",
   "name": "python3"
  },
  "language_info": {
   "codemirror_mode": {
    "name": "ipython",
    "version": 2
   },
   "file_extension": ".py",
   "mimetype": "text/x-python",
   "name": "python",
   "nbconvert_exporter": "python",
   "pygments_lexer": "ipython2",
   "version": "2.7.6"
  }
 },
 "nbformat": 4,
 "nbformat_minor": 0
}