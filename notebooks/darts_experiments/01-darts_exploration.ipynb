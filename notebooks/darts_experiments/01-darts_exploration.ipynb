{
 "cells": [
  {
   "cell_type": "markdown",
   "source": [
    "# Exploration of the data and fast modeling"
   ],
   "metadata": {
    "collapsed": false
   }
  },
  {
   "cell_type": "code",
   "execution_count": 29,
   "outputs": [],
   "source": [
    "import pandas as pd\n",
    "import numpy as np\n",
    "import random\n",
    "from tqdm import tqdm\n",
    "from darts.metrics import mape, smape\n",
    "from darts.utils.statistics import plot_acf, check_seasonality\n",
    "from darts.utils.timeseries_generation import linear_timeseries, sine_timeseries\n",
    "from darts import TimeSeries\n",
    "import category_encoders as ce\n",
    "import logging"
   ],
   "metadata": {
    "collapsed": false
   }
  },
  {
   "cell_type": "markdown",
   "source": [
    "### Useful functions"
   ],
   "metadata": {
    "collapsed": false
   }
  },
  {
   "cell_type": "code",
   "execution_count": 2,
   "outputs": [],
   "source": [
    "# calculate the smape\n",
    "def compute_smape(y_true, y_pred):\n",
    "\n",
    "    if not (isinstance(y_true, np.ndarray) and isinstance(y_pred, np.ndarray)):\n",
    "        y_true, y_pred = np.array(y_true), np.array(y_pred)\n",
    "\n",
    "    return round(np.mean(\n",
    "        np.abs(y_pred - y_true) /\n",
    "        ((np.abs(y_pred) + np.abs(y_true))/2)\n",
    "    )*100, 3)# some configuration\n"
   ],
   "metadata": {
    "collapsed": false
   }
  },
  {
   "cell_type": "markdown",
   "source": [
    "### Load data"
   ],
   "metadata": {
    "collapsed": false
   }
  },
  {
   "cell_type": "code",
   "execution_count": 3,
   "outputs": [
    {
     "data": {
      "text/plain": "            row_id  cfips          county    state first_day_of_month  \\\n0  1001_2019-08-01   1001  Autauga County  Alabama         2019-08-01   \n1  1001_2019-09-01   1001  Autauga County  Alabama         2019-09-01   \n2  1001_2019-10-01   1001  Autauga County  Alabama         2019-10-01   \n3  1001_2019-11-01   1001  Autauga County  Alabama         2019-11-01   \n4  1001_2019-12-01   1001  Autauga County  Alabama         2019-12-01   \n\n   microbusiness_density  active  \n0               3.007682    1249  \n1               2.884870    1198  \n2               3.055843    1269  \n3               2.993233    1243  \n4               2.993233    1243  ",
      "text/html": "<div>\n<style scoped>\n    .dataframe tbody tr th:only-of-type {\n        vertical-align: middle;\n    }\n\n    .dataframe tbody tr th {\n        vertical-align: top;\n    }\n\n    .dataframe thead th {\n        text-align: right;\n    }\n</style>\n<table border=\"1\" class=\"dataframe\">\n  <thead>\n    <tr style=\"text-align: right;\">\n      <th></th>\n      <th>row_id</th>\n      <th>cfips</th>\n      <th>county</th>\n      <th>state</th>\n      <th>first_day_of_month</th>\n      <th>microbusiness_density</th>\n      <th>active</th>\n    </tr>\n  </thead>\n  <tbody>\n    <tr>\n      <th>0</th>\n      <td>1001_2019-08-01</td>\n      <td>1001</td>\n      <td>Autauga County</td>\n      <td>Alabama</td>\n      <td>2019-08-01</td>\n      <td>3.007682</td>\n      <td>1249</td>\n    </tr>\n    <tr>\n      <th>1</th>\n      <td>1001_2019-09-01</td>\n      <td>1001</td>\n      <td>Autauga County</td>\n      <td>Alabama</td>\n      <td>2019-09-01</td>\n      <td>2.884870</td>\n      <td>1198</td>\n    </tr>\n    <tr>\n      <th>2</th>\n      <td>1001_2019-10-01</td>\n      <td>1001</td>\n      <td>Autauga County</td>\n      <td>Alabama</td>\n      <td>2019-10-01</td>\n      <td>3.055843</td>\n      <td>1269</td>\n    </tr>\n    <tr>\n      <th>3</th>\n      <td>1001_2019-11-01</td>\n      <td>1001</td>\n      <td>Autauga County</td>\n      <td>Alabama</td>\n      <td>2019-11-01</td>\n      <td>2.993233</td>\n      <td>1243</td>\n    </tr>\n    <tr>\n      <th>4</th>\n      <td>1001_2019-12-01</td>\n      <td>1001</td>\n      <td>Autauga County</td>\n      <td>Alabama</td>\n      <td>2019-12-01</td>\n      <td>2.993233</td>\n      <td>1243</td>\n    </tr>\n  </tbody>\n</table>\n</div>"
     },
     "execution_count": 3,
     "metadata": {},
     "output_type": "execute_result"
    }
   ],
   "source": [
    "series_train_data = pd.read_csv('../../data/godaddy-microbusiness-density-forecasting/train.csv')\n",
    "series_test_data = pd.read_csv('../../data/godaddy-microbusiness-density-forecasting/test.csv')\n",
    "census_data = pd.read_csv('../../data/godaddy-microbusiness-density-forecasting/census_ae.csv')\n",
    "\n",
    "series_train_data.head()"
   ],
   "metadata": {
    "collapsed": false
   }
  },
  {
   "cell_type": "code",
   "execution_count": 4,
   "outputs": [
    {
     "data": {
      "text/plain": "            row_id  cfips first_day_of_month\n0  1001_2022-11-01   1001         2022-11-01\n1  1003_2022-11-01   1003         2022-11-01\n2  1005_2022-11-01   1005         2022-11-01\n3  1007_2022-11-01   1007         2022-11-01\n4  1009_2022-11-01   1009         2022-11-01",
      "text/html": "<div>\n<style scoped>\n    .dataframe tbody tr th:only-of-type {\n        vertical-align: middle;\n    }\n\n    .dataframe tbody tr th {\n        vertical-align: top;\n    }\n\n    .dataframe thead th {\n        text-align: right;\n    }\n</style>\n<table border=\"1\" class=\"dataframe\">\n  <thead>\n    <tr style=\"text-align: right;\">\n      <th></th>\n      <th>row_id</th>\n      <th>cfips</th>\n      <th>first_day_of_month</th>\n    </tr>\n  </thead>\n  <tbody>\n    <tr>\n      <th>0</th>\n      <td>1001_2022-11-01</td>\n      <td>1001</td>\n      <td>2022-11-01</td>\n    </tr>\n    <tr>\n      <th>1</th>\n      <td>1003_2022-11-01</td>\n      <td>1003</td>\n      <td>2022-11-01</td>\n    </tr>\n    <tr>\n      <th>2</th>\n      <td>1005_2022-11-01</td>\n      <td>1005</td>\n      <td>2022-11-01</td>\n    </tr>\n    <tr>\n      <th>3</th>\n      <td>1007_2022-11-01</td>\n      <td>1007</td>\n      <td>2022-11-01</td>\n    </tr>\n    <tr>\n      <th>4</th>\n      <td>1009_2022-11-01</td>\n      <td>1009</td>\n      <td>2022-11-01</td>\n    </tr>\n  </tbody>\n</table>\n</div>"
     },
     "execution_count": 4,
     "metadata": {},
     "output_type": "execute_result"
    }
   ],
   "source": [
    "series_test_data.head()"
   ],
   "metadata": {
    "collapsed": false
   }
  },
  {
   "cell_type": "code",
   "execution_count": 5,
   "outputs": [
    {
     "data": {
      "text/plain": "   year  pct_bb  pct_college  pct_foreign_born  pct_it_workers  median_hh_inc  \\\n0  2019    76.6         14.5               2.1             1.3        55317.0   \n1  2019    74.5         20.4               3.2             1.4        52562.0   \n2  2019    57.2          7.6               2.7             0.5        33368.0   \n3  2019    62.0          8.1               1.0             1.2        43404.0   \n4  2019    65.8          8.7               4.5             1.3        47412.0   \n\n   cfips  \n0   1001  \n1   1003  \n2   1005  \n3   1007  \n4   1009  ",
      "text/html": "<div>\n<style scoped>\n    .dataframe tbody tr th:only-of-type {\n        vertical-align: middle;\n    }\n\n    .dataframe tbody tr th {\n        vertical-align: top;\n    }\n\n    .dataframe thead th {\n        text-align: right;\n    }\n</style>\n<table border=\"1\" class=\"dataframe\">\n  <thead>\n    <tr style=\"text-align: right;\">\n      <th></th>\n      <th>year</th>\n      <th>pct_bb</th>\n      <th>pct_college</th>\n      <th>pct_foreign_born</th>\n      <th>pct_it_workers</th>\n      <th>median_hh_inc</th>\n      <th>cfips</th>\n    </tr>\n  </thead>\n  <tbody>\n    <tr>\n      <th>0</th>\n      <td>2019</td>\n      <td>76.6</td>\n      <td>14.5</td>\n      <td>2.1</td>\n      <td>1.3</td>\n      <td>55317.0</td>\n      <td>1001</td>\n    </tr>\n    <tr>\n      <th>1</th>\n      <td>2019</td>\n      <td>74.5</td>\n      <td>20.4</td>\n      <td>3.2</td>\n      <td>1.4</td>\n      <td>52562.0</td>\n      <td>1003</td>\n    </tr>\n    <tr>\n      <th>2</th>\n      <td>2019</td>\n      <td>57.2</td>\n      <td>7.6</td>\n      <td>2.7</td>\n      <td>0.5</td>\n      <td>33368.0</td>\n      <td>1005</td>\n    </tr>\n    <tr>\n      <th>3</th>\n      <td>2019</td>\n      <td>62.0</td>\n      <td>8.1</td>\n      <td>1.0</td>\n      <td>1.2</td>\n      <td>43404.0</td>\n      <td>1007</td>\n    </tr>\n    <tr>\n      <th>4</th>\n      <td>2019</td>\n      <td>65.8</td>\n      <td>8.7</td>\n      <td>4.5</td>\n      <td>1.3</td>\n      <td>47412.0</td>\n      <td>1009</td>\n    </tr>\n  </tbody>\n</table>\n</div>"
     },
     "execution_count": 5,
     "metadata": {},
     "output_type": "execute_result"
    }
   ],
   "source": [
    "census_data.head()"
   ],
   "metadata": {
    "collapsed": false
   }
  },
  {
   "cell_type": "markdown",
   "source": [
    "###  Merge all data"
   ],
   "metadata": {
    "collapsed": false
   }
  },
  {
   "cell_type": "code",
   "execution_count": 6,
   "outputs": [],
   "source": [
    "# add a column source in train and test\n",
    "series_train_data['source'] = 'train'\n",
    "series_test_data['source'] = 'test'"
   ],
   "metadata": {
    "collapsed": false
   }
  },
  {
   "cell_type": "code",
   "execution_count": 7,
   "outputs": [],
   "source": [
    "# merge train and test\n",
    "series_data = pd.concat([series_train_data, series_test_data], axis=0)"
   ],
   "metadata": {
    "collapsed": false
   }
  },
  {
   "cell_type": "code",
   "execution_count": 8,
   "outputs": [
    {
     "data": {
      "text/plain": "                  row_id  cfips          county           state  \\\n5121    37199_2022-12-01  37199             NaN             NaN   \n76920   37171_2020-08-01  37171    Surry County  North Carolina   \n93790   46093_2022-06-01  46093    Meade County    South Dakota   \n118794  55013_2019-08-01  55013  Burnett County       Wisconsin   \n37678   20161_2019-12-01  20161    Riley County          Kansas   \n\n       first_day_of_month  microbusiness_density  active source  \n5121           2022-12-01                    NaN     NaN   test  \n76920          2020-08-01               3.380770  1910.0  train  \n93790          2022-06-01               5.331492  1158.0  train  \n118794         2019-08-01               2.371795   296.0  train  \n37678          2019-12-01               5.378344  3384.0  train  ",
      "text/html": "<div>\n<style scoped>\n    .dataframe tbody tr th:only-of-type {\n        vertical-align: middle;\n    }\n\n    .dataframe tbody tr th {\n        vertical-align: top;\n    }\n\n    .dataframe thead th {\n        text-align: right;\n    }\n</style>\n<table border=\"1\" class=\"dataframe\">\n  <thead>\n    <tr style=\"text-align: right;\">\n      <th></th>\n      <th>row_id</th>\n      <th>cfips</th>\n      <th>county</th>\n      <th>state</th>\n      <th>first_day_of_month</th>\n      <th>microbusiness_density</th>\n      <th>active</th>\n      <th>source</th>\n    </tr>\n  </thead>\n  <tbody>\n    <tr>\n      <th>5121</th>\n      <td>37199_2022-12-01</td>\n      <td>37199</td>\n      <td>NaN</td>\n      <td>NaN</td>\n      <td>2022-12-01</td>\n      <td>NaN</td>\n      <td>NaN</td>\n      <td>test</td>\n    </tr>\n    <tr>\n      <th>76920</th>\n      <td>37171_2020-08-01</td>\n      <td>37171</td>\n      <td>Surry County</td>\n      <td>North Carolina</td>\n      <td>2020-08-01</td>\n      <td>3.380770</td>\n      <td>1910.0</td>\n      <td>train</td>\n    </tr>\n    <tr>\n      <th>93790</th>\n      <td>46093_2022-06-01</td>\n      <td>46093</td>\n      <td>Meade County</td>\n      <td>South Dakota</td>\n      <td>2022-06-01</td>\n      <td>5.331492</td>\n      <td>1158.0</td>\n      <td>train</td>\n    </tr>\n    <tr>\n      <th>118794</th>\n      <td>55013_2019-08-01</td>\n      <td>55013</td>\n      <td>Burnett County</td>\n      <td>Wisconsin</td>\n      <td>2019-08-01</td>\n      <td>2.371795</td>\n      <td>296.0</td>\n      <td>train</td>\n    </tr>\n    <tr>\n      <th>37678</th>\n      <td>20161_2019-12-01</td>\n      <td>20161</td>\n      <td>Riley County</td>\n      <td>Kansas</td>\n      <td>2019-12-01</td>\n      <td>5.378344</td>\n      <td>3384.0</td>\n      <td>train</td>\n    </tr>\n  </tbody>\n</table>\n</div>"
     },
     "execution_count": 8,
     "metadata": {},
     "output_type": "execute_result"
    }
   ],
   "source": [
    "series_data.sample(5)"
   ],
   "metadata": {
    "collapsed": false
   }
  },
  {
   "cell_type": "code",
   "execution_count": 9,
   "outputs": [
    {
     "data": {
      "text/plain": "array([2019, 2020, 2021, 2022, 2023], dtype=int64)"
     },
     "execution_count": 9,
     "metadata": {},
     "output_type": "execute_result"
    }
   ],
   "source": [
    "census_data['year'].unique()"
   ],
   "metadata": {
    "collapsed": false
   }
  },
  {
   "cell_type": "code",
   "execution_count": 10,
   "outputs": [
    {
     "data": {
      "text/plain": "array([2019, 2020, 2021, 2022, 2023], dtype=int64)"
     },
     "execution_count": 10,
     "metadata": {},
     "output_type": "execute_result"
    }
   ],
   "source": [
    "# extract year from first_day_of_month column\n",
    "\n",
    "series_data['year'] = series_data['first_day_of_month'].apply(lambda x: int(x.split('-')[0]))\n",
    "series_data['year'].unique()"
   ],
   "metadata": {
    "collapsed": false
   }
  },
  {
   "cell_type": "code",
   "execution_count": 11,
   "outputs": [
    {
     "data": {
      "text/plain": "(147345, 9)"
     },
     "execution_count": 11,
     "metadata": {},
     "output_type": "execute_result"
    }
   ],
   "source": [
    "series_data.shape"
   ],
   "metadata": {
    "collapsed": false
   }
  },
  {
   "cell_type": "code",
   "execution_count": 12,
   "outputs": [
    {
     "data": {
      "text/plain": "                  row_id  cfips          county    state first_day_of_month  \\\n0        1001_2019-08-01   1001  Autauga County  Alabama         2019-08-01   \n1        1001_2019-09-01   1001  Autauga County  Alabama         2019-09-01   \n2        1001_2019-10-01   1001  Autauga County  Alabama         2019-10-01   \n3        1001_2019-11-01   1001  Autauga County  Alabama         2019-11-01   \n4        1001_2019-12-01   1001  Autauga County  Alabama         2019-12-01   \n...                  ...    ...             ...      ...                ...   \n147340  56037_2023-06-01  56037             NaN      NaN         2023-06-01   \n147341  56039_2023-06-01  56039             NaN      NaN         2023-06-01   \n147342  56041_2023-06-01  56041             NaN      NaN         2023-06-01   \n147343  56043_2023-06-01  56043             NaN      NaN         2023-06-01   \n147344  56045_2023-06-01  56045             NaN      NaN         2023-06-01   \n\n        microbusiness_density  active source  year  pct_bb  pct_college  \\\n0                    3.007682  1249.0  train  2019    76.6         14.5   \n1                    2.884870  1198.0  train  2019    76.6         14.5   \n2                    3.055843  1269.0  train  2019    76.6         14.5   \n3                    2.993233  1243.0  train  2019    76.6         14.5   \n4                    2.993233  1243.0  train  2019    76.6         14.5   \n...                       ...     ...    ...   ...     ...          ...   \n147340                    NaN     NaN   test  2023    88.4         12.4   \n147341                    NaN     NaN   test  2023    90.5         38.3   \n147342                    NaN     NaN   test  2023    90.6         12.3   \n147343                    NaN     NaN   test  2023    85.4         17.2   \n147344                    NaN     NaN   test  2023    81.3         13.9   \n\n        pct_foreign_born  pct_it_workers  median_hh_inc  \n0                    2.1             1.3        55317.0  \n1                    2.1             1.3        55317.0  \n2                    2.1             1.3        55317.0  \n3                    2.1             1.3        55317.0  \n4                    2.1             1.3        55317.0  \n...                  ...             ...            ...  \n147340               5.5             1.0        76668.0  \n147341              11.1             2.0        94498.0  \n147342               2.9             0.9        75106.0  \n147343               1.0             1.1        62271.0  \n147344               1.6             0.0        65566.0  \n\n[147345 rows x 14 columns]",
      "text/html": "<div>\n<style scoped>\n    .dataframe tbody tr th:only-of-type {\n        vertical-align: middle;\n    }\n\n    .dataframe tbody tr th {\n        vertical-align: top;\n    }\n\n    .dataframe thead th {\n        text-align: right;\n    }\n</style>\n<table border=\"1\" class=\"dataframe\">\n  <thead>\n    <tr style=\"text-align: right;\">\n      <th></th>\n      <th>row_id</th>\n      <th>cfips</th>\n      <th>county</th>\n      <th>state</th>\n      <th>first_day_of_month</th>\n      <th>microbusiness_density</th>\n      <th>active</th>\n      <th>source</th>\n      <th>year</th>\n      <th>pct_bb</th>\n      <th>pct_college</th>\n      <th>pct_foreign_born</th>\n      <th>pct_it_workers</th>\n      <th>median_hh_inc</th>\n    </tr>\n  </thead>\n  <tbody>\n    <tr>\n      <th>0</th>\n      <td>1001_2019-08-01</td>\n      <td>1001</td>\n      <td>Autauga County</td>\n      <td>Alabama</td>\n      <td>2019-08-01</td>\n      <td>3.007682</td>\n      <td>1249.0</td>\n      <td>train</td>\n      <td>2019</td>\n      <td>76.6</td>\n      <td>14.5</td>\n      <td>2.1</td>\n      <td>1.3</td>\n      <td>55317.0</td>\n    </tr>\n    <tr>\n      <th>1</th>\n      <td>1001_2019-09-01</td>\n      <td>1001</td>\n      <td>Autauga County</td>\n      <td>Alabama</td>\n      <td>2019-09-01</td>\n      <td>2.884870</td>\n      <td>1198.0</td>\n      <td>train</td>\n      <td>2019</td>\n      <td>76.6</td>\n      <td>14.5</td>\n      <td>2.1</td>\n      <td>1.3</td>\n      <td>55317.0</td>\n    </tr>\n    <tr>\n      <th>2</th>\n      <td>1001_2019-10-01</td>\n      <td>1001</td>\n      <td>Autauga County</td>\n      <td>Alabama</td>\n      <td>2019-10-01</td>\n      <td>3.055843</td>\n      <td>1269.0</td>\n      <td>train</td>\n      <td>2019</td>\n      <td>76.6</td>\n      <td>14.5</td>\n      <td>2.1</td>\n      <td>1.3</td>\n      <td>55317.0</td>\n    </tr>\n    <tr>\n      <th>3</th>\n      <td>1001_2019-11-01</td>\n      <td>1001</td>\n      <td>Autauga County</td>\n      <td>Alabama</td>\n      <td>2019-11-01</td>\n      <td>2.993233</td>\n      <td>1243.0</td>\n      <td>train</td>\n      <td>2019</td>\n      <td>76.6</td>\n      <td>14.5</td>\n      <td>2.1</td>\n      <td>1.3</td>\n      <td>55317.0</td>\n    </tr>\n    <tr>\n      <th>4</th>\n      <td>1001_2019-12-01</td>\n      <td>1001</td>\n      <td>Autauga County</td>\n      <td>Alabama</td>\n      <td>2019-12-01</td>\n      <td>2.993233</td>\n      <td>1243.0</td>\n      <td>train</td>\n      <td>2019</td>\n      <td>76.6</td>\n      <td>14.5</td>\n      <td>2.1</td>\n      <td>1.3</td>\n      <td>55317.0</td>\n    </tr>\n    <tr>\n      <th>...</th>\n      <td>...</td>\n      <td>...</td>\n      <td>...</td>\n      <td>...</td>\n      <td>...</td>\n      <td>...</td>\n      <td>...</td>\n      <td>...</td>\n      <td>...</td>\n      <td>...</td>\n      <td>...</td>\n      <td>...</td>\n      <td>...</td>\n      <td>...</td>\n    </tr>\n    <tr>\n      <th>147340</th>\n      <td>56037_2023-06-01</td>\n      <td>56037</td>\n      <td>NaN</td>\n      <td>NaN</td>\n      <td>2023-06-01</td>\n      <td>NaN</td>\n      <td>NaN</td>\n      <td>test</td>\n      <td>2023</td>\n      <td>88.4</td>\n      <td>12.4</td>\n      <td>5.5</td>\n      <td>1.0</td>\n      <td>76668.0</td>\n    </tr>\n    <tr>\n      <th>147341</th>\n      <td>56039_2023-06-01</td>\n      <td>56039</td>\n      <td>NaN</td>\n      <td>NaN</td>\n      <td>2023-06-01</td>\n      <td>NaN</td>\n      <td>NaN</td>\n      <td>test</td>\n      <td>2023</td>\n      <td>90.5</td>\n      <td>38.3</td>\n      <td>11.1</td>\n      <td>2.0</td>\n      <td>94498.0</td>\n    </tr>\n    <tr>\n      <th>147342</th>\n      <td>56041_2023-06-01</td>\n      <td>56041</td>\n      <td>NaN</td>\n      <td>NaN</td>\n      <td>2023-06-01</td>\n      <td>NaN</td>\n      <td>NaN</td>\n      <td>test</td>\n      <td>2023</td>\n      <td>90.6</td>\n      <td>12.3</td>\n      <td>2.9</td>\n      <td>0.9</td>\n      <td>75106.0</td>\n    </tr>\n    <tr>\n      <th>147343</th>\n      <td>56043_2023-06-01</td>\n      <td>56043</td>\n      <td>NaN</td>\n      <td>NaN</td>\n      <td>2023-06-01</td>\n      <td>NaN</td>\n      <td>NaN</td>\n      <td>test</td>\n      <td>2023</td>\n      <td>85.4</td>\n      <td>17.2</td>\n      <td>1.0</td>\n      <td>1.1</td>\n      <td>62271.0</td>\n    </tr>\n    <tr>\n      <th>147344</th>\n      <td>56045_2023-06-01</td>\n      <td>56045</td>\n      <td>NaN</td>\n      <td>NaN</td>\n      <td>2023-06-01</td>\n      <td>NaN</td>\n      <td>NaN</td>\n      <td>test</td>\n      <td>2023</td>\n      <td>81.3</td>\n      <td>13.9</td>\n      <td>1.6</td>\n      <td>0.0</td>\n      <td>65566.0</td>\n    </tr>\n  </tbody>\n</table>\n<p>147345 rows × 14 columns</p>\n</div>"
     },
     "execution_count": 12,
     "metadata": {},
     "output_type": "execute_result"
    }
   ],
   "source": [
    "# merge series\n",
    "data = pd.merge(series_data, census_data, on=['cfips', 'year'], how='left')\n",
    "\n",
    "data"
   ],
   "metadata": {
    "collapsed": false
   }
  },
  {
   "cell_type": "code",
   "execution_count": 13,
   "outputs": [
    {
     "data": {
      "text/plain": "                  row_id  cfips county state first_day_of_month  \\\n147340  56037_2023-06-01  56037    NaN   NaN         2023-06-01   \n147341  56039_2023-06-01  56039    NaN   NaN         2023-06-01   \n147342  56041_2023-06-01  56041    NaN   NaN         2023-06-01   \n147343  56043_2023-06-01  56043    NaN   NaN         2023-06-01   \n147344  56045_2023-06-01  56045    NaN   NaN         2023-06-01   \n\n        microbusiness_density  active source  year  pct_bb  pct_college  \\\n147340                    NaN     NaN   test  2023    88.4         12.4   \n147341                    NaN     NaN   test  2023    90.5         38.3   \n147342                    NaN     NaN   test  2023    90.6         12.3   \n147343                    NaN     NaN   test  2023    85.4         17.2   \n147344                    NaN     NaN   test  2023    81.3         13.9   \n\n        pct_foreign_born  pct_it_workers  median_hh_inc  \n147340               5.5             1.0        76668.0  \n147341              11.1             2.0        94498.0  \n147342               2.9             0.9        75106.0  \n147343               1.0             1.1        62271.0  \n147344               1.6             0.0        65566.0  ",
      "text/html": "<div>\n<style scoped>\n    .dataframe tbody tr th:only-of-type {\n        vertical-align: middle;\n    }\n\n    .dataframe tbody tr th {\n        vertical-align: top;\n    }\n\n    .dataframe thead th {\n        text-align: right;\n    }\n</style>\n<table border=\"1\" class=\"dataframe\">\n  <thead>\n    <tr style=\"text-align: right;\">\n      <th></th>\n      <th>row_id</th>\n      <th>cfips</th>\n      <th>county</th>\n      <th>state</th>\n      <th>first_day_of_month</th>\n      <th>microbusiness_density</th>\n      <th>active</th>\n      <th>source</th>\n      <th>year</th>\n      <th>pct_bb</th>\n      <th>pct_college</th>\n      <th>pct_foreign_born</th>\n      <th>pct_it_workers</th>\n      <th>median_hh_inc</th>\n    </tr>\n  </thead>\n  <tbody>\n    <tr>\n      <th>147340</th>\n      <td>56037_2023-06-01</td>\n      <td>56037</td>\n      <td>NaN</td>\n      <td>NaN</td>\n      <td>2023-06-01</td>\n      <td>NaN</td>\n      <td>NaN</td>\n      <td>test</td>\n      <td>2023</td>\n      <td>88.4</td>\n      <td>12.4</td>\n      <td>5.5</td>\n      <td>1.0</td>\n      <td>76668.0</td>\n    </tr>\n    <tr>\n      <th>147341</th>\n      <td>56039_2023-06-01</td>\n      <td>56039</td>\n      <td>NaN</td>\n      <td>NaN</td>\n      <td>2023-06-01</td>\n      <td>NaN</td>\n      <td>NaN</td>\n      <td>test</td>\n      <td>2023</td>\n      <td>90.5</td>\n      <td>38.3</td>\n      <td>11.1</td>\n      <td>2.0</td>\n      <td>94498.0</td>\n    </tr>\n    <tr>\n      <th>147342</th>\n      <td>56041_2023-06-01</td>\n      <td>56041</td>\n      <td>NaN</td>\n      <td>NaN</td>\n      <td>2023-06-01</td>\n      <td>NaN</td>\n      <td>NaN</td>\n      <td>test</td>\n      <td>2023</td>\n      <td>90.6</td>\n      <td>12.3</td>\n      <td>2.9</td>\n      <td>0.9</td>\n      <td>75106.0</td>\n    </tr>\n    <tr>\n      <th>147343</th>\n      <td>56043_2023-06-01</td>\n      <td>56043</td>\n      <td>NaN</td>\n      <td>NaN</td>\n      <td>2023-06-01</td>\n      <td>NaN</td>\n      <td>NaN</td>\n      <td>test</td>\n      <td>2023</td>\n      <td>85.4</td>\n      <td>17.2</td>\n      <td>1.0</td>\n      <td>1.1</td>\n      <td>62271.0</td>\n    </tr>\n    <tr>\n      <th>147344</th>\n      <td>56045_2023-06-01</td>\n      <td>56045</td>\n      <td>NaN</td>\n      <td>NaN</td>\n      <td>2023-06-01</td>\n      <td>NaN</td>\n      <td>NaN</td>\n      <td>test</td>\n      <td>2023</td>\n      <td>81.3</td>\n      <td>13.9</td>\n      <td>1.6</td>\n      <td>0.0</td>\n      <td>65566.0</td>\n    </tr>\n  </tbody>\n</table>\n</div>"
     },
     "execution_count": 13,
     "metadata": {},
     "output_type": "execute_result"
    }
   ],
   "source": [
    "data.tail()"
   ],
   "metadata": {
    "collapsed": false
   }
  },
  {
   "cell_type": "code",
   "execution_count": 14,
   "outputs": [],
   "source": [
    "keep_col = [ 'source', 'row_id', 'cfips', 'first_day_of_month', 'microbusiness_density', 'pct_bb', 'pct_foreign_born', 'pct_it_workers', 'median_hh_inc']\n",
    "\n",
    "data = data[keep_col]"
   ],
   "metadata": {
    "collapsed": false
   }
  },
  {
   "cell_type": "code",
   "execution_count": 15,
   "outputs": [
    {
     "data": {
      "text/plain": "  source           row_id  cfips first_day_of_month  microbusiness_density  \\\n0  train  1001_2019-08-01   1001         2019-08-01               3.007682   \n1  train  1001_2019-09-01   1001         2019-09-01               2.884870   \n2  train  1001_2019-10-01   1001         2019-10-01               3.055843   \n3  train  1001_2019-11-01   1001         2019-11-01               2.993233   \n4  train  1001_2019-12-01   1001         2019-12-01               2.993233   \n\n   pct_bb  pct_foreign_born  pct_it_workers  median_hh_inc  \n0    76.6               2.1             1.3        55317.0  \n1    76.6               2.1             1.3        55317.0  \n2    76.6               2.1             1.3        55317.0  \n3    76.6               2.1             1.3        55317.0  \n4    76.6               2.1             1.3        55317.0  ",
      "text/html": "<div>\n<style scoped>\n    .dataframe tbody tr th:only-of-type {\n        vertical-align: middle;\n    }\n\n    .dataframe tbody tr th {\n        vertical-align: top;\n    }\n\n    .dataframe thead th {\n        text-align: right;\n    }\n</style>\n<table border=\"1\" class=\"dataframe\">\n  <thead>\n    <tr style=\"text-align: right;\">\n      <th></th>\n      <th>source</th>\n      <th>row_id</th>\n      <th>cfips</th>\n      <th>first_day_of_month</th>\n      <th>microbusiness_density</th>\n      <th>pct_bb</th>\n      <th>pct_foreign_born</th>\n      <th>pct_it_workers</th>\n      <th>median_hh_inc</th>\n    </tr>\n  </thead>\n  <tbody>\n    <tr>\n      <th>0</th>\n      <td>train</td>\n      <td>1001_2019-08-01</td>\n      <td>1001</td>\n      <td>2019-08-01</td>\n      <td>3.007682</td>\n      <td>76.6</td>\n      <td>2.1</td>\n      <td>1.3</td>\n      <td>55317.0</td>\n    </tr>\n    <tr>\n      <th>1</th>\n      <td>train</td>\n      <td>1001_2019-09-01</td>\n      <td>1001</td>\n      <td>2019-09-01</td>\n      <td>2.884870</td>\n      <td>76.6</td>\n      <td>2.1</td>\n      <td>1.3</td>\n      <td>55317.0</td>\n    </tr>\n    <tr>\n      <th>2</th>\n      <td>train</td>\n      <td>1001_2019-10-01</td>\n      <td>1001</td>\n      <td>2019-10-01</td>\n      <td>3.055843</td>\n      <td>76.6</td>\n      <td>2.1</td>\n      <td>1.3</td>\n      <td>55317.0</td>\n    </tr>\n    <tr>\n      <th>3</th>\n      <td>train</td>\n      <td>1001_2019-11-01</td>\n      <td>1001</td>\n      <td>2019-11-01</td>\n      <td>2.993233</td>\n      <td>76.6</td>\n      <td>2.1</td>\n      <td>1.3</td>\n      <td>55317.0</td>\n    </tr>\n    <tr>\n      <th>4</th>\n      <td>train</td>\n      <td>1001_2019-12-01</td>\n      <td>1001</td>\n      <td>2019-12-01</td>\n      <td>2.993233</td>\n      <td>76.6</td>\n      <td>2.1</td>\n      <td>1.3</td>\n      <td>55317.0</td>\n    </tr>\n  </tbody>\n</table>\n</div>"
     },
     "execution_count": 15,
     "metadata": {},
     "output_type": "execute_result"
    }
   ],
   "source": [
    "data.head()"
   ],
   "metadata": {
    "collapsed": false
   }
  },
  {
   "cell_type": "code",
   "execution_count": 16,
   "outputs": [
    {
     "name": "stderr",
     "output_type": "stream",
     "text": [
      "C:\\Users\\avomo\\AppData\\Local\\Temp\\ipykernel_9644\\3723858511.py:2: SettingWithCopyWarning: \n",
      "A value is trying to be set on a copy of a slice from a DataFrame.\n",
      "Try using .loc[row_indexer,col_indexer] = value instead\n",
      "\n",
      "See the caveats in the documentation: https://pandas.pydata.org/pandas-docs/stable/user_guide/indexing.html#returning-a-view-versus-a-copy\n",
      "  data['cfips_cat'] = data['cfips']\n"
     ]
    },
    {
     "data": {
      "text/plain": "  source           row_id  cfips first_day_of_month  microbusiness_density  \\\n0  train  1001_2019-08-01   1001         2019-08-01               3.007682   \n1  train  1001_2019-09-01   1001         2019-09-01               2.884870   \n2  train  1001_2019-10-01   1001         2019-10-01               3.055843   \n3  train  1001_2019-11-01   1001         2019-11-01               2.993233   \n4  train  1001_2019-12-01   1001         2019-12-01               2.993233   \n\n   pct_bb  pct_foreign_born  pct_it_workers  median_hh_inc  cfips_cat_0  \\\n0    76.6               2.1             1.3        55317.0            0   \n1    76.6               2.1             1.3        55317.0            0   \n2    76.6               2.1             1.3        55317.0            0   \n3    76.6               2.1             1.3        55317.0            0   \n4    76.6               2.1             1.3        55317.0            0   \n\n   cfips_cat_1  cfips_cat_2  cfips_cat_3  \n0            0            0            1  \n1            0            0            1  \n2            0            0            1  \n3            0            0            1  \n4            0            0            1  ",
      "text/html": "<div>\n<style scoped>\n    .dataframe tbody tr th:only-of-type {\n        vertical-align: middle;\n    }\n\n    .dataframe tbody tr th {\n        vertical-align: top;\n    }\n\n    .dataframe thead th {\n        text-align: right;\n    }\n</style>\n<table border=\"1\" class=\"dataframe\">\n  <thead>\n    <tr style=\"text-align: right;\">\n      <th></th>\n      <th>source</th>\n      <th>row_id</th>\n      <th>cfips</th>\n      <th>first_day_of_month</th>\n      <th>microbusiness_density</th>\n      <th>pct_bb</th>\n      <th>pct_foreign_born</th>\n      <th>pct_it_workers</th>\n      <th>median_hh_inc</th>\n      <th>cfips_cat_0</th>\n      <th>cfips_cat_1</th>\n      <th>cfips_cat_2</th>\n      <th>cfips_cat_3</th>\n    </tr>\n  </thead>\n  <tbody>\n    <tr>\n      <th>0</th>\n      <td>train</td>\n      <td>1001_2019-08-01</td>\n      <td>1001</td>\n      <td>2019-08-01</td>\n      <td>3.007682</td>\n      <td>76.6</td>\n      <td>2.1</td>\n      <td>1.3</td>\n      <td>55317.0</td>\n      <td>0</td>\n      <td>0</td>\n      <td>0</td>\n      <td>1</td>\n    </tr>\n    <tr>\n      <th>1</th>\n      <td>train</td>\n      <td>1001_2019-09-01</td>\n      <td>1001</td>\n      <td>2019-09-01</td>\n      <td>2.884870</td>\n      <td>76.6</td>\n      <td>2.1</td>\n      <td>1.3</td>\n      <td>55317.0</td>\n      <td>0</td>\n      <td>0</td>\n      <td>0</td>\n      <td>1</td>\n    </tr>\n    <tr>\n      <th>2</th>\n      <td>train</td>\n      <td>1001_2019-10-01</td>\n      <td>1001</td>\n      <td>2019-10-01</td>\n      <td>3.055843</td>\n      <td>76.6</td>\n      <td>2.1</td>\n      <td>1.3</td>\n      <td>55317.0</td>\n      <td>0</td>\n      <td>0</td>\n      <td>0</td>\n      <td>1</td>\n    </tr>\n    <tr>\n      <th>3</th>\n      <td>train</td>\n      <td>1001_2019-11-01</td>\n      <td>1001</td>\n      <td>2019-11-01</td>\n      <td>2.993233</td>\n      <td>76.6</td>\n      <td>2.1</td>\n      <td>1.3</td>\n      <td>55317.0</td>\n      <td>0</td>\n      <td>0</td>\n      <td>0</td>\n      <td>1</td>\n    </tr>\n    <tr>\n      <th>4</th>\n      <td>train</td>\n      <td>1001_2019-12-01</td>\n      <td>1001</td>\n      <td>2019-12-01</td>\n      <td>2.993233</td>\n      <td>76.6</td>\n      <td>2.1</td>\n      <td>1.3</td>\n      <td>55317.0</td>\n      <td>0</td>\n      <td>0</td>\n      <td>0</td>\n      <td>1</td>\n    </tr>\n  </tbody>\n</table>\n</div>"
     },
     "execution_count": 16,
     "metadata": {},
     "output_type": "execute_result"
    }
   ],
   "source": [
    "# encode data\n",
    "data['cfips_cat'] = data['cfips']\n",
    "\n",
    "data = ce.BaseNEncoder(cols=['cfips_cat'], base=10).fit_transform(data)\n",
    "\n",
    "data.head()"
   ],
   "metadata": {
    "collapsed": false
   }
  },
  {
   "cell_type": "code",
   "execution_count": 17,
   "outputs": [],
   "source": [
    "#data.to_pickle('../../data/merged_data.pickle')"
   ],
   "metadata": {
    "collapsed": false
   }
  },
  {
   "cell_type": "markdown",
   "source": [
    "###  Modeling with darts"
   ],
   "metadata": {
    "collapsed": false
   }
  },
  {
   "cell_type": "code",
   "execution_count": 43,
   "outputs": [
    {
     "data": {
      "text/plain": "Index(['source', 'row_id', 'cfips', 'first_day_of_month',\n       'microbusiness_density', 'pct_bb', 'pct_foreign_born', 'pct_it_workers',\n       'median_hh_inc', 'cfips_cat_0', 'cfips_cat_1', 'cfips_cat_2',\n       'cfips_cat_3'],\n      dtype='object')"
     },
     "execution_count": 43,
     "metadata": {},
     "output_type": "execute_result"
    }
   ],
   "source": [
    "data.columns"
   ],
   "metadata": {
    "collapsed": false
   }
  },
  {
   "cell_type": "code",
   "execution_count": 18,
   "outputs": [],
   "source": [
    "from darts.models import XGBModel, LightGBMModel, RNNModel, BlockRNNModel,NBEATSModel"
   ],
   "metadata": {
    "collapsed": false
   }
  },
  {
   "cell_type": "code",
   "execution_count": 44,
   "outputs": [
    {
     "name": "stdout",
     "output_type": "stream",
     "text": [
      "train series: 3135\n"
     ]
    },
    {
     "data": {
      "text/plain": "3135"
     },
     "execution_count": 44,
     "metadata": {},
     "output_type": "execute_result"
    }
   ],
   "source": [
    "# first convert the data to darts format\n",
    "\n",
    "# select only train source\n",
    "train_data = data[data['source'] == 'train']\n",
    "\n",
    "# series values\n",
    "series_train = TimeSeries.from_group_dataframe(train_data, group_cols=['cfips'], value_cols=['microbusiness_density'], time_col='first_day_of_month')\n",
    "print(f'train series: {len(series_train)}')\n",
    "\n",
    "\n",
    "# covariates\n",
    "covariates_train = TimeSeries.from_group_dataframe(train_data, group_cols=['cfips'], time_col='first_day_of_month', value_cols=['cfips_cat_0', 'cfips_cat_1', 'cfips_cat_2', 'cfips_cat_3', 'pct_bb', 'pct_foreign_born', 'pct_it_workers', 'median_hh_inc'])\n",
    "len(covariates_train)"
   ],
   "metadata": {
    "collapsed": false
   }
  },
  {
   "cell_type": "code",
   "execution_count": 48,
   "outputs": [],
   "source": [
    "# split train and eval\n",
    "EVAL_LENGTH = 6\n",
    "\n",
    "series_train_train = [ s[:-EVAL_LENGTH] for s in series_train ]\n",
    "covariates_train_train = [ s[:-EVAL_LENGTH] for s in covariates_train ]\n",
    "\n",
    "series_train_eval = [ s[-EVAL_LENGTH:] for s in series_train ]\n",
    "covariates_train_eval = [ s[-EVAL_LENGTH:] for s in covariates_train ]\n",
    "\n"
   ],
   "metadata": {
    "collapsed": false
   }
  },
  {
   "cell_type": "code",
   "execution_count": 21,
   "outputs": [],
   "source": [
    "def eval_model( model, dt_values, past_covariates = None ):\n",
    "\n",
    "    backtests = model.historical_forecasts(series =dt_values, past_covariates=past_covariates, start=pd.Timestamp('2021-12-01'), retrain=False, verbose=True, forecast_horizon=EVAL_LENGTH)\n",
    "\n",
    "    #dt_values.plot(label='actual')\n",
    "    #backtest.plot(label='forecast (n=10)')\n",
    "\n",
    "    error = np.mean( [ smape(dt_val, bt) for dt_val,bt in zip(dt_values, backtests) ] )\n",
    "\n",
    "\n",
    "    print(f'Backtest SMAPE = {error}')\n",
    "\n",
    "    return error\n"
   ],
   "metadata": {
    "collapsed": false
   }
  },
  {
   "cell_type": "markdown",
   "source": [
    "#### Simple RNN Without Covariates"
   ],
   "metadata": {
    "collapsed": false
   }
  },
  {
   "cell_type": "code",
   "execution_count": 35,
   "outputs": [],
   "source": [
    "logging.getLogger('pytorch_lightning').setLevel(logging.ERROR)"
   ],
   "metadata": {
    "collapsed": false
   }
  },
  {
   "cell_type": "code",
   "execution_count": 34,
   "outputs": [
    {
     "name": "stderr",
     "output_type": "stream",
     "text": [
      "GPU available: True (cuda), used: True\n",
      "TPU available: False, using: 0 TPU cores\n",
      "IPU available: False, using: 0 IPUs\n",
      "HPU available: False, using: 0 HPUs\n",
      "LOCAL_RANK: 0 - CUDA_VISIBLE_DEVICES: [0]\n",
      "\n",
      "  | Name          | Type             | Params\n",
      "---------------------------------------------------\n",
      "0 | criterion     | MSELoss          | 0     \n",
      "1 | train_metrics | MetricCollection | 0     \n",
      "2 | val_metrics   | MetricCollection | 0     \n",
      "3 | rnn           | RNN              | 700   \n",
      "4 | fc            | Sequential       | 26    \n",
      "---------------------------------------------------\n",
      "726       Trainable params\n",
      "0         Non-trainable params\n",
      "726       Total params\n",
      "0.006     Total estimated model params size (MB)\n"
     ]
    },
    {
     "data": {
      "text/plain": "Training: 0it [00:00, ?it/s]",
      "application/vnd.jupyter.widget-view+json": {
       "version_major": 2,
       "version_minor": 0,
       "model_id": "f246ecfbea82407fb912d91e11e4a530"
      }
     },
     "metadata": {},
     "output_type": "display_data"
    },
    {
     "name": "stderr",
     "output_type": "stream",
     "text": [
      "`Trainer.fit` stopped: `max_epochs=5` reached.\n"
     ]
    },
    {
     "data": {
      "text/plain": "<darts.models.forecasting.block_rnn_model.BlockRNNModel at 0x1e161f65c40>"
     },
     "execution_count": 34,
     "metadata": {},
     "output_type": "execute_result"
    }
   ],
   "source": [
    "brnn_no_cov = BlockRNNModel(input_chunk_length=6,\n",
    "                            output_chunk_length=1,\n",
    "                            n_rnn_layers=1,\n",
    "                            pl_trainer_kwargs={\n",
    "                                \"accelerator\": \"gpu\",\n",
    "                                \"devices\": [0],\n",
    "                            })\n",
    "\n",
    "brnn_no_cov.fit(series_train_train,\n",
    "                epochs=5,\n",
    "                verbose=True)\n",
    "\n",
    "#eval_model(brnn_no_cov)"
   ],
   "metadata": {
    "collapsed": false
   }
  },
  {
   "cell_type": "code",
   "execution_count": 37,
   "outputs": [
    {
     "data": {
      "text/plain": "12.269662657540088"
     },
     "execution_count": 37,
     "metadata": {},
     "output_type": "execute_result"
    }
   ],
   "source": [],
   "metadata": {
    "collapsed": false
   }
  },
  {
   "cell_type": "code",
   "execution_count": null,
   "outputs": [],
   "source": [
    "# select a random idx\n",
    "#idx = random.randint(0, len(series_train))\n",
    "#dt_values = series_train[idx]\n",
    "\n",
    "\n",
    "error = eval_model( brnn_no_cov, series_train[:100] )"
   ],
   "metadata": {
    "collapsed": false,
    "pycharm": {
     "is_executing": true
    }
   }
  },
  {
   "cell_type": "code",
   "execution_count": 39,
   "outputs": [
    {
     "data": {
      "text/plain": "12.269662657540088"
     },
     "execution_count": 39,
     "metadata": {},
     "output_type": "execute_result"
    }
   ],
   "source": [
    "error"
   ],
   "metadata": {
    "collapsed": false
   }
  },
  {
   "cell_type": "markdown",
   "source": [
    "#### With Covariates"
   ],
   "metadata": {
    "collapsed": false
   }
  },
  {
   "cell_type": "code",
   "execution_count": null,
   "outputs": [
    {
     "data": {
      "text/plain": "Training: 0it [00:00, ?it/s]",
      "application/vnd.jupyter.widget-view+json": {
       "version_major": 2,
       "version_minor": 0,
       "model_id": "d4e812160f5049399a67a8acfc295af8"
      }
     },
     "metadata": {},
     "output_type": "display_data"
    }
   ],
   "source": [
    "model_cov =  BlockRNNModel(input_chunk_length=6,\n",
    "                            output_chunk_length=1,\n",
    "                            n_rnn_layers=3,\n",
    "                            hidden_dim=50,\n",
    "                            pl_trainer_kwargs={\n",
    "                                \"accelerator\": \"gpu\",\n",
    "                                \"devices\": [0],\n",
    "                            })\n",
    "\n",
    "model_cov.fit(series_train_train, past_covariates=covariates_train_train,\n",
    "                epochs=20,\n",
    "                verbose=True)"
   ],
   "metadata": {
    "collapsed": false,
    "pycharm": {
     "is_executing": true
    }
   }
  },
  {
   "cell_type": "code",
   "execution_count": 54,
   "outputs": [
    {
     "data": {
      "text/plain": "63.60365320298213"
     },
     "execution_count": 54,
     "metadata": {},
     "output_type": "execute_result"
    }
   ],
   "source": [
    "error"
   ],
   "metadata": {
    "collapsed": false
   }
  },
  {
   "cell_type": "code",
   "execution_count": null,
   "outputs": [],
   "source": [
    "error = eval_model( model_cov, series_train[:100], past_covariates=covariates_train[:100] )"
   ],
   "metadata": {
    "collapsed": false,
    "pycharm": {
     "is_executing": true
    }
   }
  },
  {
   "cell_type": "code",
   "execution_count": null,
   "outputs": [],
   "source": [],
   "metadata": {
    "collapsed": false
   }
  },
  {
   "cell_type": "code",
   "execution_count": null,
   "outputs": [],
   "source": [],
   "metadata": {
    "collapsed": false
   }
  },
  {
   "cell_type": "code",
   "execution_count": 30,
   "outputs": [],
   "source": [
    "# split train and eval\n",
    "EVAL_LENGTH = 6\n",
    "series_train_train = [ s[:-EVAL_LENGTH] for s in series_train ]\n",
    "covariates_train_train = [ s[:-EVAL_LENGTH] for s in covariates_train ]\n",
    "series_train_eval = [ s[-EVAL_LENGTH:] for s in series_train ]\n",
    "covariates_train_eval = [ s[-EVAL_LENGTH:] for s in covariates_train ]"
   ],
   "metadata": {
    "collapsed": false
   }
  },
  {
   "cell_type": "code",
   "execution_count": 31,
   "outputs": [],
   "source": [
    "#len(series_train)"
   ],
   "metadata": {
    "collapsed": false
   }
  },
  {
   "cell_type": "code",
   "execution_count": 32,
   "outputs": [
    {
     "data": {
      "text/plain": "<Figure size 640x480 with 1 Axes>",
      "image/png": "[encoded data removed]"
     },
     "metadata": {},
     "output_type": "display_data"
    },
    {
     "data": {
      "text/plain": "<Figure size 1000x500 with 1 Axes>",
      "image/png": "[encoded data removed]"
     },
     "metadata": {},
     "output_type": "display_data"
    }
   ],
   "source": [
    "idx = random.randint(0, len(series_train))\n",
    "series_train_train[idx].plot()\n",
    "series_train_eval[idx].plot()\n",
    "plot_acf(series_train_train[idx], m=12, alpha=0.05)"
   ],
   "metadata": {
    "collapsed": false
   }
  },
  {
   "cell_type": "code",
   "execution_count": 33,
   "outputs": [],
   "source": [
    "for m in range(2, 25):\n",
    "    is_seasonal, period = check_seasonality(series_train_train[idx], m=m, alpha=0.05)\n",
    "    if is_seasonal:\n",
    "        print(\"There is seasonality of order {}.\".format(period))"
   ],
   "metadata": {
    "collapsed": false
   }
  },
  {
   "cell_type": "code",
   "execution_count": 101,
   "outputs": [],
   "source": [
    "from darts.models import RNNModel\n",
    "from darts.metrics import mase, smape"
   ],
   "metadata": {
    "collapsed": false
   }
  },
  {
   "cell_type": "markdown",
   "source": [
    "#### NBEATS"
   ],
   "metadata": {
    "collapsed": false
   }
  },
  {
   "cell_type": "code",
   "execution_count": 102,
   "outputs": [
    {
     "name": "stderr",
     "output_type": "stream",
     "text": [
      "GPU available: True (cuda), used: True\n",
      "TPU available: False, using: 0 TPU cores\n",
      "IPU available: False, using: 0 IPUs\n",
      "HPU available: False, using: 0 HPUs\n",
      "LOCAL_RANK: 0 - CUDA_VISIBLE_DEVICES: [0]\n",
      "\n",
      "  | Name          | Type             | Params\n",
      "---------------------------------------------------\n",
      "0 | criterion     | MSELoss          | 0     \n",
      "1 | train_metrics | MetricCollection | 0     \n",
      "2 | val_metrics   | MetricCollection | 0     \n",
      "3 | stacks        | ModuleList       | 9.5 K \n",
      "---------------------------------------------------\n",
      "9.3 K     Trainable params\n",
      "237       Non-trainable params\n",
      "9.5 K     Total params\n",
      "0.076     Total estimated model params size (MB)\n"
     ]
    },
    {
     "data": {
      "text/plain": "Training: 0it [00:00, ?it/s]",
      "application/vnd.jupyter.widget-view+json": {
       "version_major": 2,
       "version_minor": 0,
       "model_id": "f99bc2e88f224fb7959c1e14a204d079"
      }
     },
     "metadata": {},
     "output_type": "display_data"
    },
    {
     "name": "stderr",
     "output_type": "stream",
     "text": [
      "`Trainer.fit` stopped: `max_epochs=5` reached.\n"
     ]
    },
    {
     "data": {
      "text/plain": "<darts.models.forecasting.nbeats.NBEATSModel at 0x1bab7d0ffa0>"
     },
     "execution_count": 102,
     "metadata": {},
     "output_type": "execute_result"
    }
   ],
   "source": [
    "model = NBEATSModel(input_chunk_length = 12, output_chunk_length = 4, generic_architecture=True, num_stacks=5, num_blocks=1, num_layers=2, layer_widths=32, dropout=0.0, activation='ReLU', n_epochs=5,\n",
    "                    pl_trainer_kwargs={\n",
    "                        \"accelerator\": \"gpu\",\n",
    "                        \"devices\": [0]\n",
    "                    })\n",
    "\n",
    "model.fit(series_train_train)"
   ],
   "metadata": {
    "collapsed": false
   }
  },
  {
   "cell_type": "code",
   "execution_count": 103,
   "outputs": [
    {
     "name": "stderr",
     "output_type": "stream",
     "text": [
      "GPU available: True (cuda), used: True\n",
      "TPU available: False, using: 0 TPU cores\n",
      "IPU available: False, using: 0 IPUs\n",
      "HPU available: False, using: 0 HPUs\n",
      "LOCAL_RANK: 0 - CUDA_VISIBLE_DEVICES: [0]\n"
     ]
    },
    {
     "data": {
      "text/plain": "Predicting: 0it [00:00, ?it/s]",
      "application/vnd.jupyter.widget-view+json": {
       "version_major": 2,
       "version_minor": 0,
       "model_id": "3fb29fc44a5f4bb7880ccf2573a9c9d3"
      }
     },
     "metadata": {},
     "output_type": "display_data"
    },
    {
     "name": "stdout",
     "output_type": "stream",
     "text": [
      "MASE error: 27.35\n"
     ]
    }
   ],
   "source": [
    "pred_nocov = model.predict(n=6, series=series_train_train)\n",
    "smape_err = np.mean( [ smape(series_train_eval[i], pred_nocov[i]) for i in range(len(series_train_train))]  )\n",
    "print(\"MASE error: {:.2f}\".format(smape_err))"
   ],
   "metadata": {
    "collapsed": false
   }
  },
  {
   "cell_type": "markdown",
   "source": [
    "#### XGBoost"
   ],
   "metadata": {
    "collapsed": false
   }
  },
  {
   "cell_type": "code",
   "execution_count": 53,
   "outputs": [],
   "source": [
    "series1 = sine_timeseries(length=400, value_frequency=0.08)\n",
    "series2 = sine_timeseries(length=400, value_frequency=0.007)\n",
    "target = series1 * series2\n",
    "covariates = series2"
   ],
   "metadata": {
    "collapsed": false
   }
  },
  {
   "cell_type": "code",
   "execution_count": 54,
   "outputs": [],
   "source": [
    "target_train, target_val = target[:300], target[300:]\n",
    "cov_train, cov_val = covariates[:300], covariates[300:]"
   ],
   "metadata": {
    "collapsed": false
   }
  },
  {
   "cell_type": "code",
   "execution_count": 82,
   "outputs": [
    {
     "name": "stderr",
     "output_type": "stream",
     "text": [
      "C:\\Users\\avomo\\AppData\\Roaming\\Python\\Python39\\site-packages\\torch\\nn\\modules\\rnn.py:67: UserWarning: dropout option adds dropout after all but last recurrent layer, so non-zero dropout expects num_layers greater than 1, but got dropout=0.05 and num_layers=1\n",
      "  warnings.warn(\"dropout option adds dropout after all but last \"\n",
      "GPU available: True (cuda), used: True\n",
      "TPU available: False, using: 0 TPU cores\n",
      "IPU available: False, using: 0 IPUs\n",
      "HPU available: False, using: 0 HPUs\n",
      "LOCAL_RANK: 0 - CUDA_VISIBLE_DEVICES: [0]\n",
      "\n",
      "  | Name          | Type             | Params\n",
      "---------------------------------------------------\n",
      "0 | criterion     | MSELoss          | 0     \n",
      "1 | train_metrics | MetricCollection | 0     \n",
      "2 | val_metrics   | MetricCollection | 0     \n",
      "3 | rnn           | RNN              | 2.6 K \n",
      "4 | fc            | Sequential       | 204   \n",
      "---------------------------------------------------\n",
      "2.9 K     Trainable params\n",
      "0         Non-trainable params\n",
      "2.9 K     Total params\n",
      "0.023     Total estimated model params size (MB)\n"
     ]
    },
    {
     "data": {
      "text/plain": "Training: 0it [00:00, ?it/s]",
      "application/vnd.jupyter.widget-view+json": {
       "version_major": 2,
       "version_minor": 0,
       "model_id": "310b549fd74d4e4187336745c6709ab4"
      }
     },
     "metadata": {},
     "output_type": "display_data"
    },
    {
     "name": "stderr",
     "output_type": "stream",
     "text": [
      "`Trainer.fit` stopped: `max_epochs=5` reached.\n"
     ]
    },
    {
     "data": {
      "text/plain": "<darts.models.forecasting.block_rnn_model.BlockRNNModel at 0x1bb8a099bb0>"
     },
     "execution_count": 82,
     "metadata": {},
     "output_type": "execute_result"
    }
   ],
   "source": [
    "model_nocov = BlockRNNModel(input_chunk_length=4,\n",
    "                            output_chunk_length=4,\n",
    "                            hidden_dim=50,\n",
    "                            dropout=0.05,\n",
    "                            n_epochs=5,\n",
    "                            pl_trainer_kwargs={\n",
    "                                \"accelerator\": \"gpu\",\n",
    "                                \"devices\": [0]\n",
    "                            })\n",
    "model_nocov.fit(series_train_train)"
   ],
   "metadata": {
    "collapsed": false
   }
  },
  {
   "cell_type": "code",
   "execution_count": 83,
   "outputs": [
    {
     "name": "stderr",
     "output_type": "stream",
     "text": [
      "GPU available: True (cuda), used: True\n",
      "TPU available: False, using: 0 TPU cores\n",
      "IPU available: False, using: 0 IPUs\n",
      "HPU available: False, using: 0 HPUs\n",
      "LOCAL_RANK: 0 - CUDA_VISIBLE_DEVICES: [0]\n"
     ]
    },
    {
     "data": {
      "text/plain": "Predicting: 0it [00:00, ?it/s]",
      "application/vnd.jupyter.widget-view+json": {
       "version_major": 2,
       "version_minor": 0,
       "model_id": "6a160b70fd5f45cda18185bb791d0a6c"
      }
     },
     "metadata": {},
     "output_type": "display_data"
    },
    {
     "name": "stdout",
     "output_type": "stream",
     "text": [
      "MASE error: 3.92\n"
     ]
    }
   ],
   "source": [
    "pred_nocov = model_nocov.predict(n=6, series=series_train_train)\n",
    "smape_err = np.mean( [ smape(series_train_eval[i], pred_nocov[i]) for i in range(len(series_train_train))]  )\n",
    "print(\"MASE error: {:.2f}\".format(smape_err))"
   ],
   "metadata": {
    "collapsed": false
   }
  },
  {
   "cell_type": "markdown",
   "source": [
    "### With covariates"
   ],
   "metadata": {
    "collapsed": false
   }
  },
  {
   "cell_type": "code",
   "execution_count": 98,
   "outputs": [
    {
     "name": "stderr",
     "output_type": "stream",
     "text": [
      "C:\\Users\\avomo\\AppData\\Roaming\\Python\\Python39\\site-packages\\torch\\nn\\modules\\rnn.py:67: UserWarning: dropout option adds dropout after all but last recurrent layer, so non-zero dropout expects num_layers greater than 1, but got dropout=0.05 and num_layers=1\n",
      "  warnings.warn(\"dropout option adds dropout after all but last \"\n",
      "GPU available: True (cuda), used: True\n",
      "TPU available: False, using: 0 TPU cores\n",
      "IPU available: False, using: 0 IPUs\n",
      "HPU available: False, using: 0 HPUs\n",
      "LOCAL_RANK: 0 - CUDA_VISIBLE_DEVICES: [0]\n",
      "\n",
      "  | Name          | Type             | Params\n",
      "---------------------------------------------------\n",
      "0 | criterion     | MSELoss          | 0     \n",
      "1 | train_metrics | MetricCollection | 0     \n",
      "2 | val_metrics   | MetricCollection | 0     \n",
      "3 | rnn           | GRU              | 9.2 K \n",
      "4 | fc            | Sequential       | 51    \n",
      "---------------------------------------------------\n",
      "9.2 K     Trainable params\n",
      "0         Non-trainable params\n",
      "9.2 K     Total params\n",
      "0.074     Total estimated model params size (MB)\n"
     ]
    },
    {
     "data": {
      "text/plain": "Training: 0it [00:00, ?it/s]",
      "application/vnd.jupyter.widget-view+json": {
       "version_major": 2,
       "version_minor": 0,
       "model_id": "7745c603881c4331a352ed8e257c61f4"
      }
     },
     "metadata": {},
     "output_type": "display_data"
    },
    {
     "name": "stderr",
     "output_type": "stream",
     "text": [
      "`Trainer.fit` stopped: `max_epochs=5` reached.\n"
     ]
    },
    {
     "data": {
      "text/plain": "<darts.models.forecasting.block_rnn_model.BlockRNNModel at 0x1bb47b823d0>"
     },
     "execution_count": 98,
     "metadata": {},
     "output_type": "execute_result"
    }
   ],
   "source": [
    "model_cov = BlockRNNModel(input_chunk_length=4,\n",
    "                        output_chunk_length=1,\n",
    "                        hidden_dim=50,\n",
    "                        model='GRU',\n",
    "                        dropout=0.05,\n",
    "                        n_epochs=5,\n",
    "                        pl_trainer_kwargs={\n",
    "                            \"accelerator\": \"gpu\",\n",
    "                            \"devices\": [0]\n",
    "            })\n",
    "\n",
    "model_cov.fit(series_train_train, past_covariates=covariates_train_train)"
   ],
   "metadata": {
    "collapsed": false
   }
  },
  {
   "cell_type": "code",
   "execution_count": 100,
   "outputs": [
    {
     "name": "stderr",
     "output_type": "stream",
     "text": [
      "GPU available: True (cuda), used: True\n",
      "TPU available: False, using: 0 TPU cores\n",
      "IPU available: False, using: 0 IPUs\n",
      "HPU available: False, using: 0 HPUs\n",
      "LOCAL_RANK: 0 - CUDA_VISIBLE_DEVICES: [0]\n"
     ]
    },
    {
     "data": {
      "text/plain": "Predicting: 0it [00:00, ?it/s]",
      "application/vnd.jupyter.widget-view+json": {
       "version_major": 2,
       "version_minor": 0,
       "model_id": "de1eec9a3fdb4f1f91e8929c484f10f0"
      }
     },
     "metadata": {},
     "output_type": "display_data"
    },
    {
     "name": "stdout",
     "output_type": "stream",
     "text": [
      "MASE error: 63.08\n"
     ]
    }
   ],
   "source": [
    "pred_nocov = model_cov.predict(n=1, series=series_train_train, =covariates_train_train)\n",
    "smape_err = np.mean( [ smape(series_train_eval[i][:1], pred_nocov[i][:1]) for i in range(len(series_train_train))]  )\n",
    "print(\"MASE error: {:.2f}\".format(smape_err))"
   ],
   "metadata": {
    "collapsed": false
   }
  },
  {
   "cell_type": "code",
   "execution_count": 67,
   "outputs": [
    {
     "name": "stderr",
     "output_type": "stream",
     "text": [
      "GPU available: True (cuda), used: True\n",
      "TPU available: False, using: 0 TPU cores\n",
      "IPU available: False, using: 0 IPUs\n",
      "HPU available: False, using: 0 HPUs\n",
      "LOCAL_RANK: 0 - CUDA_VISIBLE_DEVICES: [0]\n",
      "\n",
      "  | Name          | Type             | Params\n",
      "---------------------------------------------------\n",
      "0 | criterion     | MSELoss          | 0     \n",
      "1 | train_metrics | MetricCollection | 0     \n",
      "2 | val_metrics   | MetricCollection | 0     \n",
      "3 | rnn           | RNN              | 725   \n",
      "4 | fc            | Sequential       | 2.6 K \n",
      "---------------------------------------------------\n",
      "3.3 K     Trainable params\n",
      "0         Non-trainable params\n",
      "3.3 K     Total params\n",
      "0.027     Total estimated model params size (MB)\n"
     ]
    },
    {
     "data": {
      "text/plain": "Training: 0it [00:00, ?it/s]",
      "application/vnd.jupyter.widget-view+json": {
       "version_major": 2,
       "version_minor": 0,
       "model_id": "75dcce9104be4b86bf2d2d0df9fcf773"
      }
     },
     "metadata": {},
     "output_type": "display_data"
    },
    {
     "name": "stderr",
     "output_type": "stream",
     "text": [
      "C:\\Users\\avomo\\AppData\\Roaming\\Python\\Python39\\site-packages\\pytorch_lightning\\trainer\\call.py:48: UserWarning: Detected KeyboardInterrupt, attempting graceful shutdown...\n",
      "  rank_zero_warn(\"Detected KeyboardInterrupt, attempting graceful shutdown...\")\n"
     ]
    },
    {
     "data": {
      "text/plain": "<darts.models.forecasting.block_rnn_model.BlockRNNModel at 0x1bae6d76b20>"
     },
     "execution_count": 67,
     "metadata": {},
     "output_type": "execute_result"
    }
   ],
   "source": [
    "model_cov = BlockRNNModel(input_chunk_length=100,\n",
    "                          output_chunk_length=100,\n",
    "                          n_epochs=200,\n",
    "                          pl_trainer_kwargs={\n",
    "                              \"accelerator\": \"gpu\",\n",
    "                              \"devices\": [0]\n",
    "                          })\n",
    "model_cov.fit(target_train, past_covariates=cov_train)"
   ],
   "metadata": {
    "collapsed": false
   }
  },
  {
   "cell_type": "code",
   "execution_count": 59,
   "outputs": [
    {
     "name": "stderr",
     "output_type": "stream",
     "text": [
      "GPU available: True (cuda), used: False\n",
      "TPU available: False, using: 0 TPU cores\n",
      "IPU available: False, using: 0 IPUs\n",
      "HPU available: False, using: 0 HPUs\n"
     ]
    },
    {
     "data": {
      "text/plain": "Predicting: 0it [00:00, ?it/s]",
      "application/vnd.jupyter.widget-view+json": {
       "version_major": 2,
       "version_minor": 0,
       "model_id": "e1c2f9e3807d4663a5db4cd104e251eb"
      }
     },
     "metadata": {},
     "output_type": "display_data"
    },
    {
     "name": "stdout",
     "output_type": "stream",
     "text": [
      "MASE error: 0.15\n"
     ]
    }
   ],
   "source": [
    "pred_cov = model_cov.predict(n=100,\n",
    "                             series=target_train,\n",
    "                             past_covariates=cov_train)\n",
    "mase_err_cov = mase(target, pred_cov, target_train)\n",
    "\n",
    "print(\"MASE error: {:.2f}\".format(mase_err_cov))"
   ],
   "metadata": {
    "collapsed": false
   }
  },
  {
   "cell_type": "markdown",
   "source": [],
   "metadata": {
    "collapsed": false
   }
  },
  {
   "cell_type": "code",
   "execution_count": 47,
   "outputs": [],
   "source": [
    "\n",
    "xgb_params = {\n",
    "    'objective': 'reg:squarederror',\n",
    "    'eval_metric': 'mae',\n",
    "    'max_depth': 5,\n",
    "    'learning_rate': 0.1,\n",
    "    'colsample_bytree': 1,\n",
    "    'n_estimators': 100,\n",
    "    'tree_method': 'gpu_hist',\n",
    "    'predictor': 'gpu_predictor',\n",
    "    'reg_alpha' : 1,\n",
    "}\n",
    "model_xgboost = XGBModel(lags=[-1, -2, -3], lags_past_covariates=[-1], **xgb_params)\n",
    "model_xgboost = model_xgboost.fit(series_train_train, past_covariates=covariates_train_train)"
   ],
   "metadata": {
    "collapsed": false
   }
  },
  {
   "cell_type": "code",
   "execution_count": 51,
   "outputs": [
    {
     "name": "stderr",
     "output_type": "stream",
     "text": [
      "  0%|          | 0/3135 [00:00<?, ?it/s]ValueError: The corresponding past_covariate of the series at index 0 isn't sufficiently long. Given horizon `n=6`, `min(lags_past_covariates)=-1`, `max(lags_past_covariates)=-1` and `output_chunk_length=1`, the past_covariate has to range from 2022-04-01 00:00:00 until 2022-09-01 00:00:00 (inclusive), but it ranges only from 2019-08-01 00:00:00 until 2022-04-01 00:00:00.\n",
      "  0%|          | 0/3135 [00:00<?, ?it/s]"
     ]
    },
    {
     "name": "stdout",
     "output_type": "stream",
     "text": [
      "33\n",
      "33\n"
     ]
    },
    {
     "name": "stderr",
     "output_type": "stream",
     "text": [
      "\n"
     ]
    },
    {
     "ename": "ValueError",
     "evalue": "The corresponding past_covariate of the series at index 0 isn't sufficiently long. Given horizon `n=6`, `min(lags_past_covariates)=-1`, `max(lags_past_covariates)=-1` and `output_chunk_length=1`, the past_covariate has to range from 2022-04-01 00:00:00 until 2022-09-01 00:00:00 (inclusive), but it ranges only from 2019-08-01 00:00:00 until 2022-04-01 00:00:00.",
     "output_type": "error",
     "traceback": [
      "\u001B[1;31m---------------------------------------------------------------------------\u001B[0m",
      "\u001B[1;31mValueError\u001B[0m                                Traceback (most recent call last)",
      "\u001B[1;32m~\\AppData\\Local\\Temp\\ipykernel_29024\\3051804474.py\u001B[0m in \u001B[0;36m<module>\u001B[1;34m\u001B[0m\n\u001B[0;32m      9\u001B[0m     \u001B[0mprint\u001B[0m\u001B[1;33m(\u001B[0m\u001B[0mlen\u001B[0m\u001B[1;33m(\u001B[0m\u001B[0ms_train\u001B[0m\u001B[1;33m)\u001B[0m\u001B[1;33m)\u001B[0m\u001B[1;33m\u001B[0m\u001B[1;33m\u001B[0m\u001B[0m\n\u001B[0;32m     10\u001B[0m \u001B[1;33m\u001B[0m\u001B[0m\n\u001B[1;32m---> 11\u001B[1;33m     \u001B[0mpred\u001B[0m \u001B[1;33m=\u001B[0m \u001B[0mmodel_xgboost\u001B[0m\u001B[1;33m.\u001B[0m\u001B[0mpredict\u001B[0m\u001B[1;33m(\u001B[0m\u001B[0mn\u001B[0m\u001B[1;33m=\u001B[0m\u001B[0mlen\u001B[0m\u001B[1;33m(\u001B[0m\u001B[0ms_eval\u001B[0m\u001B[1;33m)\u001B[0m\u001B[1;33m,\u001B[0m \u001B[0mseries\u001B[0m\u001B[1;33m=\u001B[0m\u001B[0ms_train\u001B[0m\u001B[1;33m[\u001B[0m\u001B[1;36m7\u001B[0m\u001B[1;33m:\u001B[0m\u001B[1;33m]\u001B[0m\u001B[1;33m,\u001B[0m \u001B[0mpast_covariates\u001B[0m\u001B[1;33m=\u001B[0m\u001B[0mc_train\u001B[0m\u001B[1;33m)\u001B[0m\u001B[1;33m\u001B[0m\u001B[1;33m\u001B[0m\u001B[0m\n\u001B[0m\u001B[0;32m     12\u001B[0m     \u001B[0mloss\u001B[0m \u001B[1;33m=\u001B[0m \u001B[0msmape\u001B[0m\u001B[1;33m(\u001B[0m\u001B[0mpred\u001B[0m\u001B[1;33m,\u001B[0m \u001B[0ms_eval\u001B[0m\u001B[1;33m)\u001B[0m\u001B[1;33m\u001B[0m\u001B[1;33m\u001B[0m\u001B[0m\n\u001B[0;32m     13\u001B[0m     \u001B[0mpredictions\u001B[0m\u001B[1;33m.\u001B[0m\u001B[0mappend\u001B[0m\u001B[1;33m(\u001B[0m\u001B[0mpred\u001B[0m\u001B[1;33m)\u001B[0m\u001B[1;33m\u001B[0m\u001B[1;33m\u001B[0m\u001B[0m\n",
      "\u001B[1;32m~\\AppData\\Roaming\\Python\\Python39\\site-packages\\darts\\models\\forecasting\\regression_model.py\u001B[0m in \u001B[0;36mpredict\u001B[1;34m(self, n, series, past_covariates, future_covariates, num_samples, verbose, **kwargs)\u001B[0m\n\u001B[0;32m    606\u001B[0m                 \u001B[1;31m# check for sufficient covariate data\u001B[0m\u001B[1;33m\u001B[0m\u001B[1;33m\u001B[0m\u001B[0m\n\u001B[0;32m    607\u001B[0m                 \u001B[1;32mif\u001B[0m \u001B[1;32mnot\u001B[0m \u001B[1;33m(\u001B[0m\u001B[0mcov\u001B[0m\u001B[1;33m.\u001B[0m\u001B[0mstart_time\u001B[0m\u001B[1;33m(\u001B[0m\u001B[1;33m)\u001B[0m \u001B[1;33m<=\u001B[0m \u001B[0mstart_ts\u001B[0m \u001B[1;32mand\u001B[0m \u001B[0mcov\u001B[0m\u001B[1;33m.\u001B[0m\u001B[0mend_time\u001B[0m\u001B[1;33m(\u001B[0m\u001B[1;33m)\u001B[0m \u001B[1;33m>=\u001B[0m \u001B[0mend_ts\u001B[0m\u001B[1;33m)\u001B[0m\u001B[1;33m:\u001B[0m\u001B[1;33m\u001B[0m\u001B[1;33m\u001B[0m\u001B[0m\n\u001B[1;32m--> 608\u001B[1;33m                     raise_log(\n\u001B[0m\u001B[0;32m    609\u001B[0m                         ValueError(\n\u001B[0;32m    610\u001B[0m                             \u001B[1;34mf\"The corresponding {cov_type}_covariate of the series at index {idx} isn't sufficiently \"\u001B[0m\u001B[1;33m\u001B[0m\u001B[1;33m\u001B[0m\u001B[0m\n",
      "\u001B[1;32m~\\AppData\\Roaming\\Python\\Python39\\site-packages\\darts\\logging.py\u001B[0m in \u001B[0;36mraise_log\u001B[1;34m(exception, logger)\u001B[0m\n\u001B[0;32m    127\u001B[0m     \u001B[0mlogger\u001B[0m\u001B[1;33m.\u001B[0m\u001B[0merror\u001B[0m\u001B[1;33m(\u001B[0m\u001B[0mexception_type\u001B[0m \u001B[1;33m+\u001B[0m \u001B[1;34m\": \"\u001B[0m \u001B[1;33m+\u001B[0m \u001B[0mmessage\u001B[0m\u001B[1;33m)\u001B[0m\u001B[1;33m\u001B[0m\u001B[1;33m\u001B[0m\u001B[0m\n\u001B[0;32m    128\u001B[0m \u001B[1;33m\u001B[0m\u001B[0m\n\u001B[1;32m--> 129\u001B[1;33m     \u001B[1;32mraise\u001B[0m \u001B[0mexception\u001B[0m\u001B[1;33m\u001B[0m\u001B[1;33m\u001B[0m\u001B[0m\n\u001B[0m\u001B[0;32m    130\u001B[0m \u001B[1;33m\u001B[0m\u001B[0m\n\u001B[0;32m    131\u001B[0m \u001B[1;33m\u001B[0m\u001B[0m\n",
      "\u001B[1;31mValueError\u001B[0m: The corresponding past_covariate of the series at index 0 isn't sufficiently long. Given horizon `n=6`, `min(lags_past_covariates)=-1`, `max(lags_past_covariates)=-1` and `output_chunk_length=1`, the past_covariate has to range from 2022-04-01 00:00:00 until 2022-09-01 00:00:00 (inclusive), but it ranges only from 2019-08-01 00:00:00 until 2022-04-01 00:00:00."
     ]
    }
   ],
   "source": [
    "# predict for every series\n",
    "#predictions = [ model_xgboost.predict(s, n=EVAL_LENGTH) for s in series_train_train ]\n",
    "predictions = []\n",
    "loss_list = []\n",
    "\n",
    "for s_train, s_eval, c_train, c_eval in tqdm(list(zip(series_train_train, series_train_eval, covariates_train_train, covariates_train_eval))):\n",
    "\n",
    "    print(len(c_train))\n",
    "    print(len(s_train))\n",
    "\n",
    "    pred = model_xgboost.predict(n=len(s_eval), series=s_train[7:], past_covariates=c_train)\n",
    "    loss = smape(pred, s_eval)\n",
    "    predictions.append(pred)\n",
    "    loss_list.append(loss)\n",
    "    #print(loss)\n",
    "\n",
    "np.mean(loss_list)"
   ],
   "metadata": {
    "collapsed": false
   }
  },
  {
   "cell_type": "markdown",
   "source": [
    "#### LightGBM"
   ],
   "metadata": {
    "collapsed": false
   }
  },
  {
   "cell_type": "code",
   "execution_count": 199,
   "outputs": [
    {
     "name": "stderr",
     "output_type": "stream",
     "text": [
      "GPU available: True (cuda), used: False\n",
      "TPU available: False, using: 0 TPU cores\n",
      "IPU available: False, using: 0 IPUs\n",
      "HPU available: False, using: 0 HPUs\n",
      "C:\\Users\\avomo\\AppData\\Roaming\\Python\\Python39\\site-packages\\pytorch_lightning\\trainer\\setup.py:175: PossibleUserWarning: GPU available but not used. Set `accelerator` and `devices` using `Trainer(accelerator='gpu', devices=1)`.\n",
      "  rank_zero_warn(\n",
      "\n",
      "  | Name          | Type             | Params\n",
      "---------------------------------------------------\n",
      "0 | criterion     | MSELoss          | 0     \n",
      "1 | train_metrics | MetricCollection | 0     \n",
      "2 | val_metrics   | MetricCollection | 0     \n",
      "3 | rnn           | RNN              | 700   \n",
      "4 | V             | Linear           | 26    \n",
      "---------------------------------------------------\n",
      "726       Trainable params\n",
      "0         Non-trainable params\n",
      "726       Total params\n",
      "0.006     Total estimated model params size (MB)\n"
     ]
    },
    {
     "data": {
      "text/plain": "Training: 0it [00:00, ?it/s]",
      "application/vnd.jupyter.widget-view+json": {
       "version_major": 2,
       "version_minor": 0,
       "model_id": "d82630d9ec934078b53859a9c71c3597"
      }
     },
     "metadata": {},
     "output_type": "display_data"
    },
    {
     "name": "stderr",
     "output_type": "stream",
     "text": [
      "`Trainer.fit` stopped: `max_epochs=1` reached.\n"
     ]
    }
   ],
   "source": [
    "model = RNNModel(input_chunk_length=6, model='RNN', )\n",
    "model = model.fit(series_train_train, epochs=1)"
   ],
   "metadata": {
    "collapsed": false
   }
  },
  {
   "cell_type": "code",
   "execution_count": null,
   "outputs": [],
   "source": [
    "predictions = []\n",
    "loss_list = []\n",
    "\n",
    "for s_train, s_eval in tqdm(list(zip(series_train_train, series_train_eval))):\n",
    "    pred = model.predict(n=len(s_eval), series=s_train)\n",
    "    loss = smape(pred, s_eval)\n",
    "    predictions.append(pred)\n",
    "    loss_list.append(loss)\n",
    "    #print(loss)\n",
    "np.mean(loss_list)"
   ],
   "metadata": {
    "collapsed": false,
    "pycharm": {
     "is_executing": true
    }
   }
  },
  {
   "cell_type": "markdown",
   "source": [
    "#### RNNModel"
   ],
   "metadata": {
    "collapsed": false
   }
  },
  {
   "cell_type": "code",
   "execution_count": 196,
   "outputs": [],
   "source": [],
   "metadata": {
    "collapsed": false
   }
  },
  {
   "cell_type": "code",
   "execution_count": null,
   "outputs": [],
   "source": [],
   "metadata": {
    "collapsed": false
   }
  }
 ],
 "metadata": {
  "kernelspec": {
   "display_name": "Python 3",
   "language": "python",
   "name": "python3"
  },
  "language_info": {
   "codemirror_mode": {
    "name": "ipython",
    "version": 2
   },
   "file_extension": ".py",
   "mimetype": "text/x-python",
   "name": "python",
   "nbconvert_exporter": "python",
   "pygments_lexer": "ipython2",
   "version": "2.7.6"
  }
 },
 "nbformat": 4,
 "nbformat_minor": 0
}
