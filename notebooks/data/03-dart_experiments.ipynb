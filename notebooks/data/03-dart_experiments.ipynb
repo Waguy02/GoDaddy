{
 "cells": [
  {
   "cell_type": "code",
   "execution_count": 1,
   "metadata": {
    "collapsed": true
   },
   "outputs": [],
   "source": [
    "import pandas as pd\n",
    "import lightgbm as lgb\n",
    "import numpy as np\n",
    "import category_encoders as ce\n",
    "from tqdm import tqdm\n",
    "from darts import TimeSeries"
   ]
  },
  {
   "cell_type": "code",
   "execution_count": 2,
   "outputs": [],
   "source": [
    "# calculate the smape\n",
    "def compute_smape(y_true, y_pred):\n",
    "\n",
    "    if not (isinstance(y_true, np.ndarray) and isinstance(y_pred, np.ndarray)):\n",
    "        y_true, y_pred = np.array(y_true), np.array(y_pred)\n",
    "\n",
    "    return round(np.mean(\n",
    "        np.abs(y_pred - y_true) /\n",
    "        ((np.abs(y_pred) + np.abs(y_true))/2)\n",
    "    )*100, 3)\n"
   ],
   "metadata": {
    "collapsed": false
   }
  },
  {
   "cell_type": "code",
   "execution_count": 3,
   "outputs": [
    {
     "data": {
      "text/plain": "            row_id  cfips          county    state first_day_of_month  \\\n0  1001_2019-08-01   1001  Autauga County  Alabama         2019-08-01   \n1  1001_2019-09-01   1001  Autauga County  Alabama         2019-09-01   \n2  1001_2019-10-01   1001  Autauga County  Alabama         2019-10-01   \n3  1001_2019-11-01   1001  Autauga County  Alabama         2019-11-01   \n4  1001_2019-12-01   1001  Autauga County  Alabama         2019-12-01   \n\n   microbusiness_density  active        year  pct_bb  pct_college  \\\n0               3.007682    1249  2019-01-01    80.6         16.1   \n1               2.884870    1198  2019-01-01    80.6         16.1   \n2               3.055843    1269  2019-01-01    80.6         16.1   \n3               2.993233    1243  2019-01-01    80.6         16.1   \n4               2.993233    1243  2019-01-01    80.6         16.1   \n\n   pct_foreign_born  pct_it_workers  median_hh_inc  \n0               2.3             0.7        58731.0  \n1               2.3             0.7        58731.0  \n2               2.3             0.7        58731.0  \n3               2.3             0.7        58731.0  \n4               2.3             0.7        58731.0  ",
      "text/html": "<div>\n<style scoped>\n    .dataframe tbody tr th:only-of-type {\n        vertical-align: middle;\n    }\n\n    .dataframe tbody tr th {\n        vertical-align: top;\n    }\n\n    .dataframe thead th {\n        text-align: right;\n    }\n</style>\n<table border=\"1\" class=\"dataframe\">\n  <thead>\n    <tr style=\"text-align: right;\">\n      <th></th>\n      <th>row_id</th>\n      <th>cfips</th>\n      <th>county</th>\n      <th>state</th>\n      <th>first_day_of_month</th>\n      <th>microbusiness_density</th>\n      <th>active</th>\n      <th>year</th>\n      <th>pct_bb</th>\n      <th>pct_college</th>\n      <th>pct_foreign_born</th>\n      <th>pct_it_workers</th>\n      <th>median_hh_inc</th>\n    </tr>\n  </thead>\n  <tbody>\n    <tr>\n      <th>0</th>\n      <td>1001_2019-08-01</td>\n      <td>1001</td>\n      <td>Autauga County</td>\n      <td>Alabama</td>\n      <td>2019-08-01</td>\n      <td>3.007682</td>\n      <td>1249</td>\n      <td>2019-01-01</td>\n      <td>80.6</td>\n      <td>16.1</td>\n      <td>2.3</td>\n      <td>0.7</td>\n      <td>58731.0</td>\n    </tr>\n    <tr>\n      <th>1</th>\n      <td>1001_2019-09-01</td>\n      <td>1001</td>\n      <td>Autauga County</td>\n      <td>Alabama</td>\n      <td>2019-09-01</td>\n      <td>2.884870</td>\n      <td>1198</td>\n      <td>2019-01-01</td>\n      <td>80.6</td>\n      <td>16.1</td>\n      <td>2.3</td>\n      <td>0.7</td>\n      <td>58731.0</td>\n    </tr>\n    <tr>\n      <th>2</th>\n      <td>1001_2019-10-01</td>\n      <td>1001</td>\n      <td>Autauga County</td>\n      <td>Alabama</td>\n      <td>2019-10-01</td>\n      <td>3.055843</td>\n      <td>1269</td>\n      <td>2019-01-01</td>\n      <td>80.6</td>\n      <td>16.1</td>\n      <td>2.3</td>\n      <td>0.7</td>\n      <td>58731.0</td>\n    </tr>\n    <tr>\n      <th>3</th>\n      <td>1001_2019-11-01</td>\n      <td>1001</td>\n      <td>Autauga County</td>\n      <td>Alabama</td>\n      <td>2019-11-01</td>\n      <td>2.993233</td>\n      <td>1243</td>\n      <td>2019-01-01</td>\n      <td>80.6</td>\n      <td>16.1</td>\n      <td>2.3</td>\n      <td>0.7</td>\n      <td>58731.0</td>\n    </tr>\n    <tr>\n      <th>4</th>\n      <td>1001_2019-12-01</td>\n      <td>1001</td>\n      <td>Autauga County</td>\n      <td>Alabama</td>\n      <td>2019-12-01</td>\n      <td>2.993233</td>\n      <td>1243</td>\n      <td>2019-01-01</td>\n      <td>80.6</td>\n      <td>16.1</td>\n      <td>2.3</td>\n      <td>0.7</td>\n      <td>58731.0</td>\n    </tr>\n  </tbody>\n</table>\n</div>"
     },
     "execution_count": 3,
     "metadata": {},
     "output_type": "execute_result"
    }
   ],
   "source": [
    "train_data = pd.read_csv('../../data/godaddy-microbusiness-density-forecasting/train_with_census.csv')\n",
    "train_data.head()"
   ],
   "metadata": {
    "collapsed": false
   }
  },
  {
   "cell_type": "code",
   "execution_count": 4,
   "outputs": [],
   "source": [
    "# convert first_day_of_month to datetime\n",
    "train_data['first_day_of_month'] = pd.to_datetime(train_data['first_day_of_month'])"
   ],
   "metadata": {
    "collapsed": false
   }
  },
  {
   "cell_type": "code",
   "execution_count": 5,
   "outputs": [],
   "source": [
    "cfip = train_data['cfips'].sample()\n",
    "\n",
    "df_cfip = train_data[train_data['cfips'] == cfip.values[0]]"
   ],
   "metadata": {
    "collapsed": false
   }
  },
  {
   "cell_type": "code",
   "execution_count": 6,
   "outputs": [],
   "source": [
    "# create a time series for the df\n",
    "series = TimeSeries.from_dataframe(df_cfip, 'first_day_of_month', 'microbusiness_density')"
   ],
   "metadata": {
    "collapsed": false
   }
  },
  {
   "cell_type": "code",
   "execution_count": 7,
   "outputs": [],
   "source": [
    "train, val = series[:-6], series[-6:]"
   ],
   "metadata": {
    "collapsed": false
   }
  },
  {
   "cell_type": "code",
   "execution_count": 8,
   "outputs": [],
   "source": [
    "from darts.models import ExponentialSmoothing, ARIMA,AutoARIMA, BATS, Theta, Prophet, FFT,KalmanForecaster, RegressionModel, RandomForest\n",
    "\n",
    "model = RandomForest(lags=[-1, -2, -3])\n",
    "model.fit(train)\n",
    "prediction = model.predict(len(val), num_samples=1)"
   ],
   "metadata": {
    "collapsed": false
   }
  },
  {
   "cell_type": "code",
   "execution_count": 9,
   "outputs": [
    {
     "data": {
      "text/plain": "<matplotlib.legend.Legend at 0x26322e740a0>"
     },
     "execution_count": 9,
     "metadata": {},
     "output_type": "execute_result"
    },
    {
     "data": {
      "text/plain": "<Figure size 640x480 with 1 Axes>",
      "image/png": "[encoded data removed]"
     },
     "metadata": {},
     "output_type": "display_data"
    }
   ],
   "source": [
    "import matplotlib.pyplot as plt\n",
    "\n",
    "series.plot()\n",
    "prediction.plot(label=\"forecast\", low_quantile=0.05, high_quantile=0.95)\n",
    "plt.legend()"
   ],
   "metadata": {
    "collapsed": false
   }
  },
  {
   "cell_type": "code",
   "execution_count": 10,
   "outputs": [
    {
     "name": "stderr",
     "output_type": "stream",
     "text": [
      " 45%|████▌     | 1426/3135 [10:13<12:16,  2.32it/s]C:\\Users\\avomo\\AppData\\Local\\Temp\\ipykernel_10376\\4041025148.py:8: RuntimeWarning: invalid value encountered in true_divide\n",
      "  np.abs(y_pred - y_true) /\n",
      " 82%|████████▏ | 2574/3135 [18:17<03:59,  2.34it/s]\n"
     ]
    },
    {
     "ename": "KeyboardInterrupt",
     "evalue": "",
     "output_type": "error",
     "traceback": [
      "\u001B[1;31m---------------------------------------------------------------------------\u001B[0m",
      "\u001B[1;31mKeyboardInterrupt\u001B[0m                         Traceback (most recent call last)",
      "\u001B[1;32m~\\AppData\\Local\\Temp\\ipykernel_10376\\3175189118.py\u001B[0m in \u001B[0;36m<module>\u001B[1;34m\u001B[0m\n\u001B[0;32m      6\u001B[0m     \u001B[0mtrain\u001B[0m\u001B[1;33m,\u001B[0m \u001B[0mval\u001B[0m \u001B[1;33m=\u001B[0m \u001B[0mseries\u001B[0m\u001B[1;33m[\u001B[0m\u001B[1;33m:\u001B[0m\u001B[1;33m-\u001B[0m\u001B[1;36m6\u001B[0m\u001B[1;33m]\u001B[0m\u001B[1;33m,\u001B[0m \u001B[0mseries\u001B[0m\u001B[1;33m[\u001B[0m\u001B[1;33m-\u001B[0m\u001B[1;36m6\u001B[0m\u001B[1;33m:\u001B[0m\u001B[1;33m]\u001B[0m\u001B[1;33m\u001B[0m\u001B[1;33m\u001B[0m\u001B[0m\n\u001B[0;32m      7\u001B[0m     \u001B[0mmodel\u001B[0m \u001B[1;33m=\u001B[0m \u001B[0mRandomForest\u001B[0m\u001B[1;33m(\u001B[0m\u001B[0mlags\u001B[0m\u001B[1;33m=\u001B[0m\u001B[1;33m[\u001B[0m\u001B[1;33m-\u001B[0m\u001B[1;36m1\u001B[0m\u001B[1;33m,\u001B[0m \u001B[1;33m-\u001B[0m\u001B[1;36m2\u001B[0m\u001B[1;33m,\u001B[0m \u001B[1;33m-\u001B[0m\u001B[1;36m3\u001B[0m\u001B[1;33m]\u001B[0m\u001B[1;33m)\u001B[0m\u001B[1;33m\u001B[0m\u001B[1;33m\u001B[0m\u001B[0m\n\u001B[1;32m----> 8\u001B[1;33m     \u001B[0mmodel\u001B[0m\u001B[1;33m.\u001B[0m\u001B[0mfit\u001B[0m\u001B[1;33m(\u001B[0m\u001B[0mtrain\u001B[0m\u001B[1;33m)\u001B[0m\u001B[1;33m\u001B[0m\u001B[1;33m\u001B[0m\u001B[0m\n\u001B[0m\u001B[0;32m      9\u001B[0m     \u001B[0mprediction\u001B[0m \u001B[1;33m=\u001B[0m \u001B[0mmodel\u001B[0m\u001B[1;33m.\u001B[0m\u001B[0mpredict\u001B[0m\u001B[1;33m(\u001B[0m\u001B[0mlen\u001B[0m\u001B[1;33m(\u001B[0m\u001B[0mval\u001B[0m\u001B[1;33m)\u001B[0m\u001B[1;33m,\u001B[0m \u001B[0mnum_samples\u001B[0m\u001B[1;33m=\u001B[0m\u001B[1;36m1\u001B[0m\u001B[1;33m)\u001B[0m\u001B[1;33m\u001B[0m\u001B[1;33m\u001B[0m\u001B[0m\n\u001B[0;32m     10\u001B[0m     \u001B[0msmape\u001B[0m \u001B[1;33m=\u001B[0m \u001B[0mcompute_smape\u001B[0m\u001B[1;33m(\u001B[0m\u001B[0mval\u001B[0m\u001B[1;33m.\u001B[0m\u001B[0mall_values\u001B[0m\u001B[1;33m(\u001B[0m\u001B[1;33m)\u001B[0m\u001B[1;33m.\u001B[0m\u001B[0mflatten\u001B[0m\u001B[1;33m(\u001B[0m\u001B[1;33m)\u001B[0m\u001B[1;33m,\u001B[0m \u001B[0mprediction\u001B[0m\u001B[1;33m.\u001B[0m\u001B[0mmean\u001B[0m\u001B[1;33m(\u001B[0m\u001B[1;33m)\u001B[0m\u001B[1;33m.\u001B[0m\u001B[0mall_values\u001B[0m\u001B[1;33m(\u001B[0m\u001B[1;33m)\u001B[0m\u001B[1;33m.\u001B[0m\u001B[0mflatten\u001B[0m\u001B[1;33m(\u001B[0m\u001B[1;33m)\u001B[0m\u001B[1;33m)\u001B[0m\u001B[1;33m\u001B[0m\u001B[1;33m\u001B[0m\u001B[0m\n",
      "\u001B[1;32m~\\AppData\\Roaming\\Python\\Python39\\site-packages\\darts\\models\\forecasting\\regression_model.py\u001B[0m in \u001B[0;36mfit\u001B[1;34m(self, series, past_covariates, future_covariates, max_samples_per_ts, n_jobs_multioutput_wrapper, **kwargs)\u001B[0m\n\u001B[0;32m    480\u001B[0m         )\n\u001B[0;32m    481\u001B[0m \u001B[1;33m\u001B[0m\u001B[0m\n\u001B[1;32m--> 482\u001B[1;33m         self._fit_model(\n\u001B[0m\u001B[0;32m    483\u001B[0m             \u001B[0mseries\u001B[0m\u001B[1;33m,\u001B[0m \u001B[0mpast_covariates\u001B[0m\u001B[1;33m,\u001B[0m \u001B[0mfuture_covariates\u001B[0m\u001B[1;33m,\u001B[0m \u001B[0mmax_samples_per_ts\u001B[0m\u001B[1;33m,\u001B[0m \u001B[1;33m**\u001B[0m\u001B[0mkwargs\u001B[0m\u001B[1;33m\u001B[0m\u001B[1;33m\u001B[0m\u001B[0m\n\u001B[0;32m    484\u001B[0m         )\n",
      "\u001B[1;32m~\\AppData\\Roaming\\Python\\Python39\\site-packages\\darts\\models\\forecasting\\regression_model.py\u001B[0m in \u001B[0;36m_fit_model\u001B[1;34m(self, target_series, past_covariates, future_covariates, max_samples_per_ts, **kwargs)\u001B[0m\n\u001B[0;32m    369\u001B[0m         \u001B[1;32mif\u001B[0m \u001B[0mlen\u001B[0m\u001B[1;33m(\u001B[0m\u001B[0mtraining_labels\u001B[0m\u001B[1;33m.\u001B[0m\u001B[0mshape\u001B[0m\u001B[1;33m)\u001B[0m \u001B[1;33m==\u001B[0m \u001B[1;36m2\u001B[0m \u001B[1;32mand\u001B[0m \u001B[0mtraining_labels\u001B[0m\u001B[1;33m.\u001B[0m\u001B[0mshape\u001B[0m\u001B[1;33m[\u001B[0m\u001B[1;36m1\u001B[0m\u001B[1;33m]\u001B[0m \u001B[1;33m==\u001B[0m \u001B[1;36m1\u001B[0m\u001B[1;33m:\u001B[0m\u001B[1;33m\u001B[0m\u001B[1;33m\u001B[0m\u001B[0m\n\u001B[0;32m    370\u001B[0m             \u001B[0mtraining_labels\u001B[0m \u001B[1;33m=\u001B[0m \u001B[0mtraining_labels\u001B[0m\u001B[1;33m.\u001B[0m\u001B[0mravel\u001B[0m\u001B[1;33m(\u001B[0m\u001B[1;33m)\u001B[0m\u001B[1;33m\u001B[0m\u001B[1;33m\u001B[0m\u001B[0m\n\u001B[1;32m--> 371\u001B[1;33m         \u001B[0mself\u001B[0m\u001B[1;33m.\u001B[0m\u001B[0mmodel\u001B[0m\u001B[1;33m.\u001B[0m\u001B[0mfit\u001B[0m\u001B[1;33m(\u001B[0m\u001B[0mtraining_samples\u001B[0m\u001B[1;33m,\u001B[0m \u001B[0mtraining_labels\u001B[0m\u001B[1;33m,\u001B[0m \u001B[1;33m**\u001B[0m\u001B[0mkwargs\u001B[0m\u001B[1;33m)\u001B[0m\u001B[1;33m\u001B[0m\u001B[1;33m\u001B[0m\u001B[0m\n\u001B[0m\u001B[0;32m    372\u001B[0m \u001B[1;33m\u001B[0m\u001B[0m\n\u001B[0;32m    373\u001B[0m     def fit(\n",
      "\u001B[1;32mC:\\ProgramData\\Anaconda3\\lib\\site-packages\\sklearn\\ensemble\\_forest.py\u001B[0m in \u001B[0;36mfit\u001B[1;34m(self, X, y, sample_weight)\u001B[0m\n\u001B[0;32m    448\u001B[0m             \u001B[1;31m# parallel_backend contexts set at a higher level,\u001B[0m\u001B[1;33m\u001B[0m\u001B[1;33m\u001B[0m\u001B[0m\n\u001B[0;32m    449\u001B[0m             \u001B[1;31m# since correctness does not rely on using threads.\u001B[0m\u001B[1;33m\u001B[0m\u001B[1;33m\u001B[0m\u001B[0m\n\u001B[1;32m--> 450\u001B[1;33m             trees = Parallel(\n\u001B[0m\u001B[0;32m    451\u001B[0m                 \u001B[0mn_jobs\u001B[0m\u001B[1;33m=\u001B[0m\u001B[0mself\u001B[0m\u001B[1;33m.\u001B[0m\u001B[0mn_jobs\u001B[0m\u001B[1;33m,\u001B[0m\u001B[1;33m\u001B[0m\u001B[1;33m\u001B[0m\u001B[0m\n\u001B[0;32m    452\u001B[0m                 \u001B[0mverbose\u001B[0m\u001B[1;33m=\u001B[0m\u001B[0mself\u001B[0m\u001B[1;33m.\u001B[0m\u001B[0mverbose\u001B[0m\u001B[1;33m,\u001B[0m\u001B[1;33m\u001B[0m\u001B[1;33m\u001B[0m\u001B[0m\n",
      "\u001B[1;32mC:\\ProgramData\\Anaconda3\\lib\\site-packages\\joblib\\parallel.py\u001B[0m in \u001B[0;36m__call__\u001B[1;34m(self, iterable)\u001B[0m\n\u001B[0;32m   1044\u001B[0m                 \u001B[0mself\u001B[0m\u001B[1;33m.\u001B[0m\u001B[0m_iterating\u001B[0m \u001B[1;33m=\u001B[0m \u001B[0mself\u001B[0m\u001B[1;33m.\u001B[0m\u001B[0m_original_iterator\u001B[0m \u001B[1;32mis\u001B[0m \u001B[1;32mnot\u001B[0m \u001B[1;32mNone\u001B[0m\u001B[1;33m\u001B[0m\u001B[1;33m\u001B[0m\u001B[0m\n\u001B[0;32m   1045\u001B[0m \u001B[1;33m\u001B[0m\u001B[0m\n\u001B[1;32m-> 1046\u001B[1;33m             \u001B[1;32mwhile\u001B[0m \u001B[0mself\u001B[0m\u001B[1;33m.\u001B[0m\u001B[0mdispatch_one_batch\u001B[0m\u001B[1;33m(\u001B[0m\u001B[0miterator\u001B[0m\u001B[1;33m)\u001B[0m\u001B[1;33m:\u001B[0m\u001B[1;33m\u001B[0m\u001B[1;33m\u001B[0m\u001B[0m\n\u001B[0m\u001B[0;32m   1047\u001B[0m                 \u001B[1;32mpass\u001B[0m\u001B[1;33m\u001B[0m\u001B[1;33m\u001B[0m\u001B[0m\n\u001B[0;32m   1048\u001B[0m \u001B[1;33m\u001B[0m\u001B[0m\n",
      "\u001B[1;32mC:\\ProgramData\\Anaconda3\\lib\\site-packages\\joblib\\parallel.py\u001B[0m in \u001B[0;36mdispatch_one_batch\u001B[1;34m(self, iterator)\u001B[0m\n\u001B[0;32m    859\u001B[0m                 \u001B[1;32mreturn\u001B[0m \u001B[1;32mFalse\u001B[0m\u001B[1;33m\u001B[0m\u001B[1;33m\u001B[0m\u001B[0m\n\u001B[0;32m    860\u001B[0m             \u001B[1;32melse\u001B[0m\u001B[1;33m:\u001B[0m\u001B[1;33m\u001B[0m\u001B[1;33m\u001B[0m\u001B[0m\n\u001B[1;32m--> 861\u001B[1;33m                 \u001B[0mself\u001B[0m\u001B[1;33m.\u001B[0m\u001B[0m_dispatch\u001B[0m\u001B[1;33m(\u001B[0m\u001B[0mtasks\u001B[0m\u001B[1;33m)\u001B[0m\u001B[1;33m\u001B[0m\u001B[1;33m\u001B[0m\u001B[0m\n\u001B[0m\u001B[0;32m    862\u001B[0m                 \u001B[1;32mreturn\u001B[0m \u001B[1;32mTrue\u001B[0m\u001B[1;33m\u001B[0m\u001B[1;33m\u001B[0m\u001B[0m\n\u001B[0;32m    863\u001B[0m \u001B[1;33m\u001B[0m\u001B[0m\n",
      "\u001B[1;32mC:\\ProgramData\\Anaconda3\\lib\\site-packages\\joblib\\parallel.py\u001B[0m in \u001B[0;36m_dispatch\u001B[1;34m(self, batch)\u001B[0m\n\u001B[0;32m    777\u001B[0m         \u001B[1;32mwith\u001B[0m \u001B[0mself\u001B[0m\u001B[1;33m.\u001B[0m\u001B[0m_lock\u001B[0m\u001B[1;33m:\u001B[0m\u001B[1;33m\u001B[0m\u001B[1;33m\u001B[0m\u001B[0m\n\u001B[0;32m    778\u001B[0m             \u001B[0mjob_idx\u001B[0m \u001B[1;33m=\u001B[0m \u001B[0mlen\u001B[0m\u001B[1;33m(\u001B[0m\u001B[0mself\u001B[0m\u001B[1;33m.\u001B[0m\u001B[0m_jobs\u001B[0m\u001B[1;33m)\u001B[0m\u001B[1;33m\u001B[0m\u001B[1;33m\u001B[0m\u001B[0m\n\u001B[1;32m--> 779\u001B[1;33m             \u001B[0mjob\u001B[0m \u001B[1;33m=\u001B[0m \u001B[0mself\u001B[0m\u001B[1;33m.\u001B[0m\u001B[0m_backend\u001B[0m\u001B[1;33m.\u001B[0m\u001B[0mapply_async\u001B[0m\u001B[1;33m(\u001B[0m\u001B[0mbatch\u001B[0m\u001B[1;33m,\u001B[0m \u001B[0mcallback\u001B[0m\u001B[1;33m=\u001B[0m\u001B[0mcb\u001B[0m\u001B[1;33m)\u001B[0m\u001B[1;33m\u001B[0m\u001B[1;33m\u001B[0m\u001B[0m\n\u001B[0m\u001B[0;32m    780\u001B[0m             \u001B[1;31m# A job can complete so quickly than its callback is\u001B[0m\u001B[1;33m\u001B[0m\u001B[1;33m\u001B[0m\u001B[0m\n\u001B[0;32m    781\u001B[0m             \u001B[1;31m# called before we get here, causing self._jobs to\u001B[0m\u001B[1;33m\u001B[0m\u001B[1;33m\u001B[0m\u001B[0m\n",
      "\u001B[1;32mC:\\ProgramData\\Anaconda3\\lib\\site-packages\\joblib\\_parallel_backends.py\u001B[0m in \u001B[0;36mapply_async\u001B[1;34m(self, func, callback)\u001B[0m\n\u001B[0;32m    206\u001B[0m     \u001B[1;32mdef\u001B[0m \u001B[0mapply_async\u001B[0m\u001B[1;33m(\u001B[0m\u001B[0mself\u001B[0m\u001B[1;33m,\u001B[0m \u001B[0mfunc\u001B[0m\u001B[1;33m,\u001B[0m \u001B[0mcallback\u001B[0m\u001B[1;33m=\u001B[0m\u001B[1;32mNone\u001B[0m\u001B[1;33m)\u001B[0m\u001B[1;33m:\u001B[0m\u001B[1;33m\u001B[0m\u001B[1;33m\u001B[0m\u001B[0m\n\u001B[0;32m    207\u001B[0m         \u001B[1;34m\"\"\"Schedule a func to be run\"\"\"\u001B[0m\u001B[1;33m\u001B[0m\u001B[1;33m\u001B[0m\u001B[0m\n\u001B[1;32m--> 208\u001B[1;33m         \u001B[0mresult\u001B[0m \u001B[1;33m=\u001B[0m \u001B[0mImmediateResult\u001B[0m\u001B[1;33m(\u001B[0m\u001B[0mfunc\u001B[0m\u001B[1;33m)\u001B[0m\u001B[1;33m\u001B[0m\u001B[1;33m\u001B[0m\u001B[0m\n\u001B[0m\u001B[0;32m    209\u001B[0m         \u001B[1;32mif\u001B[0m \u001B[0mcallback\u001B[0m\u001B[1;33m:\u001B[0m\u001B[1;33m\u001B[0m\u001B[1;33m\u001B[0m\u001B[0m\n\u001B[0;32m    210\u001B[0m             \u001B[0mcallback\u001B[0m\u001B[1;33m(\u001B[0m\u001B[0mresult\u001B[0m\u001B[1;33m)\u001B[0m\u001B[1;33m\u001B[0m\u001B[1;33m\u001B[0m\u001B[0m\n",
      "\u001B[1;32mC:\\ProgramData\\Anaconda3\\lib\\site-packages\\joblib\\_parallel_backends.py\u001B[0m in \u001B[0;36m__init__\u001B[1;34m(self, batch)\u001B[0m\n\u001B[0;32m    570\u001B[0m         \u001B[1;31m# Don't delay the application, to avoid keeping the input\u001B[0m\u001B[1;33m\u001B[0m\u001B[1;33m\u001B[0m\u001B[0m\n\u001B[0;32m    571\u001B[0m         \u001B[1;31m# arguments in memory\u001B[0m\u001B[1;33m\u001B[0m\u001B[1;33m\u001B[0m\u001B[0m\n\u001B[1;32m--> 572\u001B[1;33m         \u001B[0mself\u001B[0m\u001B[1;33m.\u001B[0m\u001B[0mresults\u001B[0m \u001B[1;33m=\u001B[0m \u001B[0mbatch\u001B[0m\u001B[1;33m(\u001B[0m\u001B[1;33m)\u001B[0m\u001B[1;33m\u001B[0m\u001B[1;33m\u001B[0m\u001B[0m\n\u001B[0m\u001B[0;32m    573\u001B[0m \u001B[1;33m\u001B[0m\u001B[0m\n\u001B[0;32m    574\u001B[0m     \u001B[1;32mdef\u001B[0m \u001B[0mget\u001B[0m\u001B[1;33m(\u001B[0m\u001B[0mself\u001B[0m\u001B[1;33m)\u001B[0m\u001B[1;33m:\u001B[0m\u001B[1;33m\u001B[0m\u001B[1;33m\u001B[0m\u001B[0m\n",
      "\u001B[1;32mC:\\ProgramData\\Anaconda3\\lib\\site-packages\\joblib\\parallel.py\u001B[0m in \u001B[0;36m__call__\u001B[1;34m(self)\u001B[0m\n\u001B[0;32m    260\u001B[0m         \u001B[1;31m# change the default number of processes to -1\u001B[0m\u001B[1;33m\u001B[0m\u001B[1;33m\u001B[0m\u001B[0m\n\u001B[0;32m    261\u001B[0m         \u001B[1;32mwith\u001B[0m \u001B[0mparallel_backend\u001B[0m\u001B[1;33m(\u001B[0m\u001B[0mself\u001B[0m\u001B[1;33m.\u001B[0m\u001B[0m_backend\u001B[0m\u001B[1;33m,\u001B[0m \u001B[0mn_jobs\u001B[0m\u001B[1;33m=\u001B[0m\u001B[0mself\u001B[0m\u001B[1;33m.\u001B[0m\u001B[0m_n_jobs\u001B[0m\u001B[1;33m)\u001B[0m\u001B[1;33m:\u001B[0m\u001B[1;33m\u001B[0m\u001B[1;33m\u001B[0m\u001B[0m\n\u001B[1;32m--> 262\u001B[1;33m             return [func(*args, **kwargs)\n\u001B[0m\u001B[0;32m    263\u001B[0m                     for func, args, kwargs in self.items]\n\u001B[0;32m    264\u001B[0m \u001B[1;33m\u001B[0m\u001B[0m\n",
      "\u001B[1;32mC:\\ProgramData\\Anaconda3\\lib\\site-packages\\joblib\\parallel.py\u001B[0m in \u001B[0;36m<listcomp>\u001B[1;34m(.0)\u001B[0m\n\u001B[0;32m    260\u001B[0m         \u001B[1;31m# change the default number of processes to -1\u001B[0m\u001B[1;33m\u001B[0m\u001B[1;33m\u001B[0m\u001B[0m\n\u001B[0;32m    261\u001B[0m         \u001B[1;32mwith\u001B[0m \u001B[0mparallel_backend\u001B[0m\u001B[1;33m(\u001B[0m\u001B[0mself\u001B[0m\u001B[1;33m.\u001B[0m\u001B[0m_backend\u001B[0m\u001B[1;33m,\u001B[0m \u001B[0mn_jobs\u001B[0m\u001B[1;33m=\u001B[0m\u001B[0mself\u001B[0m\u001B[1;33m.\u001B[0m\u001B[0m_n_jobs\u001B[0m\u001B[1;33m)\u001B[0m\u001B[1;33m:\u001B[0m\u001B[1;33m\u001B[0m\u001B[1;33m\u001B[0m\u001B[0m\n\u001B[1;32m--> 262\u001B[1;33m             return [func(*args, **kwargs)\n\u001B[0m\u001B[0;32m    263\u001B[0m                     for func, args, kwargs in self.items]\n\u001B[0;32m    264\u001B[0m \u001B[1;33m\u001B[0m\u001B[0m\n",
      "\u001B[1;32mC:\\ProgramData\\Anaconda3\\lib\\site-packages\\sklearn\\utils\\fixes.py\u001B[0m in \u001B[0;36m__call__\u001B[1;34m(self, *args, **kwargs)\u001B[0m\n\u001B[0;32m    214\u001B[0m     \u001B[1;32mdef\u001B[0m \u001B[0m__call__\u001B[0m\u001B[1;33m(\u001B[0m\u001B[0mself\u001B[0m\u001B[1;33m,\u001B[0m \u001B[1;33m*\u001B[0m\u001B[0margs\u001B[0m\u001B[1;33m,\u001B[0m \u001B[1;33m**\u001B[0m\u001B[0mkwargs\u001B[0m\u001B[1;33m)\u001B[0m\u001B[1;33m:\u001B[0m\u001B[1;33m\u001B[0m\u001B[1;33m\u001B[0m\u001B[0m\n\u001B[0;32m    215\u001B[0m         \u001B[1;32mwith\u001B[0m \u001B[0mconfig_context\u001B[0m\u001B[1;33m(\u001B[0m\u001B[1;33m**\u001B[0m\u001B[0mself\u001B[0m\u001B[1;33m.\u001B[0m\u001B[0mconfig\u001B[0m\u001B[1;33m)\u001B[0m\u001B[1;33m:\u001B[0m\u001B[1;33m\u001B[0m\u001B[1;33m\u001B[0m\u001B[0m\n\u001B[1;32m--> 216\u001B[1;33m             \u001B[1;32mreturn\u001B[0m \u001B[0mself\u001B[0m\u001B[1;33m.\u001B[0m\u001B[0mfunction\u001B[0m\u001B[1;33m(\u001B[0m\u001B[1;33m*\u001B[0m\u001B[0margs\u001B[0m\u001B[1;33m,\u001B[0m \u001B[1;33m**\u001B[0m\u001B[0mkwargs\u001B[0m\u001B[1;33m)\u001B[0m\u001B[1;33m\u001B[0m\u001B[1;33m\u001B[0m\u001B[0m\n\u001B[0m\u001B[0;32m    217\u001B[0m \u001B[1;33m\u001B[0m\u001B[0m\n\u001B[0;32m    218\u001B[0m \u001B[1;33m\u001B[0m\u001B[0m\n",
      "\u001B[1;32mC:\\ProgramData\\Anaconda3\\lib\\site-packages\\sklearn\\ensemble\\_forest.py\u001B[0m in \u001B[0;36m_parallel_build_trees\u001B[1;34m(tree, forest, X, y, sample_weight, tree_idx, n_trees, verbose, class_weight, n_samples_bootstrap)\u001B[0m\n\u001B[0;32m    183\u001B[0m             \u001B[0mcurr_sample_weight\u001B[0m \u001B[1;33m*=\u001B[0m \u001B[0mcompute_sample_weight\u001B[0m\u001B[1;33m(\u001B[0m\u001B[1;34m\"balanced\"\u001B[0m\u001B[1;33m,\u001B[0m \u001B[0my\u001B[0m\u001B[1;33m,\u001B[0m \u001B[0mindices\u001B[0m\u001B[1;33m=\u001B[0m\u001B[0mindices\u001B[0m\u001B[1;33m)\u001B[0m\u001B[1;33m\u001B[0m\u001B[1;33m\u001B[0m\u001B[0m\n\u001B[0;32m    184\u001B[0m \u001B[1;33m\u001B[0m\u001B[0m\n\u001B[1;32m--> 185\u001B[1;33m         \u001B[0mtree\u001B[0m\u001B[1;33m.\u001B[0m\u001B[0mfit\u001B[0m\u001B[1;33m(\u001B[0m\u001B[0mX\u001B[0m\u001B[1;33m,\u001B[0m \u001B[0my\u001B[0m\u001B[1;33m,\u001B[0m \u001B[0msample_weight\u001B[0m\u001B[1;33m=\u001B[0m\u001B[0mcurr_sample_weight\u001B[0m\u001B[1;33m,\u001B[0m \u001B[0mcheck_input\u001B[0m\u001B[1;33m=\u001B[0m\u001B[1;32mFalse\u001B[0m\u001B[1;33m)\u001B[0m\u001B[1;33m\u001B[0m\u001B[1;33m\u001B[0m\u001B[0m\n\u001B[0m\u001B[0;32m    186\u001B[0m     \u001B[1;32melse\u001B[0m\u001B[1;33m:\u001B[0m\u001B[1;33m\u001B[0m\u001B[1;33m\u001B[0m\u001B[0m\n\u001B[0;32m    187\u001B[0m         \u001B[0mtree\u001B[0m\u001B[1;33m.\u001B[0m\u001B[0mfit\u001B[0m\u001B[1;33m(\u001B[0m\u001B[0mX\u001B[0m\u001B[1;33m,\u001B[0m \u001B[0my\u001B[0m\u001B[1;33m,\u001B[0m \u001B[0msample_weight\u001B[0m\u001B[1;33m=\u001B[0m\u001B[0msample_weight\u001B[0m\u001B[1;33m,\u001B[0m \u001B[0mcheck_input\u001B[0m\u001B[1;33m=\u001B[0m\u001B[1;32mFalse\u001B[0m\u001B[1;33m)\u001B[0m\u001B[1;33m\u001B[0m\u001B[1;33m\u001B[0m\u001B[0m\n",
      "\u001B[1;32mC:\\ProgramData\\Anaconda3\\lib\\site-packages\\sklearn\\tree\\_classes.py\u001B[0m in \u001B[0;36mfit\u001B[1;34m(self, X, y, sample_weight, check_input, X_idx_sorted)\u001B[0m\n\u001B[0;32m   1313\u001B[0m         \"\"\"\n\u001B[0;32m   1314\u001B[0m \u001B[1;33m\u001B[0m\u001B[0m\n\u001B[1;32m-> 1315\u001B[1;33m         super().fit(\n\u001B[0m\u001B[0;32m   1316\u001B[0m             \u001B[0mX\u001B[0m\u001B[1;33m,\u001B[0m\u001B[1;33m\u001B[0m\u001B[1;33m\u001B[0m\u001B[0m\n\u001B[0;32m   1317\u001B[0m             \u001B[0my\u001B[0m\u001B[1;33m,\u001B[0m\u001B[1;33m\u001B[0m\u001B[1;33m\u001B[0m\u001B[0m\n",
      "\u001B[1;32mC:\\ProgramData\\Anaconda3\\lib\\site-packages\\sklearn\\tree\\_classes.py\u001B[0m in \u001B[0;36mfit\u001B[1;34m(self, X, y, sample_weight, check_input, X_idx_sorted)\u001B[0m\n\u001B[0;32m    418\u001B[0m             )\n\u001B[0;32m    419\u001B[0m \u001B[1;33m\u001B[0m\u001B[0m\n\u001B[1;32m--> 420\u001B[1;33m         \u001B[0mbuilder\u001B[0m\u001B[1;33m.\u001B[0m\u001B[0mbuild\u001B[0m\u001B[1;33m(\u001B[0m\u001B[0mself\u001B[0m\u001B[1;33m.\u001B[0m\u001B[0mtree_\u001B[0m\u001B[1;33m,\u001B[0m \u001B[0mX\u001B[0m\u001B[1;33m,\u001B[0m \u001B[0my\u001B[0m\u001B[1;33m,\u001B[0m \u001B[0msample_weight\u001B[0m\u001B[1;33m)\u001B[0m\u001B[1;33m\u001B[0m\u001B[1;33m\u001B[0m\u001B[0m\n\u001B[0m\u001B[0;32m    421\u001B[0m \u001B[1;33m\u001B[0m\u001B[0m\n\u001B[0;32m    422\u001B[0m         \u001B[1;32mif\u001B[0m \u001B[0mself\u001B[0m\u001B[1;33m.\u001B[0m\u001B[0mn_outputs_\u001B[0m \u001B[1;33m==\u001B[0m \u001B[1;36m1\u001B[0m \u001B[1;32mand\u001B[0m \u001B[0mis_classifier\u001B[0m\u001B[1;33m(\u001B[0m\u001B[0mself\u001B[0m\u001B[1;33m)\u001B[0m\u001B[1;33m:\u001B[0m\u001B[1;33m\u001B[0m\u001B[1;33m\u001B[0m\u001B[0m\n",
      "\u001B[1;31mKeyboardInterrupt\u001B[0m: "
     ]
    }
   ],
   "source": [
    "all_smapes = []\n",
    "\n",
    "for cfip in tqdm(train_data['cfips'].unique()):\n",
    "    df_cfip = train_data[train_data['cfips'] == cfip]\n",
    "    series = TimeSeries.from_dataframe(df_cfip, 'first_day_of_month', 'microbusiness_density')\n",
    "    train, val = series[:-6], series[-6:]\n",
    "    model = RandomForest(lags=[-1, -2, -3])\n",
    "    model.fit(train)\n",
    "    prediction = model.predict(len(val), num_samples=1)\n",
    "    smape = compute_smape(val.all_values().flatten(), prediction.mean().all_values().flatten())\n",
    "    all_smapes.append(smape)"
   ],
   "metadata": {
    "collapsed": false
   }
  },
  {
   "cell_type": "code",
   "execution_count": 134,
   "outputs": [
    {
     "data": {
      "text/plain": "3.6039706445437143"
     },
     "execution_count": 134,
     "metadata": {},
     "output_type": "execute_result"
    }
   ],
   "source": [
    "x = np.array(all_smapes)\n",
    "np.mean(x[~np.isnan(x)])"
   ],
   "metadata": {
    "collapsed": false
   }
  },
  {
   "cell_type": "markdown",
   "source": [
    "### Train the model for every cfip"
   ],
   "metadata": {
    "collapsed": false
   }
  },
  {
   "cell_type": "code",
   "execution_count": 137,
   "outputs": [],
   "source": [
    "from darts.models import NaiveSeasonal, RegressionModel"
   ],
   "metadata": {
    "collapsed": false
   }
  },
  {
   "cell_type": "code",
   "execution_count": 146,
   "outputs": [
    {
     "data": {
      "text/plain": "             row_id  cfips          county    state first_day_of_month  \\\n0   1001_2019-08-01   1001  Autauga County  Alabama         2019-08-01   \n1   1001_2019-09-01   1001  Autauga County  Alabama         2019-09-01   \n2   1001_2019-10-01   1001  Autauga County  Alabama         2019-10-01   \n3   1001_2019-11-01   1001  Autauga County  Alabama         2019-11-01   \n4   1001_2019-12-01   1001  Autauga County  Alabama         2019-12-01   \n5   1001_2020-01-01   1001  Autauga County  Alabama         2020-01-01   \n6   1001_2020-02-01   1001  Autauga County  Alabama         2020-02-01   \n7   1001_2020-03-01   1001  Autauga County  Alabama         2020-03-01   \n8   1001_2020-04-01   1001  Autauga County  Alabama         2020-04-01   \n9   1001_2020-05-01   1001  Autauga County  Alabama         2020-05-01   \n10  1001_2020-06-01   1001  Autauga County  Alabama         2020-06-01   \n11  1001_2020-07-01   1001  Autauga County  Alabama         2020-07-01   \n12  1001_2020-08-01   1001  Autauga County  Alabama         2020-08-01   \n13  1001_2020-09-01   1001  Autauga County  Alabama         2020-09-01   \n14  1001_2020-10-01   1001  Autauga County  Alabama         2020-10-01   \n15  1001_2020-11-01   1001  Autauga County  Alabama         2020-11-01   \n16  1001_2020-12-01   1001  Autauga County  Alabama         2020-12-01   \n17  1001_2021-01-01   1001  Autauga County  Alabama         2021-01-01   \n18  1001_2021-02-01   1001  Autauga County  Alabama         2021-02-01   \n19  1001_2021-03-01   1001  Autauga County  Alabama         2021-03-01   \n20  1001_2021-04-01   1001  Autauga County  Alabama         2021-04-01   \n21  1001_2021-05-01   1001  Autauga County  Alabama         2021-05-01   \n22  1001_2021-06-01   1001  Autauga County  Alabama         2021-06-01   \n23  1001_2021-07-01   1001  Autauga County  Alabama         2021-07-01   \n24  1001_2021-08-01   1001  Autauga County  Alabama         2021-08-01   \n25  1001_2021-09-01   1001  Autauga County  Alabama         2021-09-01   \n26  1001_2021-10-01   1001  Autauga County  Alabama         2021-10-01   \n27  1001_2021-11-01   1001  Autauga County  Alabama         2021-11-01   \n28  1001_2021-12-01   1001  Autauga County  Alabama         2021-12-01   \n29  1001_2022-01-01   1001  Autauga County  Alabama         2022-01-01   \n30  1001_2022-02-01   1001  Autauga County  Alabama         2022-02-01   \n31  1001_2022-03-01   1001  Autauga County  Alabama         2022-03-01   \n32  1001_2022-04-01   1001  Autauga County  Alabama         2022-04-01   \n33  1001_2022-05-01   1001  Autauga County  Alabama         2022-05-01   \n34  1001_2022-06-01   1001  Autauga County  Alabama         2022-06-01   \n35  1001_2022-07-01   1001  Autauga County  Alabama         2022-07-01   \n36  1001_2022-08-01   1001  Autauga County  Alabama         2022-08-01   \n37  1001_2022-09-01   1001  Autauga County  Alabama         2022-09-01   \n38  1001_2022-10-01   1001  Autauga County  Alabama         2022-10-01   \n\n    microbusiness_density  active        year  pct_bb  pct_college  \\\n0                3.007682    1249  2019-01-01    80.6         16.1   \n1                2.884870    1198  2019-01-01    80.6         16.1   \n2                3.055843    1269  2019-01-01    80.6         16.1   \n3                2.993233    1243  2019-01-01    80.6         16.1   \n4                2.993233    1243  2019-01-01    80.6         16.1   \n5                2.969090    1242  2020-01-01    82.7         16.7   \n6                2.909326    1217  2020-01-01    82.7         16.7   \n7                2.933231    1227  2020-01-01    82.7         16.7   \n8                3.000167    1255  2020-01-01    82.7         16.7   \n9                3.004948    1257  2020-01-01    82.7         16.7   \n10               3.019292    1263  2020-01-01    82.7         16.7   \n11               3.083837    1290  2020-01-01    82.7         16.7   \n12               3.174679    1328  2020-01-01    82.7         16.7   \n13               3.205756    1341  2020-01-01    82.7         16.7   \n14               3.193804    1336  2020-01-01    82.7         16.7   \n15               3.038416    1271  2020-01-01    82.7         16.7   \n16               3.002558    1256  2020-01-01    82.7         16.7   \n17               2.947244    1243  2021-01-01    85.5         16.4   \n18               3.106106    1310  2021-01-01    85.5         16.4   \n19               3.144043    1326  2021-01-01    85.5         16.4   \n20               3.224659    1360  2021-01-01    85.5         16.4   \n21               3.227030    1361  2021-01-01    85.5         16.4   \n22               3.222288    1359  2021-01-01    85.5         16.4   \n23               3.210433    1354  2021-01-01    85.5         16.4   \n24               3.219917    1358  2021-01-01    85.5         16.4   \n25               3.186722    1344  2021-01-01    85.5         16.4   \n26               3.203320    1351  2021-01-01    85.5         16.4   \n27               3.200948    1350  2021-01-01    85.5         16.4   \n28               3.286307    1386  2021-01-01    85.5         16.4   \n29               3.296781    1401  2022-01-01     NaN          NaN   \n30               3.334431    1417  2022-01-01     NaN          NaN   \n31               3.336785    1418  2022-01-01     NaN          NaN   \n32               3.372082    1433  2022-01-01     NaN          NaN   \n33               3.313253    1408  2022-01-01     NaN          NaN   \n34               3.346197    1422  2022-01-01     NaN          NaN   \n35               3.437971    1461  2022-01-01     NaN          NaN   \n36               3.423852    1455  2022-01-01     NaN          NaN   \n37               3.442677    1463  2022-01-01     NaN          NaN   \n38               3.463856    1472  2022-01-01     NaN          NaN   \n\n    pct_foreign_born  pct_it_workers  median_hh_inc  \n0                2.3             0.7        58731.0  \n1                2.3             0.7        58731.0  \n2                2.3             0.7        58731.0  \n3                2.3             0.7        58731.0  \n4                2.3             0.7        58731.0  \n5                2.3             0.6        57982.0  \n6                2.3             0.6        57982.0  \n7                2.3             0.6        57982.0  \n8                2.3             0.6        57982.0  \n9                2.3             0.6        57982.0  \n10               2.3             0.6        57982.0  \n11               2.3             0.6        57982.0  \n12               2.3             0.6        57982.0  \n13               2.3             0.6        57982.0  \n14               2.3             0.6        57982.0  \n15               2.3             0.6        57982.0  \n16               2.3             0.6        57982.0  \n17               2.1             1.1        62660.0  \n18               2.1             1.1        62660.0  \n19               2.1             1.1        62660.0  \n20               2.1             1.1        62660.0  \n21               2.1             1.1        62660.0  \n22               2.1             1.1        62660.0  \n23               2.1             1.1        62660.0  \n24               2.1             1.1        62660.0  \n25               2.1             1.1        62660.0  \n26               2.1             1.1        62660.0  \n27               2.1             1.1        62660.0  \n28               2.1             1.1        62660.0  \n29               NaN             NaN            NaN  \n30               NaN             NaN            NaN  \n31               NaN             NaN            NaN  \n32               NaN             NaN            NaN  \n33               NaN             NaN            NaN  \n34               NaN             NaN            NaN  \n35               NaN             NaN            NaN  \n36               NaN             NaN            NaN  \n37               NaN             NaN            NaN  \n38               NaN             NaN            NaN  ",
      "text/html": "<div>\n<style scoped>\n    .dataframe tbody tr th:only-of-type {\n        vertical-align: middle;\n    }\n\n    .dataframe tbody tr th {\n        vertical-align: top;\n    }\n\n    .dataframe thead th {\n        text-align: right;\n    }\n</style>\n<table border=\"1\" class=\"dataframe\">\n  <thead>\n    <tr style=\"text-align: right;\">\n      <th></th>\n      <th>row_id</th>\n      <th>cfips</th>\n      <th>county</th>\n      <th>state</th>\n      <th>first_day_of_month</th>\n      <th>microbusiness_density</th>\n      <th>active</th>\n      <th>year</th>\n      <th>pct_bb</th>\n      <th>pct_college</th>\n      <th>pct_foreign_born</th>\n      <th>pct_it_workers</th>\n      <th>median_hh_inc</th>\n    </tr>\n  </thead>\n  <tbody>\n    <tr>\n      <th>0</th>\n      <td>1001_2019-08-01</td>\n      <td>1001</td>\n      <td>Autauga County</td>\n      <td>Alabama</td>\n      <td>2019-08-01</td>\n      <td>3.007682</td>\n      <td>1249</td>\n      <td>2019-01-01</td>\n      <td>80.6</td>\n      <td>16.1</td>\n      <td>2.3</td>\n      <td>0.7</td>\n      <td>58731.0</td>\n    </tr>\n    <tr>\n      <th>1</th>\n      <td>1001_2019-09-01</td>\n      <td>1001</td>\n      <td>Autauga County</td>\n      <td>Alabama</td>\n      <td>2019-09-01</td>\n      <td>2.884870</td>\n      <td>1198</td>\n      <td>2019-01-01</td>\n      <td>80.6</td>\n      <td>16.1</td>\n      <td>2.3</td>\n      <td>0.7</td>\n      <td>58731.0</td>\n    </tr>\n    <tr>\n      <th>2</th>\n      <td>1001_2019-10-01</td>\n      <td>1001</td>\n      <td>Autauga County</td>\n      <td>Alabama</td>\n      <td>2019-10-01</td>\n      <td>3.055843</td>\n      <td>1269</td>\n      <td>2019-01-01</td>\n      <td>80.6</td>\n      <td>16.1</td>\n      <td>2.3</td>\n      <td>0.7</td>\n      <td>58731.0</td>\n    </tr>\n    <tr>\n      <th>3</th>\n      <td>1001_2019-11-01</td>\n      <td>1001</td>\n      <td>Autauga County</td>\n      <td>Alabama</td>\n      <td>2019-11-01</td>\n      <td>2.993233</td>\n      <td>1243</td>\n      <td>2019-01-01</td>\n      <td>80.6</td>\n      <td>16.1</td>\n      <td>2.3</td>\n      <td>0.7</td>\n      <td>58731.0</td>\n    </tr>\n    <tr>\n      <th>4</th>\n      <td>1001_2019-12-01</td>\n      <td>1001</td>\n      <td>Autauga County</td>\n      <td>Alabama</td>\n      <td>2019-12-01</td>\n      <td>2.993233</td>\n      <td>1243</td>\n      <td>2019-01-01</td>\n      <td>80.6</td>\n      <td>16.1</td>\n      <td>2.3</td>\n      <td>0.7</td>\n      <td>58731.0</td>\n    </tr>\n    <tr>\n      <th>5</th>\n      <td>1001_2020-01-01</td>\n      <td>1001</td>\n      <td>Autauga County</td>\n      <td>Alabama</td>\n      <td>2020-01-01</td>\n      <td>2.969090</td>\n      <td>1242</td>\n      <td>2020-01-01</td>\n      <td>82.7</td>\n      <td>16.7</td>\n      <td>2.3</td>\n      <td>0.6</td>\n      <td>57982.0</td>\n    </tr>\n    <tr>\n      <th>6</th>\n      <td>1001_2020-02-01</td>\n      <td>1001</td>\n      <td>Autauga County</td>\n      <td>Alabama</td>\n      <td>2020-02-01</td>\n      <td>2.909326</td>\n      <td>1217</td>\n      <td>2020-01-01</td>\n      <td>82.7</td>\n      <td>16.7</td>\n      <td>2.3</td>\n      <td>0.6</td>\n      <td>57982.0</td>\n    </tr>\n    <tr>\n      <th>7</th>\n      <td>1001_2020-03-01</td>\n      <td>1001</td>\n      <td>Autauga County</td>\n      <td>Alabama</td>\n      <td>2020-03-01</td>\n      <td>2.933231</td>\n      <td>1227</td>\n      <td>2020-01-01</td>\n      <td>82.7</td>\n      <td>16.7</td>\n      <td>2.3</td>\n      <td>0.6</td>\n      <td>57982.0</td>\n    </tr>\n    <tr>\n      <th>8</th>\n      <td>1001_2020-04-01</td>\n      <td>1001</td>\n      <td>Autauga County</td>\n      <td>Alabama</td>\n      <td>2020-04-01</td>\n      <td>3.000167</td>\n      <td>1255</td>\n      <td>2020-01-01</td>\n      <td>82.7</td>\n      <td>16.7</td>\n      <td>2.3</td>\n      <td>0.6</td>\n      <td>57982.0</td>\n    </tr>\n    <tr>\n      <th>9</th>\n      <td>1001_2020-05-01</td>\n      <td>1001</td>\n      <td>Autauga County</td>\n      <td>Alabama</td>\n      <td>2020-05-01</td>\n      <td>3.004948</td>\n      <td>1257</td>\n      <td>2020-01-01</td>\n      <td>82.7</td>\n      <td>16.7</td>\n      <td>2.3</td>\n      <td>0.6</td>\n      <td>57982.0</td>\n    </tr>\n    <tr>\n      <th>10</th>\n      <td>1001_2020-06-01</td>\n      <td>1001</td>\n      <td>Autauga County</td>\n      <td>Alabama</td>\n      <td>2020-06-01</td>\n      <td>3.019292</td>\n      <td>1263</td>\n      <td>2020-01-01</td>\n      <td>82.7</td>\n      <td>16.7</td>\n      <td>2.3</td>\n      <td>0.6</td>\n      <td>57982.0</td>\n    </tr>\n    <tr>\n      <th>11</th>\n      <td>1001_2020-07-01</td>\n      <td>1001</td>\n      <td>Autauga County</td>\n      <td>Alabama</td>\n      <td>2020-07-01</td>\n      <td>3.083837</td>\n      <td>1290</td>\n      <td>2020-01-01</td>\n      <td>82.7</td>\n      <td>16.7</td>\n      <td>2.3</td>\n      <td>0.6</td>\n      <td>57982.0</td>\n    </tr>\n    <tr>\n      <th>12</th>\n      <td>1001_2020-08-01</td>\n      <td>1001</td>\n      <td>Autauga County</td>\n      <td>Alabama</td>\n      <td>2020-08-01</td>\n      <td>3.174679</td>\n      <td>1328</td>\n      <td>2020-01-01</td>\n      <td>82.7</td>\n      <td>16.7</td>\n      <td>2.3</td>\n      <td>0.6</td>\n      <td>57982.0</td>\n    </tr>\n    <tr>\n      <th>13</th>\n      <td>1001_2020-09-01</td>\n      <td>1001</td>\n      <td>Autauga County</td>\n      <td>Alabama</td>\n      <td>2020-09-01</td>\n      <td>3.205756</td>\n      <td>1341</td>\n      <td>2020-01-01</td>\n      <td>82.7</td>\n      <td>16.7</td>\n      <td>2.3</td>\n      <td>0.6</td>\n      <td>57982.0</td>\n    </tr>\n    <tr>\n      <th>14</th>\n      <td>1001_2020-10-01</td>\n      <td>1001</td>\n      <td>Autauga County</td>\n      <td>Alabama</td>\n      <td>2020-10-01</td>\n      <td>3.193804</td>\n      <td>1336</td>\n      <td>2020-01-01</td>\n      <td>82.7</td>\n      <td>16.7</td>\n      <td>2.3</td>\n      <td>0.6</td>\n      <td>57982.0</td>\n    </tr>\n    <tr>\n      <th>15</th>\n      <td>1001_2020-11-01</td>\n      <td>1001</td>\n      <td>Autauga County</td>\n      <td>Alabama</td>\n      <td>2020-11-01</td>\n      <td>3.038416</td>\n      <td>1271</td>\n      <td>2020-01-01</td>\n      <td>82.7</td>\n      <td>16.7</td>\n      <td>2.3</td>\n      <td>0.6</td>\n      <td>57982.0</td>\n    </tr>\n    <tr>\n      <th>16</th>\n      <td>1001_2020-12-01</td>\n      <td>1001</td>\n      <td>Autauga County</td>\n      <td>Alabama</td>\n      <td>2020-12-01</td>\n      <td>3.002558</td>\n      <td>1256</td>\n      <td>2020-01-01</td>\n      <td>82.7</td>\n      <td>16.7</td>\n      <td>2.3</td>\n      <td>0.6</td>\n      <td>57982.0</td>\n    </tr>\n    <tr>\n      <th>17</th>\n      <td>1001_2021-01-01</td>\n      <td>1001</td>\n      <td>Autauga County</td>\n      <td>Alabama</td>\n      <td>2021-01-01</td>\n      <td>2.947244</td>\n      <td>1243</td>\n      <td>2021-01-01</td>\n      <td>85.5</td>\n      <td>16.4</td>\n      <td>2.1</td>\n      <td>1.1</td>\n      <td>62660.0</td>\n    </tr>\n    <tr>\n      <th>18</th>\n      <td>1001_2021-02-01</td>\n      <td>1001</td>\n      <td>Autauga County</td>\n      <td>Alabama</td>\n      <td>2021-02-01</td>\n      <td>3.106106</td>\n      <td>1310</td>\n      <td>2021-01-01</td>\n      <td>85.5</td>\n      <td>16.4</td>\n      <td>2.1</td>\n      <td>1.1</td>\n      <td>62660.0</td>\n    </tr>\n    <tr>\n      <th>19</th>\n      <td>1001_2021-03-01</td>\n      <td>1001</td>\n      <td>Autauga County</td>\n      <td>Alabama</td>\n      <td>2021-03-01</td>\n      <td>3.144043</td>\n      <td>1326</td>\n      <td>2021-01-01</td>\n      <td>85.5</td>\n      <td>16.4</td>\n      <td>2.1</td>\n      <td>1.1</td>\n      <td>62660.0</td>\n    </tr>\n    <tr>\n      <th>20</th>\n      <td>1001_2021-04-01</td>\n      <td>1001</td>\n      <td>Autauga County</td>\n      <td>Alabama</td>\n      <td>2021-04-01</td>\n      <td>3.224659</td>\n      <td>1360</td>\n      <td>2021-01-01</td>\n      <td>85.5</td>\n      <td>16.4</td>\n      <td>2.1</td>\n      <td>1.1</td>\n      <td>62660.0</td>\n    </tr>\n    <tr>\n      <th>21</th>\n      <td>1001_2021-05-01</td>\n      <td>1001</td>\n      <td>Autauga County</td>\n      <td>Alabama</td>\n      <td>2021-05-01</td>\n      <td>3.227030</td>\n      <td>1361</td>\n      <td>2021-01-01</td>\n      <td>85.5</td>\n      <td>16.4</td>\n      <td>2.1</td>\n      <td>1.1</td>\n      <td>62660.0</td>\n    </tr>\n    <tr>\n      <th>22</th>\n      <td>1001_2021-06-01</td>\n      <td>1001</td>\n      <td>Autauga County</td>\n      <td>Alabama</td>\n      <td>2021-06-01</td>\n      <td>3.222288</td>\n      <td>1359</td>\n      <td>2021-01-01</td>\n      <td>85.5</td>\n      <td>16.4</td>\n      <td>2.1</td>\n      <td>1.1</td>\n      <td>62660.0</td>\n    </tr>\n    <tr>\n      <th>23</th>\n      <td>1001_2021-07-01</td>\n      <td>1001</td>\n      <td>Autauga County</td>\n      <td>Alabama</td>\n      <td>2021-07-01</td>\n      <td>3.210433</td>\n      <td>1354</td>\n      <td>2021-01-01</td>\n      <td>85.5</td>\n      <td>16.4</td>\n      <td>2.1</td>\n      <td>1.1</td>\n      <td>62660.0</td>\n    </tr>\n    <tr>\n      <th>24</th>\n      <td>1001_2021-08-01</td>\n      <td>1001</td>\n      <td>Autauga County</td>\n      <td>Alabama</td>\n      <td>2021-08-01</td>\n      <td>3.219917</td>\n      <td>1358</td>\n      <td>2021-01-01</td>\n      <td>85.5</td>\n      <td>16.4</td>\n      <td>2.1</td>\n      <td>1.1</td>\n      <td>62660.0</td>\n    </tr>\n    <tr>\n      <th>25</th>\n      <td>1001_2021-09-01</td>\n      <td>1001</td>\n      <td>Autauga County</td>\n      <td>Alabama</td>\n      <td>2021-09-01</td>\n      <td>3.186722</td>\n      <td>1344</td>\n      <td>2021-01-01</td>\n      <td>85.5</td>\n      <td>16.4</td>\n      <td>2.1</td>\n      <td>1.1</td>\n      <td>62660.0</td>\n    </tr>\n    <tr>\n      <th>26</th>\n      <td>1001_2021-10-01</td>\n      <td>1001</td>\n      <td>Autauga County</td>\n      <td>Alabama</td>\n      <td>2021-10-01</td>\n      <td>3.203320</td>\n      <td>1351</td>\n      <td>2021-01-01</td>\n      <td>85.5</td>\n      <td>16.4</td>\n      <td>2.1</td>\n      <td>1.1</td>\n      <td>62660.0</td>\n    </tr>\n    <tr>\n      <th>27</th>\n      <td>1001_2021-11-01</td>\n      <td>1001</td>\n      <td>Autauga County</td>\n      <td>Alabama</td>\n      <td>2021-11-01</td>\n      <td>3.200948</td>\n      <td>1350</td>\n      <td>2021-01-01</td>\n      <td>85.5</td>\n      <td>16.4</td>\n      <td>2.1</td>\n      <td>1.1</td>\n      <td>62660.0</td>\n    </tr>\n    <tr>\n      <th>28</th>\n      <td>1001_2021-12-01</td>\n      <td>1001</td>\n      <td>Autauga County</td>\n      <td>Alabama</td>\n      <td>2021-12-01</td>\n      <td>3.286307</td>\n      <td>1386</td>\n      <td>2021-01-01</td>\n      <td>85.5</td>\n      <td>16.4</td>\n      <td>2.1</td>\n      <td>1.1</td>\n      <td>62660.0</td>\n    </tr>\n    <tr>\n      <th>29</th>\n      <td>1001_2022-01-01</td>\n      <td>1001</td>\n      <td>Autauga County</td>\n      <td>Alabama</td>\n      <td>2022-01-01</td>\n      <td>3.296781</td>\n      <td>1401</td>\n      <td>2022-01-01</td>\n      <td>NaN</td>\n      <td>NaN</td>\n      <td>NaN</td>\n      <td>NaN</td>\n      <td>NaN</td>\n    </tr>\n    <tr>\n      <th>30</th>\n      <td>1001_2022-02-01</td>\n      <td>1001</td>\n      <td>Autauga County</td>\n      <td>Alabama</td>\n      <td>2022-02-01</td>\n      <td>3.334431</td>\n      <td>1417</td>\n      <td>2022-01-01</td>\n      <td>NaN</td>\n      <td>NaN</td>\n      <td>NaN</td>\n      <td>NaN</td>\n      <td>NaN</td>\n    </tr>\n    <tr>\n      <th>31</th>\n      <td>1001_2022-03-01</td>\n      <td>1001</td>\n      <td>Autauga County</td>\n      <td>Alabama</td>\n      <td>2022-03-01</td>\n      <td>3.336785</td>\n      <td>1418</td>\n      <td>2022-01-01</td>\n      <td>NaN</td>\n      <td>NaN</td>\n      <td>NaN</td>\n      <td>NaN</td>\n      <td>NaN</td>\n    </tr>\n    <tr>\n      <th>32</th>\n      <td>1001_2022-04-01</td>\n      <td>1001</td>\n      <td>Autauga County</td>\n      <td>Alabama</td>\n      <td>2022-04-01</td>\n      <td>3.372082</td>\n      <td>1433</td>\n      <td>2022-01-01</td>\n      <td>NaN</td>\n      <td>NaN</td>\n      <td>NaN</td>\n      <td>NaN</td>\n      <td>NaN</td>\n    </tr>\n    <tr>\n      <th>33</th>\n      <td>1001_2022-05-01</td>\n      <td>1001</td>\n      <td>Autauga County</td>\n      <td>Alabama</td>\n      <td>2022-05-01</td>\n      <td>3.313253</td>\n      <td>1408</td>\n      <td>2022-01-01</td>\n      <td>NaN</td>\n      <td>NaN</td>\n      <td>NaN</td>\n      <td>NaN</td>\n      <td>NaN</td>\n    </tr>\n    <tr>\n      <th>34</th>\n      <td>1001_2022-06-01</td>\n      <td>1001</td>\n      <td>Autauga County</td>\n      <td>Alabama</td>\n      <td>2022-06-01</td>\n      <td>3.346197</td>\n      <td>1422</td>\n      <td>2022-01-01</td>\n      <td>NaN</td>\n      <td>NaN</td>\n      <td>NaN</td>\n      <td>NaN</td>\n      <td>NaN</td>\n    </tr>\n    <tr>\n      <th>35</th>\n      <td>1001_2022-07-01</td>\n      <td>1001</td>\n      <td>Autauga County</td>\n      <td>Alabama</td>\n      <td>2022-07-01</td>\n      <td>3.437971</td>\n      <td>1461</td>\n      <td>2022-01-01</td>\n      <td>NaN</td>\n      <td>NaN</td>\n      <td>NaN</td>\n      <td>NaN</td>\n      <td>NaN</td>\n    </tr>\n    <tr>\n      <th>36</th>\n      <td>1001_2022-08-01</td>\n      <td>1001</td>\n      <td>Autauga County</td>\n      <td>Alabama</td>\n      <td>2022-08-01</td>\n      <td>3.423852</td>\n      <td>1455</td>\n      <td>2022-01-01</td>\n      <td>NaN</td>\n      <td>NaN</td>\n      <td>NaN</td>\n      <td>NaN</td>\n      <td>NaN</td>\n    </tr>\n    <tr>\n      <th>37</th>\n      <td>1001_2022-09-01</td>\n      <td>1001</td>\n      <td>Autauga County</td>\n      <td>Alabama</td>\n      <td>2022-09-01</td>\n      <td>3.442677</td>\n      <td>1463</td>\n      <td>2022-01-01</td>\n      <td>NaN</td>\n      <td>NaN</td>\n      <td>NaN</td>\n      <td>NaN</td>\n      <td>NaN</td>\n    </tr>\n    <tr>\n      <th>38</th>\n      <td>1001_2022-10-01</td>\n      <td>1001</td>\n      <td>Autauga County</td>\n      <td>Alabama</td>\n      <td>2022-10-01</td>\n      <td>3.463856</td>\n      <td>1472</td>\n      <td>2022-01-01</td>\n      <td>NaN</td>\n      <td>NaN</td>\n      <td>NaN</td>\n      <td>NaN</td>\n      <td>NaN</td>\n    </tr>\n  </tbody>\n</table>\n</div>"
     },
     "execution_count": 146,
     "metadata": {},
     "output_type": "execute_result"
    }
   ],
   "source": [
    "df_cfip"
   ],
   "metadata": {
    "collapsed": false
   }
  },
  {
   "cell_type": "code",
   "execution_count": 147,
   "outputs": [
    {
     "name": "stderr",
     "output_type": "stream",
     "text": [
      "100%|██████████| 3135/3135 [00:39<00:00, 79.84it/s]\n"
     ]
    }
   ],
   "source": [
    "# Build a list train and val for each cfip\n",
    "train_list = []\n",
    "val_list = []\n",
    "for cfip in tqdm(train_data['cfips'].unique()):\n",
    "    df_cfip = train_data[train_data['cfips'] == cfip]\n",
    "    val_series = TimeSeries.from_dataframe(df_cfip, 'first_day_of_month', 'microbusiness_density')\n",
    "    past_covariate_series = TimeSeries.from_dataframe(df_cfip, 'first_day_of_month', ['cfips', 'pct_bb', 'pct_college', 'pct_foreign_born', 'pct_it_workers', 'median_hh_inc'])\n",
    "    train, val = series[:-6], series[-6:]\n",
    "    train_covariate, val_covariate = past_covariate_series[:-6], past_covariate_series[-6:]\n",
    "    train_list.append({'value' : train, 'covariate' : train_covariate})\n",
    "    val_list.append({'value' : val, 'covariate' : val_covariate})\n"
   ],
   "metadata": {
    "collapsed": false
   }
  },
  {
   "cell_type": "code",
   "execution_count": 156,
   "outputs": [
    {
     "name": "stderr",
     "output_type": "stream",
     "text": [
      "0it [00:00, ?it/s]ValueError: The corresponding past_covariate of the series at index 0 isn't sufficiently long. Given horizon `n=6`, `min(lags_past_covariates)=-1`, `max(lags_past_covariates)=-1` and `output_chunk_length=1`, the past_covariate has to range from 2022-04-01 00:00:00 until 2022-09-01 00:00:00 (inclusive), but it ranges only from 2022-05-01 00:00:00 until 2022-10-01 00:00:00.\n",
      "0it [00:00, ?it/s]\n"
     ]
    },
    {
     "ename": "ValueError",
     "evalue": "The corresponding past_covariate of the series at index 0 isn't sufficiently long. Given horizon `n=6`, `min(lags_past_covariates)=-1`, `max(lags_past_covariates)=-1` and `output_chunk_length=1`, the past_covariate has to range from 2022-04-01 00:00:00 until 2022-09-01 00:00:00 (inclusive), but it ranges only from 2022-05-01 00:00:00 until 2022-10-01 00:00:00.",
     "output_type": "error",
     "traceback": [
      "\u001B[1;31m---------------------------------------------------------------------------\u001B[0m",
      "\u001B[1;31mValueError\u001B[0m                                Traceback (most recent call last)",
      "\u001B[1;32m~\\AppData\\Local\\Temp\\ipykernel_4076\\1208968650.py\u001B[0m in \u001B[0;36m<module>\u001B[1;34m\u001B[0m\n\u001B[0;32m      5\u001B[0m \u001B[1;32mfor\u001B[0m \u001B[0mtrain\u001B[0m\u001B[1;33m,\u001B[0m \u001B[0mval\u001B[0m \u001B[1;32min\u001B[0m \u001B[0mtqdm\u001B[0m\u001B[1;33m(\u001B[0m\u001B[0mzip\u001B[0m\u001B[1;33m(\u001B[0m\u001B[0mtrain_list\u001B[0m\u001B[1;33m,\u001B[0m \u001B[0mval_list\u001B[0m\u001B[1;33m)\u001B[0m\u001B[1;33m)\u001B[0m\u001B[1;33m:\u001B[0m\u001B[1;33m\u001B[0m\u001B[1;33m\u001B[0m\u001B[0m\n\u001B[0;32m      6\u001B[0m     \u001B[0mmodel\u001B[0m\u001B[1;33m.\u001B[0m\u001B[0mfit\u001B[0m\u001B[1;33m(\u001B[0m\u001B[0mtrain\u001B[0m\u001B[1;33m[\u001B[0m\u001B[1;34m'value'\u001B[0m\u001B[1;33m]\u001B[0m\u001B[1;33m[\u001B[0m\u001B[1;36m1\u001B[0m\u001B[1;33m:\u001B[0m\u001B[1;33m]\u001B[0m\u001B[1;33m,\u001B[0m \u001B[0mpast_covariates\u001B[0m\u001B[1;33m=\u001B[0m \u001B[0mtrain\u001B[0m\u001B[1;33m[\u001B[0m\u001B[1;34m'covariate'\u001B[0m\u001B[1;33m]\u001B[0m\u001B[1;33m)\u001B[0m\u001B[1;33m\u001B[0m\u001B[1;33m\u001B[0m\u001B[0m\n\u001B[1;32m----> 7\u001B[1;33m     \u001B[0mprediction\u001B[0m \u001B[1;33m=\u001B[0m \u001B[0mmodel\u001B[0m\u001B[1;33m.\u001B[0m\u001B[0mpredict\u001B[0m\u001B[1;33m(\u001B[0m\u001B[0mlen\u001B[0m\u001B[1;33m(\u001B[0m\u001B[0mval\u001B[0m\u001B[1;33m[\u001B[0m\u001B[1;34m'value'\u001B[0m\u001B[1;33m]\u001B[0m\u001B[1;33m)\u001B[0m\u001B[1;33m,\u001B[0m \u001B[0mpast_covariates\u001B[0m\u001B[1;33m=\u001B[0m\u001B[0mval\u001B[0m\u001B[1;33m[\u001B[0m\u001B[1;34m'covariate'\u001B[0m\u001B[1;33m]\u001B[0m\u001B[1;33m,\u001B[0m \u001B[0mnum_samples\u001B[0m\u001B[1;33m=\u001B[0m\u001B[1;36m1\u001B[0m\u001B[1;33m)\u001B[0m\u001B[1;33m\u001B[0m\u001B[1;33m\u001B[0m\u001B[0m\n\u001B[0m\u001B[0;32m      8\u001B[0m     \u001B[0mall_predictions\u001B[0m\u001B[1;33m.\u001B[0m\u001B[0mappend\u001B[0m\u001B[1;33m(\u001B[0m\u001B[0mprediction\u001B[0m\u001B[1;33m)\u001B[0m\u001B[1;33m\u001B[0m\u001B[1;33m\u001B[0m\u001B[0m\n",
      "\u001B[1;32m~\\AppData\\Roaming\\Python\\Python39\\site-packages\\darts\\models\\forecasting\\regression_model.py\u001B[0m in \u001B[0;36mpredict\u001B[1;34m(self, n, series, past_covariates, future_covariates, num_samples, verbose, **kwargs)\u001B[0m\n\u001B[0;32m    606\u001B[0m                 \u001B[1;31m# check for sufficient covariate data\u001B[0m\u001B[1;33m\u001B[0m\u001B[1;33m\u001B[0m\u001B[0m\n\u001B[0;32m    607\u001B[0m                 \u001B[1;32mif\u001B[0m \u001B[1;32mnot\u001B[0m \u001B[1;33m(\u001B[0m\u001B[0mcov\u001B[0m\u001B[1;33m.\u001B[0m\u001B[0mstart_time\u001B[0m\u001B[1;33m(\u001B[0m\u001B[1;33m)\u001B[0m \u001B[1;33m<=\u001B[0m \u001B[0mstart_ts\u001B[0m \u001B[1;32mand\u001B[0m \u001B[0mcov\u001B[0m\u001B[1;33m.\u001B[0m\u001B[0mend_time\u001B[0m\u001B[1;33m(\u001B[0m\u001B[1;33m)\u001B[0m \u001B[1;33m>=\u001B[0m \u001B[0mend_ts\u001B[0m\u001B[1;33m)\u001B[0m\u001B[1;33m:\u001B[0m\u001B[1;33m\u001B[0m\u001B[1;33m\u001B[0m\u001B[0m\n\u001B[1;32m--> 608\u001B[1;33m                     raise_log(\n\u001B[0m\u001B[0;32m    609\u001B[0m                         ValueError(\n\u001B[0;32m    610\u001B[0m                             \u001B[1;34mf\"The corresponding {cov_type}_covariate of the series at index {idx} isn't sufficiently \"\u001B[0m\u001B[1;33m\u001B[0m\u001B[1;33m\u001B[0m\u001B[0m\n",
      "\u001B[1;32m~\\AppData\\Roaming\\Python\\Python39\\site-packages\\darts\\logging.py\u001B[0m in \u001B[0;36mraise_log\u001B[1;34m(exception, logger)\u001B[0m\n\u001B[0;32m    127\u001B[0m     \u001B[0mlogger\u001B[0m\u001B[1;33m.\u001B[0m\u001B[0merror\u001B[0m\u001B[1;33m(\u001B[0m\u001B[0mexception_type\u001B[0m \u001B[1;33m+\u001B[0m \u001B[1;34m\": \"\u001B[0m \u001B[1;33m+\u001B[0m \u001B[0mmessage\u001B[0m\u001B[1;33m)\u001B[0m\u001B[1;33m\u001B[0m\u001B[1;33m\u001B[0m\u001B[0m\n\u001B[0;32m    128\u001B[0m \u001B[1;33m\u001B[0m\u001B[0m\n\u001B[1;32m--> 129\u001B[1;33m     \u001B[1;32mraise\u001B[0m \u001B[0mexception\u001B[0m\u001B[1;33m\u001B[0m\u001B[1;33m\u001B[0m\u001B[0m\n\u001B[0m\u001B[0;32m    130\u001B[0m \u001B[1;33m\u001B[0m\u001B[0m\n\u001B[0;32m    131\u001B[0m \u001B[1;33m\u001B[0m\u001B[0m\n",
      "\u001B[1;31mValueError\u001B[0m: The corresponding past_covariate of the series at index 0 isn't sufficiently long. Given horizon `n=6`, `min(lags_past_covariates)=-1`, `max(lags_past_covariates)=-1` and `output_chunk_length=1`, the past_covariate has to range from 2022-04-01 00:00:00 until 2022-09-01 00:00:00 (inclusive), but it ranges only from 2022-05-01 00:00:00 until 2022-10-01 00:00:00."
     ]
    }
   ],
   "source": [
    "# for each cfip, train the model and predict the next 6 months\n",
    "\n",
    "model = RandomForest(lags_past_covariates=[-1])\n",
    "all_predictions = []\n",
    "for train, val in tqdm(zip(train_list, val_list)):\n",
    "    model.fit(train['value'][1:], past_covariates= train['covariate'])\n",
    "    prediction = model.predict(len(val['value']), past_covariates=val['covariate'], num_samples=1)\n",
    "    all_predictions.append(prediction)"
   ],
   "metadata": {
    "collapsed": false
   }
  },
  {
   "cell_type": "code",
   "execution_count": 143,
   "outputs": [
    {
     "name": "stderr",
     "output_type": "stream",
     "text": [
      "1355it [00:01, 830.99it/s]C:\\Users\\avomo\\AppData\\Local\\Temp\\ipykernel_4076\\4041025148.py:8: RuntimeWarning: invalid value encountered in true_divide\n",
      "  np.abs(y_pred - y_true) /\n",
      "3135it [00:03, 808.20it/s]\n"
     ]
    }
   ],
   "source": [
    "# compute the smape for each cfip\n",
    "all_smapes = []\n",
    "for prediction, val in tqdm(zip(all_predictions, val_list)):\n",
    "    smape = compute_smape(val.all_values().flatten(), prediction.mean().all_values().flatten())\n",
    "    all_smapes.append(smape)"
   ],
   "metadata": {
    "collapsed": false
   }
  },
  {
   "cell_type": "code",
   "execution_count": 144,
   "outputs": [],
   "source": [],
   "metadata": {
    "collapsed": false
   }
  },
  {
   "cell_type": "markdown",
   "source": [
    "### Global training"
   ],
   "metadata": {
    "collapsed": false
   }
  },
  {
   "cell_type": "code",
   "execution_count": 4,
   "outputs": [],
   "source": [
    "from darts.models import LinearRegressionModel, RandomForest, LightGBMModel, NBEATSModel,RNNModel\n",
    "from darts.utils.losses import SmapeLoss"
   ],
   "metadata": {
    "collapsed": false
   }
  },
  {
   "cell_type": "code",
   "execution_count": 5,
   "outputs": [
    {
     "name": "stderr",
     "output_type": "stream",
     "text": [
      "100%|██████████| 3135/3135 [00:17<00:00, 178.58it/s]\n"
     ]
    }
   ],
   "source": [
    "# create a sequence of series for each cfip\n",
    "train_list = []\n",
    "val_list = []\n",
    "for cfip in tqdm(train_data['cfips'].unique()):\n",
    "    df_cfip = train_data[train_data['cfips'] == cfip]\n",
    "    series = TimeSeries.from_dataframe(df_cfip, 'first_day_of_month', 'microbusiness_density')\n",
    "    train_list.append(series[:-6])\n",
    "    val_list.append(series[-6:])"
   ],
   "metadata": {
    "collapsed": false
   }
  },
  {
   "cell_type": "code",
   "execution_count": 6,
   "outputs": [
    {
     "name": "stderr",
     "output_type": "stream",
     "text": [
      "GPU available: True (cuda), used: True\n",
      "TPU available: False, using: 0 TPU cores\n",
      "IPU available: False, using: 0 IPUs\n",
      "HPU available: False, using: 0 HPUs\n",
      "LOCAL_RANK: 0 - CUDA_VISIBLE_DEVICES: [0]\n",
      "\n",
      "  | Name          | Type             | Params\n",
      "---------------------------------------------------\n",
      "0 | criterion     | SmapeLoss        | 0     \n",
      "1 | train_metrics | MetricCollection | 0     \n",
      "2 | val_metrics   | MetricCollection | 0     \n",
      "3 | rnn           | RNN              | 88    \n",
      "4 | V             | Linear           | 9     \n",
      "---------------------------------------------------\n",
      "97        Trainable params\n",
      "0         Non-trainable params\n",
      "97        Total params\n",
      "0.001     Total estimated model params size (MB)\n"
     ]
    },
    {
     "data": {
      "text/plain": "Training: 0it [00:00, ?it/s]",
      "application/vnd.jupyter.widget-view+json": {
       "version_major": 2,
       "version_minor": 0,
       "model_id": "9a0df20c691b45228cb89011d5207789"
      }
     },
     "metadata": {},
     "output_type": "display_data"
    },
    {
     "name": "stderr",
     "output_type": "stream",
     "text": [
      "C:\\Users\\avomo\\AppData\\Roaming\\Python\\Python39\\site-packages\\pytorch_lightning\\trainer\\call.py:48: UserWarning: Detected KeyboardInterrupt, attempting graceful shutdown...\n",
      "  rank_zero_warn(\"Detected KeyboardInterrupt, attempting graceful shutdown...\")\n"
     ]
    },
    {
     "data": {
      "text/plain": "<darts.models.forecasting.rnn_model.RNNModel at 0x1ec593af0d0>"
     },
     "execution_count": 6,
     "metadata": {},
     "output_type": "execute_result"
    }
   ],
   "source": [
    "model = RNNModel(input_chunk_length=6, model='RNN',\n",
    "                 hidden_dim = 8,n_rnn_layers=1,training_length=12,\n",
    "                 loss_fn=SmapeLoss(), n_epochs=10, random_state=77,\n",
    "                    pl_trainer_kwargs={\n",
    "                    \"accelerator\": \"gpu\",\n",
    "                    \"devices\": [0]\n",
    "                    }\n",
    "                )\n",
    "\n",
    "model.fit(train_list)\n"
   ],
   "metadata": {
    "collapsed": false
   }
  },
  {
   "cell_type": "code",
   "execution_count": null,
   "outputs": [],
   "source": [
    "# evaluate the model on the validation set\n",
    "prediction = [model.predict(len(val_list[0]), series=train_list[s]) for s in range(len(train_list))]"
   ],
   "metadata": {
    "collapsed": false,
    "pycharm": {
     "is_executing": true
    }
   }
  },
  {
   "cell_type": "code",
   "execution_count": 63,
   "outputs": [
    {
     "name": "stderr",
     "output_type": "stream",
     "text": [
      "\n",
      "0it [00:00, ?it/s]\u001B[A\n",
      "97it [00:00, 886.89it/s]\u001B[A\n",
      "196it [00:00, 898.89it/s]\u001B[A\n",
      "286it [00:00, 887.89it/s]\u001B[A\n",
      "375it [00:00, 843.53it/s]\u001B[A\n",
      "471it [00:00, 843.15it/s]\u001B[A\n",
      "556it [00:00, 812.50it/s]\u001B[A\n",
      "638it [00:00, 798.07it/s]\u001B[A\n",
      "723it [00:00, 811.81it/s]\u001B[A\n",
      "811it [00:00, 830.44it/s]\u001B[A\n",
      "895it [00:01, 826.67it/s]\u001B[A\n",
      "978it [00:01, 821.26it/s]\u001B[A\n",
      "1063it [00:01, 827.80it/s]\u001B[A\n",
      "1152it [00:01, 845.91it/s]\u001B[A\n",
      "1244it [00:01, 866.84it/s]\u001B[A\n",
      "1340it [00:01, 891.41it/s]\u001B[A\n",
      "1443it [00:01, 931.93it/s]\u001B[A\n",
      "1542it [00:01, 946.83it/s]\u001B[A\n",
      "1638it [00:01, 949.52it/s]\u001B[A\n",
      "1733it [00:01, 944.02it/s]\u001B[A\n",
      "1830it [00:02, 951.54it/s]\u001B[A\n",
      "1927it [00:02, 955.42it/s]\u001B[A\n",
      "2024it [00:02, 955.22it/s]\u001B[A\n",
      "2130it [00:02, 959.63it/s]\u001B[A\n",
      "2231it [00:02, 949.61it/s]\u001B[A\n",
      "2326it [00:02, 924.61it/s]\u001B[A\n",
      "2419it [00:02, 870.78it/s]\u001B[A\n",
      "2511it [00:02, 854.30it/s]\u001B[A\n",
      "2603it [00:02, 871.99it/s]\u001B[A\n",
      "2694it [00:03, 873.41it/s]\u001B[A\n",
      "2793it [00:03, 883.09it/s]\u001B[A\n",
      "2882it [00:03, 880.48it/s]\u001B[A\n",
      "2972it [00:03, 875.57it/s]\u001B[A\n",
      "3135it [00:03, 878.27it/s]\u001B[A\n"
     ]
    },
    {
     "data": {
      "text/plain": "31.835641467304626"
     },
     "execution_count": 63,
     "metadata": {},
     "output_type": "execute_result"
    }
   ],
   "source": [
    "all_smapes = []\n",
    "for prediction, val in tqdm(zip(prediction, val_list)):\n",
    "    smape = compute_smape(val.all_values().flatten(), prediction.mean().all_values().flatten())\n",
    "    all_smapes.append(smape)\n",
    "\n",
    "np.mean(all_smapes)"
   ],
   "metadata": {
    "collapsed": false
   }
  },
  {
   "cell_type": "code",
   "execution_count": 64,
   "outputs": [
    {
     "data": {
      "text/plain": "31.835641467304626"
     },
     "execution_count": 64,
     "metadata": {},
     "output_type": "execute_result"
    }
   ],
   "source": [
    "x = np.array(all_smapes)\n",
    "np.mean(x[~np.isnan(x)])"
   ],
   "metadata": {
    "collapsed": false
   }
  },
  {
   "cell_type": "code",
   "execution_count": 20,
   "outputs": [],
   "source": [],
   "metadata": {
    "collapsed": false
   }
  }
 ],
 "metadata": {
  "kernelspec": {
   "display_name": "Python 3",
   "language": "python",
   "name": "python3"
  },
  "language_info": {
   "codemirror_mode": {
    "name": "ipython",
    "version": 2
   },
   "file_extension": ".py",
   "mimetype": "text/x-python",
   "name": "python",
   "nbconvert_exporter": "python",
   "pygments_lexer": "ipython2",
   "version": "2.7.6"
  }
 },
 "nbformat": 4,
 "nbformat_minor": 0
}
