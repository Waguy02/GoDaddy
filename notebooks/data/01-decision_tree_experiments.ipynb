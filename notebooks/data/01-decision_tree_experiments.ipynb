{
 "cells": [
  {
   "cell_type": "code",
   "execution_count": 264,
   "metadata": {
    "collapsed": true
   },
   "outputs": [],
   "source": [
    "import pandas as pd\n",
    "import lightgbm as lgb\n",
    "import numpy as np\n",
    "import category_encoders as ce\n",
    "from tqdm import tqdm"
   ]
  },
  {
   "cell_type": "code",
   "execution_count": 379,
   "outputs": [],
   "source": [
    "# calculate the smape\n",
    "def compute_smape(y_true, y_pred):\n",
    "\n",
    "    if not (isinstance(y_true, np.ndarray) and isinstance(y_pred, np.ndarray)):\n",
    "        y_true, y_pred = np.array(y_true), np.array(y_pred)\n",
    "\n",
    "    return round(np.mean(\n",
    "        np.abs(y_pred - y_true) /\n",
    "        ((np.abs(y_pred) + np.abs(y_true))/2)\n",
    "    )*100, 3)\n",
    "\n"
   ],
   "metadata": {
    "collapsed": false
   }
  },
  {
   "cell_type": "code",
   "execution_count": 380,
   "outputs": [
    {
     "data": {
      "text/plain": "            row_id  cfips          county    state first_day_of_month  \\\n0  1001_2019-08-01   1001  Autauga County  Alabama         2019-08-01   \n1  1001_2019-09-01   1001  Autauga County  Alabama         2019-09-01   \n2  1001_2019-10-01   1001  Autauga County  Alabama         2019-10-01   \n3  1001_2019-11-01   1001  Autauga County  Alabama         2019-11-01   \n4  1001_2019-12-01   1001  Autauga County  Alabama         2019-12-01   \n\n   microbusiness_density  active        year  pct_bb  pct_college  \\\n0               3.007682    1249  2019-01-01    80.6         16.1   \n1               2.884870    1198  2019-01-01    80.6         16.1   \n2               3.055843    1269  2019-01-01    80.6         16.1   \n3               2.993233    1243  2019-01-01    80.6         16.1   \n4               2.993233    1243  2019-01-01    80.6         16.1   \n\n   pct_foreign_born  pct_it_workers  median_hh_inc  \n0               2.3             0.7        58731.0  \n1               2.3             0.7        58731.0  \n2               2.3             0.7        58731.0  \n3               2.3             0.7        58731.0  \n4               2.3             0.7        58731.0  ",
      "text/html": "<div>\n<style scoped>\n    .dataframe tbody tr th:only-of-type {\n        vertical-align: middle;\n    }\n\n    .dataframe tbody tr th {\n        vertical-align: top;\n    }\n\n    .dataframe thead th {\n        text-align: right;\n    }\n</style>\n<table border=\"1\" class=\"dataframe\">\n  <thead>\n    <tr style=\"text-align: right;\">\n      <th></th>\n      <th>row_id</th>\n      <th>cfips</th>\n      <th>county</th>\n      <th>state</th>\n      <th>first_day_of_month</th>\n      <th>microbusiness_density</th>\n      <th>active</th>\n      <th>year</th>\n      <th>pct_bb</th>\n      <th>pct_college</th>\n      <th>pct_foreign_born</th>\n      <th>pct_it_workers</th>\n      <th>median_hh_inc</th>\n    </tr>\n  </thead>\n  <tbody>\n    <tr>\n      <th>0</th>\n      <td>1001_2019-08-01</td>\n      <td>1001</td>\n      <td>Autauga County</td>\n      <td>Alabama</td>\n      <td>2019-08-01</td>\n      <td>3.007682</td>\n      <td>1249</td>\n      <td>2019-01-01</td>\n      <td>80.6</td>\n      <td>16.1</td>\n      <td>2.3</td>\n      <td>0.7</td>\n      <td>58731.0</td>\n    </tr>\n    <tr>\n      <th>1</th>\n      <td>1001_2019-09-01</td>\n      <td>1001</td>\n      <td>Autauga County</td>\n      <td>Alabama</td>\n      <td>2019-09-01</td>\n      <td>2.884870</td>\n      <td>1198</td>\n      <td>2019-01-01</td>\n      <td>80.6</td>\n      <td>16.1</td>\n      <td>2.3</td>\n      <td>0.7</td>\n      <td>58731.0</td>\n    </tr>\n    <tr>\n      <th>2</th>\n      <td>1001_2019-10-01</td>\n      <td>1001</td>\n      <td>Autauga County</td>\n      <td>Alabama</td>\n      <td>2019-10-01</td>\n      <td>3.055843</td>\n      <td>1269</td>\n      <td>2019-01-01</td>\n      <td>80.6</td>\n      <td>16.1</td>\n      <td>2.3</td>\n      <td>0.7</td>\n      <td>58731.0</td>\n    </tr>\n    <tr>\n      <th>3</th>\n      <td>1001_2019-11-01</td>\n      <td>1001</td>\n      <td>Autauga County</td>\n      <td>Alabama</td>\n      <td>2019-11-01</td>\n      <td>2.993233</td>\n      <td>1243</td>\n      <td>2019-01-01</td>\n      <td>80.6</td>\n      <td>16.1</td>\n      <td>2.3</td>\n      <td>0.7</td>\n      <td>58731.0</td>\n    </tr>\n    <tr>\n      <th>4</th>\n      <td>1001_2019-12-01</td>\n      <td>1001</td>\n      <td>Autauga County</td>\n      <td>Alabama</td>\n      <td>2019-12-01</td>\n      <td>2.993233</td>\n      <td>1243</td>\n      <td>2019-01-01</td>\n      <td>80.6</td>\n      <td>16.1</td>\n      <td>2.3</td>\n      <td>0.7</td>\n      <td>58731.0</td>\n    </tr>\n  </tbody>\n</table>\n</div>"
     },
     "execution_count": 380,
     "metadata": {},
     "output_type": "execute_result"
    }
   ],
   "source": [
    "train_data = pd.read_csv('../../data/godaddy-microbusiness-density-forecasting/train_with_census.csv')\n",
    "train_data.head()"
   ],
   "metadata": {
    "collapsed": false
   }
  },
  {
   "cell_type": "code",
   "execution_count": 381,
   "outputs": [
    {
     "data": {
      "text/plain": "            row_id  cfips          county    state first_day_of_month  \\\n0  1001_2019-08-01   1001  Autauga County  Alabama         2019-08-01   \n1  1001_2019-09-01   1001  Autauga County  Alabama         2019-09-01   \n2  1001_2019-10-01   1001  Autauga County  Alabama         2019-10-01   \n3  1001_2019-11-01   1001  Autauga County  Alabama         2019-11-01   \n4  1001_2019-12-01   1001  Autauga County  Alabama         2019-12-01   \n\n   microbusiness_density  active        year  pct_bb  pct_college  \\\n0               3.007682  1249.0  2019-01-01    80.6         16.1   \n1               2.884870  1198.0  2019-01-01    80.6         16.1   \n2               3.055843  1269.0  2019-01-01    80.6         16.1   \n3               2.993233  1243.0  2019-01-01    80.6         16.1   \n4               2.993233  1243.0  2019-01-01    80.6         16.1   \n\n   pct_foreign_born  pct_it_workers  median_hh_inc source  \n0               2.3             0.7        58731.0  train  \n1               2.3             0.7        58731.0  train  \n2               2.3             0.7        58731.0  train  \n3               2.3             0.7        58731.0  train  \n4               2.3             0.7        58731.0  train  ",
      "text/html": "<div>\n<style scoped>\n    .dataframe tbody tr th:only-of-type {\n        vertical-align: middle;\n    }\n\n    .dataframe tbody tr th {\n        vertical-align: top;\n    }\n\n    .dataframe thead th {\n        text-align: right;\n    }\n</style>\n<table border=\"1\" class=\"dataframe\">\n  <thead>\n    <tr style=\"text-align: right;\">\n      <th></th>\n      <th>row_id</th>\n      <th>cfips</th>\n      <th>county</th>\n      <th>state</th>\n      <th>first_day_of_month</th>\n      <th>microbusiness_density</th>\n      <th>active</th>\n      <th>year</th>\n      <th>pct_bb</th>\n      <th>pct_college</th>\n      <th>pct_foreign_born</th>\n      <th>pct_it_workers</th>\n      <th>median_hh_inc</th>\n      <th>source</th>\n    </tr>\n  </thead>\n  <tbody>\n    <tr>\n      <th>0</th>\n      <td>1001_2019-08-01</td>\n      <td>1001</td>\n      <td>Autauga County</td>\n      <td>Alabama</td>\n      <td>2019-08-01</td>\n      <td>3.007682</td>\n      <td>1249.0</td>\n      <td>2019-01-01</td>\n      <td>80.6</td>\n      <td>16.1</td>\n      <td>2.3</td>\n      <td>0.7</td>\n      <td>58731.0</td>\n      <td>train</td>\n    </tr>\n    <tr>\n      <th>1</th>\n      <td>1001_2019-09-01</td>\n      <td>1001</td>\n      <td>Autauga County</td>\n      <td>Alabama</td>\n      <td>2019-09-01</td>\n      <td>2.884870</td>\n      <td>1198.0</td>\n      <td>2019-01-01</td>\n      <td>80.6</td>\n      <td>16.1</td>\n      <td>2.3</td>\n      <td>0.7</td>\n      <td>58731.0</td>\n      <td>train</td>\n    </tr>\n    <tr>\n      <th>2</th>\n      <td>1001_2019-10-01</td>\n      <td>1001</td>\n      <td>Autauga County</td>\n      <td>Alabama</td>\n      <td>2019-10-01</td>\n      <td>3.055843</td>\n      <td>1269.0</td>\n      <td>2019-01-01</td>\n      <td>80.6</td>\n      <td>16.1</td>\n      <td>2.3</td>\n      <td>0.7</td>\n      <td>58731.0</td>\n      <td>train</td>\n    </tr>\n    <tr>\n      <th>3</th>\n      <td>1001_2019-11-01</td>\n      <td>1001</td>\n      <td>Autauga County</td>\n      <td>Alabama</td>\n      <td>2019-11-01</td>\n      <td>2.993233</td>\n      <td>1243.0</td>\n      <td>2019-01-01</td>\n      <td>80.6</td>\n      <td>16.1</td>\n      <td>2.3</td>\n      <td>0.7</td>\n      <td>58731.0</td>\n      <td>train</td>\n    </tr>\n    <tr>\n      <th>4</th>\n      <td>1001_2019-12-01</td>\n      <td>1001</td>\n      <td>Autauga County</td>\n      <td>Alabama</td>\n      <td>2019-12-01</td>\n      <td>2.993233</td>\n      <td>1243.0</td>\n      <td>2019-01-01</td>\n      <td>80.6</td>\n      <td>16.1</td>\n      <td>2.3</td>\n      <td>0.7</td>\n      <td>58731.0</td>\n      <td>train</td>\n    </tr>\n  </tbody>\n</table>\n</div>"
     },
     "execution_count": 381,
     "metadata": {},
     "output_type": "execute_result"
    }
   ],
   "source": [
    "train_data['source'] = 'train'\n",
    "# LOAD submission\n",
    "submission = pd.read_csv('../../data/godaddy-microbusiness-density-forecasting/test.csv')\n",
    "submission['source'] = 'test'\n",
    "data = pd.concat([train_data, submission], axis=0)\n",
    "data.head()"
   ],
   "metadata": {
    "collapsed": false
   }
  },
  {
   "cell_type": "code",
   "execution_count": 382,
   "outputs": [
    {
     "data": {
      "text/plain": "            row_id  cfips_0  cfips_1  cfips_2          county    state  \\\n0  1001_2019-08-01        0        0        1  Autauga County  Alabama   \n1  1001_2019-09-01        0        0        1  Autauga County  Alabama   \n2  1001_2019-10-01        0        0        1  Autauga County  Alabama   \n3  1001_2019-11-01        0        0        1  Autauga County  Alabama   \n4  1001_2019-12-01        0        0        1  Autauga County  Alabama   \n\n  first_day_of_month  microbusiness_density  active        year  pct_bb  \\\n0         2019-08-01               3.007682  1249.0  2019-01-01    80.6   \n1         2019-09-01               2.884870  1198.0  2019-01-01    80.6   \n2         2019-10-01               3.055843  1269.0  2019-01-01    80.6   \n3         2019-11-01               2.993233  1243.0  2019-01-01    80.6   \n4         2019-12-01               2.993233  1243.0  2019-01-01    80.6   \n\n   pct_college  pct_foreign_born  pct_it_workers  median_hh_inc source  \\\n0         16.1               2.3             0.7        58731.0  train   \n1         16.1               2.3             0.7        58731.0  train   \n2         16.1               2.3             0.7        58731.0  train   \n3         16.1               2.3             0.7        58731.0  train   \n4         16.1               2.3             0.7        58731.0  train   \n\n   cfips_id  \n0      1001  \n1      1001  \n2      1001  \n3      1001  \n4      1001  ",
      "text/html": "<div>\n<style scoped>\n    .dataframe tbody tr th:only-of-type {\n        vertical-align: middle;\n    }\n\n    .dataframe tbody tr th {\n        vertical-align: top;\n    }\n\n    .dataframe thead th {\n        text-align: right;\n    }\n</style>\n<table border=\"1\" class=\"dataframe\">\n  <thead>\n    <tr style=\"text-align: right;\">\n      <th></th>\n      <th>row_id</th>\n      <th>cfips_0</th>\n      <th>cfips_1</th>\n      <th>cfips_2</th>\n      <th>county</th>\n      <th>state</th>\n      <th>first_day_of_month</th>\n      <th>microbusiness_density</th>\n      <th>active</th>\n      <th>year</th>\n      <th>pct_bb</th>\n      <th>pct_college</th>\n      <th>pct_foreign_born</th>\n      <th>pct_it_workers</th>\n      <th>median_hh_inc</th>\n      <th>source</th>\n      <th>cfips_id</th>\n    </tr>\n  </thead>\n  <tbody>\n    <tr>\n      <th>0</th>\n      <td>1001_2019-08-01</td>\n      <td>0</td>\n      <td>0</td>\n      <td>1</td>\n      <td>Autauga County</td>\n      <td>Alabama</td>\n      <td>2019-08-01</td>\n      <td>3.007682</td>\n      <td>1249.0</td>\n      <td>2019-01-01</td>\n      <td>80.6</td>\n      <td>16.1</td>\n      <td>2.3</td>\n      <td>0.7</td>\n      <td>58731.0</td>\n      <td>train</td>\n      <td>1001</td>\n    </tr>\n    <tr>\n      <th>1</th>\n      <td>1001_2019-09-01</td>\n      <td>0</td>\n      <td>0</td>\n      <td>1</td>\n      <td>Autauga County</td>\n      <td>Alabama</td>\n      <td>2019-09-01</td>\n      <td>2.884870</td>\n      <td>1198.0</td>\n      <td>2019-01-01</td>\n      <td>80.6</td>\n      <td>16.1</td>\n      <td>2.3</td>\n      <td>0.7</td>\n      <td>58731.0</td>\n      <td>train</td>\n      <td>1001</td>\n    </tr>\n    <tr>\n      <th>2</th>\n      <td>1001_2019-10-01</td>\n      <td>0</td>\n      <td>0</td>\n      <td>1</td>\n      <td>Autauga County</td>\n      <td>Alabama</td>\n      <td>2019-10-01</td>\n      <td>3.055843</td>\n      <td>1269.0</td>\n      <td>2019-01-01</td>\n      <td>80.6</td>\n      <td>16.1</td>\n      <td>2.3</td>\n      <td>0.7</td>\n      <td>58731.0</td>\n      <td>train</td>\n      <td>1001</td>\n    </tr>\n    <tr>\n      <th>3</th>\n      <td>1001_2019-11-01</td>\n      <td>0</td>\n      <td>0</td>\n      <td>1</td>\n      <td>Autauga County</td>\n      <td>Alabama</td>\n      <td>2019-11-01</td>\n      <td>2.993233</td>\n      <td>1243.0</td>\n      <td>2019-01-01</td>\n      <td>80.6</td>\n      <td>16.1</td>\n      <td>2.3</td>\n      <td>0.7</td>\n      <td>58731.0</td>\n      <td>train</td>\n      <td>1001</td>\n    </tr>\n    <tr>\n      <th>4</th>\n      <td>1001_2019-12-01</td>\n      <td>0</td>\n      <td>0</td>\n      <td>1</td>\n      <td>Autauga County</td>\n      <td>Alabama</td>\n      <td>2019-12-01</td>\n      <td>2.993233</td>\n      <td>1243.0</td>\n      <td>2019-01-01</td>\n      <td>80.6</td>\n      <td>16.1</td>\n      <td>2.3</td>\n      <td>0.7</td>\n      <td>58731.0</td>\n      <td>train</td>\n      <td>1001</td>\n    </tr>\n  </tbody>\n</table>\n</div>"
     },
     "execution_count": 382,
     "metadata": {},
     "output_type": "execute_result"
    }
   ],
   "source": [
    "data['cfips_id'] = data['cfips']\n",
    "data= ce.BaseNEncoder(cols=['cfips'], base=50).fit_transform(data)\n",
    "data.head()"
   ],
   "metadata": {
    "collapsed": false
   }
  },
  {
   "cell_type": "code",
   "execution_count": 382,
   "outputs": [],
   "source": [],
   "metadata": {
    "collapsed": false
   }
  },
  {
   "cell_type": "code",
   "execution_count": 383,
   "outputs": [
    {
     "data": {
      "text/plain": "                 row_id  cfips_0  cfips_1  cfips_2 county state  \\\n25075  56037_2023-06-01        1       12       31    NaN   NaN   \n25076  56039_2023-06-01        1       12       32    NaN   NaN   \n25077  56041_2023-06-01        1       12       33    NaN   NaN   \n25078  56043_2023-06-01        1       12       34    NaN   NaN   \n25079  56045_2023-06-01        1       12       35    NaN   NaN   \n\n      first_day_of_month  microbusiness_density  active year  pct_bb  \\\n25075         2023-06-01                    NaN     NaN  NaN     NaN   \n25076         2023-06-01                    NaN     NaN  NaN     NaN   \n25077         2023-06-01                    NaN     NaN  NaN     NaN   \n25078         2023-06-01                    NaN     NaN  NaN     NaN   \n25079         2023-06-01                    NaN     NaN  NaN     NaN   \n\n       pct_college  pct_foreign_born  pct_it_workers  median_hh_inc source  \\\n25075          NaN               NaN             NaN            NaN   test   \n25076          NaN               NaN             NaN            NaN   test   \n25077          NaN               NaN             NaN            NaN   test   \n25078          NaN               NaN             NaN            NaN   test   \n25079          NaN               NaN             NaN            NaN   test   \n\n       cfips_id  \n25075     56037  \n25076     56039  \n25077     56041  \n25078     56043  \n25079     56045  ",
      "text/html": "<div>\n<style scoped>\n    .dataframe tbody tr th:only-of-type {\n        vertical-align: middle;\n    }\n\n    .dataframe tbody tr th {\n        vertical-align: top;\n    }\n\n    .dataframe thead th {\n        text-align: right;\n    }\n</style>\n<table border=\"1\" class=\"dataframe\">\n  <thead>\n    <tr style=\"text-align: right;\">\n      <th></th>\n      <th>row_id</th>\n      <th>cfips_0</th>\n      <th>cfips_1</th>\n      <th>cfips_2</th>\n      <th>county</th>\n      <th>state</th>\n      <th>first_day_of_month</th>\n      <th>microbusiness_density</th>\n      <th>active</th>\n      <th>year</th>\n      <th>pct_bb</th>\n      <th>pct_college</th>\n      <th>pct_foreign_born</th>\n      <th>pct_it_workers</th>\n      <th>median_hh_inc</th>\n      <th>source</th>\n      <th>cfips_id</th>\n    </tr>\n  </thead>\n  <tbody>\n    <tr>\n      <th>25075</th>\n      <td>56037_2023-06-01</td>\n      <td>1</td>\n      <td>12</td>\n      <td>31</td>\n      <td>NaN</td>\n      <td>NaN</td>\n      <td>2023-06-01</td>\n      <td>NaN</td>\n      <td>NaN</td>\n      <td>NaN</td>\n      <td>NaN</td>\n      <td>NaN</td>\n      <td>NaN</td>\n      <td>NaN</td>\n      <td>NaN</td>\n      <td>test</td>\n      <td>56037</td>\n    </tr>\n    <tr>\n      <th>25076</th>\n      <td>56039_2023-06-01</td>\n      <td>1</td>\n      <td>12</td>\n      <td>32</td>\n      <td>NaN</td>\n      <td>NaN</td>\n      <td>2023-06-01</td>\n      <td>NaN</td>\n      <td>NaN</td>\n      <td>NaN</td>\n      <td>NaN</td>\n      <td>NaN</td>\n      <td>NaN</td>\n      <td>NaN</td>\n      <td>NaN</td>\n      <td>test</td>\n      <td>56039</td>\n    </tr>\n    <tr>\n      <th>25077</th>\n      <td>56041_2023-06-01</td>\n      <td>1</td>\n      <td>12</td>\n      <td>33</td>\n      <td>NaN</td>\n      <td>NaN</td>\n      <td>2023-06-01</td>\n      <td>NaN</td>\n      <td>NaN</td>\n      <td>NaN</td>\n      <td>NaN</td>\n      <td>NaN</td>\n      <td>NaN</td>\n      <td>NaN</td>\n      <td>NaN</td>\n      <td>test</td>\n      <td>56041</td>\n    </tr>\n    <tr>\n      <th>25078</th>\n      <td>56043_2023-06-01</td>\n      <td>1</td>\n      <td>12</td>\n      <td>34</td>\n      <td>NaN</td>\n      <td>NaN</td>\n      <td>2023-06-01</td>\n      <td>NaN</td>\n      <td>NaN</td>\n      <td>NaN</td>\n      <td>NaN</td>\n      <td>NaN</td>\n      <td>NaN</td>\n      <td>NaN</td>\n      <td>NaN</td>\n      <td>test</td>\n      <td>56043</td>\n    </tr>\n    <tr>\n      <th>25079</th>\n      <td>56045_2023-06-01</td>\n      <td>1</td>\n      <td>12</td>\n      <td>35</td>\n      <td>NaN</td>\n      <td>NaN</td>\n      <td>2023-06-01</td>\n      <td>NaN</td>\n      <td>NaN</td>\n      <td>NaN</td>\n      <td>NaN</td>\n      <td>NaN</td>\n      <td>NaN</td>\n      <td>NaN</td>\n      <td>NaN</td>\n      <td>test</td>\n      <td>56045</td>\n    </tr>\n  </tbody>\n</table>\n</div>"
     },
     "execution_count": 383,
     "metadata": {},
     "output_type": "execute_result"
    }
   ],
   "source": [
    "data.tail()"
   ],
   "metadata": {
    "collapsed": false
   }
  },
  {
   "cell_type": "code",
   "execution_count": 384,
   "outputs": [],
   "source": [
    "data['first_day_of_month'] = pd.to_datetime(data['first_day_of_month'])"
   ],
   "metadata": {
    "collapsed": false
   }
  },
  {
   "cell_type": "code",
   "execution_count": 385,
   "outputs": [
    {
     "data": {
      "text/plain": "       cfips_id  cfips_0  cfips_1  cfips_2 first_day_of_month  \\\n0          1001        0        0        1         2019-08-01   \n57564     28155        0       29       27         2019-08-01   \n57525     28153        0       29       26         2019-08-01   \n57486     28151        0       29       25         2019-08-01   \n57447     28149        0       29       24         2019-08-01   \n\n       microbusiness_density  lag_1  lag_2  lag_3  \n0                   3.007682    NaN    NaN    NaN  \n57564               0.923942    NaN    NaN    NaN  \n57525               0.631922    NaN    NaN    NaN  \n57486               1.152354    NaN    NaN    NaN  \n57447               2.041158    NaN    NaN    NaN  ",
      "text/html": "<div>\n<style scoped>\n    .dataframe tbody tr th:only-of-type {\n        vertical-align: middle;\n    }\n\n    .dataframe tbody tr th {\n        vertical-align: top;\n    }\n\n    .dataframe thead th {\n        text-align: right;\n    }\n</style>\n<table border=\"1\" class=\"dataframe\">\n  <thead>\n    <tr style=\"text-align: right;\">\n      <th></th>\n      <th>cfips_id</th>\n      <th>cfips_0</th>\n      <th>cfips_1</th>\n      <th>cfips_2</th>\n      <th>first_day_of_month</th>\n      <th>microbusiness_density</th>\n      <th>lag_1</th>\n      <th>lag_2</th>\n      <th>lag_3</th>\n    </tr>\n  </thead>\n  <tbody>\n    <tr>\n      <th>0</th>\n      <td>1001</td>\n      <td>0</td>\n      <td>0</td>\n      <td>1</td>\n      <td>2019-08-01</td>\n      <td>3.007682</td>\n      <td>NaN</td>\n      <td>NaN</td>\n      <td>NaN</td>\n    </tr>\n    <tr>\n      <th>57564</th>\n      <td>28155</td>\n      <td>0</td>\n      <td>29</td>\n      <td>27</td>\n      <td>2019-08-01</td>\n      <td>0.923942</td>\n      <td>NaN</td>\n      <td>NaN</td>\n      <td>NaN</td>\n    </tr>\n    <tr>\n      <th>57525</th>\n      <td>28153</td>\n      <td>0</td>\n      <td>29</td>\n      <td>26</td>\n      <td>2019-08-01</td>\n      <td>0.631922</td>\n      <td>NaN</td>\n      <td>NaN</td>\n      <td>NaN</td>\n    </tr>\n    <tr>\n      <th>57486</th>\n      <td>28151</td>\n      <td>0</td>\n      <td>29</td>\n      <td>25</td>\n      <td>2019-08-01</td>\n      <td>1.152354</td>\n      <td>NaN</td>\n      <td>NaN</td>\n      <td>NaN</td>\n    </tr>\n    <tr>\n      <th>57447</th>\n      <td>28149</td>\n      <td>0</td>\n      <td>29</td>\n      <td>24</td>\n      <td>2019-08-01</td>\n      <td>2.041158</td>\n      <td>NaN</td>\n      <td>NaN</td>\n      <td>NaN</td>\n    </tr>\n  </tbody>\n</table>\n</div>"
     },
     "execution_count": 385,
     "metadata": {},
     "output_type": "execute_result"
    }
   ],
   "source": [
    "# create lag\n",
    "lags = [1, 2,3]\n",
    "\n",
    "# sort by date\n",
    "data = data.sort_values('first_day_of_month')\n",
    "\n",
    "for lag in lags:\n",
    "    data[f'lag_{lag}'] = data.groupby('cfips_id')['microbusiness_density'].shift(lag)\n",
    "\n",
    "keep_cols = [ 'cfips_id', 'cfips_0', 'cfips_1', 'cfips_2', 'first_day_of_month', 'microbusiness_density' ] + [f'lag_{lag}' for lag in lags]\n",
    "data = data[keep_cols]\n",
    "\n",
    "data.head()"
   ],
   "metadata": {
    "collapsed": false
   }
  },
  {
   "cell_type": "code",
   "execution_count": 386,
   "outputs": [],
   "source": [
    "data = data.set_index('first_day_of_month')"
   ],
   "metadata": {
    "collapsed": false
   }
  },
  {
   "cell_type": "code",
   "execution_count": 387,
   "outputs": [],
   "source": [
    "# split into train and test and valid\n",
    "train = data[data.index < '2022-04-01']\n",
    "val = data[(data.index >= '2022-04-01') & (data.index < '2022-11-01')]\n",
    "test = data[data.index >= '2022-11-01']"
   ],
   "metadata": {
    "collapsed": false
   }
  },
  {
   "cell_type": "code",
   "execution_count": 388,
   "outputs": [],
   "source": [
    "train = train.dropna()"
   ],
   "metadata": {
    "collapsed": false
   }
  },
  {
   "cell_type": "code",
   "execution_count": 389,
   "outputs": [
    {
     "data": {
      "text/plain": "                    cfips_id  cfips_0  cfips_1  cfips_2  \\\nfirst_day_of_month                                        \n2022-04-01             38051        0       40       13   \n2022-04-01             21095        0       20       39   \n2022-04-01             38069        0       40       22   \n2022-04-01             48273        1        3        6   \n2022-04-01             18117        0       15        4   \n...                      ...      ...      ...      ...   \n2022-10-01             27047        0       26       36   \n2022-10-01             48391        1        4       15   \n2022-10-01             27043        0       26       34   \n2022-10-01             27041        0       26       33   \n2022-10-01             27039        0       26       32   \n\n                    microbusiness_density     lag_1     lag_2     lag_3  \nfirst_day_of_month                                                       \n2022-04-01                       1.666667  1.619048  1.619048  1.666667  \n2022-04-01                       0.769041  0.788760  0.833128  0.842987  \n2022-04-01                       1.806084  1.837769  1.837769  1.806084  \n2022-04-01                       1.170900  1.170900  1.153681  1.140766  \n2022-04-01                       2.449358  2.455978  2.416258  2.403019  \n...                                   ...       ...       ...       ...  \n2022-10-01                       2.501682  2.526909  2.522704  2.526909  \n2022-10-01                       2.023765  2.023765  1.986632  2.005199  \n2022-10-01                       2.318190  2.299495  2.327538  2.346233  \n2022-10-01                       6.084878  6.071416  6.054589  5.994009  \n2022-10-01                       2.506184  2.506184  2.493165  2.525713  \n\n[21945 rows x 8 columns]",
      "text/html": "<div>\n<style scoped>\n    .dataframe tbody tr th:only-of-type {\n        vertical-align: middle;\n    }\n\n    .dataframe tbody tr th {\n        vertical-align: top;\n    }\n\n    .dataframe thead th {\n        text-align: right;\n    }\n</style>\n<table border=\"1\" class=\"dataframe\">\n  <thead>\n    <tr style=\"text-align: right;\">\n      <th></th>\n      <th>cfips_id</th>\n      <th>cfips_0</th>\n      <th>cfips_1</th>\n      <th>cfips_2</th>\n      <th>microbusiness_density</th>\n      <th>lag_1</th>\n      <th>lag_2</th>\n      <th>lag_3</th>\n    </tr>\n    <tr>\n      <th>first_day_of_month</th>\n      <th></th>\n      <th></th>\n      <th></th>\n      <th></th>\n      <th></th>\n      <th></th>\n      <th></th>\n      <th></th>\n    </tr>\n  </thead>\n  <tbody>\n    <tr>\n      <th>2022-04-01</th>\n      <td>38051</td>\n      <td>0</td>\n      <td>40</td>\n      <td>13</td>\n      <td>1.666667</td>\n      <td>1.619048</td>\n      <td>1.619048</td>\n      <td>1.666667</td>\n    </tr>\n    <tr>\n      <th>2022-04-01</th>\n      <td>21095</td>\n      <td>0</td>\n      <td>20</td>\n      <td>39</td>\n      <td>0.769041</td>\n      <td>0.788760</td>\n      <td>0.833128</td>\n      <td>0.842987</td>\n    </tr>\n    <tr>\n      <th>2022-04-01</th>\n      <td>38069</td>\n      <td>0</td>\n      <td>40</td>\n      <td>22</td>\n      <td>1.806084</td>\n      <td>1.837769</td>\n      <td>1.837769</td>\n      <td>1.806084</td>\n    </tr>\n    <tr>\n      <th>2022-04-01</th>\n      <td>48273</td>\n      <td>1</td>\n      <td>3</td>\n      <td>6</td>\n      <td>1.170900</td>\n      <td>1.170900</td>\n      <td>1.153681</td>\n      <td>1.140766</td>\n    </tr>\n    <tr>\n      <th>2022-04-01</th>\n      <td>18117</td>\n      <td>0</td>\n      <td>15</td>\n      <td>4</td>\n      <td>2.449358</td>\n      <td>2.455978</td>\n      <td>2.416258</td>\n      <td>2.403019</td>\n    </tr>\n    <tr>\n      <th>...</th>\n      <td>...</td>\n      <td>...</td>\n      <td>...</td>\n      <td>...</td>\n      <td>...</td>\n      <td>...</td>\n      <td>...</td>\n      <td>...</td>\n    </tr>\n    <tr>\n      <th>2022-10-01</th>\n      <td>27047</td>\n      <td>0</td>\n      <td>26</td>\n      <td>36</td>\n      <td>2.501682</td>\n      <td>2.526909</td>\n      <td>2.522704</td>\n      <td>2.526909</td>\n    </tr>\n    <tr>\n      <th>2022-10-01</th>\n      <td>48391</td>\n      <td>1</td>\n      <td>4</td>\n      <td>15</td>\n      <td>2.023765</td>\n      <td>2.023765</td>\n      <td>1.986632</td>\n      <td>2.005199</td>\n    </tr>\n    <tr>\n      <th>2022-10-01</th>\n      <td>27043</td>\n      <td>0</td>\n      <td>26</td>\n      <td>34</td>\n      <td>2.318190</td>\n      <td>2.299495</td>\n      <td>2.327538</td>\n      <td>2.346233</td>\n    </tr>\n    <tr>\n      <th>2022-10-01</th>\n      <td>27041</td>\n      <td>0</td>\n      <td>26</td>\n      <td>33</td>\n      <td>6.084878</td>\n      <td>6.071416</td>\n      <td>6.054589</td>\n      <td>5.994009</td>\n    </tr>\n    <tr>\n      <th>2022-10-01</th>\n      <td>27039</td>\n      <td>0</td>\n      <td>26</td>\n      <td>32</td>\n      <td>2.506184</td>\n      <td>2.506184</td>\n      <td>2.493165</td>\n      <td>2.525713</td>\n    </tr>\n  </tbody>\n</table>\n<p>21945 rows × 8 columns</p>\n</div>"
     },
     "execution_count": 389,
     "metadata": {},
     "output_type": "execute_result"
    }
   ],
   "source": [
    "val"
   ],
   "metadata": {
    "collapsed": false
   }
  },
  {
   "cell_type": "code",
   "execution_count": 618,
   "outputs": [],
   "source": [
    "params = {\n",
    "    'task': 'train',\n",
    "    'boosting': 'gbdt',\n",
    "    'objective': 'regression',\n",
    "    'num_leaves': 30,\n",
    "    'n_estimators' : 1000,\n",
    "    'max_depth': 4,\n",
    "    'learning_rate': 0.085,\n",
    "    'reg_alpha' : 1,\n",
    "    'reg_lambda' : 0.1,\n",
    "    'metric': {'l2','l1'},\n",
    "    'verbose': -1\n",
    "}\n"
   ],
   "metadata": {
    "collapsed": false
   }
  },
  {
   "cell_type": "code",
   "execution_count": 619,
   "outputs": [],
   "source": [
    "cols_to_drop = ['cfips_id', 'microbusiness_density']\n",
    "\n",
    "train_x = train.drop(columns=cols_to_drop, axis=1)\n",
    "train_y = train['microbusiness_density']\n",
    "\n",
    "val_x = val.drop(columns=cols_to_drop, axis=1)\n",
    "val_y = val['microbusiness_density']\n",
    "\n",
    "\n",
    "lgb_train = lgb.Dataset(train_x, train_y)\n",
    "lgb_eval = lgb.Dataset(val_x, val_y, reference=lgb_train)"
   ],
   "metadata": {
    "collapsed": false
   }
  },
  {
   "cell_type": "code",
   "execution_count": 620,
   "outputs": [
    {
     "name": "stderr",
     "output_type": "stream",
     "text": [
      "C:\\Users\\avomo\\AppData\\Roaming\\Python\\Python39\\site-packages\\lightgbm\\engine.py:177: UserWarning: Found `n_estimators` in params. Will use it instead of argument\n",
      "  _log_warning(f\"Found `{alias}` in params. Will use it instead of argument\")\n",
      "C:\\Users\\avomo\\AppData\\Roaming\\Python\\Python39\\site-packages\\lightgbm\\engine.py:181: UserWarning: 'early_stopping_rounds' argument is deprecated and will be removed in a future release of LightGBM. Pass 'early_stopping()' callback via 'callbacks' argument instead.\n",
      "  _log_warning(\"'early_stopping_rounds' argument is deprecated and will be removed in a future release of LightGBM. \"\n"
     ]
    },
    {
     "name": "stdout",
     "output_type": "stream",
     "text": [
      "[1]\tvalid_0's l1: 2.31131\tvalid_0's l2: 27.5625\n",
      "Training until validation scores don't improve for 50 rounds\n",
      "[2]\tvalid_0's l1: 2.12152\tvalid_0's l2: 24.2191\n",
      "[3]\tvalid_0's l1: 1.94559\tvalid_0's l2: 21.3729\n",
      "[4]\tvalid_0's l1: 1.78641\tvalid_0's l2: 19.0132\n",
      "[5]\tvalid_0's l1: 1.63914\tvalid_0's l2: 16.9432\n",
      "[6]\tvalid_0's l1: 1.50609\tvalid_0's l2: 15.2058\n",
      "[7]\tvalid_0's l1: 1.38473\tvalid_0's l2: 13.7557\n",
      "[8]\tvalid_0's l1: 1.27219\tvalid_0's l2: 12.5246\n",
      "[9]\tvalid_0's l1: 1.16947\tvalid_0's l2: 11.5139\n",
      "[10]\tvalid_0's l1: 1.07484\tvalid_0's l2: 10.6408\n",
      "[11]\tvalid_0's l1: 0.988932\tvalid_0's l2: 9.93038\n",
      "[12]\tvalid_0's l1: 0.910749\tvalid_0's l2: 9.25887\n",
      "[13]\tvalid_0's l1: 0.840015\tvalid_0's l2: 8.70383\n",
      "[14]\tvalid_0's l1: 0.776482\tvalid_0's l2: 8.28796\n",
      "[15]\tvalid_0's l1: 0.717464\tvalid_0's l2: 7.89195\n",
      "[16]\tvalid_0's l1: 0.665549\tvalid_0's l2: 7.60267\n",
      "[17]\tvalid_0's l1: 0.61703\tvalid_0's l2: 7.29507\n",
      "[18]\tvalid_0's l1: 0.572683\tvalid_0's l2: 7.0683\n",
      "[19]\tvalid_0's l1: 0.531538\tvalid_0's l2: 6.86672\n",
      "[20]\tvalid_0's l1: 0.496405\tvalid_0's l2: 6.7227\n",
      "[21]\tvalid_0's l1: 0.462482\tvalid_0's l2: 6.5516\n",
      "[22]\tvalid_0's l1: 0.431724\tvalid_0's l2: 6.43574\n",
      "[23]\tvalid_0's l1: 0.403987\tvalid_0's l2: 6.33934\n",
      "[24]\tvalid_0's l1: 0.378882\tvalid_0's l2: 6.2592\n",
      "[25]\tvalid_0's l1: 0.35518\tvalid_0's l2: 6.14032\n",
      "[26]\tvalid_0's l1: 0.334023\tvalid_0's l2: 5.96324\n",
      "[27]\tvalid_0's l1: 0.314683\tvalid_0's l2: 5.80612\n",
      "[28]\tvalid_0's l1: 0.298447\tvalid_0's l2: 5.77542\n",
      "[29]\tvalid_0's l1: 0.283108\tvalid_0's l2: 5.73519\n",
      "[30]\tvalid_0's l1: 0.269425\tvalid_0's l2: 5.70695\n",
      "[31]\tvalid_0's l1: 0.255901\tvalid_0's l2: 5.64024\n",
      "[32]\tvalid_0's l1: 0.244078\tvalid_0's l2: 5.5203\n",
      "[33]\tvalid_0's l1: 0.233077\tvalid_0's l2: 5.4694\n",
      "[34]\tvalid_0's l1: 0.223491\tvalid_0's l2: 5.36657\n",
      "[35]\tvalid_0's l1: 0.216262\tvalid_0's l2: 5.37385\n",
      "[36]\tvalid_0's l1: 0.209427\tvalid_0's l2: 5.37769\n",
      "[37]\tvalid_0's l1: 0.202973\tvalid_0's l2: 5.36956\n",
      "[38]\tvalid_0's l1: 0.196507\tvalid_0's l2: 5.36397\n",
      "[39]\tvalid_0's l1: 0.191013\tvalid_0's l2: 5.36762\n",
      "[40]\tvalid_0's l1: 0.186831\tvalid_0's l2: 5.38026\n",
      "[41]\tvalid_0's l1: 0.182938\tvalid_0's l2: 5.38765\n",
      "[42]\tvalid_0's l1: 0.179725\tvalid_0's l2: 5.39636\n",
      "[43]\tvalid_0's l1: 0.176183\tvalid_0's l2: 5.39234\n",
      "[44]\tvalid_0's l1: 0.172672\tvalid_0's l2: 5.33573\n",
      "[45]\tvalid_0's l1: 0.170401\tvalid_0's l2: 5.33343\n",
      "[46]\tvalid_0's l1: 0.167677\tvalid_0's l2: 5.25863\n",
      "[47]\tvalid_0's l1: 0.165886\tvalid_0's l2: 5.24995\n",
      "[48]\tvalid_0's l1: 0.164091\tvalid_0's l2: 5.24938\n",
      "[49]\tvalid_0's l1: 0.161959\tvalid_0's l2: 5.20075\n",
      "[50]\tvalid_0's l1: 0.160975\tvalid_0's l2: 5.20396\n",
      "[51]\tvalid_0's l1: 0.1599\tvalid_0's l2: 5.20984\n",
      "[52]\tvalid_0's l1: 0.158095\tvalid_0's l2: 5.16718\n",
      "[53]\tvalid_0's l1: 0.157292\tvalid_0's l2: 5.17416\n",
      "[54]\tvalid_0's l1: 0.155888\tvalid_0's l2: 5.16428\n",
      "[55]\tvalid_0's l1: 0.154334\tvalid_0's l2: 5.1251\n",
      "[56]\tvalid_0's l1: 0.153666\tvalid_0's l2: 5.13365\n",
      "[57]\tvalid_0's l1: 0.152339\tvalid_0's l2: 5.09879\n",
      "[58]\tvalid_0's l1: 0.152077\tvalid_0's l2: 5.08605\n",
      "[59]\tvalid_0's l1: 0.151021\tvalid_0's l2: 5.07933\n",
      "[60]\tvalid_0's l1: 0.150606\tvalid_0's l2: 5.08815\n",
      "[61]\tvalid_0's l1: 0.149619\tvalid_0's l2: 5.05697\n",
      "[62]\tvalid_0's l1: 0.149282\tvalid_0's l2: 5.06609\n",
      "[63]\tvalid_0's l1: 0.148525\tvalid_0's l2: 5.00592\n",
      "[64]\tvalid_0's l1: 0.147957\tvalid_0's l2: 4.95262\n",
      "[65]\tvalid_0's l1: 0.147161\tvalid_0's l2: 4.92494\n",
      "[66]\tvalid_0's l1: 0.146535\tvalid_0's l2: 4.8746\n",
      "[67]\tvalid_0's l1: 0.145825\tvalid_0's l2: 4.8281\n",
      "[68]\tvalid_0's l1: 0.145396\tvalid_0's l2: 4.82675\n",
      "[69]\tvalid_0's l1: 0.145103\tvalid_0's l2: 4.82898\n",
      "[70]\tvalid_0's l1: 0.144642\tvalid_0's l2: 4.82894\n",
      "[71]\tvalid_0's l1: 0.144319\tvalid_0's l2: 4.82979\n",
      "[72]\tvalid_0's l1: 0.14439\tvalid_0's l2: 4.83207\n",
      "[73]\tvalid_0's l1: 0.143803\tvalid_0's l2: 4.83339\n",
      "[74]\tvalid_0's l1: 0.143568\tvalid_0's l2: 4.83047\n",
      "[75]\tvalid_0's l1: 0.143661\tvalid_0's l2: 4.83346\n",
      "[76]\tvalid_0's l1: 0.143588\tvalid_0's l2: 4.83275\n",
      "[77]\tvalid_0's l1: 0.143079\tvalid_0's l2: 4.80787\n",
      "[78]\tvalid_0's l1: 0.142712\tvalid_0's l2: 4.80247\n",
      "[79]\tvalid_0's l1: 0.142286\tvalid_0's l2: 4.80228\n",
      "[80]\tvalid_0's l1: 0.142325\tvalid_0's l2: 4.79955\n",
      "[81]\tvalid_0's l1: 0.142257\tvalid_0's l2: 4.79764\n",
      "[82]\tvalid_0's l1: 0.141753\tvalid_0's l2: 4.76362\n",
      "[83]\tvalid_0's l1: 0.141908\tvalid_0's l2: 4.76774\n",
      "[84]\tvalid_0's l1: 0.14153\tvalid_0's l2: 4.73864\n",
      "[85]\tvalid_0's l1: 0.141749\tvalid_0's l2: 4.74008\n",
      "[86]\tvalid_0's l1: 0.141477\tvalid_0's l2: 4.71912\n",
      "[87]\tvalid_0's l1: 0.141058\tvalid_0's l2: 4.69306\n",
      "[88]\tvalid_0's l1: 0.141205\tvalid_0's l2: 4.69483\n",
      "[89]\tvalid_0's l1: 0.140824\tvalid_0's l2: 4.67211\n",
      "[90]\tvalid_0's l1: 0.141052\tvalid_0's l2: 4.67495\n",
      "[91]\tvalid_0's l1: 0.14083\tvalid_0's l2: 4.65599\n",
      "[92]\tvalid_0's l1: 0.140501\tvalid_0's l2: 4.63632\n",
      "[93]\tvalid_0's l1: 0.140595\tvalid_0's l2: 4.63821\n",
      "[94]\tvalid_0's l1: 0.140403\tvalid_0's l2: 4.6215\n",
      "[95]\tvalid_0's l1: 0.139722\tvalid_0's l2: 4.60472\n",
      "[96]\tvalid_0's l1: 0.139782\tvalid_0's l2: 4.60667\n",
      "[97]\tvalid_0's l1: 0.139192\tvalid_0's l2: 4.59227\n",
      "[98]\tvalid_0's l1: 0.139414\tvalid_0's l2: 4.59706\n",
      "[99]\tvalid_0's l1: 0.139587\tvalid_0's l2: 4.60014\n",
      "[100]\tvalid_0's l1: 0.139333\tvalid_0's l2: 4.58725\n",
      "[101]\tvalid_0's l1: 0.138838\tvalid_0's l2: 4.57538\n",
      "[102]\tvalid_0's l1: 0.138987\tvalid_0's l2: 4.57881\n",
      "[103]\tvalid_0's l1: 0.138995\tvalid_0's l2: 4.58082\n",
      "[104]\tvalid_0's l1: 0.138528\tvalid_0's l2: 4.57031\n",
      "[105]\tvalid_0's l1: 0.138618\tvalid_0's l2: 4.57265\n",
      "[106]\tvalid_0's l1: 0.138174\tvalid_0's l2: 4.56318\n",
      "[107]\tvalid_0's l1: 0.13812\tvalid_0's l2: 4.56457\n",
      "[108]\tvalid_0's l1: 0.137741\tvalid_0's l2: 4.55626\n",
      "[109]\tvalid_0's l1: 0.137828\tvalid_0's l2: 4.55941\n",
      "[110]\tvalid_0's l1: 0.137521\tvalid_0's l2: 4.55991\n",
      "[111]\tvalid_0's l1: 0.137522\tvalid_0's l2: 4.56188\n",
      "[112]\tvalid_0's l1: 0.137528\tvalid_0's l2: 4.56111\n",
      "[113]\tvalid_0's l1: 0.137153\tvalid_0's l2: 4.55389\n",
      "[114]\tvalid_0's l1: 0.137158\tvalid_0's l2: 4.55794\n",
      "[115]\tvalid_0's l1: 0.137109\tvalid_0's l2: 4.55925\n",
      "[116]\tvalid_0's l1: 0.136825\tvalid_0's l2: 4.55626\n",
      "[117]\tvalid_0's l1: 0.136656\tvalid_0's l2: 4.53829\n",
      "[118]\tvalid_0's l1: 0.136753\tvalid_0's l2: 4.54174\n",
      "[119]\tvalid_0's l1: 0.136839\tvalid_0's l2: 4.53467\n",
      "[120]\tvalid_0's l1: 0.136792\tvalid_0's l2: 4.53602\n",
      "[121]\tvalid_0's l1: 0.136582\tvalid_0's l2: 4.53445\n",
      "[122]\tvalid_0's l1: 0.136465\tvalid_0's l2: 4.53235\n",
      "[123]\tvalid_0's l1: 0.136322\tvalid_0's l2: 4.53126\n",
      "[124]\tvalid_0's l1: 0.136226\tvalid_0's l2: 4.53184\n",
      "[125]\tvalid_0's l1: 0.135938\tvalid_0's l2: 4.51675\n",
      "[126]\tvalid_0's l1: 0.135772\tvalid_0's l2: 4.51118\n",
      "[127]\tvalid_0's l1: 0.135679\tvalid_0's l2: 4.49855\n",
      "[128]\tvalid_0's l1: 0.135762\tvalid_0's l2: 4.50181\n",
      "[129]\tvalid_0's l1: 0.135753\tvalid_0's l2: 4.50534\n",
      "[130]\tvalid_0's l1: 0.13579\tvalid_0's l2: 4.51655\n",
      "[131]\tvalid_0's l1: 0.135589\tvalid_0's l2: 4.51854\n",
      "[132]\tvalid_0's l1: 0.135619\tvalid_0's l2: 4.51967\n",
      "[133]\tvalid_0's l1: 0.135628\tvalid_0's l2: 4.52573\n",
      "[134]\tvalid_0's l1: 0.135514\tvalid_0's l2: 4.52456\n",
      "[135]\tvalid_0's l1: 0.13546\tvalid_0's l2: 4.52388\n",
      "[136]\tvalid_0's l1: 0.135274\tvalid_0's l2: 4.52484\n",
      "[137]\tvalid_0's l1: 0.135193\tvalid_0's l2: 4.52394\n",
      "[138]\tvalid_0's l1: 0.135013\tvalid_0's l2: 4.52066\n",
      "[139]\tvalid_0's l1: 0.13501\tvalid_0's l2: 4.52061\n",
      "[140]\tvalid_0's l1: 0.134908\tvalid_0's l2: 4.5095\n",
      "[141]\tvalid_0's l1: 0.134874\tvalid_0's l2: 4.51029\n",
      "[142]\tvalid_0's l1: 0.134719\tvalid_0's l2: 4.50565\n",
      "[143]\tvalid_0's l1: 0.134652\tvalid_0's l2: 4.50574\n",
      "[144]\tvalid_0's l1: 0.134559\tvalid_0's l2: 4.50627\n",
      "[145]\tvalid_0's l1: 0.134356\tvalid_0's l2: 4.50186\n",
      "[146]\tvalid_0's l1: 0.134244\tvalid_0's l2: 4.50232\n",
      "[147]\tvalid_0's l1: 0.134047\tvalid_0's l2: 4.50394\n",
      "[148]\tvalid_0's l1: 0.134011\tvalid_0's l2: 4.50337\n",
      "[149]\tvalid_0's l1: 0.134003\tvalid_0's l2: 4.50613\n",
      "[150]\tvalid_0's l1: 0.134001\tvalid_0's l2: 4.50602\n",
      "[151]\tvalid_0's l1: 0.134076\tvalid_0's l2: 4.50662\n",
      "[152]\tvalid_0's l1: 0.134022\tvalid_0's l2: 4.50561\n",
      "[153]\tvalid_0's l1: 0.133929\tvalid_0's l2: 4.5059\n",
      "[154]\tvalid_0's l1: 0.133961\tvalid_0's l2: 4.50821\n",
      "[155]\tvalid_0's l1: 0.133825\tvalid_0's l2: 4.50593\n",
      "[156]\tvalid_0's l1: 0.133648\tvalid_0's l2: 4.50601\n",
      "[157]\tvalid_0's l1: 0.133455\tvalid_0's l2: 4.50726\n",
      "[158]\tvalid_0's l1: 0.133483\tvalid_0's l2: 4.50794\n",
      "[159]\tvalid_0's l1: 0.133445\tvalid_0's l2: 4.50853\n",
      "[160]\tvalid_0's l1: 0.13334\tvalid_0's l2: 4.50593\n",
      "[161]\tvalid_0's l1: 0.133269\tvalid_0's l2: 4.49643\n",
      "[162]\tvalid_0's l1: 0.13333\tvalid_0's l2: 4.49681\n",
      "[163]\tvalid_0's l1: 0.13338\tvalid_0's l2: 4.50596\n",
      "[164]\tvalid_0's l1: 0.133321\tvalid_0's l2: 4.50676\n",
      "[165]\tvalid_0's l1: 0.133258\tvalid_0's l2: 4.50856\n",
      "[166]\tvalid_0's l1: 0.133218\tvalid_0's l2: 4.50771\n",
      "[167]\tvalid_0's l1: 0.133165\tvalid_0's l2: 4.50887\n",
      "[168]\tvalid_0's l1: 0.133078\tvalid_0's l2: 4.50523\n",
      "[169]\tvalid_0's l1: 0.133032\tvalid_0's l2: 4.50611\n",
      "[170]\tvalid_0's l1: 0.133024\tvalid_0's l2: 4.50596\n",
      "[171]\tvalid_0's l1: 0.132988\tvalid_0's l2: 4.50522\n",
      "[172]\tvalid_0's l1: 0.132984\tvalid_0's l2: 4.50638\n",
      "[173]\tvalid_0's l1: 0.133008\tvalid_0's l2: 4.49856\n",
      "[174]\tvalid_0's l1: 0.132936\tvalid_0's l2: 4.49745\n",
      "[175]\tvalid_0's l1: 0.132899\tvalid_0's l2: 4.49785\n",
      "[176]\tvalid_0's l1: 0.13296\tvalid_0's l2: 4.49817\n",
      "[177]\tvalid_0's l1: 0.133015\tvalid_0's l2: 4.49868\n",
      "[178]\tvalid_0's l1: 0.132917\tvalid_0's l2: 4.49668\n",
      "[179]\tvalid_0's l1: 0.132988\tvalid_0's l2: 4.49037\n",
      "[180]\tvalid_0's l1: 0.133033\tvalid_0's l2: 4.49168\n",
      "[181]\tvalid_0's l1: 0.133017\tvalid_0's l2: 4.4954\n",
      "[182]\tvalid_0's l1: 0.133059\tvalid_0's l2: 4.49667\n",
      "[183]\tvalid_0's l1: 0.133063\tvalid_0's l2: 4.49806\n",
      "[184]\tvalid_0's l1: 0.133136\tvalid_0's l2: 4.4948\n",
      "[185]\tvalid_0's l1: 0.133024\tvalid_0's l2: 4.49547\n",
      "[186]\tvalid_0's l1: 0.132875\tvalid_0's l2: 4.49618\n",
      "[187]\tvalid_0's l1: 0.132775\tvalid_0's l2: 4.49218\n",
      "[188]\tvalid_0's l1: 0.132634\tvalid_0's l2: 4.49164\n",
      "[189]\tvalid_0's l1: 0.132565\tvalid_0's l2: 4.49225\n",
      "[190]\tvalid_0's l1: 0.132502\tvalid_0's l2: 4.49156\n",
      "[191]\tvalid_0's l1: 0.132439\tvalid_0's l2: 4.49097\n",
      "[192]\tvalid_0's l1: 0.132403\tvalid_0's l2: 4.49042\n",
      "[193]\tvalid_0's l1: 0.132365\tvalid_0's l2: 4.48992\n",
      "[194]\tvalid_0's l1: 0.132297\tvalid_0's l2: 4.48822\n",
      "[195]\tvalid_0's l1: 0.132197\tvalid_0's l2: 4.48985\n",
      "[196]\tvalid_0's l1: 0.13208\tvalid_0's l2: 4.4846\n",
      "[197]\tvalid_0's l1: 0.132036\tvalid_0's l2: 4.48319\n",
      "[198]\tvalid_0's l1: 0.132058\tvalid_0's l2: 4.48313\n",
      "[199]\tvalid_0's l1: 0.132009\tvalid_0's l2: 4.48299\n",
      "[200]\tvalid_0's l1: 0.131945\tvalid_0's l2: 4.47785\n",
      "[201]\tvalid_0's l1: 0.131864\tvalid_0's l2: 4.47811\n",
      "[202]\tvalid_0's l1: 0.131842\tvalid_0's l2: 4.47932\n",
      "[203]\tvalid_0's l1: 0.131761\tvalid_0's l2: 4.4791\n",
      "[204]\tvalid_0's l1: 0.131678\tvalid_0's l2: 4.47816\n",
      "[205]\tvalid_0's l1: 0.131599\tvalid_0's l2: 4.48005\n",
      "[206]\tvalid_0's l1: 0.13148\tvalid_0's l2: 4.47987\n",
      "[207]\tvalid_0's l1: 0.131341\tvalid_0's l2: 4.48223\n",
      "[208]\tvalid_0's l1: 0.131335\tvalid_0's l2: 4.48346\n",
      "[209]\tvalid_0's l1: 0.131357\tvalid_0's l2: 4.4832\n",
      "[210]\tvalid_0's l1: 0.131269\tvalid_0's l2: 4.47954\n",
      "[211]\tvalid_0's l1: 0.131228\tvalid_0's l2: 4.48166\n",
      "[212]\tvalid_0's l1: 0.131146\tvalid_0's l2: 4.48341\n",
      "[213]\tvalid_0's l1: 0.131133\tvalid_0's l2: 4.48392\n",
      "[214]\tvalid_0's l1: 0.131034\tvalid_0's l2: 4.48377\n",
      "[215]\tvalid_0's l1: 0.131003\tvalid_0's l2: 4.4832\n",
      "[216]\tvalid_0's l1: 0.130996\tvalid_0's l2: 4.48349\n",
      "[217]\tvalid_0's l1: 0.130952\tvalid_0's l2: 4.48843\n",
      "[218]\tvalid_0's l1: 0.130982\tvalid_0's l2: 4.48871\n",
      "[219]\tvalid_0's l1: 0.13097\tvalid_0's l2: 4.48769\n",
      "[220]\tvalid_0's l1: 0.130934\tvalid_0's l2: 4.48698\n",
      "[221]\tvalid_0's l1: 0.130923\tvalid_0's l2: 4.48754\n",
      "[222]\tvalid_0's l1: 0.130891\tvalid_0's l2: 4.48687\n",
      "[223]\tvalid_0's l1: 0.130809\tvalid_0's l2: 4.48298\n",
      "[224]\tvalid_0's l1: 0.130711\tvalid_0's l2: 4.48303\n",
      "[225]\tvalid_0's l1: 0.130733\tvalid_0's l2: 4.48605\n",
      "[226]\tvalid_0's l1: 0.130698\tvalid_0's l2: 4.48507\n",
      "[227]\tvalid_0's l1: 0.130702\tvalid_0's l2: 4.4842\n",
      "[228]\tvalid_0's l1: 0.130744\tvalid_0's l2: 4.48446\n",
      "[229]\tvalid_0's l1: 0.130692\tvalid_0's l2: 4.48077\n",
      "[230]\tvalid_0's l1: 0.13068\tvalid_0's l2: 4.48043\n",
      "[231]\tvalid_0's l1: 0.130632\tvalid_0's l2: 4.47966\n",
      "[232]\tvalid_0's l1: 0.130589\tvalid_0's l2: 4.47895\n",
      "[233]\tvalid_0's l1: 0.13072\tvalid_0's l2: 4.47827\n",
      "[234]\tvalid_0's l1: 0.130732\tvalid_0's l2: 4.47796\n",
      "[235]\tvalid_0's l1: 0.130686\tvalid_0's l2: 4.47942\n",
      "[236]\tvalid_0's l1: 0.130692\tvalid_0's l2: 4.47936\n",
      "[237]\tvalid_0's l1: 0.130674\tvalid_0's l2: 4.47861\n",
      "[238]\tvalid_0's l1: 0.130648\tvalid_0's l2: 4.47546\n",
      "[239]\tvalid_0's l1: 0.130546\tvalid_0's l2: 4.47631\n",
      "[240]\tvalid_0's l1: 0.130446\tvalid_0's l2: 4.4752\n",
      "[241]\tvalid_0's l1: 0.130507\tvalid_0's l2: 4.4714\n",
      "[242]\tvalid_0's l1: 0.130532\tvalid_0's l2: 4.47214\n",
      "[243]\tvalid_0's l1: 0.130512\tvalid_0's l2: 4.47128\n",
      "[244]\tvalid_0's l1: 0.130487\tvalid_0's l2: 4.47104\n",
      "[245]\tvalid_0's l1: 0.130474\tvalid_0's l2: 4.47152\n",
      "[246]\tvalid_0's l1: 0.130476\tvalid_0's l2: 4.47187\n",
      "[247]\tvalid_0's l1: 0.130464\tvalid_0's l2: 4.47214\n",
      "[248]\tvalid_0's l1: 0.130467\tvalid_0's l2: 4.47235\n",
      "[249]\tvalid_0's l1: 0.130361\tvalid_0's l2: 4.46513\n",
      "[250]\tvalid_0's l1: 0.130362\tvalid_0's l2: 4.46539\n",
      "[251]\tvalid_0's l1: 0.130327\tvalid_0's l2: 4.45981\n",
      "[252]\tvalid_0's l1: 0.130256\tvalid_0's l2: 4.45934\n",
      "[253]\tvalid_0's l1: 0.130208\tvalid_0's l2: 4.45873\n",
      "[254]\tvalid_0's l1: 0.130142\tvalid_0's l2: 4.4586\n",
      "[255]\tvalid_0's l1: 0.13003\tvalid_0's l2: 4.45896\n",
      "[256]\tvalid_0's l1: 0.130024\tvalid_0's l2: 4.45915\n",
      "[257]\tvalid_0's l1: 0.129988\tvalid_0's l2: 4.45578\n",
      "[258]\tvalid_0's l1: 0.129899\tvalid_0's l2: 4.45824\n",
      "[259]\tvalid_0's l1: 0.129863\tvalid_0's l2: 4.46059\n",
      "[260]\tvalid_0's l1: 0.129869\tvalid_0's l2: 4.4616\n",
      "[261]\tvalid_0's l1: 0.129877\tvalid_0's l2: 4.46179\n",
      "[262]\tvalid_0's l1: 0.129849\tvalid_0's l2: 4.46052\n",
      "[263]\tvalid_0's l1: 0.129854\tvalid_0's l2: 4.46138\n",
      "[264]\tvalid_0's l1: 0.129811\tvalid_0's l2: 4.46175\n",
      "[265]\tvalid_0's l1: 0.129773\tvalid_0's l2: 4.46058\n",
      "[266]\tvalid_0's l1: 0.129746\tvalid_0's l2: 4.46122\n",
      "[267]\tvalid_0's l1: 0.129727\tvalid_0's l2: 4.46005\n",
      "[268]\tvalid_0's l1: 0.129724\tvalid_0's l2: 4.46009\n",
      "[269]\tvalid_0's l1: 0.129674\tvalid_0's l2: 4.46016\n",
      "[270]\tvalid_0's l1: 0.129682\tvalid_0's l2: 4.4616\n",
      "[271]\tvalid_0's l1: 0.129615\tvalid_0's l2: 4.46198\n",
      "[272]\tvalid_0's l1: 0.12978\tvalid_0's l2: 4.46224\n",
      "[273]\tvalid_0's l1: 0.129786\tvalid_0's l2: 4.4623\n",
      "[274]\tvalid_0's l1: 0.129792\tvalid_0's l2: 4.46236\n",
      "[275]\tvalid_0's l1: 0.12979\tvalid_0's l2: 4.46347\n",
      "[276]\tvalid_0's l1: 0.129768\tvalid_0's l2: 4.4635\n",
      "[277]\tvalid_0's l1: 0.129644\tvalid_0's l2: 4.46033\n",
      "[278]\tvalid_0's l1: 0.129648\tvalid_0's l2: 4.46135\n",
      "[279]\tvalid_0's l1: 0.129672\tvalid_0's l2: 4.46198\n",
      "[280]\tvalid_0's l1: 0.129654\tvalid_0's l2: 4.46155\n",
      "[281]\tvalid_0's l1: 0.129655\tvalid_0's l2: 4.46249\n",
      "[282]\tvalid_0's l1: 0.129644\tvalid_0's l2: 4.46237\n",
      "[283]\tvalid_0's l1: 0.129643\tvalid_0's l2: 4.46123\n",
      "[284]\tvalid_0's l1: 0.129626\tvalid_0's l2: 4.46106\n",
      "[285]\tvalid_0's l1: 0.129615\tvalid_0's l2: 4.46095\n",
      "[286]\tvalid_0's l1: 0.129652\tvalid_0's l2: 4.46148\n",
      "[287]\tvalid_0's l1: 0.129688\tvalid_0's l2: 4.46234\n",
      "[288]\tvalid_0's l1: 0.129674\tvalid_0's l2: 4.46201\n",
      "[289]\tvalid_0's l1: 0.12966\tvalid_0's l2: 4.46199\n",
      "[290]\tvalid_0's l1: 0.129676\tvalid_0's l2: 4.46101\n",
      "[291]\tvalid_0's l1: 0.129719\tvalid_0's l2: 4.46218\n",
      "[292]\tvalid_0's l1: 0.12967\tvalid_0's l2: 4.46142\n",
      "[293]\tvalid_0's l1: 0.129623\tvalid_0's l2: 4.46105\n",
      "[294]\tvalid_0's l1: 0.129606\tvalid_0's l2: 4.46072\n",
      "[295]\tvalid_0's l1: 0.129649\tvalid_0's l2: 4.46182\n",
      "[296]\tvalid_0's l1: 0.129601\tvalid_0's l2: 4.46197\n",
      "[297]\tvalid_0's l1: 0.12958\tvalid_0's l2: 4.46185\n",
      "[298]\tvalid_0's l1: 0.129576\tvalid_0's l2: 4.46227\n",
      "[299]\tvalid_0's l1: 0.129535\tvalid_0's l2: 4.46205\n",
      "[300]\tvalid_0's l1: 0.129567\tvalid_0's l2: 4.4631\n",
      "[301]\tvalid_0's l1: 0.12953\tvalid_0's l2: 4.45981\n",
      "[302]\tvalid_0's l1: 0.129455\tvalid_0's l2: 4.45938\n",
      "[303]\tvalid_0's l1: 0.129394\tvalid_0's l2: 4.45743\n",
      "[304]\tvalid_0's l1: 0.129441\tvalid_0's l2: 4.45845\n",
      "[305]\tvalid_0's l1: 0.129399\tvalid_0's l2: 4.45827\n",
      "[306]\tvalid_0's l1: 0.129366\tvalid_0's l2: 4.45543\n",
      "[307]\tvalid_0's l1: 0.129412\tvalid_0's l2: 4.45644\n",
      "[308]\tvalid_0's l1: 0.12937\tvalid_0's l2: 4.45627\n",
      "[309]\tvalid_0's l1: 0.129341\tvalid_0's l2: 4.45606\n",
      "[310]\tvalid_0's l1: 0.129312\tvalid_0's l2: 4.45347\n",
      "[311]\tvalid_0's l1: 0.129312\tvalid_0's l2: 4.45409\n",
      "[312]\tvalid_0's l1: 0.12924\tvalid_0's l2: 4.45447\n",
      "[313]\tvalid_0's l1: 0.129264\tvalid_0's l2: 4.45544\n",
      "[314]\tvalid_0's l1: 0.129191\tvalid_0's l2: 4.45314\n",
      "[315]\tvalid_0's l1: 0.129198\tvalid_0's l2: 4.45357\n",
      "[316]\tvalid_0's l1: 0.129181\tvalid_0's l2: 4.45328\n",
      "[317]\tvalid_0's l1: 0.129168\tvalid_0's l2: 4.45374\n",
      "[318]\tvalid_0's l1: 0.129214\tvalid_0's l2: 4.45451\n",
      "[319]\tvalid_0's l1: 0.129191\tvalid_0's l2: 4.45456\n",
      "[320]\tvalid_0's l1: 0.129077\tvalid_0's l2: 4.45505\n",
      "[321]\tvalid_0's l1: 0.129074\tvalid_0's l2: 4.45566\n",
      "[322]\tvalid_0's l1: 0.129202\tvalid_0's l2: 4.45594\n",
      "[323]\tvalid_0's l1: 0.129177\tvalid_0's l2: 4.45555\n",
      "[324]\tvalid_0's l1: 0.129175\tvalid_0's l2: 4.45559\n",
      "[325]\tvalid_0's l1: 0.129118\tvalid_0's l2: 4.45382\n",
      "[326]\tvalid_0's l1: 0.129103\tvalid_0's l2: 4.45429\n",
      "[327]\tvalid_0's l1: 0.129226\tvalid_0's l2: 4.45553\n",
      "[328]\tvalid_0's l1: 0.129236\tvalid_0's l2: 4.45553\n",
      "[329]\tvalid_0's l1: 0.12928\tvalid_0's l2: 4.4611\n",
      "[330]\tvalid_0's l1: 0.129278\tvalid_0's l2: 4.46114\n",
      "[331]\tvalid_0's l1: 0.129276\tvalid_0's l2: 4.46055\n",
      "[332]\tvalid_0's l1: 0.129294\tvalid_0's l2: 4.46065\n",
      "[333]\tvalid_0's l1: 0.129317\tvalid_0's l2: 4.46115\n",
      "[334]\tvalid_0's l1: 0.129269\tvalid_0's l2: 4.45917\n",
      "[335]\tvalid_0's l1: 0.129229\tvalid_0's l2: 4.45972\n",
      "[336]\tvalid_0's l1: 0.129234\tvalid_0's l2: 4.45968\n",
      "[337]\tvalid_0's l1: 0.129239\tvalid_0's l2: 4.45945\n",
      "[338]\tvalid_0's l1: 0.129194\tvalid_0's l2: 4.45758\n",
      "[339]\tvalid_0's l1: 0.129155\tvalid_0's l2: 4.45836\n",
      "[340]\tvalid_0's l1: 0.129147\tvalid_0's l2: 4.45812\n",
      "[341]\tvalid_0's l1: 0.129166\tvalid_0's l2: 4.45823\n",
      "[342]\tvalid_0's l1: 0.129154\tvalid_0's l2: 4.45818\n",
      "[343]\tvalid_0's l1: 0.12914\tvalid_0's l2: 4.45842\n",
      "[344]\tvalid_0's l1: 0.129072\tvalid_0's l2: 4.45677\n",
      "[345]\tvalid_0's l1: 0.12909\tvalid_0's l2: 4.45719\n",
      "[346]\tvalid_0's l1: 0.129088\tvalid_0's l2: 4.45962\n",
      "[347]\tvalid_0's l1: 0.129084\tvalid_0's l2: 4.45958\n",
      "[348]\tvalid_0's l1: 0.129044\tvalid_0's l2: 4.45904\n",
      "[349]\tvalid_0's l1: 0.129081\tvalid_0's l2: 4.45941\n",
      "[350]\tvalid_0's l1: 0.129055\tvalid_0's l2: 4.45974\n",
      "[351]\tvalid_0's l1: 0.12905\tvalid_0's l2: 4.45893\n",
      "[352]\tvalid_0's l1: 0.12904\tvalid_0's l2: 4.45921\n",
      "[353]\tvalid_0's l1: 0.129035\tvalid_0's l2: 4.45919\n",
      "[354]\tvalid_0's l1: 0.129056\tvalid_0's l2: 4.45838\n",
      "[355]\tvalid_0's l1: 0.129049\tvalid_0's l2: 4.45777\n",
      "[356]\tvalid_0's l1: 0.129015\tvalid_0's l2: 4.45726\n",
      "[357]\tvalid_0's l1: 0.128999\tvalid_0's l2: 4.45792\n",
      "[358]\tvalid_0's l1: 0.128929\tvalid_0's l2: 4.45776\n",
      "[359]\tvalid_0's l1: 0.128882\tvalid_0's l2: 4.45606\n",
      "[360]\tvalid_0's l1: 0.12887\tvalid_0's l2: 4.45611\n",
      "[361]\tvalid_0's l1: 0.12883\tvalid_0's l2: 4.45451\n",
      "[362]\tvalid_0's l1: 0.128852\tvalid_0's l2: 4.45435\n",
      "[363]\tvalid_0's l1: 0.12885\tvalid_0's l2: 4.45436\n",
      "[364]\tvalid_0's l1: 0.128844\tvalid_0's l2: 4.45445\n",
      "Early stopping, best iteration is:\n",
      "[314]\tvalid_0's l1: 0.129191\tvalid_0's l2: 4.45314\n"
     ]
    }
   ],
   "source": [
    "model = lgb.train(params,\n",
    "                  train_set=lgb_train,\n",
    "                  valid_sets=lgb_eval,\n",
    "                  early_stopping_rounds=50)"
   ],
   "metadata": {
    "collapsed": false
   }
  },
  {
   "cell_type": "code",
   "execution_count": 621,
   "outputs": [
    {
     "data": {
      "text/plain": "21945"
     },
     "execution_count": 621,
     "metadata": {},
     "output_type": "execute_result"
    }
   ],
   "source": [
    "y_pred = model.predict(val_x)\n",
    "len(y_pred)"
   ],
   "metadata": {
    "collapsed": false
   }
  },
  {
   "cell_type": "code",
   "execution_count": 622,
   "outputs": [
    {
     "data": {
      "text/plain": "1.907"
     },
     "execution_count": 622,
     "metadata": {},
     "output_type": "execute_result"
    }
   ],
   "source": [
    "compute_smape(val_y, y_pred)"
   ],
   "metadata": {
    "collapsed": false
   }
  },
  {
   "cell_type": "code",
   "execution_count": 623,
   "outputs": [
    {
     "data": {
      "text/plain": "                    cfips_id  cfips_0  cfips_1  cfips_2     lag_1     lag_2  \\\nfirst_day_of_month                                                            \n2022-11-01             39089        0       41       35  4.009497  4.005045   \n2022-11-01             39101        0       41       41  1.684869  1.669323   \n2022-11-01             39087        0       41       34  2.605215  2.701545   \n2022-11-01             39093        0       41       37  5.651847  5.635672   \n2022-11-01             39095        0       41       38  4.432659  4.413642   \n...                      ...      ...      ...      ...       ...       ...   \n2023-06-01             21113        0       20       48       NaN       NaN   \n2023-06-01             21115        0       20       49       NaN       NaN   \n2023-06-01             21117        0       21        0       NaN       NaN   \n2023-06-01             21121        0       21        2       NaN       NaN   \n2023-06-01             56045        1       12       35       NaN       NaN   \n\n                       lag_3  \nfirst_day_of_month            \n2022-11-01          3.998368  \n2022-11-01          1.655719  \n2022-11-01          2.742218  \n2022-11-01          5.617838  \n2022-11-01          4.417264  \n...                      ...  \n2023-06-01               NaN  \n2023-06-01               NaN  \n2023-06-01               NaN  \n2023-06-01               NaN  \n2023-06-01               NaN  \n\n[25080 rows x 7 columns]",
      "text/html": "<div>\n<style scoped>\n    .dataframe tbody tr th:only-of-type {\n        vertical-align: middle;\n    }\n\n    .dataframe tbody tr th {\n        vertical-align: top;\n    }\n\n    .dataframe thead th {\n        text-align: right;\n    }\n</style>\n<table border=\"1\" class=\"dataframe\">\n  <thead>\n    <tr style=\"text-align: right;\">\n      <th></th>\n      <th>cfips_id</th>\n      <th>cfips_0</th>\n      <th>cfips_1</th>\n      <th>cfips_2</th>\n      <th>lag_1</th>\n      <th>lag_2</th>\n      <th>lag_3</th>\n    </tr>\n    <tr>\n      <th>first_day_of_month</th>\n      <th></th>\n      <th></th>\n      <th></th>\n      <th></th>\n      <th></th>\n      <th></th>\n      <th></th>\n    </tr>\n  </thead>\n  <tbody>\n    <tr>\n      <th>2022-11-01</th>\n      <td>39089</td>\n      <td>0</td>\n      <td>41</td>\n      <td>35</td>\n      <td>4.009497</td>\n      <td>4.005045</td>\n      <td>3.998368</td>\n    </tr>\n    <tr>\n      <th>2022-11-01</th>\n      <td>39101</td>\n      <td>0</td>\n      <td>41</td>\n      <td>41</td>\n      <td>1.684869</td>\n      <td>1.669323</td>\n      <td>1.655719</td>\n    </tr>\n    <tr>\n      <th>2022-11-01</th>\n      <td>39087</td>\n      <td>0</td>\n      <td>41</td>\n      <td>34</td>\n      <td>2.605215</td>\n      <td>2.701545</td>\n      <td>2.742218</td>\n    </tr>\n    <tr>\n      <th>2022-11-01</th>\n      <td>39093</td>\n      <td>0</td>\n      <td>41</td>\n      <td>37</td>\n      <td>5.651847</td>\n      <td>5.635672</td>\n      <td>5.617838</td>\n    </tr>\n    <tr>\n      <th>2022-11-01</th>\n      <td>39095</td>\n      <td>0</td>\n      <td>41</td>\n      <td>38</td>\n      <td>4.432659</td>\n      <td>4.413642</td>\n      <td>4.417264</td>\n    </tr>\n    <tr>\n      <th>...</th>\n      <td>...</td>\n      <td>...</td>\n      <td>...</td>\n      <td>...</td>\n      <td>...</td>\n      <td>...</td>\n      <td>...</td>\n    </tr>\n    <tr>\n      <th>2023-06-01</th>\n      <td>21113</td>\n      <td>0</td>\n      <td>20</td>\n      <td>48</td>\n      <td>NaN</td>\n      <td>NaN</td>\n      <td>NaN</td>\n    </tr>\n    <tr>\n      <th>2023-06-01</th>\n      <td>21115</td>\n      <td>0</td>\n      <td>20</td>\n      <td>49</td>\n      <td>NaN</td>\n      <td>NaN</td>\n      <td>NaN</td>\n    </tr>\n    <tr>\n      <th>2023-06-01</th>\n      <td>21117</td>\n      <td>0</td>\n      <td>21</td>\n      <td>0</td>\n      <td>NaN</td>\n      <td>NaN</td>\n      <td>NaN</td>\n    </tr>\n    <tr>\n      <th>2023-06-01</th>\n      <td>21121</td>\n      <td>0</td>\n      <td>21</td>\n      <td>2</td>\n      <td>NaN</td>\n      <td>NaN</td>\n      <td>NaN</td>\n    </tr>\n    <tr>\n      <th>2023-06-01</th>\n      <td>56045</td>\n      <td>1</td>\n      <td>12</td>\n      <td>35</td>\n      <td>NaN</td>\n      <td>NaN</td>\n      <td>NaN</td>\n    </tr>\n  </tbody>\n</table>\n<p>25080 rows × 7 columns</p>\n</div>"
     },
     "execution_count": 623,
     "metadata": {},
     "output_type": "execute_result"
    }
   ],
   "source": [
    "test_x = test.drop('microbusiness_density', axis=1)\n",
    "test_x"
   ],
   "metadata": {
    "collapsed": false
   }
  },
  {
   "cell_type": "code",
   "execution_count": 624,
   "outputs": [
    {
     "data": {
      "text/plain": "['cfips_0', 'cfips_1', 'cfips_2', 'lag_1', 'lag_2', 'lag_3']"
     },
     "execution_count": 624,
     "metadata": {},
     "output_type": "execute_result"
    }
   ],
   "source": [
    "pred_columns = ['cfips_0', 'cfips_1', 'cfips_2' ] + [f'lag_{lag}' for lag in lags]\n",
    "\n",
    "pred_columns"
   ],
   "metadata": {
    "collapsed": false
   }
  },
  {
   "cell_type": "code",
   "execution_count": 626,
   "outputs": [
    {
     "name": "stderr",
     "output_type": "stream",
     "text": [
      "100%|██████████| 3135/3135 [00:08<00:00, 385.29it/s]\n"
     ]
    }
   ],
   "source": [
    "tmp_test = test_x.copy()\n",
    "\n",
    "unique_cfips = test_x['cfips_id'].unique()\n",
    "\n",
    "for cfips in tqdm(unique_cfips):\n",
    "\n",
    "    # filter only the cfips\n",
    "    df = tmp_test[tmp_test['cfips_id'] == cfips]\n",
    "\n",
    "    predictions = []\n",
    "\n",
    "    for idx, row in df.iterrows():\n",
    "\n",
    "        lag_values = [None for _ in range(len(lags))]\n",
    "\n",
    "        for lag in lags:\n",
    "            lag_values.append(lag_values[-lag] if lag_values[-lag] else row[f'lag_{lag}'])\n",
    "\n",
    "        # set the lag columns to lag_values\n",
    "        feats = [ row['cfips_0'], row['cfips_1'], row['cfips_2'] ] + lag_values[-len(lags):]\n",
    "\n",
    "        # row.loc[ [f'lag_{lag}' for lag in lags] ] = lag_values\n",
    "        #\n",
    "        # feats = row.drop(columns=['cfips_id', 'microbusiness_density'])\n",
    "\n",
    "        pred = model.predict(np.array(feats).reshape(1, -1))\n",
    "        predictions.append(pred[0])\n",
    "\n",
    "    tmp_test.loc[tmp_test['cfips_id'] == cfips, 'microbusiness_density'] = predictions"
   ],
   "metadata": {
    "collapsed": false
   }
  },
  {
   "cell_type": "code",
   "execution_count": 627,
   "outputs": [
    {
     "data": {
      "text/plain": "first_day_of_month\n2022-11-01    3.996077\n2022-11-01    1.696443\n2022-11-01    2.614943\n2022-11-01    5.689543\n2022-11-01    4.445980\n                ...   \n2023-06-01    0.275225\n2023-06-01    0.277010\n2023-06-01    0.267079\n2023-06-01    0.267199\n2023-06-01    0.258718\nName: microbusiness_density, Length: 25080, dtype: float64"
     },
     "execution_count": 627,
     "metadata": {},
     "output_type": "execute_result"
    }
   ],
   "source": [
    "tmp_test['microbusiness_density']"
   ],
   "metadata": {
    "collapsed": false
   }
  },
  {
   "cell_type": "code",
   "execution_count": 239,
   "outputs": [
    {
     "name": "stderr",
     "output_type": "stream",
     "text": [
      "C:\\Users\\avomo\\AppData\\Local\\Temp\\ipykernel_9460\\3579684091.py:1: FutureWarning: reindexing with a non-unique Index is deprecated and will raise in a future version.\n",
      "  submission['microbusiness_density'] = tmp_test['microbusiness_density']\n"
     ]
    },
    {
     "ename": "ValueError",
     "evalue": "cannot reindex on an axis with duplicate labels",
     "output_type": "error",
     "traceback": [
      "\u001B[1;31m---------------------------------------------------------------------------\u001B[0m",
      "\u001B[1;31mValueError\u001B[0m                                Traceback (most recent call last)",
      "\u001B[1;32m~\\AppData\\Local\\Temp\\ipykernel_9460\\3579684091.py\u001B[0m in \u001B[0;36m<module>\u001B[1;34m\u001B[0m\n\u001B[1;32m----> 1\u001B[1;33m \u001B[0msubmission\u001B[0m\u001B[1;33m[\u001B[0m\u001B[1;34m'microbusiness_density'\u001B[0m\u001B[1;33m]\u001B[0m \u001B[1;33m=\u001B[0m \u001B[0mtmp_test\u001B[0m\u001B[1;33m[\u001B[0m\u001B[1;34m'microbusiness_density'\u001B[0m\u001B[1;33m]\u001B[0m\u001B[1;33m\u001B[0m\u001B[1;33m\u001B[0m\u001B[0m\n\u001B[0m",
      "\u001B[1;32mC:\\ProgramData\\Anaconda3\\lib\\site-packages\\pandas\\core\\frame.py\u001B[0m in \u001B[0;36m__setitem__\u001B[1;34m(self, key, value)\u001B[0m\n\u001B[0;32m   3653\u001B[0m         \u001B[1;32melse\u001B[0m\u001B[1;33m:\u001B[0m\u001B[1;33m\u001B[0m\u001B[1;33m\u001B[0m\u001B[0m\n\u001B[0;32m   3654\u001B[0m             \u001B[1;31m# set column\u001B[0m\u001B[1;33m\u001B[0m\u001B[1;33m\u001B[0m\u001B[0m\n\u001B[1;32m-> 3655\u001B[1;33m             \u001B[0mself\u001B[0m\u001B[1;33m.\u001B[0m\u001B[0m_set_item\u001B[0m\u001B[1;33m(\u001B[0m\u001B[0mkey\u001B[0m\u001B[1;33m,\u001B[0m \u001B[0mvalue\u001B[0m\u001B[1;33m)\u001B[0m\u001B[1;33m\u001B[0m\u001B[1;33m\u001B[0m\u001B[0m\n\u001B[0m\u001B[0;32m   3656\u001B[0m \u001B[1;33m\u001B[0m\u001B[0m\n\u001B[0;32m   3657\u001B[0m     \u001B[1;32mdef\u001B[0m \u001B[0m_setitem_slice\u001B[0m\u001B[1;33m(\u001B[0m\u001B[0mself\u001B[0m\u001B[1;33m,\u001B[0m \u001B[0mkey\u001B[0m\u001B[1;33m:\u001B[0m \u001B[0mslice\u001B[0m\u001B[1;33m,\u001B[0m \u001B[0mvalue\u001B[0m\u001B[1;33m)\u001B[0m\u001B[1;33m:\u001B[0m\u001B[1;33m\u001B[0m\u001B[1;33m\u001B[0m\u001B[0m\n",
      "\u001B[1;32mC:\\ProgramData\\Anaconda3\\lib\\site-packages\\pandas\\core\\frame.py\u001B[0m in \u001B[0;36m_set_item\u001B[1;34m(self, key, value)\u001B[0m\n\u001B[0;32m   3830\u001B[0m         \u001B[0mensure\u001B[0m \u001B[0mhomogeneity\u001B[0m\u001B[1;33m.\u001B[0m\u001B[1;33m\u001B[0m\u001B[1;33m\u001B[0m\u001B[0m\n\u001B[0;32m   3831\u001B[0m         \"\"\"\n\u001B[1;32m-> 3832\u001B[1;33m         \u001B[0mvalue\u001B[0m \u001B[1;33m=\u001B[0m \u001B[0mself\u001B[0m\u001B[1;33m.\u001B[0m\u001B[0m_sanitize_column\u001B[0m\u001B[1;33m(\u001B[0m\u001B[0mvalue\u001B[0m\u001B[1;33m)\u001B[0m\u001B[1;33m\u001B[0m\u001B[1;33m\u001B[0m\u001B[0m\n\u001B[0m\u001B[0;32m   3833\u001B[0m \u001B[1;33m\u001B[0m\u001B[0m\n\u001B[0;32m   3834\u001B[0m         if (\n",
      "\u001B[1;32mC:\\ProgramData\\Anaconda3\\lib\\site-packages\\pandas\\core\\frame.py\u001B[0m in \u001B[0;36m_sanitize_column\u001B[1;34m(self, value)\u001B[0m\n\u001B[0;32m   4533\u001B[0m         \u001B[1;31m# We can get there through loc single_block_path\u001B[0m\u001B[1;33m\u001B[0m\u001B[1;33m\u001B[0m\u001B[0m\n\u001B[0;32m   4534\u001B[0m         \u001B[1;32mif\u001B[0m \u001B[0misinstance\u001B[0m\u001B[1;33m(\u001B[0m\u001B[0mvalue\u001B[0m\u001B[1;33m,\u001B[0m \u001B[1;33m(\u001B[0m\u001B[0mDataFrame\u001B[0m\u001B[1;33m,\u001B[0m \u001B[0mSeries\u001B[0m\u001B[1;33m)\u001B[0m\u001B[1;33m)\u001B[0m\u001B[1;33m:\u001B[0m\u001B[1;33m\u001B[0m\u001B[1;33m\u001B[0m\u001B[0m\n\u001B[1;32m-> 4535\u001B[1;33m             \u001B[1;32mreturn\u001B[0m \u001B[0m_reindex_for_setitem\u001B[0m\u001B[1;33m(\u001B[0m\u001B[0mvalue\u001B[0m\u001B[1;33m,\u001B[0m \u001B[0mself\u001B[0m\u001B[1;33m.\u001B[0m\u001B[0mindex\u001B[0m\u001B[1;33m)\u001B[0m\u001B[1;33m\u001B[0m\u001B[1;33m\u001B[0m\u001B[0m\n\u001B[0m\u001B[0;32m   4536\u001B[0m \u001B[1;33m\u001B[0m\u001B[0m\n\u001B[0;32m   4537\u001B[0m         \u001B[1;32mif\u001B[0m \u001B[0mis_list_like\u001B[0m\u001B[1;33m(\u001B[0m\u001B[0mvalue\u001B[0m\u001B[1;33m)\u001B[0m\u001B[1;33m:\u001B[0m\u001B[1;33m\u001B[0m\u001B[1;33m\u001B[0m\u001B[0m\n",
      "\u001B[1;32mC:\\ProgramData\\Anaconda3\\lib\\site-packages\\pandas\\core\\frame.py\u001B[0m in \u001B[0;36m_reindex_for_setitem\u001B[1;34m(value, index)\u001B[0m\n\u001B[0;32m  11006\u001B[0m         \u001B[1;32mif\u001B[0m \u001B[1;32mnot\u001B[0m \u001B[0mvalue\u001B[0m\u001B[1;33m.\u001B[0m\u001B[0mindex\u001B[0m\u001B[1;33m.\u001B[0m\u001B[0mis_unique\u001B[0m\u001B[1;33m:\u001B[0m\u001B[1;33m\u001B[0m\u001B[1;33m\u001B[0m\u001B[0m\n\u001B[0;32m  11007\u001B[0m             \u001B[1;31m# duplicate axis\u001B[0m\u001B[1;33m\u001B[0m\u001B[1;33m\u001B[0m\u001B[0m\n\u001B[1;32m> 11008\u001B[1;33m             \u001B[1;32mraise\u001B[0m \u001B[0merr\u001B[0m\u001B[1;33m\u001B[0m\u001B[1;33m\u001B[0m\u001B[0m\n\u001B[0m\u001B[0;32m  11009\u001B[0m \u001B[1;33m\u001B[0m\u001B[0m\n\u001B[0;32m  11010\u001B[0m         raise TypeError(\n",
      "\u001B[1;32mC:\\ProgramData\\Anaconda3\\lib\\site-packages\\pandas\\core\\frame.py\u001B[0m in \u001B[0;36m_reindex_for_setitem\u001B[1;34m(value, index)\u001B[0m\n\u001B[0;32m  11001\u001B[0m     \u001B[1;31m# GH#4107\u001B[0m\u001B[1;33m\u001B[0m\u001B[1;33m\u001B[0m\u001B[0m\n\u001B[0;32m  11002\u001B[0m     \u001B[1;32mtry\u001B[0m\u001B[1;33m:\u001B[0m\u001B[1;33m\u001B[0m\u001B[1;33m\u001B[0m\u001B[0m\n\u001B[1;32m> 11003\u001B[1;33m         \u001B[0mreindexed_value\u001B[0m \u001B[1;33m=\u001B[0m \u001B[0mvalue\u001B[0m\u001B[1;33m.\u001B[0m\u001B[0mreindex\u001B[0m\u001B[1;33m(\u001B[0m\u001B[0mindex\u001B[0m\u001B[1;33m)\u001B[0m\u001B[1;33m.\u001B[0m\u001B[0m_values\u001B[0m\u001B[1;33m\u001B[0m\u001B[1;33m\u001B[0m\u001B[0m\n\u001B[0m\u001B[0;32m  11004\u001B[0m     \u001B[1;32mexcept\u001B[0m \u001B[0mValueError\u001B[0m \u001B[1;32mas\u001B[0m \u001B[0merr\u001B[0m\u001B[1;33m:\u001B[0m\u001B[1;33m\u001B[0m\u001B[1;33m\u001B[0m\u001B[0m\n\u001B[0;32m  11005\u001B[0m         \u001B[1;31m# raised in MultiIndex.from_tuples, see test_insert_error_msmgs\u001B[0m\u001B[1;33m\u001B[0m\u001B[1;33m\u001B[0m\u001B[0m\n",
      "\u001B[1;32mC:\\ProgramData\\Anaconda3\\lib\\site-packages\\pandas\\core\\series.py\u001B[0m in \u001B[0;36mreindex\u001B[1;34m(self, *args, **kwargs)\u001B[0m\n\u001B[0;32m   4670\u001B[0m                 )\n\u001B[0;32m   4671\u001B[0m             \u001B[0mkwargs\u001B[0m\u001B[1;33m.\u001B[0m\u001B[0mupdate\u001B[0m\u001B[1;33m(\u001B[0m\u001B[1;33m{\u001B[0m\u001B[1;34m\"index\"\u001B[0m\u001B[1;33m:\u001B[0m \u001B[0mindex\u001B[0m\u001B[1;33m}\u001B[0m\u001B[1;33m)\u001B[0m\u001B[1;33m\u001B[0m\u001B[1;33m\u001B[0m\u001B[0m\n\u001B[1;32m-> 4672\u001B[1;33m         \u001B[1;32mreturn\u001B[0m \u001B[0msuper\u001B[0m\u001B[1;33m(\u001B[0m\u001B[1;33m)\u001B[0m\u001B[1;33m.\u001B[0m\u001B[0mreindex\u001B[0m\u001B[1;33m(\u001B[0m\u001B[1;33m**\u001B[0m\u001B[0mkwargs\u001B[0m\u001B[1;33m)\u001B[0m\u001B[1;33m\u001B[0m\u001B[1;33m\u001B[0m\u001B[0m\n\u001B[0m\u001B[0;32m   4673\u001B[0m \u001B[1;33m\u001B[0m\u001B[0m\n\u001B[0;32m   4674\u001B[0m     \u001B[1;33m@\u001B[0m\u001B[0mdeprecate_nonkeyword_arguments\u001B[0m\u001B[1;33m(\u001B[0m\u001B[0mversion\u001B[0m\u001B[1;33m=\u001B[0m\u001B[1;32mNone\u001B[0m\u001B[1;33m,\u001B[0m \u001B[0mallowed_args\u001B[0m\u001B[1;33m=\u001B[0m\u001B[1;33m[\u001B[0m\u001B[1;34m\"self\"\u001B[0m\u001B[1;33m,\u001B[0m \u001B[1;34m\"labels\"\u001B[0m\u001B[1;33m]\u001B[0m\u001B[1;33m)\u001B[0m\u001B[1;33m\u001B[0m\u001B[1;33m\u001B[0m\u001B[0m\n",
      "\u001B[1;32mC:\\ProgramData\\Anaconda3\\lib\\site-packages\\pandas\\core\\generic.py\u001B[0m in \u001B[0;36mreindex\u001B[1;34m(self, *args, **kwargs)\u001B[0m\n\u001B[0;32m   4964\u001B[0m \u001B[1;33m\u001B[0m\u001B[0m\n\u001B[0;32m   4965\u001B[0m         \u001B[1;31m# perform the reindex on the axes\u001B[0m\u001B[1;33m\u001B[0m\u001B[1;33m\u001B[0m\u001B[0m\n\u001B[1;32m-> 4966\u001B[1;33m         return self._reindex_axes(\n\u001B[0m\u001B[0;32m   4967\u001B[0m             \u001B[0maxes\u001B[0m\u001B[1;33m,\u001B[0m \u001B[0mlevel\u001B[0m\u001B[1;33m,\u001B[0m \u001B[0mlimit\u001B[0m\u001B[1;33m,\u001B[0m \u001B[0mtolerance\u001B[0m\u001B[1;33m,\u001B[0m \u001B[0mmethod\u001B[0m\u001B[1;33m,\u001B[0m \u001B[0mfill_value\u001B[0m\u001B[1;33m,\u001B[0m \u001B[0mcopy\u001B[0m\u001B[1;33m\u001B[0m\u001B[1;33m\u001B[0m\u001B[0m\n\u001B[0;32m   4968\u001B[0m         ).__finalize__(self, method=\"reindex\")\n",
      "\u001B[1;32mC:\\ProgramData\\Anaconda3\\lib\\site-packages\\pandas\\core\\generic.py\u001B[0m in \u001B[0;36m_reindex_axes\u001B[1;34m(self, axes, level, limit, tolerance, method, fill_value, copy)\u001B[0m\n\u001B[0;32m   4984\u001B[0m \u001B[1;33m\u001B[0m\u001B[0m\n\u001B[0;32m   4985\u001B[0m             \u001B[0maxis\u001B[0m \u001B[1;33m=\u001B[0m \u001B[0mself\u001B[0m\u001B[1;33m.\u001B[0m\u001B[0m_get_axis_number\u001B[0m\u001B[1;33m(\u001B[0m\u001B[0ma\u001B[0m\u001B[1;33m)\u001B[0m\u001B[1;33m\u001B[0m\u001B[1;33m\u001B[0m\u001B[0m\n\u001B[1;32m-> 4986\u001B[1;33m             obj = obj._reindex_with_indexers(\n\u001B[0m\u001B[0;32m   4987\u001B[0m                 \u001B[1;33m{\u001B[0m\u001B[0maxis\u001B[0m\u001B[1;33m:\u001B[0m \u001B[1;33m[\u001B[0m\u001B[0mnew_index\u001B[0m\u001B[1;33m,\u001B[0m \u001B[0mindexer\u001B[0m\u001B[1;33m]\u001B[0m\u001B[1;33m}\u001B[0m\u001B[1;33m,\u001B[0m\u001B[1;33m\u001B[0m\u001B[1;33m\u001B[0m\u001B[0m\n\u001B[0;32m   4988\u001B[0m                 \u001B[0mfill_value\u001B[0m\u001B[1;33m=\u001B[0m\u001B[0mfill_value\u001B[0m\u001B[1;33m,\u001B[0m\u001B[1;33m\u001B[0m\u001B[1;33m\u001B[0m\u001B[0m\n",
      "\u001B[1;32mC:\\ProgramData\\Anaconda3\\lib\\site-packages\\pandas\\core\\generic.py\u001B[0m in \u001B[0;36m_reindex_with_indexers\u001B[1;34m(self, reindexers, fill_value, copy, allow_dups)\u001B[0m\n\u001B[0;32m   5030\u001B[0m \u001B[1;33m\u001B[0m\u001B[0m\n\u001B[0;32m   5031\u001B[0m             \u001B[1;31m# TODO: speed up on homogeneous DataFrame objects (see _reindex_multi)\u001B[0m\u001B[1;33m\u001B[0m\u001B[1;33m\u001B[0m\u001B[0m\n\u001B[1;32m-> 5032\u001B[1;33m             new_data = new_data.reindex_indexer(\n\u001B[0m\u001B[0;32m   5033\u001B[0m                 \u001B[0mindex\u001B[0m\u001B[1;33m,\u001B[0m\u001B[1;33m\u001B[0m\u001B[1;33m\u001B[0m\u001B[0m\n\u001B[0;32m   5034\u001B[0m                 \u001B[0mindexer\u001B[0m\u001B[1;33m,\u001B[0m\u001B[1;33m\u001B[0m\u001B[1;33m\u001B[0m\u001B[0m\n",
      "\u001B[1;32mC:\\ProgramData\\Anaconda3\\lib\\site-packages\\pandas\\core\\internals\\managers.py\u001B[0m in \u001B[0;36mreindex_indexer\u001B[1;34m(self, new_axis, indexer, axis, fill_value, allow_dups, copy, consolidate, only_slice, use_na_proxy)\u001B[0m\n\u001B[0;32m    674\u001B[0m         \u001B[1;31m# some axes don't allow reindexing with dups\u001B[0m\u001B[1;33m\u001B[0m\u001B[1;33m\u001B[0m\u001B[0m\n\u001B[0;32m    675\u001B[0m         \u001B[1;32mif\u001B[0m \u001B[1;32mnot\u001B[0m \u001B[0mallow_dups\u001B[0m\u001B[1;33m:\u001B[0m\u001B[1;33m\u001B[0m\u001B[1;33m\u001B[0m\u001B[0m\n\u001B[1;32m--> 676\u001B[1;33m             \u001B[0mself\u001B[0m\u001B[1;33m.\u001B[0m\u001B[0maxes\u001B[0m\u001B[1;33m[\u001B[0m\u001B[0maxis\u001B[0m\u001B[1;33m]\u001B[0m\u001B[1;33m.\u001B[0m\u001B[0m_validate_can_reindex\u001B[0m\u001B[1;33m(\u001B[0m\u001B[0mindexer\u001B[0m\u001B[1;33m)\u001B[0m\u001B[1;33m\u001B[0m\u001B[1;33m\u001B[0m\u001B[0m\n\u001B[0m\u001B[0;32m    677\u001B[0m \u001B[1;33m\u001B[0m\u001B[0m\n\u001B[0;32m    678\u001B[0m         \u001B[1;32mif\u001B[0m \u001B[0maxis\u001B[0m \u001B[1;33m>=\u001B[0m \u001B[0mself\u001B[0m\u001B[1;33m.\u001B[0m\u001B[0mndim\u001B[0m\u001B[1;33m:\u001B[0m\u001B[1;33m\u001B[0m\u001B[1;33m\u001B[0m\u001B[0m\n",
      "\u001B[1;32mC:\\ProgramData\\Anaconda3\\lib\\site-packages\\pandas\\core\\indexes\\base.py\u001B[0m in \u001B[0;36m_validate_can_reindex\u001B[1;34m(self, indexer)\u001B[0m\n\u001B[0;32m   4119\u001B[0m         \u001B[1;31m# trying to reindex on an axis with duplicates\u001B[0m\u001B[1;33m\u001B[0m\u001B[1;33m\u001B[0m\u001B[0m\n\u001B[0;32m   4120\u001B[0m         \u001B[1;32mif\u001B[0m \u001B[1;32mnot\u001B[0m \u001B[0mself\u001B[0m\u001B[1;33m.\u001B[0m\u001B[0m_index_as_unique\u001B[0m \u001B[1;32mand\u001B[0m \u001B[0mlen\u001B[0m\u001B[1;33m(\u001B[0m\u001B[0mindexer\u001B[0m\u001B[1;33m)\u001B[0m\u001B[1;33m:\u001B[0m\u001B[1;33m\u001B[0m\u001B[1;33m\u001B[0m\u001B[0m\n\u001B[1;32m-> 4121\u001B[1;33m             \u001B[1;32mraise\u001B[0m \u001B[0mValueError\u001B[0m\u001B[1;33m(\u001B[0m\u001B[1;34m\"cannot reindex on an axis with duplicate labels\"\u001B[0m\u001B[1;33m)\u001B[0m\u001B[1;33m\u001B[0m\u001B[1;33m\u001B[0m\u001B[0m\n\u001B[0m\u001B[0;32m   4122\u001B[0m \u001B[1;33m\u001B[0m\u001B[0m\n\u001B[0;32m   4123\u001B[0m     def reindex(\n",
      "\u001B[1;31mValueError\u001B[0m: cannot reindex on an axis with duplicate labels"
     ]
    }
   ],
   "source": [
    "submission['microbusiness_density'] = tmp_test['microbusiness_density']"
   ],
   "metadata": {
    "collapsed": false
   }
  },
  {
   "cell_type": "code",
   "execution_count": 628,
   "outputs": [
    {
     "data": {
      "text/plain": "                 row_id  cfips first_day_of_month source\n0       1001_2022-11-01   1001         2022-11-01   test\n1       1003_2022-11-01   1003         2022-11-01   test\n2       1005_2022-11-01   1005         2022-11-01   test\n3       1007_2022-11-01   1007         2022-11-01   test\n4       1009_2022-11-01   1009         2022-11-01   test\n...                 ...    ...                ...    ...\n25075  56037_2023-06-01  56037         2023-06-01   test\n25076  56039_2023-06-01  56039         2023-06-01   test\n25077  56041_2023-06-01  56041         2023-06-01   test\n25078  56043_2023-06-01  56043         2023-06-01   test\n25079  56045_2023-06-01  56045         2023-06-01   test\n\n[25080 rows x 4 columns]",
      "text/html": "<div>\n<style scoped>\n    .dataframe tbody tr th:only-of-type {\n        vertical-align: middle;\n    }\n\n    .dataframe tbody tr th {\n        vertical-align: top;\n    }\n\n    .dataframe thead th {\n        text-align: right;\n    }\n</style>\n<table border=\"1\" class=\"dataframe\">\n  <thead>\n    <tr style=\"text-align: right;\">\n      <th></th>\n      <th>row_id</th>\n      <th>cfips</th>\n      <th>first_day_of_month</th>\n      <th>source</th>\n    </tr>\n  </thead>\n  <tbody>\n    <tr>\n      <th>0</th>\n      <td>1001_2022-11-01</td>\n      <td>1001</td>\n      <td>2022-11-01</td>\n      <td>test</td>\n    </tr>\n    <tr>\n      <th>1</th>\n      <td>1003_2022-11-01</td>\n      <td>1003</td>\n      <td>2022-11-01</td>\n      <td>test</td>\n    </tr>\n    <tr>\n      <th>2</th>\n      <td>1005_2022-11-01</td>\n      <td>1005</td>\n      <td>2022-11-01</td>\n      <td>test</td>\n    </tr>\n    <tr>\n      <th>3</th>\n      <td>1007_2022-11-01</td>\n      <td>1007</td>\n      <td>2022-11-01</td>\n      <td>test</td>\n    </tr>\n    <tr>\n      <th>4</th>\n      <td>1009_2022-11-01</td>\n      <td>1009</td>\n      <td>2022-11-01</td>\n      <td>test</td>\n    </tr>\n    <tr>\n      <th>...</th>\n      <td>...</td>\n      <td>...</td>\n      <td>...</td>\n      <td>...</td>\n    </tr>\n    <tr>\n      <th>25075</th>\n      <td>56037_2023-06-01</td>\n      <td>56037</td>\n      <td>2023-06-01</td>\n      <td>test</td>\n    </tr>\n    <tr>\n      <th>25076</th>\n      <td>56039_2023-06-01</td>\n      <td>56039</td>\n      <td>2023-06-01</td>\n      <td>test</td>\n    </tr>\n    <tr>\n      <th>25077</th>\n      <td>56041_2023-06-01</td>\n      <td>56041</td>\n      <td>2023-06-01</td>\n      <td>test</td>\n    </tr>\n    <tr>\n      <th>25078</th>\n      <td>56043_2023-06-01</td>\n      <td>56043</td>\n      <td>2023-06-01</td>\n      <td>test</td>\n    </tr>\n    <tr>\n      <th>25079</th>\n      <td>56045_2023-06-01</td>\n      <td>56045</td>\n      <td>2023-06-01</td>\n      <td>test</td>\n    </tr>\n  </tbody>\n</table>\n<p>25080 rows × 4 columns</p>\n</div>"
     },
     "execution_count": 628,
     "metadata": {},
     "output_type": "execute_result"
    }
   ],
   "source": [
    "submission"
   ],
   "metadata": {
    "collapsed": false
   }
  },
  {
   "cell_type": "code",
   "execution_count": 628,
   "outputs": [],
   "source": [],
   "metadata": {
    "collapsed": false
   }
  },
  {
   "cell_type": "code",
   "execution_count": 629,
   "outputs": [
    {
     "data": {
      "text/plain": "       cfips_id  cfips_0  cfips_1  cfips_2     lag_1     lag_2     lag_3  \\\n0         39089        0       41       35  4.009497  4.005045  3.998368   \n1         39101        0       41       41  1.684869  1.669323  1.655719   \n2         39087        0       41       34  2.605215  2.701545  2.742218   \n3         39093        0       41       37  5.651847  5.635672  5.617838   \n4         39095        0       41       38  4.432659  4.413642  4.417264   \n...         ...      ...      ...      ...       ...       ...       ...   \n25075     21113        0       20       48       NaN       NaN       NaN   \n25076     21115        0       20       49       NaN       NaN       NaN   \n25077     21117        0       21        0       NaN       NaN       NaN   \n25078     21121        0       21        2       NaN       NaN       NaN   \n25079     56045        1       12       35       NaN       NaN       NaN   \n\n       microbusiness_density first_day_of_month  cfips  \n0                   3.996077         2022-11-01  39089  \n1                   1.696443         2022-11-01  39101  \n2                   2.614943         2022-11-01  39087  \n3                   5.689543         2022-11-01  39093  \n4                   4.445980         2022-11-01  39095  \n...                      ...                ...    ...  \n25075               0.275225         2023-06-01  21113  \n25076               0.277010         2023-06-01  21115  \n25077               0.267079         2023-06-01  21117  \n25078               0.267199         2023-06-01  21121  \n25079               0.258718         2023-06-01  56045  \n\n[25080 rows x 10 columns]",
      "text/html": "<div>\n<style scoped>\n    .dataframe tbody tr th:only-of-type {\n        vertical-align: middle;\n    }\n\n    .dataframe tbody tr th {\n        vertical-align: top;\n    }\n\n    .dataframe thead th {\n        text-align: right;\n    }\n</style>\n<table border=\"1\" class=\"dataframe\">\n  <thead>\n    <tr style=\"text-align: right;\">\n      <th></th>\n      <th>cfips_id</th>\n      <th>cfips_0</th>\n      <th>cfips_1</th>\n      <th>cfips_2</th>\n      <th>lag_1</th>\n      <th>lag_2</th>\n      <th>lag_3</th>\n      <th>microbusiness_density</th>\n      <th>first_day_of_month</th>\n      <th>cfips</th>\n    </tr>\n  </thead>\n  <tbody>\n    <tr>\n      <th>0</th>\n      <td>39089</td>\n      <td>0</td>\n      <td>41</td>\n      <td>35</td>\n      <td>4.009497</td>\n      <td>4.005045</td>\n      <td>3.998368</td>\n      <td>3.996077</td>\n      <td>2022-11-01</td>\n      <td>39089</td>\n    </tr>\n    <tr>\n      <th>1</th>\n      <td>39101</td>\n      <td>0</td>\n      <td>41</td>\n      <td>41</td>\n      <td>1.684869</td>\n      <td>1.669323</td>\n      <td>1.655719</td>\n      <td>1.696443</td>\n      <td>2022-11-01</td>\n      <td>39101</td>\n    </tr>\n    <tr>\n      <th>2</th>\n      <td>39087</td>\n      <td>0</td>\n      <td>41</td>\n      <td>34</td>\n      <td>2.605215</td>\n      <td>2.701545</td>\n      <td>2.742218</td>\n      <td>2.614943</td>\n      <td>2022-11-01</td>\n      <td>39087</td>\n    </tr>\n    <tr>\n      <th>3</th>\n      <td>39093</td>\n      <td>0</td>\n      <td>41</td>\n      <td>37</td>\n      <td>5.651847</td>\n      <td>5.635672</td>\n      <td>5.617838</td>\n      <td>5.689543</td>\n      <td>2022-11-01</td>\n      <td>39093</td>\n    </tr>\n    <tr>\n      <th>4</th>\n      <td>39095</td>\n      <td>0</td>\n      <td>41</td>\n      <td>38</td>\n      <td>4.432659</td>\n      <td>4.413642</td>\n      <td>4.417264</td>\n      <td>4.445980</td>\n      <td>2022-11-01</td>\n      <td>39095</td>\n    </tr>\n    <tr>\n      <th>...</th>\n      <td>...</td>\n      <td>...</td>\n      <td>...</td>\n      <td>...</td>\n      <td>...</td>\n      <td>...</td>\n      <td>...</td>\n      <td>...</td>\n      <td>...</td>\n      <td>...</td>\n    </tr>\n    <tr>\n      <th>25075</th>\n      <td>21113</td>\n      <td>0</td>\n      <td>20</td>\n      <td>48</td>\n      <td>NaN</td>\n      <td>NaN</td>\n      <td>NaN</td>\n      <td>0.275225</td>\n      <td>2023-06-01</td>\n      <td>21113</td>\n    </tr>\n    <tr>\n      <th>25076</th>\n      <td>21115</td>\n      <td>0</td>\n      <td>20</td>\n      <td>49</td>\n      <td>NaN</td>\n      <td>NaN</td>\n      <td>NaN</td>\n      <td>0.277010</td>\n      <td>2023-06-01</td>\n      <td>21115</td>\n    </tr>\n    <tr>\n      <th>25077</th>\n      <td>21117</td>\n      <td>0</td>\n      <td>21</td>\n      <td>0</td>\n      <td>NaN</td>\n      <td>NaN</td>\n      <td>NaN</td>\n      <td>0.267079</td>\n      <td>2023-06-01</td>\n      <td>21117</td>\n    </tr>\n    <tr>\n      <th>25078</th>\n      <td>21121</td>\n      <td>0</td>\n      <td>21</td>\n      <td>2</td>\n      <td>NaN</td>\n      <td>NaN</td>\n      <td>NaN</td>\n      <td>0.267199</td>\n      <td>2023-06-01</td>\n      <td>21121</td>\n    </tr>\n    <tr>\n      <th>25079</th>\n      <td>56045</td>\n      <td>1</td>\n      <td>12</td>\n      <td>35</td>\n      <td>NaN</td>\n      <td>NaN</td>\n      <td>NaN</td>\n      <td>0.258718</td>\n      <td>2023-06-01</td>\n      <td>56045</td>\n    </tr>\n  </tbody>\n</table>\n<p>25080 rows × 10 columns</p>\n</div>"
     },
     "execution_count": 629,
     "metadata": {},
     "output_type": "execute_result"
    }
   ],
   "source": [
    "tmp_df = tmp_test.copy()\n",
    "tmp_df['first_day_of_month'] = tmp_test.index.astype(str)\n",
    "tmp_df.index = range(tmp_df.shape[0])\n",
    "tmp_df['cfips'] = tmp_df['cfips_id']\n",
    "tmp_df"
   ],
   "metadata": {
    "collapsed": false
   }
  },
  {
   "cell_type": "code",
   "execution_count": 630,
   "outputs": [
    {
     "name": "stdout",
     "output_type": "stream",
     "text": [
      "<class 'pandas.core.frame.DataFrame'>\n",
      "RangeIndex: 25080 entries, 0 to 25079\n",
      "Data columns (total 4 columns):\n",
      " #   Column              Non-Null Count  Dtype \n",
      "---  ------              --------------  ----- \n",
      " 0   row_id              25080 non-null  object\n",
      " 1   cfips               25080 non-null  int64 \n",
      " 2   first_day_of_month  25080 non-null  object\n",
      " 3   source              25080 non-null  object\n",
      "dtypes: int64(1), object(3)\n",
      "memory usage: 783.9+ KB\n"
     ]
    }
   ],
   "source": [
    "submission.info()"
   ],
   "metadata": {
    "collapsed": false
   }
  },
  {
   "cell_type": "code",
   "execution_count": 631,
   "outputs": [
    {
     "data": {
      "text/plain": "                 row_id  cfips first_day_of_month source  cfips_id  cfips_0  \\\n0       1001_2022-11-01   1001         2022-11-01   test      1001        0   \n1       1003_2022-11-01   1003         2022-11-01   test      1003        0   \n2       1005_2022-11-01   1005         2022-11-01   test      1005        0   \n3       1007_2022-11-01   1007         2022-11-01   test      1007        0   \n4       1009_2022-11-01   1009         2022-11-01   test      1009        0   \n...                 ...    ...                ...    ...       ...      ...   \n25075  56037_2023-06-01  56037         2023-06-01   test     56037        1   \n25076  56039_2023-06-01  56039         2023-06-01   test     56039        1   \n25077  56041_2023-06-01  56041         2023-06-01   test     56041        1   \n25078  56043_2023-06-01  56043         2023-06-01   test     56043        1   \n25079  56045_2023-06-01  56045         2023-06-01   test     56045        1   \n\n       cfips_1  cfips_2     lag_1     lag_2     lag_3  microbusiness_density  \n0            0        1  3.463856  3.442677  3.423852               3.472218  \n1            0        2  8.359798  8.341701  8.491150               8.284578  \n2            0        3  1.232074  1.206827  1.196728               1.236840  \n3            0        4  1.287240  1.315346  1.292861               1.299538  \n4            0        5  1.831783  1.852060  1.836289               1.841537  \n...        ...      ...       ...       ...       ...                    ...  \n25075       12       31       NaN       NaN       NaN               0.267463  \n25076       12       32       NaN       NaN       NaN               0.267463  \n25077       12       33       NaN       NaN       NaN               0.267463  \n25078       12       34       NaN       NaN       NaN               0.267463  \n25079       12       35       NaN       NaN       NaN               0.258718  \n\n[25080 rows x 12 columns]",
      "text/html": "<div>\n<style scoped>\n    .dataframe tbody tr th:only-of-type {\n        vertical-align: middle;\n    }\n\n    .dataframe tbody tr th {\n        vertical-align: top;\n    }\n\n    .dataframe thead th {\n        text-align: right;\n    }\n</style>\n<table border=\"1\" class=\"dataframe\">\n  <thead>\n    <tr style=\"text-align: right;\">\n      <th></th>\n      <th>row_id</th>\n      <th>cfips</th>\n      <th>first_day_of_month</th>\n      <th>source</th>\n      <th>cfips_id</th>\n      <th>cfips_0</th>\n      <th>cfips_1</th>\n      <th>cfips_2</th>\n      <th>lag_1</th>\n      <th>lag_2</th>\n      <th>lag_3</th>\n      <th>microbusiness_density</th>\n    </tr>\n  </thead>\n  <tbody>\n    <tr>\n      <th>0</th>\n      <td>1001_2022-11-01</td>\n      <td>1001</td>\n      <td>2022-11-01</td>\n      <td>test</td>\n      <td>1001</td>\n      <td>0</td>\n      <td>0</td>\n      <td>1</td>\n      <td>3.463856</td>\n      <td>3.442677</td>\n      <td>3.423852</td>\n      <td>3.472218</td>\n    </tr>\n    <tr>\n      <th>1</th>\n      <td>1003_2022-11-01</td>\n      <td>1003</td>\n      <td>2022-11-01</td>\n      <td>test</td>\n      <td>1003</td>\n      <td>0</td>\n      <td>0</td>\n      <td>2</td>\n      <td>8.359798</td>\n      <td>8.341701</td>\n      <td>8.491150</td>\n      <td>8.284578</td>\n    </tr>\n    <tr>\n      <th>2</th>\n      <td>1005_2022-11-01</td>\n      <td>1005</td>\n      <td>2022-11-01</td>\n      <td>test</td>\n      <td>1005</td>\n      <td>0</td>\n      <td>0</td>\n      <td>3</td>\n      <td>1.232074</td>\n      <td>1.206827</td>\n      <td>1.196728</td>\n      <td>1.236840</td>\n    </tr>\n    <tr>\n      <th>3</th>\n      <td>1007_2022-11-01</td>\n      <td>1007</td>\n      <td>2022-11-01</td>\n      <td>test</td>\n      <td>1007</td>\n      <td>0</td>\n      <td>0</td>\n      <td>4</td>\n      <td>1.287240</td>\n      <td>1.315346</td>\n      <td>1.292861</td>\n      <td>1.299538</td>\n    </tr>\n    <tr>\n      <th>4</th>\n      <td>1009_2022-11-01</td>\n      <td>1009</td>\n      <td>2022-11-01</td>\n      <td>test</td>\n      <td>1009</td>\n      <td>0</td>\n      <td>0</td>\n      <td>5</td>\n      <td>1.831783</td>\n      <td>1.852060</td>\n      <td>1.836289</td>\n      <td>1.841537</td>\n    </tr>\n    <tr>\n      <th>...</th>\n      <td>...</td>\n      <td>...</td>\n      <td>...</td>\n      <td>...</td>\n      <td>...</td>\n      <td>...</td>\n      <td>...</td>\n      <td>...</td>\n      <td>...</td>\n      <td>...</td>\n      <td>...</td>\n      <td>...</td>\n    </tr>\n    <tr>\n      <th>25075</th>\n      <td>56037_2023-06-01</td>\n      <td>56037</td>\n      <td>2023-06-01</td>\n      <td>test</td>\n      <td>56037</td>\n      <td>1</td>\n      <td>12</td>\n      <td>31</td>\n      <td>NaN</td>\n      <td>NaN</td>\n      <td>NaN</td>\n      <td>0.267463</td>\n    </tr>\n    <tr>\n      <th>25076</th>\n      <td>56039_2023-06-01</td>\n      <td>56039</td>\n      <td>2023-06-01</td>\n      <td>test</td>\n      <td>56039</td>\n      <td>1</td>\n      <td>12</td>\n      <td>32</td>\n      <td>NaN</td>\n      <td>NaN</td>\n      <td>NaN</td>\n      <td>0.267463</td>\n    </tr>\n    <tr>\n      <th>25077</th>\n      <td>56041_2023-06-01</td>\n      <td>56041</td>\n      <td>2023-06-01</td>\n      <td>test</td>\n      <td>56041</td>\n      <td>1</td>\n      <td>12</td>\n      <td>33</td>\n      <td>NaN</td>\n      <td>NaN</td>\n      <td>NaN</td>\n      <td>0.267463</td>\n    </tr>\n    <tr>\n      <th>25078</th>\n      <td>56043_2023-06-01</td>\n      <td>56043</td>\n      <td>2023-06-01</td>\n      <td>test</td>\n      <td>56043</td>\n      <td>1</td>\n      <td>12</td>\n      <td>34</td>\n      <td>NaN</td>\n      <td>NaN</td>\n      <td>NaN</td>\n      <td>0.267463</td>\n    </tr>\n    <tr>\n      <th>25079</th>\n      <td>56045_2023-06-01</td>\n      <td>56045</td>\n      <td>2023-06-01</td>\n      <td>test</td>\n      <td>56045</td>\n      <td>1</td>\n      <td>12</td>\n      <td>35</td>\n      <td>NaN</td>\n      <td>NaN</td>\n      <td>NaN</td>\n      <td>0.258718</td>\n    </tr>\n  </tbody>\n</table>\n<p>25080 rows × 12 columns</p>\n</div>"
     },
     "execution_count": 631,
     "metadata": {},
     "output_type": "execute_result"
    }
   ],
   "source": [
    "merged = pd.merge(submission,tmp_df, on=['first_day_of_month','cfips'], how='inner')\n",
    "merged"
   ],
   "metadata": {
    "collapsed": false
   }
  },
  {
   "cell_type": "code",
   "execution_count": 632,
   "outputs": [],
   "source": [
    "merged[ ['row_id', 'microbusiness_density'] ].to_csv('submission.csv', index=False)"
   ],
   "metadata": {
    "collapsed": false
   }
  },
  {
   "cell_type": "code",
   "execution_count": 633,
   "outputs": [
    {
     "data": {
      "text/plain": "                 row_id  cfips first_day_of_month source\n0       1001_2022-11-01   1001         2022-11-01   test\n1       1003_2022-11-01   1003         2022-11-01   test\n2       1005_2022-11-01   1005         2022-11-01   test\n3       1007_2022-11-01   1007         2022-11-01   test\n4       1009_2022-11-01   1009         2022-11-01   test\n...                 ...    ...                ...    ...\n25075  56037_2023-06-01  56037         2023-06-01   test\n25076  56039_2023-06-01  56039         2023-06-01   test\n25077  56041_2023-06-01  56041         2023-06-01   test\n25078  56043_2023-06-01  56043         2023-06-01   test\n25079  56045_2023-06-01  56045         2023-06-01   test\n\n[25080 rows x 4 columns]",
      "text/html": "<div>\n<style scoped>\n    .dataframe tbody tr th:only-of-type {\n        vertical-align: middle;\n    }\n\n    .dataframe tbody tr th {\n        vertical-align: top;\n    }\n\n    .dataframe thead th {\n        text-align: right;\n    }\n</style>\n<table border=\"1\" class=\"dataframe\">\n  <thead>\n    <tr style=\"text-align: right;\">\n      <th></th>\n      <th>row_id</th>\n      <th>cfips</th>\n      <th>first_day_of_month</th>\n      <th>source</th>\n    </tr>\n  </thead>\n  <tbody>\n    <tr>\n      <th>0</th>\n      <td>1001_2022-11-01</td>\n      <td>1001</td>\n      <td>2022-11-01</td>\n      <td>test</td>\n    </tr>\n    <tr>\n      <th>1</th>\n      <td>1003_2022-11-01</td>\n      <td>1003</td>\n      <td>2022-11-01</td>\n      <td>test</td>\n    </tr>\n    <tr>\n      <th>2</th>\n      <td>1005_2022-11-01</td>\n      <td>1005</td>\n      <td>2022-11-01</td>\n      <td>test</td>\n    </tr>\n    <tr>\n      <th>3</th>\n      <td>1007_2022-11-01</td>\n      <td>1007</td>\n      <td>2022-11-01</td>\n      <td>test</td>\n    </tr>\n    <tr>\n      <th>4</th>\n      <td>1009_2022-11-01</td>\n      <td>1009</td>\n      <td>2022-11-01</td>\n      <td>test</td>\n    </tr>\n    <tr>\n      <th>...</th>\n      <td>...</td>\n      <td>...</td>\n      <td>...</td>\n      <td>...</td>\n    </tr>\n    <tr>\n      <th>25075</th>\n      <td>56037_2023-06-01</td>\n      <td>56037</td>\n      <td>2023-06-01</td>\n      <td>test</td>\n    </tr>\n    <tr>\n      <th>25076</th>\n      <td>56039_2023-06-01</td>\n      <td>56039</td>\n      <td>2023-06-01</td>\n      <td>test</td>\n    </tr>\n    <tr>\n      <th>25077</th>\n      <td>56041_2023-06-01</td>\n      <td>56041</td>\n      <td>2023-06-01</td>\n      <td>test</td>\n    </tr>\n    <tr>\n      <th>25078</th>\n      <td>56043_2023-06-01</td>\n      <td>56043</td>\n      <td>2023-06-01</td>\n      <td>test</td>\n    </tr>\n    <tr>\n      <th>25079</th>\n      <td>56045_2023-06-01</td>\n      <td>56045</td>\n      <td>2023-06-01</td>\n      <td>test</td>\n    </tr>\n  </tbody>\n</table>\n<p>25080 rows × 4 columns</p>\n</div>"
     },
     "execution_count": 633,
     "metadata": {},
     "output_type": "execute_result"
    }
   ],
   "source": [
    "submission"
   ],
   "metadata": {
    "collapsed": false
   }
  },
  {
   "cell_type": "code",
   "execution_count": 638,
   "outputs": [
    {
     "ename": "TypeError",
     "evalue": "Invalid object type at position 0",
     "output_type": "error",
     "traceback": [
      "\u001B[1;31m---------------------------------------------------------------------------\u001B[0m",
      "\u001B[1;31mTypeError\u001B[0m                                 Traceback (most recent call last)",
      "\u001B[1;32mC:\\ProgramData\\Anaconda3\\lib\\site-packages\\pandas\\_libs\\lib.pyx\u001B[0m in \u001B[0;36mpandas._libs.lib.maybe_convert_numeric\u001B[1;34m()\u001B[0m\n",
      "\u001B[1;31mTypeError\u001B[0m: Invalid object type",
      "\nDuring handling of the above exception, another exception occurred:\n",
      "\u001B[1;31mTypeError\u001B[0m                                 Traceback (most recent call last)",
      "\u001B[1;32m~\\AppData\\Local\\Temp\\ipykernel_9460\\2508357784.py\u001B[0m in \u001B[0;36m<module>\u001B[1;34m\u001B[0m\n\u001B[0;32m      1\u001B[0m \u001B[0mt\u001B[0m \u001B[1;33m=\u001B[0m \u001B[0mpd\u001B[0m\u001B[1;33m.\u001B[0m\u001B[0mto_datetime\u001B[0m\u001B[1;33m(\u001B[0m\u001B[1;34m'2022-11-01'\u001B[0m\u001B[1;33m)\u001B[0m\u001B[1;33m\u001B[0m\u001B[1;33m\u001B[0m\u001B[0m\n\u001B[0;32m      2\u001B[0m \u001B[1;33m\u001B[0m\u001B[0m\n\u001B[1;32m----> 3\u001B[1;33m \u001B[0mpd\u001B[0m\u001B[1;33m.\u001B[0m\u001B[0mto_numeric\u001B[0m\u001B[1;33m(\u001B[0m\u001B[0mt\u001B[0m\u001B[1;33m)\u001B[0m\u001B[1;33m\u001B[0m\u001B[1;33m\u001B[0m\u001B[0m\n\u001B[0m",
      "\u001B[1;32mC:\\ProgramData\\Anaconda3\\lib\\site-packages\\pandas\\core\\tools\\numeric.py\u001B[0m in \u001B[0;36mto_numeric\u001B[1;34m(arg, errors, downcast)\u001B[0m\n\u001B[0;32m    182\u001B[0m         \u001B[0mcoerce_numeric\u001B[0m \u001B[1;33m=\u001B[0m \u001B[0merrors\u001B[0m \u001B[1;32mnot\u001B[0m \u001B[1;32min\u001B[0m \u001B[1;33m(\u001B[0m\u001B[1;34m\"ignore\"\u001B[0m\u001B[1;33m,\u001B[0m \u001B[1;34m\"raise\"\u001B[0m\u001B[1;33m)\u001B[0m\u001B[1;33m\u001B[0m\u001B[1;33m\u001B[0m\u001B[0m\n\u001B[0;32m    183\u001B[0m         \u001B[1;32mtry\u001B[0m\u001B[1;33m:\u001B[0m\u001B[1;33m\u001B[0m\u001B[1;33m\u001B[0m\u001B[0m\n\u001B[1;32m--> 184\u001B[1;33m             values, _ = lib.maybe_convert_numeric(\n\u001B[0m\u001B[0;32m    185\u001B[0m                 \u001B[0mvalues\u001B[0m\u001B[1;33m,\u001B[0m \u001B[0mset\u001B[0m\u001B[1;33m(\u001B[0m\u001B[1;33m)\u001B[0m\u001B[1;33m,\u001B[0m \u001B[0mcoerce_numeric\u001B[0m\u001B[1;33m=\u001B[0m\u001B[0mcoerce_numeric\u001B[0m\u001B[1;33m\u001B[0m\u001B[1;33m\u001B[0m\u001B[0m\n\u001B[0;32m    186\u001B[0m             )\n",
      "\u001B[1;32mC:\\ProgramData\\Anaconda3\\lib\\site-packages\\pandas\\_libs\\lib.pyx\u001B[0m in \u001B[0;36mpandas._libs.lib.maybe_convert_numeric\u001B[1;34m()\u001B[0m\n",
      "\u001B[1;31mTypeError\u001B[0m: Invalid object type at position 0"
     ]
    }
   ],
   "source": [
    "t = pd.to_datetime('2022-11-01')\n",
    "\n",
    "pd.to_numeric(t)"
   ],
   "metadata": {
    "collapsed": false
   }
  },
  {
   "cell_type": "code",
   "execution_count": null,
   "outputs": [],
   "source": [],
   "metadata": {
    "collapsed": false
   }
  }
 ],
 "metadata": {
  "kernelspec": {
   "display_name": "Python 3",
   "language": "python",
   "name": "python3"
  },
  "language_info": {
   "codemirror_mode": {
    "name": "ipython",
    "version": 2
   },
   "file_extension": ".py",
   "mimetype": "text/x-python",
   "name": "python",
   "nbconvert_exporter": "python",
   "pygments_lexer": "ipython2",
   "version": "2.7.6"
  }
 },
 "nbformat": 4,
 "nbformat_minor": 0
}
