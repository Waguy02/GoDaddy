{
 "cells": [
  {
   "cell_type": "markdown",
   "source": [
    "# Notebook for building a dataset with external data to the competition"
   ],
   "metadata": {
    "collapsed": false
   }
  },
  {
   "cell_type": "code",
   "execution_count": 2,
   "metadata": {
    "collapsed": true
   },
   "outputs": [],
   "source": [
    "import pandas as pd\n",
    "import os"
   ]
  },
  {
   "cell_type": "code",
   "execution_count": 3,
   "outputs": [],
   "source": [
    "# some configurations\n",
    "DATA_FOLDER = '../../data'"
   ],
   "metadata": {
    "collapsed": false
   }
  },
  {
   "cell_type": "markdown",
   "source": [
    "## Load Internal data"
   ],
   "metadata": {
    "collapsed": false
   }
  },
  {
   "cell_type": "code",
   "execution_count": 4,
   "outputs": [
    {
     "data": {
      "text/plain": "   pct_bb_2017  pct_bb_2018  pct_bb_2019  pct_bb_2020  pct_bb_2021  cfips  \\\n0         76.6         78.9         80.6         82.7         85.5   1001   \n1         74.5         78.1         81.8         85.1         87.9   1003   \n2         57.2         60.4         60.5         64.6         64.6   1005   \n3         62.0         66.1         69.2         76.1         74.6   1007   \n4         65.8         68.5         73.0         79.6         81.0   1009   \n\n   pct_college_2017  pct_college_2018  pct_college_2019  pct_college_2020  \\\n0              14.5              15.9              16.1              16.7   \n1              20.4              20.7              21.0              20.2   \n2               7.6               7.8               7.6               7.3   \n3               8.1               7.6               6.5               7.4   \n4               8.7               8.1               8.6               8.9   \n\n   ...  pct_it_workers_2017  pct_it_workers_2018  pct_it_workers_2019  \\\n0  ...                  1.3                  1.1                  0.7   \n1  ...                  1.4                  1.3                  1.4   \n2  ...                  0.5                  0.3                  0.8   \n3  ...                  1.2                  1.4                  1.6   \n4  ...                  1.3                  1.4                  0.9   \n\n   pct_it_workers_2020  pct_it_workers_2021  median_hh_inc_2017  \\\n0                  0.6                  1.1               55317   \n1                  1.0                  1.3               52562   \n2                  1.1                  0.8               33368   \n3                  1.7                  2.1               43404   \n4                  1.1                  0.9               47412   \n\n   median_hh_inc_2018  median_hh_inc_2019  median_hh_inc_2020  \\\n0             58786.0               58731             57982.0   \n1             55962.0               58320             61756.0   \n2             34186.0               32525             34990.0   \n3             45340.0               47542             51721.0   \n4             48695.0               49358             48922.0   \n\n   median_hh_inc_2021  \n0             62660.0  \n1             64346.0  \n2             36422.0  \n3             54277.0  \n4             52830.0  \n\n[5 rows x 26 columns]",
      "text/html": "<div>\n<style scoped>\n    .dataframe tbody tr th:only-of-type {\n        vertical-align: middle;\n    }\n\n    .dataframe tbody tr th {\n        vertical-align: top;\n    }\n\n    .dataframe thead th {\n        text-align: right;\n    }\n</style>\n<table border=\"1\" class=\"dataframe\">\n  <thead>\n    <tr style=\"text-align: right;\">\n      <th></th>\n      <th>pct_bb_2017</th>\n      <th>pct_bb_2018</th>\n      <th>pct_bb_2019</th>\n      <th>pct_bb_2020</th>\n      <th>pct_bb_2021</th>\n      <th>cfips</th>\n      <th>pct_college_2017</th>\n      <th>pct_college_2018</th>\n      <th>pct_college_2019</th>\n      <th>pct_college_2020</th>\n      <th>...</th>\n      <th>pct_it_workers_2017</th>\n      <th>pct_it_workers_2018</th>\n      <th>pct_it_workers_2019</th>\n      <th>pct_it_workers_2020</th>\n      <th>pct_it_workers_2021</th>\n      <th>median_hh_inc_2017</th>\n      <th>median_hh_inc_2018</th>\n      <th>median_hh_inc_2019</th>\n      <th>median_hh_inc_2020</th>\n      <th>median_hh_inc_2021</th>\n    </tr>\n  </thead>\n  <tbody>\n    <tr>\n      <th>0</th>\n      <td>76.6</td>\n      <td>78.9</td>\n      <td>80.6</td>\n      <td>82.7</td>\n      <td>85.5</td>\n      <td>1001</td>\n      <td>14.5</td>\n      <td>15.9</td>\n      <td>16.1</td>\n      <td>16.7</td>\n      <td>...</td>\n      <td>1.3</td>\n      <td>1.1</td>\n      <td>0.7</td>\n      <td>0.6</td>\n      <td>1.1</td>\n      <td>55317</td>\n      <td>58786.0</td>\n      <td>58731</td>\n      <td>57982.0</td>\n      <td>62660.0</td>\n    </tr>\n    <tr>\n      <th>1</th>\n      <td>74.5</td>\n      <td>78.1</td>\n      <td>81.8</td>\n      <td>85.1</td>\n      <td>87.9</td>\n      <td>1003</td>\n      <td>20.4</td>\n      <td>20.7</td>\n      <td>21.0</td>\n      <td>20.2</td>\n      <td>...</td>\n      <td>1.4</td>\n      <td>1.3</td>\n      <td>1.4</td>\n      <td>1.0</td>\n      <td>1.3</td>\n      <td>52562</td>\n      <td>55962.0</td>\n      <td>58320</td>\n      <td>61756.0</td>\n      <td>64346.0</td>\n    </tr>\n    <tr>\n      <th>2</th>\n      <td>57.2</td>\n      <td>60.4</td>\n      <td>60.5</td>\n      <td>64.6</td>\n      <td>64.6</td>\n      <td>1005</td>\n      <td>7.6</td>\n      <td>7.8</td>\n      <td>7.6</td>\n      <td>7.3</td>\n      <td>...</td>\n      <td>0.5</td>\n      <td>0.3</td>\n      <td>0.8</td>\n      <td>1.1</td>\n      <td>0.8</td>\n      <td>33368</td>\n      <td>34186.0</td>\n      <td>32525</td>\n      <td>34990.0</td>\n      <td>36422.0</td>\n    </tr>\n    <tr>\n      <th>3</th>\n      <td>62.0</td>\n      <td>66.1</td>\n      <td>69.2</td>\n      <td>76.1</td>\n      <td>74.6</td>\n      <td>1007</td>\n      <td>8.1</td>\n      <td>7.6</td>\n      <td>6.5</td>\n      <td>7.4</td>\n      <td>...</td>\n      <td>1.2</td>\n      <td>1.4</td>\n      <td>1.6</td>\n      <td>1.7</td>\n      <td>2.1</td>\n      <td>43404</td>\n      <td>45340.0</td>\n      <td>47542</td>\n      <td>51721.0</td>\n      <td>54277.0</td>\n    </tr>\n    <tr>\n      <th>4</th>\n      <td>65.8</td>\n      <td>68.5</td>\n      <td>73.0</td>\n      <td>79.6</td>\n      <td>81.0</td>\n      <td>1009</td>\n      <td>8.7</td>\n      <td>8.1</td>\n      <td>8.6</td>\n      <td>8.9</td>\n      <td>...</td>\n      <td>1.3</td>\n      <td>1.4</td>\n      <td>0.9</td>\n      <td>1.1</td>\n      <td>0.9</td>\n      <td>47412</td>\n      <td>48695.0</td>\n      <td>49358</td>\n      <td>48922.0</td>\n      <td>52830.0</td>\n    </tr>\n  </tbody>\n</table>\n<p>5 rows × 26 columns</p>\n</div>"
     },
     "execution_count": 4,
     "metadata": {},
     "output_type": "execute_result"
    }
   ],
   "source": [
    "census = pd.read_csv(os.path.join(f'{DATA_FOLDER}/godaddy-microbusiness-density-forecasting', 'census_starter.csv'))\n",
    "census.head()"
   ],
   "metadata": {
    "collapsed": false
   }
  },
  {
   "cell_type": "code",
   "execution_count": 8,
   "outputs": [
    {
     "data": {
      "text/plain": "                  row_id  cfips          county    state first_day_of_month  \\\n0        1001_2019-08-01   1001  Autauga County  Alabama         2019-08-01   \n1        1001_2019-09-01   1001  Autauga County  Alabama         2019-09-01   \n2        1001_2019-10-01   1001  Autauga County  Alabama         2019-10-01   \n3        1001_2019-11-01   1001  Autauga County  Alabama         2019-11-01   \n4        1001_2019-12-01   1001  Autauga County  Alabama         2019-12-01   \n...                  ...    ...             ...      ...                ...   \n122260  56045_2022-06-01  56045   Weston County  Wyoming         2022-06-01   \n122261  56045_2022-07-01  56045   Weston County  Wyoming         2022-07-01   \n122262  56045_2022-08-01  56045   Weston County  Wyoming         2022-08-01   \n122263  56045_2022-09-01  56045   Weston County  Wyoming         2022-09-01   \n122264  56045_2022-10-01  56045   Weston County  Wyoming         2022-10-01   \n\n        microbusiness_density  active  \n0                    3.007682    1249  \n1                    2.884870    1198  \n2                    3.055843    1269  \n3                    2.993233    1243  \n4                    2.993233    1243  \n...                       ...     ...  \n122260               1.803249     101  \n122261               1.803249     101  \n122262               1.785395     100  \n122263               1.785395     100  \n122264               1.785395     100  \n\n[122265 rows x 7 columns]",
      "text/html": "<div>\n<style scoped>\n    .dataframe tbody tr th:only-of-type {\n        vertical-align: middle;\n    }\n\n    .dataframe tbody tr th {\n        vertical-align: top;\n    }\n\n    .dataframe thead th {\n        text-align: right;\n    }\n</style>\n<table border=\"1\" class=\"dataframe\">\n  <thead>\n    <tr style=\"text-align: right;\">\n      <th></th>\n      <th>row_id</th>\n      <th>cfips</th>\n      <th>county</th>\n      <th>state</th>\n      <th>first_day_of_month</th>\n      <th>microbusiness_density</th>\n      <th>active</th>\n    </tr>\n  </thead>\n  <tbody>\n    <tr>\n      <th>0</th>\n      <td>1001_2019-08-01</td>\n      <td>1001</td>\n      <td>Autauga County</td>\n      <td>Alabama</td>\n      <td>2019-08-01</td>\n      <td>3.007682</td>\n      <td>1249</td>\n    </tr>\n    <tr>\n      <th>1</th>\n      <td>1001_2019-09-01</td>\n      <td>1001</td>\n      <td>Autauga County</td>\n      <td>Alabama</td>\n      <td>2019-09-01</td>\n      <td>2.884870</td>\n      <td>1198</td>\n    </tr>\n    <tr>\n      <th>2</th>\n      <td>1001_2019-10-01</td>\n      <td>1001</td>\n      <td>Autauga County</td>\n      <td>Alabama</td>\n      <td>2019-10-01</td>\n      <td>3.055843</td>\n      <td>1269</td>\n    </tr>\n    <tr>\n      <th>3</th>\n      <td>1001_2019-11-01</td>\n      <td>1001</td>\n      <td>Autauga County</td>\n      <td>Alabama</td>\n      <td>2019-11-01</td>\n      <td>2.993233</td>\n      <td>1243</td>\n    </tr>\n    <tr>\n      <th>4</th>\n      <td>1001_2019-12-01</td>\n      <td>1001</td>\n      <td>Autauga County</td>\n      <td>Alabama</td>\n      <td>2019-12-01</td>\n      <td>2.993233</td>\n      <td>1243</td>\n    </tr>\n    <tr>\n      <th>...</th>\n      <td>...</td>\n      <td>...</td>\n      <td>...</td>\n      <td>...</td>\n      <td>...</td>\n      <td>...</td>\n      <td>...</td>\n    </tr>\n    <tr>\n      <th>122260</th>\n      <td>56045_2022-06-01</td>\n      <td>56045</td>\n      <td>Weston County</td>\n      <td>Wyoming</td>\n      <td>2022-06-01</td>\n      <td>1.803249</td>\n      <td>101</td>\n    </tr>\n    <tr>\n      <th>122261</th>\n      <td>56045_2022-07-01</td>\n      <td>56045</td>\n      <td>Weston County</td>\n      <td>Wyoming</td>\n      <td>2022-07-01</td>\n      <td>1.803249</td>\n      <td>101</td>\n    </tr>\n    <tr>\n      <th>122262</th>\n      <td>56045_2022-08-01</td>\n      <td>56045</td>\n      <td>Weston County</td>\n      <td>Wyoming</td>\n      <td>2022-08-01</td>\n      <td>1.785395</td>\n      <td>100</td>\n    </tr>\n    <tr>\n      <th>122263</th>\n      <td>56045_2022-09-01</td>\n      <td>56045</td>\n      <td>Weston County</td>\n      <td>Wyoming</td>\n      <td>2022-09-01</td>\n      <td>1.785395</td>\n      <td>100</td>\n    </tr>\n    <tr>\n      <th>122264</th>\n      <td>56045_2022-10-01</td>\n      <td>56045</td>\n      <td>Weston County</td>\n      <td>Wyoming</td>\n      <td>2022-10-01</td>\n      <td>1.785395</td>\n      <td>100</td>\n    </tr>\n  </tbody>\n</table>\n<p>122265 rows × 7 columns</p>\n</div>"
     },
     "execution_count": 8,
     "metadata": {},
     "output_type": "execute_result"
    }
   ],
   "source": [
    "microbusiness_density_train = pd.read_csv(os.path.join(f'{DATA_FOLDER}/godaddy-microbusiness-density-forecasting', 'train.csv'))\n",
    "microbusiness_density_train"
   ],
   "metadata": {
    "collapsed": false
   }
  },
  {
   "cell_type": "code",
   "execution_count": 9,
   "outputs": [
    {
     "data": {
      "text/plain": "                 row_id  cfips first_day_of_month\n0       1001_2022-11-01   1001         2022-11-01\n1       1003_2022-11-01   1003         2022-11-01\n2       1005_2022-11-01   1005         2022-11-01\n3       1007_2022-11-01   1007         2022-11-01\n4       1009_2022-11-01   1009         2022-11-01\n...                 ...    ...                ...\n25075  56037_2023-06-01  56037         2023-06-01\n25076  56039_2023-06-01  56039         2023-06-01\n25077  56041_2023-06-01  56041         2023-06-01\n25078  56043_2023-06-01  56043         2023-06-01\n25079  56045_2023-06-01  56045         2023-06-01\n\n[25080 rows x 3 columns]",
      "text/html": "<div>\n<style scoped>\n    .dataframe tbody tr th:only-of-type {\n        vertical-align: middle;\n    }\n\n    .dataframe tbody tr th {\n        vertical-align: top;\n    }\n\n    .dataframe thead th {\n        text-align: right;\n    }\n</style>\n<table border=\"1\" class=\"dataframe\">\n  <thead>\n    <tr style=\"text-align: right;\">\n      <th></th>\n      <th>row_id</th>\n      <th>cfips</th>\n      <th>first_day_of_month</th>\n    </tr>\n  </thead>\n  <tbody>\n    <tr>\n      <th>0</th>\n      <td>1001_2022-11-01</td>\n      <td>1001</td>\n      <td>2022-11-01</td>\n    </tr>\n    <tr>\n      <th>1</th>\n      <td>1003_2022-11-01</td>\n      <td>1003</td>\n      <td>2022-11-01</td>\n    </tr>\n    <tr>\n      <th>2</th>\n      <td>1005_2022-11-01</td>\n      <td>1005</td>\n      <td>2022-11-01</td>\n    </tr>\n    <tr>\n      <th>3</th>\n      <td>1007_2022-11-01</td>\n      <td>1007</td>\n      <td>2022-11-01</td>\n    </tr>\n    <tr>\n      <th>4</th>\n      <td>1009_2022-11-01</td>\n      <td>1009</td>\n      <td>2022-11-01</td>\n    </tr>\n    <tr>\n      <th>...</th>\n      <td>...</td>\n      <td>...</td>\n      <td>...</td>\n    </tr>\n    <tr>\n      <th>25075</th>\n      <td>56037_2023-06-01</td>\n      <td>56037</td>\n      <td>2023-06-01</td>\n    </tr>\n    <tr>\n      <th>25076</th>\n      <td>56039_2023-06-01</td>\n      <td>56039</td>\n      <td>2023-06-01</td>\n    </tr>\n    <tr>\n      <th>25077</th>\n      <td>56041_2023-06-01</td>\n      <td>56041</td>\n      <td>2023-06-01</td>\n    </tr>\n    <tr>\n      <th>25078</th>\n      <td>56043_2023-06-01</td>\n      <td>56043</td>\n      <td>2023-06-01</td>\n    </tr>\n    <tr>\n      <th>25079</th>\n      <td>56045_2023-06-01</td>\n      <td>56045</td>\n      <td>2023-06-01</td>\n    </tr>\n  </tbody>\n</table>\n<p>25080 rows × 3 columns</p>\n</div>"
     },
     "execution_count": 9,
     "metadata": {},
     "output_type": "execute_result"
    }
   ],
   "source": [
    "microbusiness_density_test = pd.read_csv(os.path.join(f'{DATA_FOLDER}/godaddy-microbusiness-density-forecasting', 'test.csv'))\n",
    "microbusiness_density_test"
   ],
   "metadata": {
    "collapsed": false
   }
  },
  {
   "cell_type": "code",
   "execution_count": 10,
   "outputs": [
    {
     "data": {
      "text/plain": "                row_id  cfips           county    state first_day_of_month  \\\n0      1001_2022-11-01   1001   Autauga County  Alabama         2022-11-01   \n1      1001_2022-12-01   1001   Autauga County  Alabama         2022-12-01   \n2      1003_2022-11-01   1003   Baldwin County  Alabama         2022-11-01   \n3      1003_2022-12-01   1003   Baldwin County  Alabama         2022-12-01   \n4      1005_2022-11-01   1005   Barbour County  Alabama         2022-11-01   \n...                ...    ...              ...      ...                ...   \n6265  56041_2022-12-01  56041     Uinta County  Wyoming         2022-12-01   \n6266  56043_2022-11-01  56043  Washakie County  Wyoming         2022-11-01   \n6267  56043_2022-12-01  56043  Washakie County  Wyoming         2022-12-01   \n6268  56045_2022-11-01  56045    Weston County  Wyoming         2022-11-01   \n6269  56045_2022-12-01  56045    Weston County  Wyoming         2022-12-01   \n\n      microbusiness_density  active  \n0                  3.442677    1463  \n1                  3.470915    1475  \n2                  8.257636   14145  \n3                  8.250630   14133  \n4                  1.247223     247  \n...                     ...     ...  \n6265               4.050703     588  \n6266               3.143093     190  \n6267               3.060380     185  \n6268               1.785395     100  \n6269               1.803249     101  \n\n[6270 rows x 7 columns]",
      "text/html": "<div>\n<style scoped>\n    .dataframe tbody tr th:only-of-type {\n        vertical-align: middle;\n    }\n\n    .dataframe tbody tr th {\n        vertical-align: top;\n    }\n\n    .dataframe thead th {\n        text-align: right;\n    }\n</style>\n<table border=\"1\" class=\"dataframe\">\n  <thead>\n    <tr style=\"text-align: right;\">\n      <th></th>\n      <th>row_id</th>\n      <th>cfips</th>\n      <th>county</th>\n      <th>state</th>\n      <th>first_day_of_month</th>\n      <th>microbusiness_density</th>\n      <th>active</th>\n    </tr>\n  </thead>\n  <tbody>\n    <tr>\n      <th>0</th>\n      <td>1001_2022-11-01</td>\n      <td>1001</td>\n      <td>Autauga County</td>\n      <td>Alabama</td>\n      <td>2022-11-01</td>\n      <td>3.442677</td>\n      <td>1463</td>\n    </tr>\n    <tr>\n      <th>1</th>\n      <td>1001_2022-12-01</td>\n      <td>1001</td>\n      <td>Autauga County</td>\n      <td>Alabama</td>\n      <td>2022-12-01</td>\n      <td>3.470915</td>\n      <td>1475</td>\n    </tr>\n    <tr>\n      <th>2</th>\n      <td>1003_2022-11-01</td>\n      <td>1003</td>\n      <td>Baldwin County</td>\n      <td>Alabama</td>\n      <td>2022-11-01</td>\n      <td>8.257636</td>\n      <td>14145</td>\n    </tr>\n    <tr>\n      <th>3</th>\n      <td>1003_2022-12-01</td>\n      <td>1003</td>\n      <td>Baldwin County</td>\n      <td>Alabama</td>\n      <td>2022-12-01</td>\n      <td>8.250630</td>\n      <td>14133</td>\n    </tr>\n    <tr>\n      <th>4</th>\n      <td>1005_2022-11-01</td>\n      <td>1005</td>\n      <td>Barbour County</td>\n      <td>Alabama</td>\n      <td>2022-11-01</td>\n      <td>1.247223</td>\n      <td>247</td>\n    </tr>\n    <tr>\n      <th>...</th>\n      <td>...</td>\n      <td>...</td>\n      <td>...</td>\n      <td>...</td>\n      <td>...</td>\n      <td>...</td>\n      <td>...</td>\n    </tr>\n    <tr>\n      <th>6265</th>\n      <td>56041_2022-12-01</td>\n      <td>56041</td>\n      <td>Uinta County</td>\n      <td>Wyoming</td>\n      <td>2022-12-01</td>\n      <td>4.050703</td>\n      <td>588</td>\n    </tr>\n    <tr>\n      <th>6266</th>\n      <td>56043_2022-11-01</td>\n      <td>56043</td>\n      <td>Washakie County</td>\n      <td>Wyoming</td>\n      <td>2022-11-01</td>\n      <td>3.143093</td>\n      <td>190</td>\n    </tr>\n    <tr>\n      <th>6267</th>\n      <td>56043_2022-12-01</td>\n      <td>56043</td>\n      <td>Washakie County</td>\n      <td>Wyoming</td>\n      <td>2022-12-01</td>\n      <td>3.060380</td>\n      <td>185</td>\n    </tr>\n    <tr>\n      <th>6268</th>\n      <td>56045_2022-11-01</td>\n      <td>56045</td>\n      <td>Weston County</td>\n      <td>Wyoming</td>\n      <td>2022-11-01</td>\n      <td>1.785395</td>\n      <td>100</td>\n    </tr>\n    <tr>\n      <th>6269</th>\n      <td>56045_2022-12-01</td>\n      <td>56045</td>\n      <td>Weston County</td>\n      <td>Wyoming</td>\n      <td>2022-12-01</td>\n      <td>1.803249</td>\n      <td>101</td>\n    </tr>\n  </tbody>\n</table>\n<p>6270 rows × 7 columns</p>\n</div>"
     },
     "execution_count": 10,
     "metadata": {},
     "output_type": "execute_result"
    }
   ],
   "source": [
    "microbusiness_density_val = pd.read_csv(os.path.join(f'{DATA_FOLDER}/godaddy-microbusiness-density-forecasting', 'revealed_test.csv'))\n",
    "microbusiness_density_val"
   ],
   "metadata": {
    "collapsed": false
   }
  },
  {
   "cell_type": "markdown",
   "source": [
    "## Load external data"
   ],
   "metadata": {
    "collapsed": false
   }
  },
  {
   "cell_type": "code",
   "execution_count": 56,
   "outputs": [],
   "source": [],
   "metadata": {
    "collapsed": false
   }
  },
  {
   "cell_type": "code",
   "execution_count": 62,
   "outputs": [],
   "source": [
    "data_list = []\n",
    "for file in os.scandir(f'{DATA_FOLDER}/external/employment_select_indicators'):\n",
    "\n",
    "    df = pd.read_csv(file.path)\n",
    "    tmp_df = df.transpose()\n",
    "    tmp_df = tmp_df.reset_index()\n",
    "\n",
    "    # set the first row as the header\n",
    "    new_header = tmp_df.iloc[0] #grab the first row for the header\n",
    "    tmp_df = tmp_df[1:] #take the data less the header row\n",
    "    tmp_df.columns = new_header\n",
    "\n",
    "    tmp_df = pd.melt(\n",
    "        tmp_df,\n",
    "        id_vars=['Geography'],\n",
    "        value_vars=[col for col in tmp_df.columns if col != 'Geography'],\n",
    "        var_name='state',\n",
    "        value_name=file.name.replace('.csv', '')\n",
    "    )\n",
    "\n",
    "    tmp_df = tmp_df[(tmp_df['state'] != 'United States') & (tmp_df['Geography'] >= '2017-07-01')]\n",
    "\n",
    "    data_list.append(tmp_df)"
   ],
   "metadata": {
    "collapsed": false
   }
  },
  {
   "cell_type": "code",
   "execution_count": 65,
   "outputs": [
    {
     "data": {
      "text/plain": "702      Alabama\n703      Alabama\n704      Alabama\n705      Alabama\n706      Alabama\n          ...   \n19963    Wyoming\n19964    Wyoming\n19965    Wyoming\n19966    Wyoming\n19967    Wyoming\nName: state, Length: 3366, dtype: object"
     },
     "execution_count": 65,
     "metadata": {},
     "output_type": "execute_result"
    }
   ],
   "source": [
    "data_list[1]['state']"
   ],
   "metadata": {
    "collapsed": false
   }
  },
  {
   "cell_type": "code",
   "execution_count": 77,
   "outputs": [],
   "source": [
    "final_df = data_list[0]\n",
    "for df in data_list[1:]:\n",
    "    final_df = final_df.merge(df, on=['Geography', 'state'], how='left')\n",
    "\n",
    "final_df['state_and_local_public_education_employment_yoy_percent_change'] = final_df['state_and_local_public_education_employment_yoy_percent_change'].ffill()\n",
    "final_df['Geography'] = pd.to_datetime(final_df['Geography'])"
   ],
   "metadata": {
    "collapsed": false
   }
  },
  {
   "cell_type": "code",
   "execution_count": 76,
   "outputs": [
    {
     "data": {
      "text/plain": "Geography                                                         0\nstate                                                             0\nfederal_public_employment_yoy_percent_change                      0\nleisure_and_hospitality_employment_yoy_percent_change             0\nmanufacturing_employment_yoy_percent_change                       0\nprivate_employment_yoy_percent_change                             0\npublic_employment_yoy_percent_change                              0\nretail_trade_employment_yoy_percent_change                        0\nstate_and_local_public_education_employment_yoy_percent_change    0\nstate_and_local_public_employment_yoy_percent_change              0\ntotal_employment_yoy_percent_change                               0\nunemployment_rate_raw                                             0\ndtype: int64"
     },
     "execution_count": 76,
     "metadata": {},
     "output_type": "execute_result"
    }
   ],
   "source": [
    "final_df.isna().sum()"
   ],
   "metadata": {
    "collapsed": false
   }
  },
  {
   "cell_type": "code",
   "execution_count": 78,
   "outputs": [],
   "source": [
    "final_df.to_csv(os.path.join(f'{DATA_FOLDER}/external', 'employment_select_indicators.csv'), index=False)"
   ],
   "metadata": {
    "collapsed": false
   }
  },
  {
   "cell_type": "markdown",
   "source": [
    "### Deotte Data"
   ],
   "metadata": {
    "collapsed": false
   }
  },
  {
   "cell_type": "code",
   "execution_count": 81,
   "outputs": [
    {
     "name": "stdout",
     "output_type": "stream",
     "text": [
      "ACSST5Y2017.S0101-Column-Metadata.csv\n"
     ]
    },
    {
     "name": "stderr",
     "output_type": "stream",
     "text": [
      "C:\\Users\\avomo\\AppData\\Local\\Temp\\ipykernel_12804\\2369866873.py:6: DtypeWarning: Columns (2,3,6,7,10,11,12,13,14,15,16,17,18,19,20,21,22,23,24,25,26,27,30,33,34,35,36,37,38,39,40,41,42,45,46,47,50,51,52,53,54,55,56,57,58,59,60,61,62,63,64,65,66,67,68,69,70,71,72,73,74,75,76,77,78,79,82,83,86,89,90,91,94,95,98,99,100,101,102,103,106,107,108,109,110,111,112,113,114,115,116,117,118,121,122,123,126,127,128,129,130,131,134,135,138,139,142,143,158,161,162,163,164,165,166,167,168,169,170,171,172,173,174,175,176,177,178,181,182,185,186,187,188,189,190,191,192,193,194,195,198,201,202,203,204,205,206,207,208,209,210,211,212,213,214,215,216,217,218,219,220,221,222,223,224,225,226,227,228,229,230,231,234,235,238,239,242,243,246,249,250,251,252,253,254,255,258,259,260,261,262,263,264,265,266,267,268,269,270,273,274,277,298,301,302,303,306,309,310,313,314,315,316,317,318,319,320,321,322,325,326,327,328,329,330,333,334,335,338,339,340,341,342,343,344,345,346,347,350,351,354,355,356,357,358,359,360,361,362,363,364,365,366,367,368,369,370,371,372,373,374,375,376,377,378,379,380,381,382,383,386,389,390,391,394,395,398,401,402,403,404,405,406,409,410,411,412,413,414,415,416,417,418,419,420,421,422,423,426,427,430,431,432,433,462,463,466,467,468,469,470,471,472,473,474,477,478,479,480,481,482,483,486,489,490,491,492,493,494,495,496,497,498,499,502,505,506,507,508,509,510,511,512,513,514,515,516,517,518,519,520,521,522,523,524,525,526,527,528,529,530,531,532,533,534,537,538,539,542,545,546,547,550,551,554,555,556,557,558,561,562,563,564,565,566,567,568,569,570,571,572,573,574,575,578,579,610,611,614,615,618,619,620,621,622,623,624,625,626,627,628,629,630,631,632,633,634,635,638,639,642,643,644,645,646,647,648,649,650,653,654,657,658,659,660,661,662,663,664,665,666,667,668,669,670,671,672,673,674,675,676,677,678,679,680,681,682,683,684,685,686,689,690,691,694,697,698,701,702,703,706,707,708,709,710,711,714,715,716,717,718,719,720,721,722,723,724,725,726,727,730,733,734,735,736,737,766,767,770,771,772,773,774,775,776,777,778,779,780,781,782,783,784,785,786,787,790,793,794,795,796,797,798,799,800,801,802,805,806,807,810,811,812,813,814,815,816,817,818,819,820,821,822,823,824,825,826,827,828,829,830,831,832,833,834,835,836,837,838,839,842,843,846,849,850,851,854,855,858,859,860,861,862,863,866,867,868,869,870,871,872,873,874,875,876,877,878,879,882,885) have mixed types. Specify dtype option on import or set low_memory=False.\n",
      "  df = pd.read_csv(file.path)\n"
     ]
    },
    {
     "name": "stdout",
     "output_type": "stream",
     "text": [
      "ACSST5Y2017.S0101-Data.csv\n",
      "ACSST5Y2018.S0101-Column-Metadata.csv\n"
     ]
    },
    {
     "name": "stderr",
     "output_type": "stream",
     "text": [
      "C:\\Users\\avomo\\AppData\\Local\\Temp\\ipykernel_12804\\2369866873.py:6: DtypeWarning: Columns (2,5,6,9,10,11,12,13,14,15,16,17,18,21,22,25,26,27,30,33,34,35,36,37,38,39,40,41,42,45,46,49,50,51,52,53,54,55,56,57,58,59,60,61,62,63,64,65,66,67,68,69,70,71,72,73,74,75,76,77,78,81,82,85,86,89,90,93,94,95,98,99,100,101,102,105,106,107,108,109,110,111,112,113,114,115,116,117,118,121,122,125,126,127,128,129,130,133,134,135,138,139,142,145,158,161,166,169,174,175,178,181,182,185,186,187,190,193,194,195,196,197,198,199,200,201,202,203,204,205,206,207,208,209,210,211,212,213,214,215,216,217,218,219,220,221,222,223,224,225,226,227,228,229,230,231,232,233,234,237,238,241,242,245,246,247,250,253,254,257,258,261,262,263,266,269,270,273,274,277,278,281,282,285,286,289,290,293,294,297,298,301,302,303,306,309,310,313,314,315,316,317,318,319,320,321,322,323,324,325,326,327,328,329,330,331,332,333,334,335,336,337,338,339,340,341,342,343,344,345,346,347,348,349,350,351,352,353,354,357,358,361,362,365,366,369,370,373,374,377,378,381,382,385,386,389,390,393,394,395,396,397,398,399,400,401,402,403,404,405,406,407,408,409,410,411,412,413,414,415,416,417,418,419,420,421,422,423,424,425,426,427,428,429,430,431,432,433,434,435,436,437,438,439,440,441,442,443,444,445,446,447,448,449,450,451,452,453,454,455,456,457,458,459,460,461,462,463,464,465,466,467,468,469,470,471,472,473,474,475,476,477,478,479,480,481,482,483,484,485,486,487,488,489,490,491,492,493,494,495,496,497,498,499,500,501,502,503,504,505,506,507,508,509,510,511,512,513,514,515,516,517,518,519,520,521,522,523,524,525,526,527,528,529,530,531,532,533,534,537,538,541,542,545,546,547,550,553,554,555,558,561,562,565,566,569,570,573,574,577,578,581,582,585,586,589,590,593,594,597,598,601,602,605,606,609,610,613,614,615,618,621,622,625,626,629,630,633,634,635,636,637,638,639,640,641,642,643,644,645,646,647,648,649,650,651,652,653,654,657,658,659,662,663,666,667,670,673,674,675,676,677,678,679,680,681,682,683,684,685,686,687,688,689,690,691,692,693,694,695,696,697,698,699,700,701,702,703,704,705,706,707,708,709,710,711,712,713,714,715,716,717,718,719,720,721,722,723,724,725,726,727,728,729,730,731,732,733,734,737,738,741,742,745,746,747,750,751,754,757,758,761,762,763,766,767,770,771,778,779,780,781,786,787,788,789,874,875,894,897) have mixed types. Specify dtype option on import or set low_memory=False.\n",
      "  df = pd.read_csv(file.path)\n"
     ]
    },
    {
     "name": "stdout",
     "output_type": "stream",
     "text": [
      "ACSST5Y2018.S0101-Data.csv\n",
      "ACSST5Y2019.S0101-Column-Metadata.csv\n"
     ]
    },
    {
     "name": "stderr",
     "output_type": "stream",
     "text": [
      "C:\\Users\\avomo\\AppData\\Local\\Temp\\ipykernel_12804\\2369866873.py:6: DtypeWarning: Columns (2,5,6,9,10,11,12,13,14,15,16,17,18,21,22,25,26,27,30,31,34,35,36,37,38,39,40,41,42,45,46,47,50,51,52,53,54,55,56,57,58,59,60,61,62,63,64,65,66,67,68,69,70,71,72,73,74,75,76,77,78,81,82,83,86,87,90,93,94,95,98,99,100,101,102,103,106,107,108,109,110,111,112,113,114,115,116,117,118,121,122,123,126,127,128,129,130,131,134,135,138,139,142,145,158,159,162,163,164,165,166,167,168,169,170,171,174,177,178,179,182,183,186,187,188,189,190,191,192,193,194,197,198,201,202,203,204,205,206,207,208,209,210,211,212,213,214,215,216,217,218,219,220,221,222,223,224,225,226,227,228,229,230,231,234,235,238,241,242,245,246,247,250,251,252,253,254,257,258,259,260,261,262,263,264,265,266,267,268,269,270,271,274,275,298,301,302,305,306,307,310,313,314,315,316,317,318,319,320,321,322,323,326,329,330,331,334,335,338,339,340,341,342,343,344,345,346,347,350,353,354,355,356,357,358,359,360,361,362,363,364,365,366,367,368,369,370,371,372,373,374,375,376,377,378,379,380,381,382,383,386,389,390,391,394,397,398,401,402,403,404,405,406,407,410,411,412,413,414,415,416,417,418,419,420,421,422,423,426,429,430,431,432,433,462,465,466,467,468,469,470,471,472,473,474,477,478,481,482,483,486,489,490,491,492,493,494,495,496,497,498,501,502,505,506,507,508,509,510,511,512,513,514,515,516,517,518,519,520,521,522,523,524,525,526,527,528,529,530,531,532,533,534,535,538,541,542,545,546,547,550,553,554,555,556,557,558,559,562,563,564,565,566,567,568,569,570,571,572,573,574,577,578,579,610,611,614,617,618,619,620,621,622,623,624,625,626,629,630,633,634,635,638,641,642,643,644,645,646,647,648,649,650,653,654,655,658,659,660,661,662,663,664,665,666,667,668,669,670,671,672,673,674,675,676,677,678,679,680,681,682,683,684,685,686,689,690,693,694,695,698,699,702,703,706,707,708,709,710,711,714,715,716,717,718,719,720,721,722,723,724,725,726,729,730,733,734,735,736,737,766,769,770,771,772,773,774,775,776,777,778,781,782,783,786,789,790,791,794,795,796,797,798,799,800,801,802,803,806,807,810,811,812,813,814,815,816,817,818,819,820,821,822,823,824,825,826,827,828,829,830,831,832,833,834,835,836,837,838,841,842,843,846,847,850,851,854,855,858,859,860,861,862,865,866,867,868,869,870,871,872,873,874,875,876,877,878,881,882,883) have mixed types. Specify dtype option on import or set low_memory=False.\n",
      "  df = pd.read_csv(file.path)\n"
     ]
    },
    {
     "name": "stdout",
     "output_type": "stream",
     "text": [
      "ACSST5Y2019.S0101-Data.csv\n",
      "ACSST5Y2020.S0101-Column-Metadata.csv\n"
     ]
    },
    {
     "name": "stderr",
     "output_type": "stream",
     "text": [
      "C:\\Users\\avomo\\AppData\\Local\\Temp\\ipykernel_12804\\2369866873.py:6: DtypeWarning: Columns (2,5,6,7,10,11,12,13,14,15,16,17,18,19,22,23,26,29,30,33,34,35,36,37,38,39,40,41,42,43,46,49,50,51,52,53,54,55,56,57,58,59,60,61,62,63,64,65,66,67,68,69,70,71,72,73,74,75,76,77,78,79,82,83,86,87,90,91,94,97,98,99,100,101,102,103,106,107,108,109,110,111,112,113,114,115,116,117,118,121,122,125,126,127,128,129,130,131,134,135,138,139,142,143,158,159,162,163,164,165,166,167,168,169,170,171,174,177,178,181,182,185,186,187,188,189,190,191,192,193,194,197,198,201,202,203,204,205,206,207,208,209,210,211,212,213,214,215,216,217,218,219,220,221,222,223,224,225,226,227,228,229,230,231,234,235,238,239,242,245,246,249,250,251,252,253,254,257,258,259,260,261,262,263,264,265,266,267,268,269,270,273,274,275,298,301,302,303,306,307,310,311,314,315,316,317,318,319,320,321,322,325,326,329,330,331,334,335,338,339,340,341,342,343,344,345,346,349,350,351,354,355,356,357,358,359,360,361,362,363,364,365,366,367,368,369,370,371,372,373,374,375,376,377,378,379,380,381,382,385,386,387,390,393,394,395,398,401,402,403,404,405,406,409,410,411,412,413,414,415,416,417,418,419,420,421,422,423,426,427,430,431,432,433,462,465,466,467,468,469,470,471,472,473,474,477,478,479,482,483,486,487,490,491,492,493,494,495,496,497,498,501,502,503,506,507,508,509,510,511,512,513,514,515,516,517,518,519,520,521,522,523,524,525,526,527,528,529,530,531,532,533,534,537,538,539,542,545,546,549,550,551,554,555,556,557,558,561,562,563,564,565,566,567,568,569,570,571,572,573,574,575,578,581,610,613,614,617,618,619,620,621,622,623,624,625,626,627,630,631,634,635,638,639,642,643,644,645,646,647,648,649,650,651,654,655,658,659,660,661,662,663,664,665,666,667,668,669,670,671,672,673,674,675,676,677,678,679,680,681,682,683,684,685,686,689,690,693,694,697,698,699,702,703,706,707,708,709,710,711,714,715,716,717,718,719,720,721,722,723,724,725,726,727,730,733,734,735,736,737,766,767,770,771,772,773,774,775,776,777,778,779,782,783,786,789,790,793,794,795,796,797,798,799,800,801,802,803,806,807,810,811,812,813,814,815,816,817,818,819,820,821,822,823,824,825,826,827,828,829,830,831,832,833,834,835,836,837,838,839,842,845,846,847,850,851,854,857,858,859,860,861,862,863,866,867,868,869,870,871,872,873,874,875,876,877,878,881,882,885) have mixed types. Specify dtype option on import or set low_memory=False.\n",
      "  df = pd.read_csv(file.path)\n"
     ]
    },
    {
     "name": "stdout",
     "output_type": "stream",
     "text": [
      "ACSST5Y2020.S0101-Data.csv\n",
      "ACSST5Y2021.S0101-Column-Metadata.csv\n",
      "ACSST5Y2021.S0101-Data.csv\n"
     ]
    },
    {
     "name": "stderr",
     "output_type": "stream",
     "text": [
      "C:\\Users\\avomo\\AppData\\Local\\Temp\\ipykernel_12804\\2369866873.py:6: DtypeWarning: Columns (2,5,6,9,10,11,12,13,14,15,16,17,18,21,22,23,26,29,30,33,34,35,36,37,38,39,40,41,42,45,46,49,50,51,52,53,54,55,56,57,58,59,60,61,62,63,64,65,66,67,68,69,70,71,72,73,74,75,76,77,78,79,82,83,86,87,90,91,94,95,98,99,100,101,102,103,106,107,108,109,110,111,112,113,114,115,116,117,118,119,122,123,126,127,128,129,130,131,134,135,138,139,142,143,158,161,162,163,164,165,166,167,168,169,170,173,174,177,178,181,182,185,186,187,188,189,190,191,192,193,194,197,198,201,202,203,204,205,206,207,208,209,210,211,212,213,214,215,216,217,218,219,220,221,222,223,224,225,226,227,228,229,230,231,234,235,238,239,242,243,246,247,250,251,252,253,254,257,258,259,260,261,262,263,264,265,266,267,268,269,270,273,274,275,298,301,302,303,306,309,310,311,314,315,316,317,318,319,320,321,322,325,326,329,330,333,334,337,338,339,340,341,342,343,344,345,346,349,350,353,354,355,356,357,358,359,360,361,362,363,364,365,366,367,368,369,370,371,372,373,374,375,376,377,378,379,380,381,382,383,386,387,390,391,394,395,398,401,402,403,404,405,406,407,410,411,412,413,414,415,416,417,418,419,420,421,422,423,426,427,430,431,432,433,462,465,466,467,468,469,470,471,472,473,474,477,478,481,482,485,486,489,490,491,492,493,494,495,496,497,498,499,502,505,506,507,508,509,510,511,512,513,514,515,516,517,518,519,520,521,522,523,524,525,526,527,528,529,530,531,532,533,534,535,538,539,542,543,546,549,550,551,554,555,556,557,558,559,562,563,564,565,566,567,568,569,570,571,572,573,574,575,578,579,610,613,614,617,618,619,620,621,622,623,624,625,626,629,630,633,634,637,638,641,642,643,644,645,646,647,648,649,650,653,654,657,658,659,660,661,662,663,664,665,666,667,668,669,670,671,672,673,674,675,676,677,678,679,680,681,682,683,684,685,686,689,690,691,694,697,698,699,702,703,706,707,708,709,710,711,714,715,716,717,718,719,720,721,722,723,724,725,726,727,730,733,734,735,736,737,766,769,770,771,772,773,774,775,776,777,778,781,782,785,786,787,790,793,794,795,796,797,798,799,800,801,802,805,806,809,810,811,812,813,814,815,816,817,818,819,820,821,822,823,824,825,826,827,828,829,830,831,832,833,834,835,836,837,838,839,842,843,846,847,850,851,854,855,858,859,860,861,862,863,866,867,868,869,870,871,872,873,874,875,876,877,878,879,882,883) have mixed types. Specify dtype option on import or set low_memory=False.\n",
      "  df = pd.read_csv(file.path)\n"
     ]
    }
   ],
   "source": [
    "df_list = []\n",
    "for file in os.scandir(f'{DATA_FOLDER}/external/deotte'):\n",
    "\n",
    "    # read only csv files\n",
    "    if file.name.endswith('.csv'):\n",
    "        df = pd.read_csv(file.path)\n",
    "        df_list.append(df)\n",
    "        print(file.name)"
   ],
   "metadata": {
    "collapsed": false
   }
  },
  {
   "cell_type": "code",
   "execution_count": 84,
   "outputs": [
    {
     "data": {
      "text/plain": "         Column Name                                              Label\n0             GEO_ID                                          Geography\n1               NAME                               Geographic Area Name\n2     S0101_C01_001E                  Estimate!!Total!!Total population\n3    S0101_C01_001EA    Annotation of Estimate!!Total!!Total population\n4     S0101_C01_001M       Margin of Error!!Total MOE!!Total population\n..               ...                                                ...\n909  S0101_C06_037EA  Annotation of Estimate!!Percent Female!!PERCEN...\n910   S0101_C06_038E   Estimate!!Percent Female!!PERCENT ALLOCATED!!Age\n911  S0101_C06_038EA  Annotation of Estimate!!Percent Female!!PERCEN...\n912   S0101_C06_038M  Margin of Error!!Percent Female MOE!!PERCENT A...\n913  S0101_C06_038MA  Annotation of Margin of Error!!Percent Female ...\n\n[914 rows x 2 columns]",
      "text/html": "<div>\n<style scoped>\n    .dataframe tbody tr th:only-of-type {\n        vertical-align: middle;\n    }\n\n    .dataframe tbody tr th {\n        vertical-align: top;\n    }\n\n    .dataframe thead th {\n        text-align: right;\n    }\n</style>\n<table border=\"1\" class=\"dataframe\">\n  <thead>\n    <tr style=\"text-align: right;\">\n      <th></th>\n      <th>Column Name</th>\n      <th>Label</th>\n    </tr>\n  </thead>\n  <tbody>\n    <tr>\n      <th>0</th>\n      <td>GEO_ID</td>\n      <td>Geography</td>\n    </tr>\n    <tr>\n      <th>1</th>\n      <td>NAME</td>\n      <td>Geographic Area Name</td>\n    </tr>\n    <tr>\n      <th>2</th>\n      <td>S0101_C01_001E</td>\n      <td>Estimate!!Total!!Total population</td>\n    </tr>\n    <tr>\n      <th>3</th>\n      <td>S0101_C01_001EA</td>\n      <td>Annotation of Estimate!!Total!!Total population</td>\n    </tr>\n    <tr>\n      <th>4</th>\n      <td>S0101_C01_001M</td>\n      <td>Margin of Error!!Total MOE!!Total population</td>\n    </tr>\n    <tr>\n      <th>...</th>\n      <td>...</td>\n      <td>...</td>\n    </tr>\n    <tr>\n      <th>909</th>\n      <td>S0101_C06_037EA</td>\n      <td>Annotation of Estimate!!Percent Female!!PERCEN...</td>\n    </tr>\n    <tr>\n      <th>910</th>\n      <td>S0101_C06_038E</td>\n      <td>Estimate!!Percent Female!!PERCENT ALLOCATED!!Age</td>\n    </tr>\n    <tr>\n      <th>911</th>\n      <td>S0101_C06_038EA</td>\n      <td>Annotation of Estimate!!Percent Female!!PERCEN...</td>\n    </tr>\n    <tr>\n      <th>912</th>\n      <td>S0101_C06_038M</td>\n      <td>Margin of Error!!Percent Female MOE!!PERCENT A...</td>\n    </tr>\n    <tr>\n      <th>913</th>\n      <td>S0101_C06_038MA</td>\n      <td>Annotation of Margin of Error!!Percent Female ...</td>\n    </tr>\n  </tbody>\n</table>\n<p>914 rows × 2 columns</p>\n</div>"
     },
     "execution_count": 84,
     "metadata": {},
     "output_type": "execute_result"
    }
   ],
   "source": [
    "df_list[0]"
   ],
   "metadata": {
    "collapsed": false
   }
  },
  {
   "cell_type": "code",
   "execution_count": 85,
   "outputs": [
    {
     "data": {
      "text/plain": "              GEO_ID                              NAME  \\\n0          Geography              Geographic Area Name   \n1     0500000US01001           Autauga County, Alabama   \n2     0500000US01003           Baldwin County, Alabama   \n3     0500000US01005           Barbour County, Alabama   \n4     0500000US01007              Bibb County, Alabama   \n...              ...                               ...   \n3216  0500000US72145  Vega Baja Municipio, Puerto Rico   \n3217  0500000US72147    Vieques Municipio, Puerto Rico   \n3218  0500000US72149   Villalba Municipio, Puerto Rico   \n3219  0500000US72151    Yabucoa Municipio, Puerto Rico   \n3220  0500000US72153      Yauco Municipio, Puerto Rico   \n\n                         S0101_C01_001E  \\\n0     Estimate!!Total!!Total population   \n1                                 55036   \n2                                203360   \n3                                 26201   \n4                                 22580   \n...                                 ...   \n3216                              54754   \n3217                               8931   \n3218                              23659   \n3219                              35025   \n3220                              37585   \n\n                                      S0101_C01_001EA  \\\n0     Annotation of Estimate!!Total!!Total population   \n1                                                 NaN   \n2                                                 NaN   \n3                                                 NaN   \n4                                                 NaN   \n...                                               ...   \n3216                                              NaN   \n3217                                              NaN   \n3218                                              NaN   \n3219                                              NaN   \n3220                                              NaN   \n\n                                    S0101_C01_001M  \\\n0     Margin of Error!!Total MOE!!Total population   \n1                                            *****   \n2                                            *****   \n3                                            *****   \n4                                            *****   \n...                                            ...   \n3216                                         *****   \n3217                                         *****   \n3218                                         *****   \n3219                                         *****   \n3220                                         *****   \n\n                                        S0101_C01_001MA  \\\n0     Annotation of Margin of Error!!Total MOE!!Tota...   \n1                                                 *****   \n2                                                 *****   \n3                                                 *****   \n4                                                 *****   \n...                                                 ...   \n3216                                              *****   \n3217                                              *****   \n3218                                              *****   \n3219                                              *****   \n3220                                              *****   \n\n                                         S0101_C01_002E  \\\n0     Estimate!!Total!!Total population!!AGE!!Under ...   \n1                                                  3138   \n2                                                 11506   \n3                                                  1436   \n4                                                  1279   \n...                                                 ...   \n3216                                               2743   \n3217                                                538   \n3218                                               1334   \n3219                                               1638   \n3220                                               1793   \n\n                                        S0101_C01_002EA  \\\n0     Annotation of Estimate!!Total!!Total populatio...   \n1                                                   NaN   \n2                                                   NaN   \n3                                                   NaN   \n4                                                   NaN   \n...                                                 ...   \n3216                                                NaN   \n3217                                                NaN   \n3218                                                NaN   \n3219                                                NaN   \n3220                                                NaN   \n\n                                         S0101_C01_002M  \\\n0     Margin of Error!!Total MOE!!Total population!!...   \n1                                                   125   \n2                                                   120   \n3                                                     5   \n4                                                   114   \n...                                                 ...   \n3216                                              *****   \n3217                                              *****   \n3218                                              *****   \n3219                                              *****   \n3220                                              *****   \n\n                                        S0101_C01_002MA  ...  \\\n0     Annotation of Margin of Error!!Total MOE!!Tota...  ...   \n1                                                   NaN  ...   \n2                                                   NaN  ...   \n3                                                   NaN  ...   \n4                                                   NaN  ...   \n...                                                 ...  ...   \n3216                                              *****  ...   \n3217                                              *****  ...   \n3218                                              *****  ...   \n3219                                              *****  ...   \n3220                                              *****  ...   \n\n                                        S0101_C06_036MA  \\\n0     Annotation of Margin of Error!!Percent Female ...   \n1                                                   (X)   \n2                                                   (X)   \n3                                                   (X)   \n4                                                   (X)   \n...                                                 ...   \n3216                                                (X)   \n3217                                                (X)   \n3218                                                (X)   \n3219                                                (X)   \n3220                                                (X)   \n\n                                        S0101_C06_037E  \\\n0     Estimate!!Percent Female!!PERCENT ALLOCATED!!Sex   \n1                                                  (X)   \n2                                                  (X)   \n3                                                  (X)   \n4                                                  (X)   \n...                                                ...   \n3216                                               (X)   \n3217                                               (X)   \n3218                                               (X)   \n3219                                               (X)   \n3220                                               (X)   \n\n                                         S0101_C06_037M  \\\n0     Margin of Error!!Percent Female MOE!!PERCENT A...   \n1                                                   (X)   \n2                                                   (X)   \n3                                                   (X)   \n4                                                   (X)   \n...                                                 ...   \n3216                                                (X)   \n3217                                                (X)   \n3218                                                (X)   \n3219                                                (X)   \n3220                                                (X)   \n\n                                        S0101_C06_037MA  \\\n0     Annotation of Margin of Error!!Percent Female ...   \n1                                                   (X)   \n2                                                   (X)   \n3                                                   (X)   \n4                                                   (X)   \n...                                                 ...   \n3216                                                (X)   \n3217                                                (X)   \n3218                                                (X)   \n3219                                                (X)   \n3220                                                (X)   \n\n                                        S0101_C06_037EA  \\\n0     Annotation of Estimate!!Percent Female!!PERCEN...   \n1                                                   (X)   \n2                                                   (X)   \n3                                                   (X)   \n4                                                   (X)   \n...                                                 ...   \n3216                                                (X)   \n3217                                                (X)   \n3218                                                (X)   \n3219                                                (X)   \n3220                                                (X)   \n\n                                        S0101_C06_038E  \\\n0     Estimate!!Percent Female!!PERCENT ALLOCATED!!Age   \n1                                                  (X)   \n2                                                  (X)   \n3                                                  (X)   \n4                                                  (X)   \n...                                                ...   \n3216                                               (X)   \n3217                                               (X)   \n3218                                               (X)   \n3219                                               (X)   \n3220                                               (X)   \n\n                                        S0101_C06_038EA  \\\n0     Annotation of Estimate!!Percent Female!!PERCEN...   \n1                                                   (X)   \n2                                                   (X)   \n3                                                   (X)   \n4                                                   (X)   \n...                                                 ...   \n3216                                                (X)   \n3217                                                (X)   \n3218                                                (X)   \n3219                                                (X)   \n3220                                                (X)   \n\n                                         S0101_C06_038M  \\\n0     Margin of Error!!Percent Female MOE!!PERCENT A...   \n1                                                   (X)   \n2                                                   (X)   \n3                                                   (X)   \n4                                                   (X)   \n...                                                 ...   \n3216                                                (X)   \n3217                                                (X)   \n3218                                                (X)   \n3219                                                (X)   \n3220                                                (X)   \n\n                                        S0101_C06_038MA Unnamed: 914  \n0     Annotation of Margin of Error!!Percent Female ...          NaN  \n1                                                   (X)          NaN  \n2                                                   (X)          NaN  \n3                                                   (X)          NaN  \n4                                                   (X)          NaN  \n...                                                 ...          ...  \n3216                                                (X)          NaN  \n3217                                                (X)          NaN  \n3218                                                (X)          NaN  \n3219                                                (X)          NaN  \n3220                                                (X)          NaN  \n\n[3221 rows x 915 columns]",
      "text/html": "<div>\n<style scoped>\n    .dataframe tbody tr th:only-of-type {\n        vertical-align: middle;\n    }\n\n    .dataframe tbody tr th {\n        vertical-align: top;\n    }\n\n    .dataframe thead th {\n        text-align: right;\n    }\n</style>\n<table border=\"1\" class=\"dataframe\">\n  <thead>\n    <tr style=\"text-align: right;\">\n      <th></th>\n      <th>GEO_ID</th>\n      <th>NAME</th>\n      <th>S0101_C01_001E</th>\n      <th>S0101_C01_001EA</th>\n      <th>S0101_C01_001M</th>\n      <th>S0101_C01_001MA</th>\n      <th>S0101_C01_002E</th>\n      <th>S0101_C01_002EA</th>\n      <th>S0101_C01_002M</th>\n      <th>S0101_C01_002MA</th>\n      <th>...</th>\n      <th>S0101_C06_036MA</th>\n      <th>S0101_C06_037E</th>\n      <th>S0101_C06_037M</th>\n      <th>S0101_C06_037MA</th>\n      <th>S0101_C06_037EA</th>\n      <th>S0101_C06_038E</th>\n      <th>S0101_C06_038EA</th>\n      <th>S0101_C06_038M</th>\n      <th>S0101_C06_038MA</th>\n      <th>Unnamed: 914</th>\n    </tr>\n  </thead>\n  <tbody>\n    <tr>\n      <th>0</th>\n      <td>Geography</td>\n      <td>Geographic Area Name</td>\n      <td>Estimate!!Total!!Total population</td>\n      <td>Annotation of Estimate!!Total!!Total population</td>\n      <td>Margin of Error!!Total MOE!!Total population</td>\n      <td>Annotation of Margin of Error!!Total MOE!!Tota...</td>\n      <td>Estimate!!Total!!Total population!!AGE!!Under ...</td>\n      <td>Annotation of Estimate!!Total!!Total populatio...</td>\n      <td>Margin of Error!!Total MOE!!Total population!!...</td>\n      <td>Annotation of Margin of Error!!Total MOE!!Tota...</td>\n      <td>...</td>\n      <td>Annotation of Margin of Error!!Percent Female ...</td>\n      <td>Estimate!!Percent Female!!PERCENT ALLOCATED!!Sex</td>\n      <td>Margin of Error!!Percent Female MOE!!PERCENT A...</td>\n      <td>Annotation of Margin of Error!!Percent Female ...</td>\n      <td>Annotation of Estimate!!Percent Female!!PERCEN...</td>\n      <td>Estimate!!Percent Female!!PERCENT ALLOCATED!!Age</td>\n      <td>Annotation of Estimate!!Percent Female!!PERCEN...</td>\n      <td>Margin of Error!!Percent Female MOE!!PERCENT A...</td>\n      <td>Annotation of Margin of Error!!Percent Female ...</td>\n      <td>NaN</td>\n    </tr>\n    <tr>\n      <th>1</th>\n      <td>0500000US01001</td>\n      <td>Autauga County, Alabama</td>\n      <td>55036</td>\n      <td>NaN</td>\n      <td>*****</td>\n      <td>*****</td>\n      <td>3138</td>\n      <td>NaN</td>\n      <td>125</td>\n      <td>NaN</td>\n      <td>...</td>\n      <td>(X)</td>\n      <td>(X)</td>\n      <td>(X)</td>\n      <td>(X)</td>\n      <td>(X)</td>\n      <td>(X)</td>\n      <td>(X)</td>\n      <td>(X)</td>\n      <td>(X)</td>\n      <td>NaN</td>\n    </tr>\n    <tr>\n      <th>2</th>\n      <td>0500000US01003</td>\n      <td>Baldwin County, Alabama</td>\n      <td>203360</td>\n      <td>NaN</td>\n      <td>*****</td>\n      <td>*****</td>\n      <td>11506</td>\n      <td>NaN</td>\n      <td>120</td>\n      <td>NaN</td>\n      <td>...</td>\n      <td>(X)</td>\n      <td>(X)</td>\n      <td>(X)</td>\n      <td>(X)</td>\n      <td>(X)</td>\n      <td>(X)</td>\n      <td>(X)</td>\n      <td>(X)</td>\n      <td>(X)</td>\n      <td>NaN</td>\n    </tr>\n    <tr>\n      <th>3</th>\n      <td>0500000US01005</td>\n      <td>Barbour County, Alabama</td>\n      <td>26201</td>\n      <td>NaN</td>\n      <td>*****</td>\n      <td>*****</td>\n      <td>1436</td>\n      <td>NaN</td>\n      <td>5</td>\n      <td>NaN</td>\n      <td>...</td>\n      <td>(X)</td>\n      <td>(X)</td>\n      <td>(X)</td>\n      <td>(X)</td>\n      <td>(X)</td>\n      <td>(X)</td>\n      <td>(X)</td>\n      <td>(X)</td>\n      <td>(X)</td>\n      <td>NaN</td>\n    </tr>\n    <tr>\n      <th>4</th>\n      <td>0500000US01007</td>\n      <td>Bibb County, Alabama</td>\n      <td>22580</td>\n      <td>NaN</td>\n      <td>*****</td>\n      <td>*****</td>\n      <td>1279</td>\n      <td>NaN</td>\n      <td>114</td>\n      <td>NaN</td>\n      <td>...</td>\n      <td>(X)</td>\n      <td>(X)</td>\n      <td>(X)</td>\n      <td>(X)</td>\n      <td>(X)</td>\n      <td>(X)</td>\n      <td>(X)</td>\n      <td>(X)</td>\n      <td>(X)</td>\n      <td>NaN</td>\n    </tr>\n    <tr>\n      <th>...</th>\n      <td>...</td>\n      <td>...</td>\n      <td>...</td>\n      <td>...</td>\n      <td>...</td>\n      <td>...</td>\n      <td>...</td>\n      <td>...</td>\n      <td>...</td>\n      <td>...</td>\n      <td>...</td>\n      <td>...</td>\n      <td>...</td>\n      <td>...</td>\n      <td>...</td>\n      <td>...</td>\n      <td>...</td>\n      <td>...</td>\n      <td>...</td>\n      <td>...</td>\n      <td>...</td>\n    </tr>\n    <tr>\n      <th>3216</th>\n      <td>0500000US72145</td>\n      <td>Vega Baja Municipio, Puerto Rico</td>\n      <td>54754</td>\n      <td>NaN</td>\n      <td>*****</td>\n      <td>*****</td>\n      <td>2743</td>\n      <td>NaN</td>\n      <td>*****</td>\n      <td>*****</td>\n      <td>...</td>\n      <td>(X)</td>\n      <td>(X)</td>\n      <td>(X)</td>\n      <td>(X)</td>\n      <td>(X)</td>\n      <td>(X)</td>\n      <td>(X)</td>\n      <td>(X)</td>\n      <td>(X)</td>\n      <td>NaN</td>\n    </tr>\n    <tr>\n      <th>3217</th>\n      <td>0500000US72147</td>\n      <td>Vieques Municipio, Puerto Rico</td>\n      <td>8931</td>\n      <td>NaN</td>\n      <td>*****</td>\n      <td>*****</td>\n      <td>538</td>\n      <td>NaN</td>\n      <td>*****</td>\n      <td>*****</td>\n      <td>...</td>\n      <td>(X)</td>\n      <td>(X)</td>\n      <td>(X)</td>\n      <td>(X)</td>\n      <td>(X)</td>\n      <td>(X)</td>\n      <td>(X)</td>\n      <td>(X)</td>\n      <td>(X)</td>\n      <td>NaN</td>\n    </tr>\n    <tr>\n      <th>3218</th>\n      <td>0500000US72149</td>\n      <td>Villalba Municipio, Puerto Rico</td>\n      <td>23659</td>\n      <td>NaN</td>\n      <td>*****</td>\n      <td>*****</td>\n      <td>1334</td>\n      <td>NaN</td>\n      <td>*****</td>\n      <td>*****</td>\n      <td>...</td>\n      <td>(X)</td>\n      <td>(X)</td>\n      <td>(X)</td>\n      <td>(X)</td>\n      <td>(X)</td>\n      <td>(X)</td>\n      <td>(X)</td>\n      <td>(X)</td>\n      <td>(X)</td>\n      <td>NaN</td>\n    </tr>\n    <tr>\n      <th>3219</th>\n      <td>0500000US72151</td>\n      <td>Yabucoa Municipio, Puerto Rico</td>\n      <td>35025</td>\n      <td>NaN</td>\n      <td>*****</td>\n      <td>*****</td>\n      <td>1638</td>\n      <td>NaN</td>\n      <td>*****</td>\n      <td>*****</td>\n      <td>...</td>\n      <td>(X)</td>\n      <td>(X)</td>\n      <td>(X)</td>\n      <td>(X)</td>\n      <td>(X)</td>\n      <td>(X)</td>\n      <td>(X)</td>\n      <td>(X)</td>\n      <td>(X)</td>\n      <td>NaN</td>\n    </tr>\n    <tr>\n      <th>3220</th>\n      <td>0500000US72153</td>\n      <td>Yauco Municipio, Puerto Rico</td>\n      <td>37585</td>\n      <td>NaN</td>\n      <td>*****</td>\n      <td>*****</td>\n      <td>1793</td>\n      <td>NaN</td>\n      <td>*****</td>\n      <td>*****</td>\n      <td>...</td>\n      <td>(X)</td>\n      <td>(X)</td>\n      <td>(X)</td>\n      <td>(X)</td>\n      <td>(X)</td>\n      <td>(X)</td>\n      <td>(X)</td>\n      <td>(X)</td>\n      <td>(X)</td>\n      <td>NaN</td>\n    </tr>\n  </tbody>\n</table>\n<p>3221 rows × 915 columns</p>\n</div>"
     },
     "execution_count": 85,
     "metadata": {},
     "output_type": "execute_result"
    }
   ],
   "source": [
    "df_list[1]"
   ],
   "metadata": {
    "collapsed": false
   }
  },
  {
   "cell_type": "code",
   "execution_count": null,
   "outputs": [],
   "source": [],
   "metadata": {
    "collapsed": false
   }
  }
 ],
 "metadata": {
  "kernelspec": {
   "display_name": "Python 3",
   "language": "python",
   "name": "python3"
  },
  "language_info": {
   "codemirror_mode": {
    "name": "ipython",
    "version": 2
   },
   "file_extension": ".py",
   "mimetype": "text/x-python",
   "name": "python",
   "nbconvert_exporter": "python",
   "pygments_lexer": "ipython2",
   "version": "2.7.6"
  }
 },
 "nbformat": 4,
 "nbformat_minor": 0
}
